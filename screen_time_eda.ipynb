{
 "metadata": {
  "language_info": {
   "codemirror_mode": {
    "name": "ipython",
    "version": 3
   },
   "file_extension": ".py",
   "mimetype": "text/x-python",
   "name": "python",
   "nbconvert_exporter": "python",
   "pygments_lexer": "ipython3",
   "version": "3.9.2"
  },
  "orig_nbformat": 2,
  "kernelspec": {
   "name": "python3",
   "display_name": "Python 3.9.2 64-bit ('neuro': conda)",
   "metadata": {
    "interpreter": {
     "hash": "b69d672efd9619d741ff3ae788b00cf5b8f9f10504b9388757aa10cadeb6df88"
    }
   }
  }
 },
 "nbformat": 4,
 "nbformat_minor": 2,
 "cells": [
  {
   "source": [
    "# Screen Time Mental Health EDA"
   ],
   "cell_type": "markdown",
   "metadata": {}
  },
  {
   "cell_type": "code",
   "execution_count": 14,
   "metadata": {},
   "outputs": [],
   "source": [
    "import os\n",
    "import numpy as np\n",
    "import pandas as pd\n",
    "import seaborn as sns\n",
    "import matplotlib.pyplot as plt\n",
    "from collections import Counter"
   ]
  },
  {
   "source": [
    "Get the dataframe"
   ],
   "cell_type": "markdown",
   "metadata": {}
  },
  {
   "cell_type": "code",
   "execution_count": 15,
   "metadata": {},
   "outputs": [
    {
     "output_type": "execute_result",
     "data": {
      "text/plain": [
       "        flag comp_bed_9  mat_dep mat_age  weight_16   height_16     iq  \\\n",
       "X                                                                        \n",
       "1  synthetic        NaN      3.0      30  59.294132  181.602831  107.0   \n",
       "2  synthetic        NaN      9.0      26        NaN         NaN   85.0   \n",
       "3  synthetic        NaN      3.0      24        NaN         NaN    NaN   \n",
       "4  synthetic         No      NaN      22  49.812426  160.224186    NaN   \n",
       "5  synthetic         No      8.0      31  62.270030  191.703227  132.0   \n",
       "\n",
       "  comp_noint_bed_16 comp_int_bed_16 talk_phon_wend  ... dep_score comp_house  \\\n",
       "X                                                   ...                        \n",
       "1               NaN             NaN     Any at all  ...       0.0        Yes   \n",
       "2               NaN             NaN            NaN  ...       NaN        NaN   \n",
       "3               NaN             NaN            NaN  ...       NaN        NaN   \n",
       "4               NaN             NaN            NaN  ...       NaN        NaN   \n",
       "5               Yes             NaN     Not at all  ...       NaN        NaN   \n",
       "\n",
       "  tv_bed_16 creat_14 comp_games      fam_tv_eve      fam_tv_aft  \\\n",
       "X                                                                 \n",
       "1       Yes    often         No  Yes, Some Days           Other   \n",
       "2       NaN      NaN        NaN             NaN             NaN   \n",
       "3       NaN      NaN        NaN  Yes, Some Days  Yes, Every Day   \n",
       "4       NaN      NaN         No             NaN             NaN   \n",
       "5       NaN    often         No  Yes, Some Days  Yes, Every Day   \n",
       "\n",
       "       fam_tv_mor     sex birth_order  \n",
       "X                                      \n",
       "1  Yes, Every Day  Female           A  \n",
       "2             NaN  Female           B  \n",
       "3           Other    Male           A  \n",
       "4             NaN    Male           A  \n",
       "5  Yes, Every Day  Female           A  \n",
       "\n",
       "[5 rows x 83 columns]"
      ],
      "text/html": "<div>\n<style scoped>\n    .dataframe tbody tr th:only-of-type {\n        vertical-align: middle;\n    }\n\n    .dataframe tbody tr th {\n        vertical-align: top;\n    }\n\n    .dataframe thead th {\n        text-align: right;\n    }\n</style>\n<table border=\"1\" class=\"dataframe\">\n  <thead>\n    <tr style=\"text-align: right;\">\n      <th></th>\n      <th>flag</th>\n      <th>comp_bed_9</th>\n      <th>mat_dep</th>\n      <th>mat_age</th>\n      <th>weight_16</th>\n      <th>height_16</th>\n      <th>iq</th>\n      <th>comp_noint_bed_16</th>\n      <th>comp_int_bed_16</th>\n      <th>talk_phon_wend</th>\n      <th>...</th>\n      <th>dep_score</th>\n      <th>comp_house</th>\n      <th>tv_bed_16</th>\n      <th>creat_14</th>\n      <th>comp_games</th>\n      <th>fam_tv_eve</th>\n      <th>fam_tv_aft</th>\n      <th>fam_tv_mor</th>\n      <th>sex</th>\n      <th>birth_order</th>\n    </tr>\n    <tr>\n      <th>X</th>\n      <th></th>\n      <th></th>\n      <th></th>\n      <th></th>\n      <th></th>\n      <th></th>\n      <th></th>\n      <th></th>\n      <th></th>\n      <th></th>\n      <th></th>\n      <th></th>\n      <th></th>\n      <th></th>\n      <th></th>\n      <th></th>\n      <th></th>\n      <th></th>\n      <th></th>\n      <th></th>\n      <th></th>\n    </tr>\n  </thead>\n  <tbody>\n    <tr>\n      <th>1</th>\n      <td>synthetic</td>\n      <td>NaN</td>\n      <td>3.0</td>\n      <td>30</td>\n      <td>59.294132</td>\n      <td>181.602831</td>\n      <td>107.0</td>\n      <td>NaN</td>\n      <td>NaN</td>\n      <td>Any at all</td>\n      <td>...</td>\n      <td>0.0</td>\n      <td>Yes</td>\n      <td>Yes</td>\n      <td>often</td>\n      <td>No</td>\n      <td>Yes, Some Days</td>\n      <td>Other</td>\n      <td>Yes, Every Day</td>\n      <td>Female</td>\n      <td>A</td>\n    </tr>\n    <tr>\n      <th>2</th>\n      <td>synthetic</td>\n      <td>NaN</td>\n      <td>9.0</td>\n      <td>26</td>\n      <td>NaN</td>\n      <td>NaN</td>\n      <td>85.0</td>\n      <td>NaN</td>\n      <td>NaN</td>\n      <td>NaN</td>\n      <td>...</td>\n      <td>NaN</td>\n      <td>NaN</td>\n      <td>NaN</td>\n      <td>NaN</td>\n      <td>NaN</td>\n      <td>NaN</td>\n      <td>NaN</td>\n      <td>NaN</td>\n      <td>Female</td>\n      <td>B</td>\n    </tr>\n    <tr>\n      <th>3</th>\n      <td>synthetic</td>\n      <td>NaN</td>\n      <td>3.0</td>\n      <td>24</td>\n      <td>NaN</td>\n      <td>NaN</td>\n      <td>NaN</td>\n      <td>NaN</td>\n      <td>NaN</td>\n      <td>NaN</td>\n      <td>...</td>\n      <td>NaN</td>\n      <td>NaN</td>\n      <td>NaN</td>\n      <td>NaN</td>\n      <td>NaN</td>\n      <td>Yes, Some Days</td>\n      <td>Yes, Every Day</td>\n      <td>Other</td>\n      <td>Male</td>\n      <td>A</td>\n    </tr>\n    <tr>\n      <th>4</th>\n      <td>synthetic</td>\n      <td>No</td>\n      <td>NaN</td>\n      <td>22</td>\n      <td>49.812426</td>\n      <td>160.224186</td>\n      <td>NaN</td>\n      <td>NaN</td>\n      <td>NaN</td>\n      <td>NaN</td>\n      <td>...</td>\n      <td>NaN</td>\n      <td>NaN</td>\n      <td>NaN</td>\n      <td>NaN</td>\n      <td>No</td>\n      <td>NaN</td>\n      <td>NaN</td>\n      <td>NaN</td>\n      <td>Male</td>\n      <td>A</td>\n    </tr>\n    <tr>\n      <th>5</th>\n      <td>synthetic</td>\n      <td>No</td>\n      <td>8.0</td>\n      <td>31</td>\n      <td>62.270030</td>\n      <td>191.703227</td>\n      <td>132.0</td>\n      <td>Yes</td>\n      <td>NaN</td>\n      <td>Not at all</td>\n      <td>...</td>\n      <td>NaN</td>\n      <td>NaN</td>\n      <td>NaN</td>\n      <td>often</td>\n      <td>No</td>\n      <td>Yes, Some Days</td>\n      <td>Yes, Every Day</td>\n      <td>Yes, Every Day</td>\n      <td>Female</td>\n      <td>A</td>\n    </tr>\n  </tbody>\n</table>\n<p>5 rows × 83 columns</p>\n</div>"
     },
     "metadata": {},
     "execution_count": 15
    }
   ],
   "source": [
    "df = pd.read_csv(\"data/maps-synthetic-data-v1.1.csv\", index_col=\"X\")\n",
    "df = df.drop(df.columns[0], axis=1)\n",
    "df.head()"
   ]
  },
  {
   "cell_type": "code",
   "execution_count": 16,
   "metadata": {},
   "outputs": [
    {
     "output_type": "execute_result",
     "data": {
      "text/plain": [
       "Index(['flag', 'comp_bed_9', 'mat_dep', 'mat_age', 'weight_16', 'height_16',\n",
       "       'iq', 'comp_noint_bed_16', 'comp_int_bed_16', 'talk_phon_wend',\n",
       "       'text_wend', 'talk_mob_wend', 'comp_wend', 'musi_wend', 'read_wend',\n",
       "       'work_wend', 'alon_wend', 'draw_wend', 'play_wend', 'tv_wend',\n",
       "       'out_win_wend', 'out_sum_wend', 'tran_wend', 'talk_phon_week',\n",
       "       'text_week', 'talk_mob_week', 'comp_week', 'musi_week', 'read_week',\n",
       "       'work_week', 'alon_week', 'draw_week', 'play_week', 'tv_week',\n",
       "       'out_win_week', 'out_sum_week', 'tran_week', 'pat_pres_10',\n",
       "       'pat_pres_8', 'pat_pres', 'num_home', 'mat_anx_1', 'mat_anx_18m',\n",
       "       'mat_anx_8m', 'agg_score', 'emot_cruel', 'phys_cruel', 'mat_anx_0m',\n",
       "       'pat_ses', 'mat_ses', 'pat_edu', 'mat_edu', 'parity', 'dep_band_15',\n",
       "       'dep_band_13', 'dep_band_10', 'dep_band_07', 'anx_band_15',\n",
       "       'anx_band_13', 'anx_band_10', 'anx_band_07', 'exercise', 'child_bull',\n",
       "       'phone_14_wend', 'phone_14_week', 'musi_13', 'tv_bed_9', 'own_mob',\n",
       "       'has_dep_diag', 'secd_diag', 'prim_diag', 'panic_score', 'dep_thoughts',\n",
       "       'dep_score', 'comp_house', 'tv_bed_16', 'creat_14', 'comp_games',\n",
       "       'fam_tv_eve', 'fam_tv_aft', 'fam_tv_mor', 'sex', 'birth_order'],\n",
       "      dtype='object')"
      ]
     },
     "metadata": {},
     "execution_count": 16
    }
   ],
   "source": [
    "df.columns"
   ]
  },
  {
   "source": [
    "### Correlation\n",
    "\n",
    "Look at the correlation between each feature."
   ],
   "cell_type": "markdown",
   "metadata": {}
  },
  {
   "cell_type": "code",
   "execution_count": 17,
   "metadata": {},
   "outputs": [
    {
     "output_type": "execute_result",
     "data": {
      "text/plain": [
       "               mat_dep  weight_16  height_16        iq  agg_score    parity  \\\n",
       "mat_dep       1.000000   0.022857  -0.037471 -0.076213  -0.399370  0.072405   \n",
       "weight_16     0.022857   1.000000   0.506162 -0.010114  -0.023589  0.023191   \n",
       "height_16    -0.037471   0.506162   1.000000  0.108182  -0.006108 -0.000875   \n",
       "iq           -0.076213  -0.010114   0.108182  1.000000   0.064654 -0.075945   \n",
       "agg_score    -0.399370  -0.023589  -0.006108  0.064654   1.000000 -0.040754   \n",
       "parity        0.072405   0.023191  -0.000875 -0.075945  -0.040754  1.000000   \n",
       "secd_diag     0.042720  -0.045174  -0.058494 -0.002553  -0.015039  0.045679   \n",
       "prim_diag     0.049515  -0.032918  -0.042952 -0.011164  -0.026265  0.036739   \n",
       "panic_score   0.044806  -0.014801  -0.016259 -0.003665  -0.062852  0.022520   \n",
       "dep_thoughts  0.036001  -0.044244  -0.049831 -0.024857  -0.036543  0.039167   \n",
       "dep_score     0.042168  -0.014034  -0.034491  0.007587  -0.040472  0.036022   \n",
       "\n",
       "              secd_diag  prim_diag  panic_score  dep_thoughts  dep_score  \n",
       "mat_dep        0.042720   0.049515     0.044806      0.036001   0.042168  \n",
       "weight_16     -0.045174  -0.032918    -0.014801     -0.044244  -0.014034  \n",
       "height_16     -0.058494  -0.042952    -0.016259     -0.049831  -0.034491  \n",
       "iq            -0.002553  -0.011164    -0.003665     -0.024857   0.007587  \n",
       "agg_score     -0.015039  -0.026265    -0.062852     -0.036543  -0.040472  \n",
       "parity         0.045679   0.036739     0.022520      0.039167   0.036022  \n",
       "secd_diag      1.000000   0.761506     0.517815      0.544721   0.617543  \n",
       "prim_diag      0.761506   1.000000     0.324851      0.632179   0.725219  \n",
       "panic_score    0.517815   0.324851     1.000000      0.200793   0.238634  \n",
       "dep_thoughts   0.544721   0.632179     0.200793      1.000000   0.610364  \n",
       "dep_score      0.617543   0.725219     0.238634      0.610364   1.000000  "
      ],
      "text/html": "<div>\n<style scoped>\n    .dataframe tbody tr th:only-of-type {\n        vertical-align: middle;\n    }\n\n    .dataframe tbody tr th {\n        vertical-align: top;\n    }\n\n    .dataframe thead th {\n        text-align: right;\n    }\n</style>\n<table border=\"1\" class=\"dataframe\">\n  <thead>\n    <tr style=\"text-align: right;\">\n      <th></th>\n      <th>mat_dep</th>\n      <th>weight_16</th>\n      <th>height_16</th>\n      <th>iq</th>\n      <th>agg_score</th>\n      <th>parity</th>\n      <th>secd_diag</th>\n      <th>prim_diag</th>\n      <th>panic_score</th>\n      <th>dep_thoughts</th>\n      <th>dep_score</th>\n    </tr>\n  </thead>\n  <tbody>\n    <tr>\n      <th>mat_dep</th>\n      <td>1.000000</td>\n      <td>0.022857</td>\n      <td>-0.037471</td>\n      <td>-0.076213</td>\n      <td>-0.399370</td>\n      <td>0.072405</td>\n      <td>0.042720</td>\n      <td>0.049515</td>\n      <td>0.044806</td>\n      <td>0.036001</td>\n      <td>0.042168</td>\n    </tr>\n    <tr>\n      <th>weight_16</th>\n      <td>0.022857</td>\n      <td>1.000000</td>\n      <td>0.506162</td>\n      <td>-0.010114</td>\n      <td>-0.023589</td>\n      <td>0.023191</td>\n      <td>-0.045174</td>\n      <td>-0.032918</td>\n      <td>-0.014801</td>\n      <td>-0.044244</td>\n      <td>-0.014034</td>\n    </tr>\n    <tr>\n      <th>height_16</th>\n      <td>-0.037471</td>\n      <td>0.506162</td>\n      <td>1.000000</td>\n      <td>0.108182</td>\n      <td>-0.006108</td>\n      <td>-0.000875</td>\n      <td>-0.058494</td>\n      <td>-0.042952</td>\n      <td>-0.016259</td>\n      <td>-0.049831</td>\n      <td>-0.034491</td>\n    </tr>\n    <tr>\n      <th>iq</th>\n      <td>-0.076213</td>\n      <td>-0.010114</td>\n      <td>0.108182</td>\n      <td>1.000000</td>\n      <td>0.064654</td>\n      <td>-0.075945</td>\n      <td>-0.002553</td>\n      <td>-0.011164</td>\n      <td>-0.003665</td>\n      <td>-0.024857</td>\n      <td>0.007587</td>\n    </tr>\n    <tr>\n      <th>agg_score</th>\n      <td>-0.399370</td>\n      <td>-0.023589</td>\n      <td>-0.006108</td>\n      <td>0.064654</td>\n      <td>1.000000</td>\n      <td>-0.040754</td>\n      <td>-0.015039</td>\n      <td>-0.026265</td>\n      <td>-0.062852</td>\n      <td>-0.036543</td>\n      <td>-0.040472</td>\n    </tr>\n    <tr>\n      <th>parity</th>\n      <td>0.072405</td>\n      <td>0.023191</td>\n      <td>-0.000875</td>\n      <td>-0.075945</td>\n      <td>-0.040754</td>\n      <td>1.000000</td>\n      <td>0.045679</td>\n      <td>0.036739</td>\n      <td>0.022520</td>\n      <td>0.039167</td>\n      <td>0.036022</td>\n    </tr>\n    <tr>\n      <th>secd_diag</th>\n      <td>0.042720</td>\n      <td>-0.045174</td>\n      <td>-0.058494</td>\n      <td>-0.002553</td>\n      <td>-0.015039</td>\n      <td>0.045679</td>\n      <td>1.000000</td>\n      <td>0.761506</td>\n      <td>0.517815</td>\n      <td>0.544721</td>\n      <td>0.617543</td>\n    </tr>\n    <tr>\n      <th>prim_diag</th>\n      <td>0.049515</td>\n      <td>-0.032918</td>\n      <td>-0.042952</td>\n      <td>-0.011164</td>\n      <td>-0.026265</td>\n      <td>0.036739</td>\n      <td>0.761506</td>\n      <td>1.000000</td>\n      <td>0.324851</td>\n      <td>0.632179</td>\n      <td>0.725219</td>\n    </tr>\n    <tr>\n      <th>panic_score</th>\n      <td>0.044806</td>\n      <td>-0.014801</td>\n      <td>-0.016259</td>\n      <td>-0.003665</td>\n      <td>-0.062852</td>\n      <td>0.022520</td>\n      <td>0.517815</td>\n      <td>0.324851</td>\n      <td>1.000000</td>\n      <td>0.200793</td>\n      <td>0.238634</td>\n    </tr>\n    <tr>\n      <th>dep_thoughts</th>\n      <td>0.036001</td>\n      <td>-0.044244</td>\n      <td>-0.049831</td>\n      <td>-0.024857</td>\n      <td>-0.036543</td>\n      <td>0.039167</td>\n      <td>0.544721</td>\n      <td>0.632179</td>\n      <td>0.200793</td>\n      <td>1.000000</td>\n      <td>0.610364</td>\n    </tr>\n    <tr>\n      <th>dep_score</th>\n      <td>0.042168</td>\n      <td>-0.014034</td>\n      <td>-0.034491</td>\n      <td>0.007587</td>\n      <td>-0.040472</td>\n      <td>0.036022</td>\n      <td>0.617543</td>\n      <td>0.725219</td>\n      <td>0.238634</td>\n      <td>0.610364</td>\n      <td>1.000000</td>\n    </tr>\n  </tbody>\n</table>\n</div>"
     },
     "metadata": {},
     "execution_count": 17
    }
   ],
   "source": [
    "df.corr()"
   ]
  },
  {
   "source": [
    "Note: \n",
    "- not all feature included as many features are categorical (string) type\n",
    "- NaN types ignored"
   ],
   "cell_type": "markdown",
   "metadata": {}
  },
  {
   "source": [
    "## Categorical feature handling\n",
    "\n",
    "Look at the feature data types"
   ],
   "cell_type": "markdown",
   "metadata": {}
  },
  {
   "cell_type": "code",
   "execution_count": 18,
   "metadata": {},
   "outputs": [
    {
     "output_type": "stream",
     "name": "stdout",
     "text": [
      "object\nobject\nfloat64\nobject\nfloat64\nfloat64\nfloat64\nobject\nobject\nobject\nobject\nobject\nobject\nobject\nobject\nobject\nobject\nobject\nobject\nobject\nobject\nobject\nobject\nobject\nobject\nobject\nobject\nobject\nobject\nobject\nobject\nobject\nobject\nobject\nobject\nobject\nobject\nobject\nobject\nobject\nobject\nobject\nobject\nobject\nfloat64\nobject\nobject\nobject\nobject\nobject\nobject\nobject\nfloat64\nobject\nobject\nobject\nobject\nobject\nobject\nobject\nobject\nobject\nobject\nobject\nobject\nobject\nobject\nobject\nobject\nfloat64\nfloat64\nfloat64\nfloat64\nfloat64\nobject\nobject\nobject\nobject\nobject\nobject\nobject\nobject\nobject\n"
     ]
    }
   ],
   "source": [
    "for dtype in df.dtypes:\n",
    "    print(dtype)"
   ]
  },
  {
   "source": [
    "Check the cataegorical feature categories."
   ],
   "cell_type": "markdown",
   "metadata": {}
  },
  {
   "cell_type": "code",
   "execution_count": 19,
   "metadata": {},
   "outputs": [
    {
     "output_type": "stream",
     "name": "stdout",
     "text": [
      "flag: ['synthetic']\n\ncomp_bed_9: [nan 'No' 'Yes']\n\nmat_age: ['30' '26' '24' '22' '31' '36' '27' '21' '32' '< 16' '33' '25' '16' '37'\n '34' '35' '18' '29' '23' '20' '17' '28' '38' nan '40' '19' '39' '41'\n '>43' '42' '43']\n\ncomp_noint_bed_16: [nan 'Yes']\n\ncomp_int_bed_16: [nan 'Yes']\n\ntalk_phon_wend: ['Any at all' nan 'Not at all']\n\ntext_wend: ['Less than 1 hour' nan 'Not at all' '3 or more hours' '1-2 hours']\n\ntalk_mob_wend: ['Less than 1 hour' nan 'Not at all' '1 or more hours']\n\ncomp_wend: ['1-2 hours' nan 'Less than 1 hour' '3 or more hours' 'Not at all']\n\nmusi_wend: ['Not at all' nan 'Any at all']\n\nread_wend: ['Less than 1 hour' nan '1 or more hours' 'Not at all']\n\nwork_wend: ['3 or more hours' nan '1-2 hours' 'Less than 1 hour']\n\nalon_wend: ['1-2 hours' nan '3 or more hours' 'Less than 1 hour']\n\ndraw_wend: ['Not at all' nan 'Less than 1 hour' '1 or more hours']\n\nplay_wend: ['3 or more hours' nan 'Less than 3 hours']\n\ntv_wend: ['1-2 hours' nan '3 or more hours' 'Less than 1 hour' 'Not at all']\n\nout_win_wend: ['3 or more hours' nan 'Less than 1 hour' '1-2 hours']\n\nout_sum_wend: ['3 or more hours' nan 'Less than 3 hours']\n\ntran_wend: ['Less than 1 hour' nan '1 or more hours']\n\ntalk_phon_week: ['Not at all' nan 'Any at all']\n\ntext_week: ['Less than 1 hour' nan 'Not at all' '3 or more hours' '1-2 hours']\n\ntalk_mob_week: ['Less than 1 hour' nan 'Not at all' '1 or more hours']\n\ncomp_week: ['1-2 hours' nan '3 or more hours' 'Less than 1 hour' 'Not at all']\n\nmusi_week: ['Not at all' nan 'Any at all']\n\nread_week: ['Less than 1 hour' nan '1 or more hours' 'Not at all']\n\nwork_week: ['3 or more hours' nan '1-2 hours' 'Less than 1 hour']\n\nalon_week: ['1-2 hours' nan '3 or more hours' 'Less than 1 hour']\n\ndraw_week: ['Not at all' nan 'Less than 1 hour' '1 or more hours']\n\nplay_week: ['3 or more hours' nan 'Less than 3 hours']\n\ntv_week: ['1-2 hours' nan '3 or more hours' 'Less than 1 hour' 'Not at all']\n\nout_win_week: ['3 or more hours' nan 'Less than 1 hour' '1-2 hours']\n\nout_sum_week: ['3 or more hours' nan 'Less than 3 hours']\n\ntran_week: ['Less than 1 hour' nan '1 or more hours']\n\npat_pres_10: ['Yes' nan 'No']\n\npat_pres_8: ['Yes' nan 'No']\n\npat_pres: ['Yes' nan 'No']\n\nnum_home: ['4' nan '3' '5' '2' '6' '1' '9 or more' '7' '8']\n\nmat_anx_1: ['No' nan 'Yes']\n\nmat_anx_18m: ['No' nan 'Yes']\n\nmat_anx_8m: ['No' nan 'Yes']\n\nemot_cruel: ['No' nan 'Yes']\n\nphys_cruel: ['No' nan 'Yes']\n\nmat_anx_0m: ['No' nan 'Yes']\n\npat_ses: ['III (manual)' nan 'III (non-manual)' 'ii' 'i' 'iv' 'v' 'Armed forces']\n\nmat_ses: ['ii' nan 'iv' 'i' 'III (non-manual)' 'III (manual)' 'v' 'Armed forces']\n\npat_edu: ['A level' nan 'O level' 'Vocational' 'Degree' 'cse']\n\nmat_edu: ['A level' nan 'O level' 'Vocational' 'CSE/None' 'Degree']\n\ndep_band_15: ['~0.5%' nan '<0.1%' '~15%' '~50%' '>70%']\n\ndep_band_13: ['~0.5%' nan '<0.1%' '~15%' '~50%' '>70%']\n\ndep_band_10: ['~0.5%' nan '<0.1%' '~15%' '~50%' '>70%']\n\ndep_band_07: ['~0.5%' nan '<0.1%' '~50%' '~15%']\n\nanx_band_15: ['~0.5%' nan '~3%' '~15%' '~50%' '<0.1%']\n\nanx_band_13: ['~0.5%' nan '~15%' '~3%' '>70%' '<0.1%' '~50%']\n\nanx_band_10: ['~3%' nan '~0.5%' '~15%' '>70%' '~50%' '<0.1%']\n\nanx_band_07: ['~3%' nan '~0.5%' '~15%' '~50%' '>70%']\n\nexercise: ['5 or more times a week' nan '1-4 times a week' '1-3 times a month'\n 'Never' 'Less than once a month']\n\nchild_bull: ['No' nan 'Yes']\n\nphone_14_wend: [nan 'Not at all' '< 1 hour' '1 or more hours']\n\nphone_14_week: [nan 'Not at all' '1 or more hours' '< 1 hour']\n\nmusi_13: [nan 'No' 'Yes']\n\ntv_bed_9: [nan 'No' 'Yes']\n\nown_mob: [nan 'Yes' 'No']\n\nhas_dep_diag: [' No ICD-10 diagnosis of depression' nan\n 'Yes ICD-10 diagnosis of depression']\n\ncomp_house: ['Yes' nan]\n\ntv_bed_16: ['Yes' nan]\n\ncreat_14: ['often' nan 'sometimes']\n\ncomp_games: ['No' nan 'Yes']\n\nfam_tv_eve: ['Yes, Some Days' nan 'Yes, Every Day' 'Other']\n\nfam_tv_aft: ['Other' nan 'Yes, Every Day' 'Yes, Some Days']\n\nfam_tv_mor: ['Yes, Every Day' nan 'Other' 'Yes, Some Days']\n\nsex: ['Female' 'Male']\n\nbirth_order: ['A' 'B']\n\n"
     ]
    }
   ],
   "source": [
    "for col in df:\n",
    "    if df[col].dtype == \"object\":\n",
    "        print(f\"{col}: {df[col].unique()}\\n\")"
   ]
  },
  {
   "source": [
    "Create a dataframe for the categorical types."
   ],
   "cell_type": "markdown",
   "metadata": {}
  },
  {
   "cell_type": "code",
   "execution_count": 20,
   "metadata": {},
   "outputs": [
    {
     "output_type": "execute_result",
     "data": {
      "text/plain": [
       "            flag comp_bed_9 mat_age comp_noint_bed_16 comp_int_bed_16  \\\n",
       "X                                                                       \n",
       "1      synthetic        NaN      30               NaN             NaN   \n",
       "2      synthetic        NaN      26               NaN             NaN   \n",
       "3      synthetic        NaN      24               NaN             NaN   \n",
       "4      synthetic         No      22               NaN             NaN   \n",
       "5      synthetic         No      31               Yes             NaN   \n",
       "...          ...        ...     ...               ...             ...   \n",
       "13730  synthetic        NaN      27               NaN             NaN   \n",
       "13731  synthetic         No      29               NaN             NaN   \n",
       "13732  synthetic        NaN      37               NaN             NaN   \n",
       "13733  synthetic         No      30               NaN             NaN   \n",
       "13734  synthetic         No      26               NaN             NaN   \n",
       "\n",
       "      talk_phon_wend         text_wend     talk_mob_wend         comp_wend  \\\n",
       "X                                                                            \n",
       "1         Any at all  Less than 1 hour  Less than 1 hour         1-2 hours   \n",
       "2                NaN               NaN               NaN               NaN   \n",
       "3                NaN               NaN               NaN               NaN   \n",
       "4                NaN               NaN               NaN               NaN   \n",
       "5         Not at all        Not at all        Not at all  Less than 1 hour   \n",
       "...              ...               ...               ...               ...   \n",
       "13730            NaN               NaN               NaN               NaN   \n",
       "13731     Not at all  Less than 1 hour  Less than 1 hour         1-2 hours   \n",
       "13732     Any at all         1-2 hours   1 or more hours         1-2 hours   \n",
       "13733     Any at all         1-2 hours        Not at all         1-2 hours   \n",
       "13734            NaN               NaN               NaN               NaN   \n",
       "\n",
       "        musi_wend  ...                        has_dep_diag comp_house  \\\n",
       "X                  ...                                                  \n",
       "1      Not at all  ...   No ICD-10 diagnosis of depression        Yes   \n",
       "2             NaN  ...                                 NaN        NaN   \n",
       "3             NaN  ...                                 NaN        NaN   \n",
       "4             NaN  ...                                 NaN        NaN   \n",
       "5      Not at all  ...                                 NaN        NaN   \n",
       "...           ...  ...                                 ...        ...   \n",
       "13730         NaN  ...                                 NaN        NaN   \n",
       "13731  Any at all  ...                                 NaN        NaN   \n",
       "13732  Not at all  ...                                 NaN        NaN   \n",
       "13733  Any at all  ...   No ICD-10 diagnosis of depression        Yes   \n",
       "13734         NaN  ...                                 NaN        NaN   \n",
       "\n",
       "      tv_bed_16   creat_14 comp_games      fam_tv_eve      fam_tv_aft  \\\n",
       "X                                                                       \n",
       "1           Yes      often         No  Yes, Some Days           Other   \n",
       "2           NaN        NaN        NaN             NaN             NaN   \n",
       "3           NaN        NaN        NaN  Yes, Some Days  Yes, Every Day   \n",
       "4           NaN        NaN         No             NaN             NaN   \n",
       "5           NaN      often         No  Yes, Some Days  Yes, Every Day   \n",
       "...         ...        ...        ...             ...             ...   \n",
       "13730       NaN        NaN        NaN  Yes, Every Day  Yes, Every Day   \n",
       "13731       NaN        NaN         No  Yes, Every Day           Other   \n",
       "13732       NaN      often         No           Other           Other   \n",
       "13733       NaN  sometimes         No  Yes, Some Days           Other   \n",
       "13734       NaN  sometimes        NaN  Yes, Some Days           Other   \n",
       "\n",
       "           fam_tv_mor     sex birth_order  \n",
       "X                                          \n",
       "1      Yes, Every Day  Female           A  \n",
       "2                 NaN  Female           B  \n",
       "3               Other    Male           A  \n",
       "4                 NaN    Male           A  \n",
       "5      Yes, Every Day  Female           A  \n",
       "...               ...     ...         ...  \n",
       "13730  Yes, Every Day  Female           A  \n",
       "13731           Other    Male           A  \n",
       "13732           Other    Male           A  \n",
       "13733  Yes, Every Day    Male           A  \n",
       "13734  Yes, Every Day    Male           A  \n",
       "\n",
       "[13734 rows x 72 columns]"
      ],
      "text/html": "<div>\n<style scoped>\n    .dataframe tbody tr th:only-of-type {\n        vertical-align: middle;\n    }\n\n    .dataframe tbody tr th {\n        vertical-align: top;\n    }\n\n    .dataframe thead th {\n        text-align: right;\n    }\n</style>\n<table border=\"1\" class=\"dataframe\">\n  <thead>\n    <tr style=\"text-align: right;\">\n      <th></th>\n      <th>flag</th>\n      <th>comp_bed_9</th>\n      <th>mat_age</th>\n      <th>comp_noint_bed_16</th>\n      <th>comp_int_bed_16</th>\n      <th>talk_phon_wend</th>\n      <th>text_wend</th>\n      <th>talk_mob_wend</th>\n      <th>comp_wend</th>\n      <th>musi_wend</th>\n      <th>...</th>\n      <th>has_dep_diag</th>\n      <th>comp_house</th>\n      <th>tv_bed_16</th>\n      <th>creat_14</th>\n      <th>comp_games</th>\n      <th>fam_tv_eve</th>\n      <th>fam_tv_aft</th>\n      <th>fam_tv_mor</th>\n      <th>sex</th>\n      <th>birth_order</th>\n    </tr>\n    <tr>\n      <th>X</th>\n      <th></th>\n      <th></th>\n      <th></th>\n      <th></th>\n      <th></th>\n      <th></th>\n      <th></th>\n      <th></th>\n      <th></th>\n      <th></th>\n      <th></th>\n      <th></th>\n      <th></th>\n      <th></th>\n      <th></th>\n      <th></th>\n      <th></th>\n      <th></th>\n      <th></th>\n      <th></th>\n      <th></th>\n    </tr>\n  </thead>\n  <tbody>\n    <tr>\n      <th>1</th>\n      <td>synthetic</td>\n      <td>NaN</td>\n      <td>30</td>\n      <td>NaN</td>\n      <td>NaN</td>\n      <td>Any at all</td>\n      <td>Less than 1 hour</td>\n      <td>Less than 1 hour</td>\n      <td>1-2 hours</td>\n      <td>Not at all</td>\n      <td>...</td>\n      <td>No ICD-10 diagnosis of depression</td>\n      <td>Yes</td>\n      <td>Yes</td>\n      <td>often</td>\n      <td>No</td>\n      <td>Yes, Some Days</td>\n      <td>Other</td>\n      <td>Yes, Every Day</td>\n      <td>Female</td>\n      <td>A</td>\n    </tr>\n    <tr>\n      <th>2</th>\n      <td>synthetic</td>\n      <td>NaN</td>\n      <td>26</td>\n      <td>NaN</td>\n      <td>NaN</td>\n      <td>NaN</td>\n      <td>NaN</td>\n      <td>NaN</td>\n      <td>NaN</td>\n      <td>NaN</td>\n      <td>...</td>\n      <td>NaN</td>\n      <td>NaN</td>\n      <td>NaN</td>\n      <td>NaN</td>\n      <td>NaN</td>\n      <td>NaN</td>\n      <td>NaN</td>\n      <td>NaN</td>\n      <td>Female</td>\n      <td>B</td>\n    </tr>\n    <tr>\n      <th>3</th>\n      <td>synthetic</td>\n      <td>NaN</td>\n      <td>24</td>\n      <td>NaN</td>\n      <td>NaN</td>\n      <td>NaN</td>\n      <td>NaN</td>\n      <td>NaN</td>\n      <td>NaN</td>\n      <td>NaN</td>\n      <td>...</td>\n      <td>NaN</td>\n      <td>NaN</td>\n      <td>NaN</td>\n      <td>NaN</td>\n      <td>NaN</td>\n      <td>Yes, Some Days</td>\n      <td>Yes, Every Day</td>\n      <td>Other</td>\n      <td>Male</td>\n      <td>A</td>\n    </tr>\n    <tr>\n      <th>4</th>\n      <td>synthetic</td>\n      <td>No</td>\n      <td>22</td>\n      <td>NaN</td>\n      <td>NaN</td>\n      <td>NaN</td>\n      <td>NaN</td>\n      <td>NaN</td>\n      <td>NaN</td>\n      <td>NaN</td>\n      <td>...</td>\n      <td>NaN</td>\n      <td>NaN</td>\n      <td>NaN</td>\n      <td>NaN</td>\n      <td>No</td>\n      <td>NaN</td>\n      <td>NaN</td>\n      <td>NaN</td>\n      <td>Male</td>\n      <td>A</td>\n    </tr>\n    <tr>\n      <th>5</th>\n      <td>synthetic</td>\n      <td>No</td>\n      <td>31</td>\n      <td>Yes</td>\n      <td>NaN</td>\n      <td>Not at all</td>\n      <td>Not at all</td>\n      <td>Not at all</td>\n      <td>Less than 1 hour</td>\n      <td>Not at all</td>\n      <td>...</td>\n      <td>NaN</td>\n      <td>NaN</td>\n      <td>NaN</td>\n      <td>often</td>\n      <td>No</td>\n      <td>Yes, Some Days</td>\n      <td>Yes, Every Day</td>\n      <td>Yes, Every Day</td>\n      <td>Female</td>\n      <td>A</td>\n    </tr>\n    <tr>\n      <th>...</th>\n      <td>...</td>\n      <td>...</td>\n      <td>...</td>\n      <td>...</td>\n      <td>...</td>\n      <td>...</td>\n      <td>...</td>\n      <td>...</td>\n      <td>...</td>\n      <td>...</td>\n      <td>...</td>\n      <td>...</td>\n      <td>...</td>\n      <td>...</td>\n      <td>...</td>\n      <td>...</td>\n      <td>...</td>\n      <td>...</td>\n      <td>...</td>\n      <td>...</td>\n      <td>...</td>\n    </tr>\n    <tr>\n      <th>13730</th>\n      <td>synthetic</td>\n      <td>NaN</td>\n      <td>27</td>\n      <td>NaN</td>\n      <td>NaN</td>\n      <td>NaN</td>\n      <td>NaN</td>\n      <td>NaN</td>\n      <td>NaN</td>\n      <td>NaN</td>\n      <td>...</td>\n      <td>NaN</td>\n      <td>NaN</td>\n      <td>NaN</td>\n      <td>NaN</td>\n      <td>NaN</td>\n      <td>Yes, Every Day</td>\n      <td>Yes, Every Day</td>\n      <td>Yes, Every Day</td>\n      <td>Female</td>\n      <td>A</td>\n    </tr>\n    <tr>\n      <th>13731</th>\n      <td>synthetic</td>\n      <td>No</td>\n      <td>29</td>\n      <td>NaN</td>\n      <td>NaN</td>\n      <td>Not at all</td>\n      <td>Less than 1 hour</td>\n      <td>Less than 1 hour</td>\n      <td>1-2 hours</td>\n      <td>Any at all</td>\n      <td>...</td>\n      <td>NaN</td>\n      <td>NaN</td>\n      <td>NaN</td>\n      <td>NaN</td>\n      <td>No</td>\n      <td>Yes, Every Day</td>\n      <td>Other</td>\n      <td>Other</td>\n      <td>Male</td>\n      <td>A</td>\n    </tr>\n    <tr>\n      <th>13732</th>\n      <td>synthetic</td>\n      <td>NaN</td>\n      <td>37</td>\n      <td>NaN</td>\n      <td>NaN</td>\n      <td>Any at all</td>\n      <td>1-2 hours</td>\n      <td>1 or more hours</td>\n      <td>1-2 hours</td>\n      <td>Not at all</td>\n      <td>...</td>\n      <td>NaN</td>\n      <td>NaN</td>\n      <td>NaN</td>\n      <td>often</td>\n      <td>No</td>\n      <td>Other</td>\n      <td>Other</td>\n      <td>Other</td>\n      <td>Male</td>\n      <td>A</td>\n    </tr>\n    <tr>\n      <th>13733</th>\n      <td>synthetic</td>\n      <td>No</td>\n      <td>30</td>\n      <td>NaN</td>\n      <td>NaN</td>\n      <td>Any at all</td>\n      <td>1-2 hours</td>\n      <td>Not at all</td>\n      <td>1-2 hours</td>\n      <td>Any at all</td>\n      <td>...</td>\n      <td>No ICD-10 diagnosis of depression</td>\n      <td>Yes</td>\n      <td>NaN</td>\n      <td>sometimes</td>\n      <td>No</td>\n      <td>Yes, Some Days</td>\n      <td>Other</td>\n      <td>Yes, Every Day</td>\n      <td>Male</td>\n      <td>A</td>\n    </tr>\n    <tr>\n      <th>13734</th>\n      <td>synthetic</td>\n      <td>No</td>\n      <td>26</td>\n      <td>NaN</td>\n      <td>NaN</td>\n      <td>NaN</td>\n      <td>NaN</td>\n      <td>NaN</td>\n      <td>NaN</td>\n      <td>NaN</td>\n      <td>...</td>\n      <td>NaN</td>\n      <td>NaN</td>\n      <td>NaN</td>\n      <td>sometimes</td>\n      <td>NaN</td>\n      <td>Yes, Some Days</td>\n      <td>Other</td>\n      <td>Yes, Every Day</td>\n      <td>Male</td>\n      <td>A</td>\n    </tr>\n  </tbody>\n</table>\n<p>13734 rows × 72 columns</p>\n</div>"
     },
     "metadata": {},
     "execution_count": 20
    }
   ],
   "source": [
    "obj_df = df.select_dtypes(include=['object']).copy()\n",
    "obj_df"
   ]
  },
  {
   "source": [
    "We can create a feature map using a dictionary to apply feature conversion to feature columns."
   ],
   "cell_type": "markdown",
   "metadata": {}
  },
  {
   "cell_type": "code",
   "execution_count": 21,
   "metadata": {},
   "outputs": [],
   "source": [
    "feature_map = {    \n",
    "    \"comp_bed_9\": {\"No\": 0, \"Yes\": 1},\n",
    "    \"mat_age\": {\"30\": 30, \"26\": 26, \"24\": 24, \"22\": 22, \"31\": 31, \"36\": 36, \"27\": 27, \"21\": 21, \"32\": 32, \"< 16\": 15, \"33\": 33, \"25\": 25, \"16\": 16, \"37\": 37, \"34\": 34, \"35\": 35, \"18\": 18, \"29\": 29, \"23\": 23, \"20\": 20, \"17\": 17, \"28\": 28, \"38\": 38, \"40\": 40, \"19\": 19, \"39\": 39, \"41\": 31, \">43\": 44, \"42\": 42, \"43\": 43},\n",
    "    \"comp_noint_bed_16\": {\"No\": 0, \"Yes\": 1},\n",
    "    \"comp_int_bed_16\": {\"No\": 0, \"Yes\": 1},\n",
    "    \"talk_phon_wend\": {\"Not at all\": 0, \"Any at all\": 1},\n",
    "    \"text_wend\": {\"Not at all\": 0, \"Less than 1 hour\": 1, \"1-2 hours\": 2, \"3 or more hours\": 3},\n",
    "    \"talk_mob_wend\": {\"Not at all\": 0, \"Less than 1 hour\": 1, \"1 or more hours\": 2},\n",
    "    \"comp_wend\": {\"Not at all\": 0, \"Less than 1 hour\": 1, \"1-2 hours\": 2, \"3 or more hours\": 3},\n",
    "    \"musi_wend\": {\"Not at all\": 0, \"Any at all\": 1},\n",
    "    \"read_wend\": {\"Not at all\": 0, \"Less than 1 hour\": 1, \"1 or more hours\": 2},\n",
    "    \"work_wend\": {\"Not at all\": 0, \"Less than 1 hour\": 1, \"1-2 hours\": 2, \"3 or more hours\": 3},\n",
    "    \"alon_wend\": {\"Not at all\": 0, \"Less than 1 hour\": 1, \"1-2 hours\": 2, \"3 or more hours\": 3},\n",
    "    \"draw_wend\": {\"Not at all\": 0, \"Less than 1 hour\": 1, \"1 or more hours\": 2},\n",
    "    \"play_wend\": {\"Less than 3 hours\": 0, \"3 or more hours\": 1},\n",
    "    \"tv_wend\": {\"Not at all\": 0, \"Less than 1 hour\": 1, \"1-2 hours\": 2, \"3 or more hours\": 3},\n",
    "    \"out_win_wend\": {\"Not at all\": 0, \"Less than 1 hour\": 1, \"1-2 hours\": 2, \"3 or more hours\": 3},\n",
    "    \"out_sum_wend\": {\"Less than 3 hours\": 0, \"3 or more hours\": 1},\n",
    "    \"tran_wend\": {\"Not at all\": 0, \"Less than 1 hour\": 1, \"1 or more hours\": 2},\n",
    "    \"talk_phon_week\": {\"Not at all\": 0, \"Any at all\": 1},\n",
    "    \"text_week\": {\"Not at all\": 0, \"Less than 1 hour\": 1, \"1-2 hours\": 2, \"3 or more hours\": 3},\n",
    "    \"talk_mob_week\": {\"Not at all\": 0, \"Less than 1 hour\": 1, \"1 or more hours\": 2},\n",
    "    \"comp_week\": {\"Not at all\": 0, \"Less than 1 hour\": 1, \"1-2 hours\": 2, \"3 or more hours\": 3},\n",
    "    \"musi_week\": {\"Not at all\": 0, \"Any at all\": 1},\n",
    "    \"read_week\": {\"Not at all\": 0, \"Less than 1 hour\": 1, \"1 or more hours\": 2},\n",
    "    \"work_week\": {\"Not at all\": 0, \"Less than 1 hour\": 1, \"1-2 hours\": 2, \"3 or more hours\": 3},\n",
    "    \"alon_week\": {\"Not at all\": 0, \"Less than 1 hour\": 1, \"1-2 hours\": 2, \"3 or more hours\": 3},\n",
    "    \"draw_week\": {\"Not at all\": 0, \"Less than 1 hour\": 1, \"1 or more hours\": 2},\n",
    "    \"play_week\": {\"Less than 3 hours\": 0, \"3 or more hours\": 1},\n",
    "    \"tv_week\": {\"Not at all\": 0, \"Less than 1 hour\": 1, \"1-2 hours\": 2, \"3 or more hours\": 3},\n",
    "    \"out_win_week\": {\"Not at all\": 0, \"Less than 1 hour\": 1, \"1-2 hours\": 2, \"3 or more hours\": 3},\n",
    "    \"out_sum_week\": {\"Less than 3 hours\": 0, \"3 or more hours\": 1},\n",
    "    \"tran_week\": {\"Not at all\": 0, \"Less than 1 hour\": 1, \"1 or more hours\": 2},\n",
    "    \"pat_pres_10\": {\"No\": 0, \"Yes\": 1},\n",
    "    \"pat_pres_8\": {\"No\": 0, \"Yes\": 1},\n",
    "    \"pat_pres\": {\"No\": 0, \"Yes\": 1},\n",
    "    \"num_home\": {\"1\": 1, \"2\": 2, \"3\": 3, \"4\": 4, \"5\": 5, \"6\": 6, \"7\": 7, \"8\": 8, \"9 or more\": 9},\n",
    "    \"mat_anx_1\": {\"No\": 0, \"Yes\": 1},\n",
    "    \"mat_anx_18m\": {\"No\": 0, \"Yes\": 1},\n",
    "    \"mat_anx_8m\": {\"No\": 0, \"Yes\": 1},\n",
    "    \"emot_cruel\": {\"No\": 0, \"Yes\": 1},\n",
    "    \"phys_cruel\": {\"No\": 0, \"Yes\": 1},\n",
    "    \"mat_anx_0m\": {\"No\": 0, \"Yes\": 1},\n",
    "    \"pat_ses\": {\"i\": 1, \"ii\": 2, \"III (manual)\": 3, \"III (non-manual)\": 4, \"iv\": 5, \"v\": 6, \"Armed forces\": 7},\n",
    "    \"mat_ses\": {\"i\": 1, \"ii\": 2, \"III (manual)\": 3, \"III (non-manual)\": 4, \"iv\": 5, \"v\": 6, \"Armed forces\": 7},\n",
    "    \"pat_edu\": {\"cse\": 0, \"O level\": 1, \"A level\": 2, \"Vocational\": 3, \"Degree\": 4},\n",
    "    \"mat_edu\": {\"CSE/None\": 0,  \"O level\": 1, \"A level\": 2, \"Vocational\": 3, \"Degree\": 4},\n",
    "    \"dep_band_15\": {\"<0.1%\": 0, \"~0.5%\": 1, \"~3%\": 2, \"~15%\": 3, \"~50%\": 4, \">70%\": 5},\n",
    "    \"dep_band_13\": {\"<0.1%\": 0, \"~0.5%\": 1, \"~3%\": 2, \"~15%\": 3, \"~50%\": 4, \">70%\": 5},\n",
    "    \"dep_band_10\": {\"<0.1%\": 0, \"~0.5%\": 1, \"~3%\": 2, \"~15%\": 3, \"~50%\": 4, \">70%\": 5},\n",
    "    \"dep_band_07\": {\"<0.1%\": 0, \"~0.5%\": 1, \"~3%\": 2, \"~15%\": 3, \"~50%\": 4, \">70%\": 5},\n",
    "    \"anx_band_15\": {\"<0.1%\": 0, \"~0.5%\": 1, \"~3%\": 2, \"~15%\": 3, \"~50%\": 4, \">70%\": 5},\n",
    "    \"anx_band_13\": {\"<0.1%\": 0, \"~0.5%\": 1, \"~3%\": 2, \"~15%\": 3, \"~50%\": 4, \">70%\": 5},\n",
    "    \"anx_band_10\": {\"<0.1%\": 0, \"~0.5%\": 1, \"~3%\": 2, \"~15%\": 3, \"~50%\": 4, \">70%\": 5},\n",
    "    \"anx_band_07\": {\"<0.1%\": 0, \"~0.5%\": 1, \"~3%\": 2, \"~15%\": 3, \"~50%\": 4, \">70%\": 5},\n",
    "    \"exercise\": {\"Never\": 0, \"Less than once a month\": 1, \"1-3 times a month\": 2, \"1-4 times a week\": 3, \"5 or more times a week\": 4},\n",
    "    \"child_bull\": {\"No\": 0, \"Yes\": 1},\n",
    "    \"phone_14_wend\": {\"Not at all\": 0, \"< 1 hour\": 1, \"1 or more hours\": 2},\n",
    "    \"phone_14_week\": {\"Not at all\": 0, \"< 1 hour\": 1, \"1 or more hours\": 2},\n",
    "    \"musi_13\": {\"No\": 0, \"Yes\": 1},\n",
    "    \"tv_bed_9\": {\"No\": 0, \"Yes\": 1},\n",
    "    \"own_mob\": {\"No\": 0, \"Yes\": 1},\n",
    "    \"has_dep_diag\": {\" No ICD-10 diagnosis of depression\": 0, \"Yes ICD-10 diagnosis of depression\": 1},\n",
    "    \"comp_house\": {\"No\": 0, \"Yes\": 1},\n",
    "    \"tv_bed_16\": {\"No\": 0, \"Yes\": 1},\n",
    "    \"creat_14\": {\"sometimes\": 0, \"often\": 1},\n",
    "    \"comp_games\": {\"No\": 0, \"Yes\": 1},\n",
    "    \"fam_tv_eve\": {\"Other\": 0, \"Yes, Some Days\": 1, \"Yes, Every Day\": 2},\n",
    "    \"fam_tv_aft\": {\"Other\": 0, \"Yes, Some Days\": 1, \"Yes, Every Day\": 2},\n",
    "    \"fam_tv_mor\": {\"Other\": 0, \"Yes, Some Days\": 1, \"Yes, Every Day\": 2},\n",
    "    \"sex\": {\"Female\": 0, \"Male\": 1},\n",
    "    \"birth_order\": {\"A\": 0, \"B\": 1},\n",
    "}"
   ]
  },
  {
   "source": [
    "Map feature dictionary to dataframe"
   ],
   "cell_type": "markdown",
   "metadata": {}
  },
  {
   "cell_type": "code",
   "execution_count": 22,
   "metadata": {},
   "outputs": [
    {
     "output_type": "stream",
     "name": "stdout",
     "text": [
      "<class 'pandas.core.frame.DataFrame'>\nInt64Index: 13734 entries, 1 to 13734\nData columns (total 72 columns):\n #   Column             Non-Null Count  Dtype  \n---  ------             --------------  -----  \n 0   flag               13734 non-null  object \n 1   comp_bed_9         8174 non-null   float64\n 2   mat_age            13326 non-null  float64\n 3   comp_noint_bed_16  471 non-null    float64\n 4   comp_int_bed_16    2570 non-null   float64\n 5   talk_phon_wend     4850 non-null   float64\n 6   text_wend          4841 non-null   float64\n 7   talk_mob_wend      4834 non-null   float64\n 8   comp_wend          4839 non-null   float64\n 9   musi_wend          4831 non-null   float64\n 10  read_wend          4834 non-null   float64\n 11  work_wend          4833 non-null   float64\n 12  alon_wend          4850 non-null   float64\n 13  draw_wend          4842 non-null   float64\n 14  play_wend          4850 non-null   float64\n 15  tv_wend            4853 non-null   float64\n 16  out_win_wend       4849 non-null   float64\n 17  out_sum_wend       4822 non-null   float64\n 18  tran_wend          4861 non-null   float64\n 19  talk_phon_week     4999 non-null   float64\n 20  text_week          5004 non-null   float64\n 21  talk_mob_week      5016 non-null   float64\n 22  comp_week          5011 non-null   float64\n 23  musi_week          5003 non-null   float64\n 24  read_week          4993 non-null   float64\n 25  work_week          5012 non-null   float64\n 26  alon_week          5008 non-null   float64\n 27  draw_week          5012 non-null   float64\n 28  play_week          5015 non-null   float64\n 29  tv_week            5020 non-null   float64\n 30  out_win_week       5007 non-null   float64\n 31  out_sum_week       5014 non-null   float64\n 32  tran_week          5024 non-null   float64\n 33  pat_pres_10        8057 non-null   float64\n 34  pat_pres_8         7729 non-null   float64\n 35  pat_pres           9579 non-null   float64\n 36  num_home           9583 non-null   float64\n 37  mat_anx_1          9700 non-null   float64\n 38  mat_anx_18m        9884 non-null   float64\n 39  mat_anx_8m         10488 non-null  float64\n 40  emot_cruel         11301 non-null  float64\n 41  phys_cruel         11301 non-null  float64\n 42  mat_anx_0m         11265 non-null  float64\n 43  pat_ses            11021 non-null  float64\n 44  mat_ses            10110 non-null  float64\n 45  pat_edu            10750 non-null  float64\n 46  mat_edu            12375 non-null  float64\n 47  dep_band_15        5299 non-null   float64\n 48  dep_band_13        7003 non-null   float64\n 49  dep_band_10        7679 non-null   float64\n 50  dep_band_07        8089 non-null   float64\n 51  anx_band_15        5303 non-null   float64\n 52  anx_band_13        7158 non-null   float64\n 53  anx_band_10        7852 non-null   float64\n 54  anx_band_07        8280 non-null   float64\n 55  exercise           4971 non-null   float64\n 56  child_bull         4989 non-null   float64\n 57  phone_14_wend      5962 non-null   float64\n 58  phone_14_week      6131 non-null   float64\n 59  musi_13            6880 non-null   float64\n 60  tv_bed_9           8348 non-null   float64\n 61  own_mob            4386 non-null   float64\n 62  has_dep_diag       4513 non-null   float64\n 63  comp_house         713 non-null    float64\n 64  tv_bed_16          3877 non-null   float64\n 65  creat_14           7093 non-null   float64\n 66  comp_games         9660 non-null   float64\n 67  fam_tv_eve         11174 non-null  float64\n 68  fam_tv_aft         11038 non-null  float64\n 69  fam_tv_mor         11096 non-null  float64\n 70  sex                13734 non-null  int64  \n 71  birth_order        13734 non-null  int64  \ndtypes: float64(69), int64(2), object(1)\nmemory usage: 7.6+ MB\n"
     ]
    }
   ],
   "source": [
    "obj_df = obj_df.replace(feature_map)\n",
    "obj_df.info()"
   ]
  },
  {
   "source": [
    "We do not need to flag feature as all data is synthetic so we shall drop it."
   ],
   "cell_type": "markdown",
   "metadata": {}
  },
  {
   "cell_type": "code",
   "execution_count": 23,
   "metadata": {},
   "outputs": [
    {
     "output_type": "stream",
     "name": "stdout",
     "text": [
      "<class 'pandas.core.frame.DataFrame'>\nInt64Index: 13734 entries, 1 to 13734\nData columns (total 71 columns):\n #   Column             Non-Null Count  Dtype  \n---  ------             --------------  -----  \n 0   comp_bed_9         8174 non-null   float64\n 1   mat_age            13326 non-null  float64\n 2   comp_noint_bed_16  471 non-null    float64\n 3   comp_int_bed_16    2570 non-null   float64\n 4   talk_phon_wend     4850 non-null   float64\n 5   text_wend          4841 non-null   float64\n 6   talk_mob_wend      4834 non-null   float64\n 7   comp_wend          4839 non-null   float64\n 8   musi_wend          4831 non-null   float64\n 9   read_wend          4834 non-null   float64\n 10  work_wend          4833 non-null   float64\n 11  alon_wend          4850 non-null   float64\n 12  draw_wend          4842 non-null   float64\n 13  play_wend          4850 non-null   float64\n 14  tv_wend            4853 non-null   float64\n 15  out_win_wend       4849 non-null   float64\n 16  out_sum_wend       4822 non-null   float64\n 17  tran_wend          4861 non-null   float64\n 18  talk_phon_week     4999 non-null   float64\n 19  text_week          5004 non-null   float64\n 20  talk_mob_week      5016 non-null   float64\n 21  comp_week          5011 non-null   float64\n 22  musi_week          5003 non-null   float64\n 23  read_week          4993 non-null   float64\n 24  work_week          5012 non-null   float64\n 25  alon_week          5008 non-null   float64\n 26  draw_week          5012 non-null   float64\n 27  play_week          5015 non-null   float64\n 28  tv_week            5020 non-null   float64\n 29  out_win_week       5007 non-null   float64\n 30  out_sum_week       5014 non-null   float64\n 31  tran_week          5024 non-null   float64\n 32  pat_pres_10        8057 non-null   float64\n 33  pat_pres_8         7729 non-null   float64\n 34  pat_pres           9579 non-null   float64\n 35  num_home           9583 non-null   float64\n 36  mat_anx_1          9700 non-null   float64\n 37  mat_anx_18m        9884 non-null   float64\n 38  mat_anx_8m         10488 non-null  float64\n 39  emot_cruel         11301 non-null  float64\n 40  phys_cruel         11301 non-null  float64\n 41  mat_anx_0m         11265 non-null  float64\n 42  pat_ses            11021 non-null  float64\n 43  mat_ses            10110 non-null  float64\n 44  pat_edu            10750 non-null  float64\n 45  mat_edu            12375 non-null  float64\n 46  dep_band_15        5299 non-null   float64\n 47  dep_band_13        7003 non-null   float64\n 48  dep_band_10        7679 non-null   float64\n 49  dep_band_07        8089 non-null   float64\n 50  anx_band_15        5303 non-null   float64\n 51  anx_band_13        7158 non-null   float64\n 52  anx_band_10        7852 non-null   float64\n 53  anx_band_07        8280 non-null   float64\n 54  exercise           4971 non-null   float64\n 55  child_bull         4989 non-null   float64\n 56  phone_14_wend      5962 non-null   float64\n 57  phone_14_week      6131 non-null   float64\n 58  musi_13            6880 non-null   float64\n 59  tv_bed_9           8348 non-null   float64\n 60  own_mob            4386 non-null   float64\n 61  has_dep_diag       4513 non-null   float64\n 62  comp_house         713 non-null    float64\n 63  tv_bed_16          3877 non-null   float64\n 64  creat_14           7093 non-null   float64\n 65  comp_games         9660 non-null   float64\n 66  fam_tv_eve         11174 non-null  float64\n 67  fam_tv_aft         11038 non-null  float64\n 68  fam_tv_mor         11096 non-null  float64\n 69  sex                13734 non-null  int64  \n 70  birth_order        13734 non-null  int64  \ndtypes: float64(69), int64(2)\nmemory usage: 7.5 MB\n"
     ]
    }
   ],
   "source": [
    "obj_df.drop(\"flag\", axis=1, inplace=True)\n",
    "obj_df.info()"
   ]
  },
  {
   "source": [
    "All types are now numerical, we shall ensure all types are the same (`float64`)."
   ],
   "cell_type": "markdown",
   "metadata": {}
  },
  {
   "cell_type": "code",
   "execution_count": 24,
   "metadata": {},
   "outputs": [
    {
     "output_type": "stream",
     "name": "stdout",
     "text": [
      "<class 'pandas.core.frame.DataFrame'>\nInt64Index: 13734 entries, 1 to 13734\nData columns (total 71 columns):\n #   Column             Non-Null Count  Dtype  \n---  ------             --------------  -----  \n 0   comp_bed_9         8174 non-null   float64\n 1   mat_age            13326 non-null  float64\n 2   comp_noint_bed_16  471 non-null    float64\n 3   comp_int_bed_16    2570 non-null   float64\n 4   talk_phon_wend     4850 non-null   float64\n 5   text_wend          4841 non-null   float64\n 6   talk_mob_wend      4834 non-null   float64\n 7   comp_wend          4839 non-null   float64\n 8   musi_wend          4831 non-null   float64\n 9   read_wend          4834 non-null   float64\n 10  work_wend          4833 non-null   float64\n 11  alon_wend          4850 non-null   float64\n 12  draw_wend          4842 non-null   float64\n 13  play_wend          4850 non-null   float64\n 14  tv_wend            4853 non-null   float64\n 15  out_win_wend       4849 non-null   float64\n 16  out_sum_wend       4822 non-null   float64\n 17  tran_wend          4861 non-null   float64\n 18  talk_phon_week     4999 non-null   float64\n 19  text_week          5004 non-null   float64\n 20  talk_mob_week      5016 non-null   float64\n 21  comp_week          5011 non-null   float64\n 22  musi_week          5003 non-null   float64\n 23  read_week          4993 non-null   float64\n 24  work_week          5012 non-null   float64\n 25  alon_week          5008 non-null   float64\n 26  draw_week          5012 non-null   float64\n 27  play_week          5015 non-null   float64\n 28  tv_week            5020 non-null   float64\n 29  out_win_week       5007 non-null   float64\n 30  out_sum_week       5014 non-null   float64\n 31  tran_week          5024 non-null   float64\n 32  pat_pres_10        8057 non-null   float64\n 33  pat_pres_8         7729 non-null   float64\n 34  pat_pres           9579 non-null   float64\n 35  num_home           9583 non-null   float64\n 36  mat_anx_1          9700 non-null   float64\n 37  mat_anx_18m        9884 non-null   float64\n 38  mat_anx_8m         10488 non-null  float64\n 39  emot_cruel         11301 non-null  float64\n 40  phys_cruel         11301 non-null  float64\n 41  mat_anx_0m         11265 non-null  float64\n 42  pat_ses            11021 non-null  float64\n 43  mat_ses            10110 non-null  float64\n 44  pat_edu            10750 non-null  float64\n 45  mat_edu            12375 non-null  float64\n 46  dep_band_15        5299 non-null   float64\n 47  dep_band_13        7003 non-null   float64\n 48  dep_band_10        7679 non-null   float64\n 49  dep_band_07        8089 non-null   float64\n 50  anx_band_15        5303 non-null   float64\n 51  anx_band_13        7158 non-null   float64\n 52  anx_band_10        7852 non-null   float64\n 53  anx_band_07        8280 non-null   float64\n 54  exercise           4971 non-null   float64\n 55  child_bull         4989 non-null   float64\n 56  phone_14_wend      5962 non-null   float64\n 57  phone_14_week      6131 non-null   float64\n 58  musi_13            6880 non-null   float64\n 59  tv_bed_9           8348 non-null   float64\n 60  own_mob            4386 non-null   float64\n 61  has_dep_diag       4513 non-null   float64\n 62  comp_house         713 non-null    float64\n 63  tv_bed_16          3877 non-null   float64\n 64  creat_14           7093 non-null   float64\n 65  comp_games         9660 non-null   float64\n 66  fam_tv_eve         11174 non-null  float64\n 67  fam_tv_aft         11038 non-null  float64\n 68  fam_tv_mor         11096 non-null  float64\n 69  sex                13734 non-null  float64\n 70  birth_order        13734 non-null  float64\ndtypes: float64(71)\nmemory usage: 7.5 MB\n"
     ]
    }
   ],
   "source": [
    "obj_df[\"sex\"] = obj_df[\"sex\"].astype(\"float64\")\n",
    "obj_df[\"birth_order\"] = obj_df[\"birth_order\"].astype(\"float64\")\n",
    "obj_df.info()"
   ]
  },
  {
   "source": [
    "Now we can combine the new mapped features with the numerical features."
   ],
   "cell_type": "markdown",
   "metadata": {}
  },
  {
   "source": [
    "data_df = df.copy()\n",
    "data_df.drop(\"flag\", axis=1, inplace=True)\n",
    "data_df[obj_df.columns] = obj_df\n",
    "data_df.info()"
   ],
   "cell_type": "code",
   "metadata": {},
   "execution_count": 25,
   "outputs": [
    {
     "output_type": "stream",
     "name": "stdout",
     "text": [
      "<class 'pandas.core.frame.DataFrame'>\nInt64Index: 13734 entries, 1 to 13734\nData columns (total 82 columns):\n #   Column             Non-Null Count  Dtype  \n---  ------             --------------  -----  \n 0   comp_bed_9         8174 non-null   float64\n 1   mat_dep            11145 non-null  float64\n 2   mat_age            13326 non-null  float64\n 3   weight_16          5351 non-null   float64\n 4   height_16          5364 non-null   float64\n 5   iq                 7288 non-null   float64\n 6   comp_noint_bed_16  471 non-null    float64\n 7   comp_int_bed_16    2570 non-null   float64\n 8   talk_phon_wend     4850 non-null   float64\n 9   text_wend          4841 non-null   float64\n 10  talk_mob_wend      4834 non-null   float64\n 11  comp_wend          4839 non-null   float64\n 12  musi_wend          4831 non-null   float64\n 13  read_wend          4834 non-null   float64\n 14  work_wend          4833 non-null   float64\n 15  alon_wend          4850 non-null   float64\n 16  draw_wend          4842 non-null   float64\n 17  play_wend          4850 non-null   float64\n 18  tv_wend            4853 non-null   float64\n 19  out_win_wend       4849 non-null   float64\n 20  out_sum_wend       4822 non-null   float64\n 21  tran_wend          4861 non-null   float64\n 22  talk_phon_week     4999 non-null   float64\n 23  text_week          5004 non-null   float64\n 24  talk_mob_week      5016 non-null   float64\n 25  comp_week          5011 non-null   float64\n 26  musi_week          5003 non-null   float64\n 27  read_week          4993 non-null   float64\n 28  work_week          5012 non-null   float64\n 29  alon_week          5008 non-null   float64\n 30  draw_week          5012 non-null   float64\n 31  play_week          5015 non-null   float64\n 32  tv_week            5020 non-null   float64\n 33  out_win_week       5007 non-null   float64\n 34  out_sum_week       5014 non-null   float64\n 35  tran_week          5024 non-null   float64\n 36  pat_pres_10        8057 non-null   float64\n 37  pat_pres_8         7729 non-null   float64\n 38  pat_pres           9579 non-null   float64\n 39  num_home           9583 non-null   float64\n 40  mat_anx_1          9700 non-null   float64\n 41  mat_anx_18m        9884 non-null   float64\n 42  mat_anx_8m         10488 non-null  float64\n 43  agg_score          10714 non-null  float64\n 44  emot_cruel         11301 non-null  float64\n 45  phys_cruel         11301 non-null  float64\n 46  mat_anx_0m         11265 non-null  float64\n 47  pat_ses            11021 non-null  float64\n 48  mat_ses            10110 non-null  float64\n 49  pat_edu            10750 non-null  float64\n 50  mat_edu            12375 non-null  float64\n 51  parity             12544 non-null  float64\n 52  dep_band_15        5299 non-null   float64\n 53  dep_band_13        7003 non-null   float64\n 54  dep_band_10        7679 non-null   float64\n 55  dep_band_07        8089 non-null   float64\n 56  anx_band_15        5303 non-null   float64\n 57  anx_band_13        7158 non-null   float64\n 58  anx_band_10        7852 non-null   float64\n 59  anx_band_07        8280 non-null   float64\n 60  exercise           4971 non-null   float64\n 61  child_bull         4989 non-null   float64\n 62  phone_14_wend      5962 non-null   float64\n 63  phone_14_week      6131 non-null   float64\n 64  musi_13            6880 non-null   float64\n 65  tv_bed_9           8348 non-null   float64\n 66  own_mob            4386 non-null   float64\n 67  has_dep_diag       4513 non-null   float64\n 68  secd_diag          4513 non-null   float64\n 69  prim_diag          4513 non-null   float64\n 70  panic_score        4513 non-null   float64\n 71  dep_thoughts       1805 non-null   float64\n 72  dep_score          4513 non-null   float64\n 73  comp_house         713 non-null    float64\n 74  tv_bed_16          3877 non-null   float64\n 75  creat_14           7093 non-null   float64\n 76  comp_games         9660 non-null   float64\n 77  fam_tv_eve         11174 non-null  float64\n 78  fam_tv_aft         11038 non-null  float64\n 79  fam_tv_mor         11096 non-null  float64\n 80  sex                13734 non-null  float64\n 81  birth_order        13734 non-null  float64\ndtypes: float64(82)\nmemory usage: 8.7 MB\n"
     ]
    }
   ]
  },
  {
   "source": [],
   "cell_type": "markdown",
   "metadata": {}
  },
  {
   "cell_type": "code",
   "execution_count": null,
   "metadata": {},
   "outputs": [],
   "source": []
  },
  {
   "source": [
    "---\n",
    "\n",
    "Feature map automation attempt"
   ],
   "cell_type": "markdown",
   "metadata": {}
  },
  {
   "cell_type": "code",
   "execution_count": 26,
   "metadata": {},
   "outputs": [],
   "source": [
    "# nny = [\"No\", \"Yes\"]\n",
    "\n",
    "# for col in obj_df:\n",
    "\n",
    "#     unique_list = obj_df[col].unique().tolist()\n",
    "\n",
    "# ##\n",
    "\n",
    "# test0 = [\"Yes\", \"No\", \"NaN\"]\n",
    "# test1 = [\"NaN\", \"No\", \"Yes\"]\n",
    "\n",
    "# if Counter(nny) == Counter(test0):\n",
    "#     print(\"yes\")\n",
    "\n",
    "# ##\n",
    "\n",
    "# obj_df[\"comp_bed_9\"] = obj_df[\"comp_bed_9\"].astype(\"category\")\n",
    "# obj_df[\"comp_bed_9_comp\"] = obj_df[\"comp_bed_9\"].cat.codes\n",
    "\n",
    "# obj_df[[\"comp_bed_9\", \"comp_bed_9_comp\"]]\n",
    "\n",
    "# ##\n",
    "\n",
    "# obj_df[\"tv_bed_16\"] = obj_df[\"tv_bed_16\"].astype(\"category\")\n",
    "# obj_df[\"tv_bed_16_comp\"] = obj_df[\"tv_bed_16\"].cat.codes\n",
    "\n",
    "# obj_df[[\"tv_bed_16\", \"tv_bed_16_comp\"]]\n",
    "    "
   ]
  }
 ]
}