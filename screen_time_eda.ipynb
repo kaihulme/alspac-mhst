{
 "metadata": {
  "language_info": {
   "codemirror_mode": {
    "name": "ipython",
    "version": 3
   },
   "file_extension": ".py",
   "mimetype": "text/x-python",
   "name": "python",
   "nbconvert_exporter": "python",
   "pygments_lexer": "ipython3",
   "version": "3.9.2"
  },
  "orig_nbformat": 2,
  "kernelspec": {
   "name": "python3",
   "display_name": "Python 3.9.2 64-bit ('neuro': conda)",
   "metadata": {
    "interpreter": {
     "hash": "b69d672efd9619d741ff3ae788b00cf5b8f9f10504b9388757aa10cadeb6df88"
    }
   }
  }
 },
 "nbformat": 4,
 "nbformat_minor": 2,
 "cells": [
  {
   "source": [
    "# Screen Time Mental Health EDA"
   ],
   "cell_type": "markdown",
   "metadata": {}
  },
  {
   "cell_type": "code",
   "execution_count": 5,
   "metadata": {},
   "outputs": [],
   "source": [
    "import os\n",
    "import numpy as np\n",
    "import pandas as pd\n",
    "import seaborn as sns\n",
    "import matplotlib.pyplot as plt"
   ]
  },
  {
   "source": [
    "Get the dataframe"
   ],
   "cell_type": "markdown",
   "metadata": {}
  },
  {
   "cell_type": "code",
   "execution_count": 3,
   "metadata": {},
   "outputs": [
    {
     "output_type": "execute_result",
     "data": {
      "text/plain": [
       "   Unnamed: 0  X       flag comp_bed_9  mat_dep mat_age  weight_16  \\\n",
       "0           1  1  synthetic        NaN      3.0      30  59.294132   \n",
       "1           2  2  synthetic        NaN      9.0      26        NaN   \n",
       "2           3  3  synthetic        NaN      3.0      24        NaN   \n",
       "3           4  4  synthetic         No      NaN      22  49.812426   \n",
       "4           5  5  synthetic         No      8.0      31  62.270030   \n",
       "\n",
       "    height_16     iq comp_noint_bed_16  ... dep_score comp_house tv_bed_16  \\\n",
       "0  181.602831  107.0               NaN  ...       0.0        Yes       Yes   \n",
       "1         NaN   85.0               NaN  ...       NaN        NaN       NaN   \n",
       "2         NaN    NaN               NaN  ...       NaN        NaN       NaN   \n",
       "3  160.224186    NaN               NaN  ...       NaN        NaN       NaN   \n",
       "4  191.703227  132.0               Yes  ...       NaN        NaN       NaN   \n",
       "\n",
       "  creat_14 comp_games      fam_tv_eve      fam_tv_aft      fam_tv_mor     sex  \\\n",
       "0    often         No  Yes, Some Days           Other  Yes, Every Day  Female   \n",
       "1      NaN        NaN             NaN             NaN             NaN  Female   \n",
       "2      NaN        NaN  Yes, Some Days  Yes, Every Day           Other    Male   \n",
       "3      NaN         No             NaN             NaN             NaN    Male   \n",
       "4    often         No  Yes, Some Days  Yes, Every Day  Yes, Every Day  Female   \n",
       "\n",
       "  birth_order  \n",
       "0           A  \n",
       "1           B  \n",
       "2           A  \n",
       "3           A  \n",
       "4           A  \n",
       "\n",
       "[5 rows x 85 columns]"
      ],
      "text/html": "<div>\n<style scoped>\n    .dataframe tbody tr th:only-of-type {\n        vertical-align: middle;\n    }\n\n    .dataframe tbody tr th {\n        vertical-align: top;\n    }\n\n    .dataframe thead th {\n        text-align: right;\n    }\n</style>\n<table border=\"1\" class=\"dataframe\">\n  <thead>\n    <tr style=\"text-align: right;\">\n      <th></th>\n      <th>Unnamed: 0</th>\n      <th>X</th>\n      <th>flag</th>\n      <th>comp_bed_9</th>\n      <th>mat_dep</th>\n      <th>mat_age</th>\n      <th>weight_16</th>\n      <th>height_16</th>\n      <th>iq</th>\n      <th>comp_noint_bed_16</th>\n      <th>...</th>\n      <th>dep_score</th>\n      <th>comp_house</th>\n      <th>tv_bed_16</th>\n      <th>creat_14</th>\n      <th>comp_games</th>\n      <th>fam_tv_eve</th>\n      <th>fam_tv_aft</th>\n      <th>fam_tv_mor</th>\n      <th>sex</th>\n      <th>birth_order</th>\n    </tr>\n  </thead>\n  <tbody>\n    <tr>\n      <th>0</th>\n      <td>1</td>\n      <td>1</td>\n      <td>synthetic</td>\n      <td>NaN</td>\n      <td>3.0</td>\n      <td>30</td>\n      <td>59.294132</td>\n      <td>181.602831</td>\n      <td>107.0</td>\n      <td>NaN</td>\n      <td>...</td>\n      <td>0.0</td>\n      <td>Yes</td>\n      <td>Yes</td>\n      <td>often</td>\n      <td>No</td>\n      <td>Yes, Some Days</td>\n      <td>Other</td>\n      <td>Yes, Every Day</td>\n      <td>Female</td>\n      <td>A</td>\n    </tr>\n    <tr>\n      <th>1</th>\n      <td>2</td>\n      <td>2</td>\n      <td>synthetic</td>\n      <td>NaN</td>\n      <td>9.0</td>\n      <td>26</td>\n      <td>NaN</td>\n      <td>NaN</td>\n      <td>85.0</td>\n      <td>NaN</td>\n      <td>...</td>\n      <td>NaN</td>\n      <td>NaN</td>\n      <td>NaN</td>\n      <td>NaN</td>\n      <td>NaN</td>\n      <td>NaN</td>\n      <td>NaN</td>\n      <td>NaN</td>\n      <td>Female</td>\n      <td>B</td>\n    </tr>\n    <tr>\n      <th>2</th>\n      <td>3</td>\n      <td>3</td>\n      <td>synthetic</td>\n      <td>NaN</td>\n      <td>3.0</td>\n      <td>24</td>\n      <td>NaN</td>\n      <td>NaN</td>\n      <td>NaN</td>\n      <td>NaN</td>\n      <td>...</td>\n      <td>NaN</td>\n      <td>NaN</td>\n      <td>NaN</td>\n      <td>NaN</td>\n      <td>NaN</td>\n      <td>Yes, Some Days</td>\n      <td>Yes, Every Day</td>\n      <td>Other</td>\n      <td>Male</td>\n      <td>A</td>\n    </tr>\n    <tr>\n      <th>3</th>\n      <td>4</td>\n      <td>4</td>\n      <td>synthetic</td>\n      <td>No</td>\n      <td>NaN</td>\n      <td>22</td>\n      <td>49.812426</td>\n      <td>160.224186</td>\n      <td>NaN</td>\n      <td>NaN</td>\n      <td>...</td>\n      <td>NaN</td>\n      <td>NaN</td>\n      <td>NaN</td>\n      <td>NaN</td>\n      <td>No</td>\n      <td>NaN</td>\n      <td>NaN</td>\n      <td>NaN</td>\n      <td>Male</td>\n      <td>A</td>\n    </tr>\n    <tr>\n      <th>4</th>\n      <td>5</td>\n      <td>5</td>\n      <td>synthetic</td>\n      <td>No</td>\n      <td>8.0</td>\n      <td>31</td>\n      <td>62.270030</td>\n      <td>191.703227</td>\n      <td>132.0</td>\n      <td>Yes</td>\n      <td>...</td>\n      <td>NaN</td>\n      <td>NaN</td>\n      <td>NaN</td>\n      <td>often</td>\n      <td>No</td>\n      <td>Yes, Some Days</td>\n      <td>Yes, Every Day</td>\n      <td>Yes, Every Day</td>\n      <td>Female</td>\n      <td>A</td>\n    </tr>\n  </tbody>\n</table>\n<p>5 rows × 85 columns</p>\n</div>"
     },
     "metadata": {},
     "execution_count": 3
    }
   ],
   "source": [
    "df = pd.read_csv(\"data/maps-synthetic-data-v1.1.csv\")\n",
    "df.head()"
   ]
  },
  {
   "source": [
    "### Correlation"
   ],
   "cell_type": "markdown",
   "metadata": {}
  },
  {
   "cell_type": "code",
   "execution_count": 4,
   "metadata": {},
   "outputs": [
    {
     "output_type": "execute_result",
     "data": {
      "text/plain": [
       "              Unnamed: 0         X   mat_dep  weight_16  height_16        iq  \\\n",
       "Unnamed: 0      1.000000  1.000000  0.014914  -0.013672   0.005430  0.004083   \n",
       "X               1.000000  1.000000  0.014914  -0.013672   0.005430  0.004083   \n",
       "mat_dep         0.014914  0.014914  1.000000   0.022857  -0.037471 -0.076213   \n",
       "weight_16      -0.013672 -0.013672  0.022857   1.000000   0.506162 -0.010114   \n",
       "height_16       0.005430  0.005430 -0.037471   0.506162   1.000000  0.108182   \n",
       "iq              0.004083  0.004083 -0.076213  -0.010114   0.108182  1.000000   \n",
       "agg_score      -0.000147 -0.000147 -0.399370  -0.023589  -0.006108  0.064654   \n",
       "parity         -0.010709 -0.010709  0.072405   0.023191  -0.000875 -0.075945   \n",
       "secd_diag      -0.001954 -0.001954  0.042720  -0.045174  -0.058494 -0.002553   \n",
       "prim_diag       0.002537  0.002537  0.049515  -0.032918  -0.042952 -0.011164   \n",
       "panic_score    -0.004982 -0.004982  0.044806  -0.014801  -0.016259 -0.003665   \n",
       "dep_thoughts   -0.026756 -0.026756  0.036001  -0.044244  -0.049831 -0.024857   \n",
       "dep_score      -0.008412 -0.008412  0.042168  -0.014034  -0.034491  0.007587   \n",
       "\n",
       "              agg_score    parity  secd_diag  prim_diag  panic_score  \\\n",
       "Unnamed: 0    -0.000147 -0.010709  -0.001954   0.002537    -0.004982   \n",
       "X             -0.000147 -0.010709  -0.001954   0.002537    -0.004982   \n",
       "mat_dep       -0.399370  0.072405   0.042720   0.049515     0.044806   \n",
       "weight_16     -0.023589  0.023191  -0.045174  -0.032918    -0.014801   \n",
       "height_16     -0.006108 -0.000875  -0.058494  -0.042952    -0.016259   \n",
       "iq             0.064654 -0.075945  -0.002553  -0.011164    -0.003665   \n",
       "agg_score      1.000000 -0.040754  -0.015039  -0.026265    -0.062852   \n",
       "parity        -0.040754  1.000000   0.045679   0.036739     0.022520   \n",
       "secd_diag     -0.015039  0.045679   1.000000   0.761506     0.517815   \n",
       "prim_diag     -0.026265  0.036739   0.761506   1.000000     0.324851   \n",
       "panic_score   -0.062852  0.022520   0.517815   0.324851     1.000000   \n",
       "dep_thoughts  -0.036543  0.039167   0.544721   0.632179     0.200793   \n",
       "dep_score     -0.040472  0.036022   0.617543   0.725219     0.238634   \n",
       "\n",
       "              dep_thoughts  dep_score  \n",
       "Unnamed: 0       -0.026756  -0.008412  \n",
       "X                -0.026756  -0.008412  \n",
       "mat_dep           0.036001   0.042168  \n",
       "weight_16        -0.044244  -0.014034  \n",
       "height_16        -0.049831  -0.034491  \n",
       "iq               -0.024857   0.007587  \n",
       "agg_score        -0.036543  -0.040472  \n",
       "parity            0.039167   0.036022  \n",
       "secd_diag         0.544721   0.617543  \n",
       "prim_diag         0.632179   0.725219  \n",
       "panic_score       0.200793   0.238634  \n",
       "dep_thoughts      1.000000   0.610364  \n",
       "dep_score         0.610364   1.000000  "
      ],
      "text/html": "<div>\n<style scoped>\n    .dataframe tbody tr th:only-of-type {\n        vertical-align: middle;\n    }\n\n    .dataframe tbody tr th {\n        vertical-align: top;\n    }\n\n    .dataframe thead th {\n        text-align: right;\n    }\n</style>\n<table border=\"1\" class=\"dataframe\">\n  <thead>\n    <tr style=\"text-align: right;\">\n      <th></th>\n      <th>Unnamed: 0</th>\n      <th>X</th>\n      <th>mat_dep</th>\n      <th>weight_16</th>\n      <th>height_16</th>\n      <th>iq</th>\n      <th>agg_score</th>\n      <th>parity</th>\n      <th>secd_diag</th>\n      <th>prim_diag</th>\n      <th>panic_score</th>\n      <th>dep_thoughts</th>\n      <th>dep_score</th>\n    </tr>\n  </thead>\n  <tbody>\n    <tr>\n      <th>Unnamed: 0</th>\n      <td>1.000000</td>\n      <td>1.000000</td>\n      <td>0.014914</td>\n      <td>-0.013672</td>\n      <td>0.005430</td>\n      <td>0.004083</td>\n      <td>-0.000147</td>\n      <td>-0.010709</td>\n      <td>-0.001954</td>\n      <td>0.002537</td>\n      <td>-0.004982</td>\n      <td>-0.026756</td>\n      <td>-0.008412</td>\n    </tr>\n    <tr>\n      <th>X</th>\n      <td>1.000000</td>\n      <td>1.000000</td>\n      <td>0.014914</td>\n      <td>-0.013672</td>\n      <td>0.005430</td>\n      <td>0.004083</td>\n      <td>-0.000147</td>\n      <td>-0.010709</td>\n      <td>-0.001954</td>\n      <td>0.002537</td>\n      <td>-0.004982</td>\n      <td>-0.026756</td>\n      <td>-0.008412</td>\n    </tr>\n    <tr>\n      <th>mat_dep</th>\n      <td>0.014914</td>\n      <td>0.014914</td>\n      <td>1.000000</td>\n      <td>0.022857</td>\n      <td>-0.037471</td>\n      <td>-0.076213</td>\n      <td>-0.399370</td>\n      <td>0.072405</td>\n      <td>0.042720</td>\n      <td>0.049515</td>\n      <td>0.044806</td>\n      <td>0.036001</td>\n      <td>0.042168</td>\n    </tr>\n    <tr>\n      <th>weight_16</th>\n      <td>-0.013672</td>\n      <td>-0.013672</td>\n      <td>0.022857</td>\n      <td>1.000000</td>\n      <td>0.506162</td>\n      <td>-0.010114</td>\n      <td>-0.023589</td>\n      <td>0.023191</td>\n      <td>-0.045174</td>\n      <td>-0.032918</td>\n      <td>-0.014801</td>\n      <td>-0.044244</td>\n      <td>-0.014034</td>\n    </tr>\n    <tr>\n      <th>height_16</th>\n      <td>0.005430</td>\n      <td>0.005430</td>\n      <td>-0.037471</td>\n      <td>0.506162</td>\n      <td>1.000000</td>\n      <td>0.108182</td>\n      <td>-0.006108</td>\n      <td>-0.000875</td>\n      <td>-0.058494</td>\n      <td>-0.042952</td>\n      <td>-0.016259</td>\n      <td>-0.049831</td>\n      <td>-0.034491</td>\n    </tr>\n    <tr>\n      <th>iq</th>\n      <td>0.004083</td>\n      <td>0.004083</td>\n      <td>-0.076213</td>\n      <td>-0.010114</td>\n      <td>0.108182</td>\n      <td>1.000000</td>\n      <td>0.064654</td>\n      <td>-0.075945</td>\n      <td>-0.002553</td>\n      <td>-0.011164</td>\n      <td>-0.003665</td>\n      <td>-0.024857</td>\n      <td>0.007587</td>\n    </tr>\n    <tr>\n      <th>agg_score</th>\n      <td>-0.000147</td>\n      <td>-0.000147</td>\n      <td>-0.399370</td>\n      <td>-0.023589</td>\n      <td>-0.006108</td>\n      <td>0.064654</td>\n      <td>1.000000</td>\n      <td>-0.040754</td>\n      <td>-0.015039</td>\n      <td>-0.026265</td>\n      <td>-0.062852</td>\n      <td>-0.036543</td>\n      <td>-0.040472</td>\n    </tr>\n    <tr>\n      <th>parity</th>\n      <td>-0.010709</td>\n      <td>-0.010709</td>\n      <td>0.072405</td>\n      <td>0.023191</td>\n      <td>-0.000875</td>\n      <td>-0.075945</td>\n      <td>-0.040754</td>\n      <td>1.000000</td>\n      <td>0.045679</td>\n      <td>0.036739</td>\n      <td>0.022520</td>\n      <td>0.039167</td>\n      <td>0.036022</td>\n    </tr>\n    <tr>\n      <th>secd_diag</th>\n      <td>-0.001954</td>\n      <td>-0.001954</td>\n      <td>0.042720</td>\n      <td>-0.045174</td>\n      <td>-0.058494</td>\n      <td>-0.002553</td>\n      <td>-0.015039</td>\n      <td>0.045679</td>\n      <td>1.000000</td>\n      <td>0.761506</td>\n      <td>0.517815</td>\n      <td>0.544721</td>\n      <td>0.617543</td>\n    </tr>\n    <tr>\n      <th>prim_diag</th>\n      <td>0.002537</td>\n      <td>0.002537</td>\n      <td>0.049515</td>\n      <td>-0.032918</td>\n      <td>-0.042952</td>\n      <td>-0.011164</td>\n      <td>-0.026265</td>\n      <td>0.036739</td>\n      <td>0.761506</td>\n      <td>1.000000</td>\n      <td>0.324851</td>\n      <td>0.632179</td>\n      <td>0.725219</td>\n    </tr>\n    <tr>\n      <th>panic_score</th>\n      <td>-0.004982</td>\n      <td>-0.004982</td>\n      <td>0.044806</td>\n      <td>-0.014801</td>\n      <td>-0.016259</td>\n      <td>-0.003665</td>\n      <td>-0.062852</td>\n      <td>0.022520</td>\n      <td>0.517815</td>\n      <td>0.324851</td>\n      <td>1.000000</td>\n      <td>0.200793</td>\n      <td>0.238634</td>\n    </tr>\n    <tr>\n      <th>dep_thoughts</th>\n      <td>-0.026756</td>\n      <td>-0.026756</td>\n      <td>0.036001</td>\n      <td>-0.044244</td>\n      <td>-0.049831</td>\n      <td>-0.024857</td>\n      <td>-0.036543</td>\n      <td>0.039167</td>\n      <td>0.544721</td>\n      <td>0.632179</td>\n      <td>0.200793</td>\n      <td>1.000000</td>\n      <td>0.610364</td>\n    </tr>\n    <tr>\n      <th>dep_score</th>\n      <td>-0.008412</td>\n      <td>-0.008412</td>\n      <td>0.042168</td>\n      <td>-0.014034</td>\n      <td>-0.034491</td>\n      <td>0.007587</td>\n      <td>-0.040472</td>\n      <td>0.036022</td>\n      <td>0.617543</td>\n      <td>0.725219</td>\n      <td>0.238634</td>\n      <td>0.610364</td>\n      <td>1.000000</td>\n    </tr>\n  </tbody>\n</table>\n</div>"
     },
     "metadata": {},
     "execution_count": 4
    }
   ],
   "source": [
    "df.corr()"
   ]
  },
  {
   "source": [
    "Look at the feature dtypes"
   ],
   "cell_type": "markdown",
   "metadata": {}
  },
  {
   "cell_type": "code",
   "execution_count": 9,
   "metadata": {},
   "outputs": [
    {
     "output_type": "stream",
     "name": "stdout",
     "text": [
      "int64\nint64\nobject\nobject\nfloat64\nobject\nfloat64\nfloat64\nfloat64\nobject\nobject\nobject\nobject\nobject\nobject\nobject\nobject\nobject\nobject\nobject\nobject\nobject\nobject\nobject\nobject\nobject\nobject\nobject\nobject\nobject\nobject\nobject\nobject\nobject\nobject\nobject\nobject\nobject\nobject\nobject\nobject\nobject\nobject\nobject\nobject\nobject\nfloat64\nobject\nobject\nobject\nobject\nobject\nobject\nobject\nfloat64\nobject\nobject\nobject\nobject\nobject\nobject\nobject\nobject\nobject\nobject\nobject\nobject\nobject\nobject\nobject\nobject\nfloat64\nfloat64\nfloat64\nfloat64\nfloat64\nobject\nobject\nobject\nobject\nobject\nobject\nobject\nobject\nobject\n"
     ]
    }
   ],
   "source": [
    "for dtype in df.dtypes:\n",
    "    print(dtype)"
   ]
  },
  {
   "source": [],
   "cell_type": "markdown",
   "metadata": {}
  },
  {
   "cell_type": "code",
   "execution_count": 25,
   "metadata": {},
   "outputs": [
    {
     "output_type": "stream",
     "name": "stdout",
     "text": [
      "flag: ['synthetic']\n\ncomp_bed_9: [nan 'No' 'Yes']\n\nmat_age: ['30' '26' '24' '22' '31' '36' '27' '21' '32' '< 16' '33' '25' '16' '37'\n '34' '35' '18' '29' '23' '20' '17' '28' '38' nan '40' '19' '39' '41'\n '>43' '42' '43']\n\ncomp_noint_bed_16: [nan 'Yes']\n\ncomp_int_bed_16: [nan 'Yes']\n\ntalk_phon_wend: ['Any at all' nan 'Not at all']\n\ntext_wend: ['Less than 1 hour' nan 'Not at all' '3 or more hours' '1-2 hours']\n\ntalk_mob_wend: ['Less than 1 hour' nan 'Not at all' '1 or more hours']\n\ncomp_wend: ['1-2 hours' nan 'Less than 1 hour' '3 or more hours' 'Not at all']\n\nmusi_wend: ['Not at all' nan 'Any at all']\n\nread_wend: ['Less than 1 hour' nan '1 or more hours' 'Not at all']\n\nwork_wend: ['3 or more hours' nan '1-2 hours' 'Less than 1 hour']\n\nalon_wend: ['1-2 hours' nan '3 or more hours' 'Less than 1 hour']\n\ndraw_wend: ['Not at all' nan 'Less than 1 hour' '1 or more hours']\n\nplay_wend: ['3 or more hours' nan 'Less than 3 hours']\n\ntv_wend: ['1-2 hours' nan '3 or more hours' 'Less than 1 hour' 'Not at all']\n\nout_win_wend: ['3 or more hours' nan 'Less than 1 hour' '1-2 hours']\n\nout_sum_wend: ['3 or more hours' nan 'Less than 3 hours']\n\ntran_wend: ['Less than 1 hour' nan '1 or more hours']\n\ntalk_phon_week: ['Not at all' nan 'Any at all']\n\ntext_week: ['Less than 1 hour' nan 'Not at all' '3 or more hours' '1-2 hours']\n\ntalk_mob_week: ['Less than 1 hour' nan 'Not at all' '1 or more hours']\n\ncomp_week: ['1-2 hours' nan '3 or more hours' 'Less than 1 hour' 'Not at all']\n\nmusi_week: ['Not at all' nan 'Any at all']\n\nread_week: ['Less than 1 hour' nan '1 or more hours' 'Not at all']\n\nwork_week: ['3 or more hours' nan '1-2 hours' 'Less than 1 hour']\n\nalon_week: ['1-2 hours' nan '3 or more hours' 'Less than 1 hour']\n\ndraw_week: ['Not at all' nan 'Less than 1 hour' '1 or more hours']\n\nplay_week: ['3 or more hours' nan 'Less than 3 hours']\n\ntv_week: ['1-2 hours' nan '3 or more hours' 'Less than 1 hour' 'Not at all']\n\nout_win_week: ['3 or more hours' nan 'Less than 1 hour' '1-2 hours']\n\nout_sum_week: ['3 or more hours' nan 'Less than 3 hours']\n\ntran_week: ['Less than 1 hour' nan '1 or more hours']\n\npat_pres_10: ['Yes' nan 'No']\n\npat_pres_8: ['Yes' nan 'No']\n\npat_pres: ['Yes' nan 'No']\n\nnum_home: ['4' nan '3' '5' '2' '6' '1' '9 or more' '7' '8']\n\nmat_anx_1: ['No' nan 'Yes']\n\nmat_anx_18m: ['No' nan 'Yes']\n\nmat_anx_8m: ['No' nan 'Yes']\n\nemot_cruel: ['No' nan 'Yes']\n\nphys_cruel: ['No' nan 'Yes']\n\nmat_anx_0m: ['No' nan 'Yes']\n\npat_ses: ['III (manual)' nan 'III (non-manual)' 'ii' 'i' 'iv' 'v' 'Armed forces']\n\nmat_ses: ['ii' nan 'iv' 'i' 'III (non-manual)' 'III (manual)' 'v' 'Armed forces']\n\npat_edu: ['A level' nan 'O level' 'Vocational' 'Degree' 'cse']\n\nmat_edu: ['A level' nan 'O level' 'Vocational' 'CSE/None' 'Degree']\n\ndep_band_15: ['~0.5%' nan '<0.1%' '~15%' '~50%' '>70%']\n\ndep_band_13: ['~0.5%' nan '<0.1%' '~15%' '~50%' '>70%']\n\ndep_band_10: ['~0.5%' nan '<0.1%' '~15%' '~50%' '>70%']\n\ndep_band_07: ['~0.5%' nan '<0.1%' '~50%' '~15%']\n\nanx_band_15: ['~0.5%' nan '~3%' '~15%' '~50%' '<0.1%']\n\nanx_band_13: ['~0.5%' nan '~15%' '~3%' '>70%' '<0.1%' '~50%']\n\nanx_band_10: ['~3%' nan '~0.5%' '~15%' '>70%' '~50%' '<0.1%']\n\nanx_band_07: ['~3%' nan '~0.5%' '~15%' '~50%' '>70%']\n\nexercise: ['5 or more times a week' nan '1-4 times a week' '1-3 times a month'\n 'Never' 'Less than once a month']\n\nchild_bull: ['No' nan 'Yes']\n\nphone_14_wend: [nan 'Not at all' '< 1 hour' '1 or more hours']\n\nphone_14_week: [nan 'Not at all' '1 or more hours' '< 1 hour']\n\nmusi_13: [nan 'No' 'Yes']\n\ntv_bed_9: [nan 'No' 'Yes']\n\nown_mob: [nan 'Yes' 'No']\n\nhas_dep_diag: [' No ICD-10 diagnosis of depression' nan\n 'Yes ICD-10 diagnosis of depression']\n\ncomp_house: ['Yes' nan]\n\ntv_bed_16: ['Yes' nan]\n\ncreat_14: ['often' nan 'sometimes']\n\ncomp_games: ['No' nan 'Yes']\n\nfam_tv_eve: ['Yes, Some Days' nan 'Yes, Every Day' 'Other']\n\nfam_tv_aft: ['Other' nan 'Yes, Every Day' 'Yes, Some Days']\n\nfam_tv_mor: ['Yes, Every Day' nan 'Other' 'Yes, Some Days']\n\nsex: ['Female' 'Male']\n\nbirth_order: ['A' 'B']\n\n"
     ]
    }
   ],
   "source": [
    "for col in df:\n",
    "    if df[col].dtype == \"object\":\n",
    "        print(f\"{col}: {df[col].unique()}\\n\")"
   ]
  },
  {
   "cell_type": "code",
   "execution_count": 26,
   "metadata": {},
   "outputs": [
    {
     "output_type": "execute_result",
     "data": {
      "text/plain": [
       "            flag comp_bed_9 mat_age comp_noint_bed_16 comp_int_bed_16  \\\n",
       "0      synthetic        NaN      30               NaN             NaN   \n",
       "1      synthetic        NaN      26               NaN             NaN   \n",
       "2      synthetic        NaN      24               NaN             NaN   \n",
       "3      synthetic         No      22               NaN             NaN   \n",
       "4      synthetic         No      31               Yes             NaN   \n",
       "...          ...        ...     ...               ...             ...   \n",
       "13729  synthetic        NaN      27               NaN             NaN   \n",
       "13730  synthetic         No      29               NaN             NaN   \n",
       "13731  synthetic        NaN      37               NaN             NaN   \n",
       "13732  synthetic         No      30               NaN             NaN   \n",
       "13733  synthetic         No      26               NaN             NaN   \n",
       "\n",
       "      talk_phon_wend         text_wend     talk_mob_wend         comp_wend  \\\n",
       "0         Any at all  Less than 1 hour  Less than 1 hour         1-2 hours   \n",
       "1                NaN               NaN               NaN               NaN   \n",
       "2                NaN               NaN               NaN               NaN   \n",
       "3                NaN               NaN               NaN               NaN   \n",
       "4         Not at all        Not at all        Not at all  Less than 1 hour   \n",
       "...              ...               ...               ...               ...   \n",
       "13729            NaN               NaN               NaN               NaN   \n",
       "13730     Not at all  Less than 1 hour  Less than 1 hour         1-2 hours   \n",
       "13731     Any at all         1-2 hours   1 or more hours         1-2 hours   \n",
       "13732     Any at all         1-2 hours        Not at all         1-2 hours   \n",
       "13733            NaN               NaN               NaN               NaN   \n",
       "\n",
       "        musi_wend  ...                        has_dep_diag comp_house  \\\n",
       "0      Not at all  ...   No ICD-10 diagnosis of depression        Yes   \n",
       "1             NaN  ...                                 NaN        NaN   \n",
       "2             NaN  ...                                 NaN        NaN   \n",
       "3             NaN  ...                                 NaN        NaN   \n",
       "4      Not at all  ...                                 NaN        NaN   \n",
       "...           ...  ...                                 ...        ...   \n",
       "13729         NaN  ...                                 NaN        NaN   \n",
       "13730  Any at all  ...                                 NaN        NaN   \n",
       "13731  Not at all  ...                                 NaN        NaN   \n",
       "13732  Any at all  ...   No ICD-10 diagnosis of depression        Yes   \n",
       "13733         NaN  ...                                 NaN        NaN   \n",
       "\n",
       "      tv_bed_16   creat_14 comp_games      fam_tv_eve      fam_tv_aft  \\\n",
       "0           Yes      often         No  Yes, Some Days           Other   \n",
       "1           NaN        NaN        NaN             NaN             NaN   \n",
       "2           NaN        NaN        NaN  Yes, Some Days  Yes, Every Day   \n",
       "3           NaN        NaN         No             NaN             NaN   \n",
       "4           NaN      often         No  Yes, Some Days  Yes, Every Day   \n",
       "...         ...        ...        ...             ...             ...   \n",
       "13729       NaN        NaN        NaN  Yes, Every Day  Yes, Every Day   \n",
       "13730       NaN        NaN         No  Yes, Every Day           Other   \n",
       "13731       NaN      often         No           Other           Other   \n",
       "13732       NaN  sometimes         No  Yes, Some Days           Other   \n",
       "13733       NaN  sometimes        NaN  Yes, Some Days           Other   \n",
       "\n",
       "           fam_tv_mor     sex birth_order  \n",
       "0      Yes, Every Day  Female           A  \n",
       "1                 NaN  Female           B  \n",
       "2               Other    Male           A  \n",
       "3                 NaN    Male           A  \n",
       "4      Yes, Every Day  Female           A  \n",
       "...               ...     ...         ...  \n",
       "13729  Yes, Every Day  Female           A  \n",
       "13730           Other    Male           A  \n",
       "13731           Other    Male           A  \n",
       "13732  Yes, Every Day    Male           A  \n",
       "13733  Yes, Every Day    Male           A  \n",
       "\n",
       "[13734 rows x 72 columns]"
      ],
      "text/html": "<div>\n<style scoped>\n    .dataframe tbody tr th:only-of-type {\n        vertical-align: middle;\n    }\n\n    .dataframe tbody tr th {\n        vertical-align: top;\n    }\n\n    .dataframe thead th {\n        text-align: right;\n    }\n</style>\n<table border=\"1\" class=\"dataframe\">\n  <thead>\n    <tr style=\"text-align: right;\">\n      <th></th>\n      <th>flag</th>\n      <th>comp_bed_9</th>\n      <th>mat_age</th>\n      <th>comp_noint_bed_16</th>\n      <th>comp_int_bed_16</th>\n      <th>talk_phon_wend</th>\n      <th>text_wend</th>\n      <th>talk_mob_wend</th>\n      <th>comp_wend</th>\n      <th>musi_wend</th>\n      <th>...</th>\n      <th>has_dep_diag</th>\n      <th>comp_house</th>\n      <th>tv_bed_16</th>\n      <th>creat_14</th>\n      <th>comp_games</th>\n      <th>fam_tv_eve</th>\n      <th>fam_tv_aft</th>\n      <th>fam_tv_mor</th>\n      <th>sex</th>\n      <th>birth_order</th>\n    </tr>\n  </thead>\n  <tbody>\n    <tr>\n      <th>0</th>\n      <td>synthetic</td>\n      <td>NaN</td>\n      <td>30</td>\n      <td>NaN</td>\n      <td>NaN</td>\n      <td>Any at all</td>\n      <td>Less than 1 hour</td>\n      <td>Less than 1 hour</td>\n      <td>1-2 hours</td>\n      <td>Not at all</td>\n      <td>...</td>\n      <td>No ICD-10 diagnosis of depression</td>\n      <td>Yes</td>\n      <td>Yes</td>\n      <td>often</td>\n      <td>No</td>\n      <td>Yes, Some Days</td>\n      <td>Other</td>\n      <td>Yes, Every Day</td>\n      <td>Female</td>\n      <td>A</td>\n    </tr>\n    <tr>\n      <th>1</th>\n      <td>synthetic</td>\n      <td>NaN</td>\n      <td>26</td>\n      <td>NaN</td>\n      <td>NaN</td>\n      <td>NaN</td>\n      <td>NaN</td>\n      <td>NaN</td>\n      <td>NaN</td>\n      <td>NaN</td>\n      <td>...</td>\n      <td>NaN</td>\n      <td>NaN</td>\n      <td>NaN</td>\n      <td>NaN</td>\n      <td>NaN</td>\n      <td>NaN</td>\n      <td>NaN</td>\n      <td>NaN</td>\n      <td>Female</td>\n      <td>B</td>\n    </tr>\n    <tr>\n      <th>2</th>\n      <td>synthetic</td>\n      <td>NaN</td>\n      <td>24</td>\n      <td>NaN</td>\n      <td>NaN</td>\n      <td>NaN</td>\n      <td>NaN</td>\n      <td>NaN</td>\n      <td>NaN</td>\n      <td>NaN</td>\n      <td>...</td>\n      <td>NaN</td>\n      <td>NaN</td>\n      <td>NaN</td>\n      <td>NaN</td>\n      <td>NaN</td>\n      <td>Yes, Some Days</td>\n      <td>Yes, Every Day</td>\n      <td>Other</td>\n      <td>Male</td>\n      <td>A</td>\n    </tr>\n    <tr>\n      <th>3</th>\n      <td>synthetic</td>\n      <td>No</td>\n      <td>22</td>\n      <td>NaN</td>\n      <td>NaN</td>\n      <td>NaN</td>\n      <td>NaN</td>\n      <td>NaN</td>\n      <td>NaN</td>\n      <td>NaN</td>\n      <td>...</td>\n      <td>NaN</td>\n      <td>NaN</td>\n      <td>NaN</td>\n      <td>NaN</td>\n      <td>No</td>\n      <td>NaN</td>\n      <td>NaN</td>\n      <td>NaN</td>\n      <td>Male</td>\n      <td>A</td>\n    </tr>\n    <tr>\n      <th>4</th>\n      <td>synthetic</td>\n      <td>No</td>\n      <td>31</td>\n      <td>Yes</td>\n      <td>NaN</td>\n      <td>Not at all</td>\n      <td>Not at all</td>\n      <td>Not at all</td>\n      <td>Less than 1 hour</td>\n      <td>Not at all</td>\n      <td>...</td>\n      <td>NaN</td>\n      <td>NaN</td>\n      <td>NaN</td>\n      <td>often</td>\n      <td>No</td>\n      <td>Yes, Some Days</td>\n      <td>Yes, Every Day</td>\n      <td>Yes, Every Day</td>\n      <td>Female</td>\n      <td>A</td>\n    </tr>\n    <tr>\n      <th>...</th>\n      <td>...</td>\n      <td>...</td>\n      <td>...</td>\n      <td>...</td>\n      <td>...</td>\n      <td>...</td>\n      <td>...</td>\n      <td>...</td>\n      <td>...</td>\n      <td>...</td>\n      <td>...</td>\n      <td>...</td>\n      <td>...</td>\n      <td>...</td>\n      <td>...</td>\n      <td>...</td>\n      <td>...</td>\n      <td>...</td>\n      <td>...</td>\n      <td>...</td>\n      <td>...</td>\n    </tr>\n    <tr>\n      <th>13729</th>\n      <td>synthetic</td>\n      <td>NaN</td>\n      <td>27</td>\n      <td>NaN</td>\n      <td>NaN</td>\n      <td>NaN</td>\n      <td>NaN</td>\n      <td>NaN</td>\n      <td>NaN</td>\n      <td>NaN</td>\n      <td>...</td>\n      <td>NaN</td>\n      <td>NaN</td>\n      <td>NaN</td>\n      <td>NaN</td>\n      <td>NaN</td>\n      <td>Yes, Every Day</td>\n      <td>Yes, Every Day</td>\n      <td>Yes, Every Day</td>\n      <td>Female</td>\n      <td>A</td>\n    </tr>\n    <tr>\n      <th>13730</th>\n      <td>synthetic</td>\n      <td>No</td>\n      <td>29</td>\n      <td>NaN</td>\n      <td>NaN</td>\n      <td>Not at all</td>\n      <td>Less than 1 hour</td>\n      <td>Less than 1 hour</td>\n      <td>1-2 hours</td>\n      <td>Any at all</td>\n      <td>...</td>\n      <td>NaN</td>\n      <td>NaN</td>\n      <td>NaN</td>\n      <td>NaN</td>\n      <td>No</td>\n      <td>Yes, Every Day</td>\n      <td>Other</td>\n      <td>Other</td>\n      <td>Male</td>\n      <td>A</td>\n    </tr>\n    <tr>\n      <th>13731</th>\n      <td>synthetic</td>\n      <td>NaN</td>\n      <td>37</td>\n      <td>NaN</td>\n      <td>NaN</td>\n      <td>Any at all</td>\n      <td>1-2 hours</td>\n      <td>1 or more hours</td>\n      <td>1-2 hours</td>\n      <td>Not at all</td>\n      <td>...</td>\n      <td>NaN</td>\n      <td>NaN</td>\n      <td>NaN</td>\n      <td>often</td>\n      <td>No</td>\n      <td>Other</td>\n      <td>Other</td>\n      <td>Other</td>\n      <td>Male</td>\n      <td>A</td>\n    </tr>\n    <tr>\n      <th>13732</th>\n      <td>synthetic</td>\n      <td>No</td>\n      <td>30</td>\n      <td>NaN</td>\n      <td>NaN</td>\n      <td>Any at all</td>\n      <td>1-2 hours</td>\n      <td>Not at all</td>\n      <td>1-2 hours</td>\n      <td>Any at all</td>\n      <td>...</td>\n      <td>No ICD-10 diagnosis of depression</td>\n      <td>Yes</td>\n      <td>NaN</td>\n      <td>sometimes</td>\n      <td>No</td>\n      <td>Yes, Some Days</td>\n      <td>Other</td>\n      <td>Yes, Every Day</td>\n      <td>Male</td>\n      <td>A</td>\n    </tr>\n    <tr>\n      <th>13733</th>\n      <td>synthetic</td>\n      <td>No</td>\n      <td>26</td>\n      <td>NaN</td>\n      <td>NaN</td>\n      <td>NaN</td>\n      <td>NaN</td>\n      <td>NaN</td>\n      <td>NaN</td>\n      <td>NaN</td>\n      <td>...</td>\n      <td>NaN</td>\n      <td>NaN</td>\n      <td>NaN</td>\n      <td>sometimes</td>\n      <td>NaN</td>\n      <td>Yes, Some Days</td>\n      <td>Other</td>\n      <td>Yes, Every Day</td>\n      <td>Male</td>\n      <td>A</td>\n    </tr>\n  </tbody>\n</table>\n<p>13734 rows × 72 columns</p>\n</div>"
     },
     "metadata": {},
     "execution_count": 26
    }
   ],
   "source": [
    "obj_df = df.select_dtypes(include=['object']).copy()\n",
    "obj_df"
   ]
  },
  {
   "cell_type": "code",
   "execution_count": null,
   "metadata": {},
   "outputs": [],
   "source": []
  }
 ]
}