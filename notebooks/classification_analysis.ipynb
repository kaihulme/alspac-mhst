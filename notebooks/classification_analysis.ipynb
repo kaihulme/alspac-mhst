{
 "metadata": {
  "language_info": {
   "codemirror_mode": {
    "name": "ipython",
    "version": 3
   },
   "file_extension": ".py",
   "mimetype": "text/x-python",
   "name": "python",
   "nbconvert_exporter": "python",
   "pygments_lexer": "ipython3",
   "version": "3.8.5"
  },
  "orig_nbformat": 2,
  "kernelspec": {
   "name": "python3",
   "display_name": "Python 3.8.5 64-bit",
   "metadata": {
    "interpreter": {
     "hash": "ff527006388d7c8d536bbb807a7192f62d1ecee01b72df942c8fe08736fc1859"
    }
   }
  }
 },
 "nbformat": 4,
 "nbformat_minor": 2,
 "cells": [
  {
   "source": [
    "# Classification Analysis"
   ],
   "cell_type": "markdown",
   "metadata": {}
  },
  {
   "cell_type": "code",
   "execution_count": 134,
   "metadata": {},
   "outputs": [],
   "source": [
    "import os\n",
    "import numpy as np\n",
    "import pandas as pd\n",
    "import seaborn as sns\n",
    "import matplotlib.pyplot as plt\n",
    "\n",
    "from sklearn.model_selection import train_test_split, RandomizedSearchCV, GridSearchCV\n",
    "from sklearn.metrics import accuracy_score, precision_score, recall_score, make_scorer\n",
    "from xgboost import XGBClassifier\n",
    "\n",
    "def fb_score(y_true, y_pred, beta):\n",
    "    precision = precision_score(y_true, y_pred)\n",
    "    recall = recall_score(y_true, y_pred)\n",
    "    return ((1 + beta**2) * precision * recall) / ((beta**2) * precision + recall)\n",
    "\n",
    "def f1_func(y_true, y_pred):\n",
    "    precision = precision_score(y_true, y_pred)\n",
    "    recall = recall_score(y_true, y_pred)\n",
    "    return (2 * precision * recall) / (precision + recall)\n",
    "\n",
    "def f2_func(y_true, y_pred):\n",
    "    precision = precision_score(y_true, y_pred)\n",
    "    recall = recall_score(y_true, y_pred)\n",
    "    return (5 * precision * recall) / (4 * precision + recall)\n",
    "\n",
    "def classification_results(y_true, y_pred, verbose=0):\n",
    "    accuracy = accuracy_score(y_true, y_pred)\n",
    "    precision = precision_score(y_true, y_pred)\n",
    "    recall = recall_score(y_true, y_pred)\n",
    "    f1 = f1_func(y_true, y_pred)\n",
    "    f2 = f2_func(y_true, y_pred)\n",
    "    results = [\n",
    "        (\"accuracy\", accuracy), \n",
    "        (\"precision\", precision),\n",
    "        (\"recall\", recall),\n",
    "        (\"f1\", f1),\n",
    "        (\"f2\", f2),\n",
    "    ]\n",
    "    if verbose:\n",
    "        print(\"\\nCLASSIFICATION METRICS:\\n\")\n",
    "        for (metric, score) in results:\n",
    "            print(f\"{metric} = {score:.2f}\")\n",
    "        print(\"\\n\")\n",
    "    return results\n",
    "\n",
    "f1_score = make_scorer(f1_func)\n",
    "f2_score = make_scorer(f2_func)\n",
    "\n",
    "base_dir = os.path.join(os.getcwd(), os.pardir)"
   ]
  },
  {
   "source": [
    "Get the data."
   ],
   "cell_type": "markdown",
   "metadata": {}
  },
  {
   "cell_type": "code",
   "execution_count": 318,
   "metadata": {},
   "outputs": [],
   "source": [
    "train_path = os.path.join(base_dir, \"data/classification/train.csv\")\n",
    "test_path = os.path.join(base_dir, \"data/classification/test.csv\")\n",
    "train_noimpute_path = os.path.join(base_dir, \"data/classification/train_noimpute.csv\")\n",
    "test_noimpute_path = os.path.join(base_dir, \"data/classification/test_noimpute.csv\")\n",
    "\n",
    "train_df = pd.read_csv(train_path, index_col=\"X\")\n",
    "test_df = pd.read_csv(test_path, index_col=\"X\")\n",
    "train_noimpute_df = pd.read_csv(train_noimpute_path, index_col=\"X\")\n",
    "test_noimpute_df = pd.read_csv(test_noimpute_path, index_col=\"X\")\n",
    "\n",
    "target_feature = \"has_dep_diag\"\n",
    "\n",
    "X_train = train_df.drop(target_feature, axis=1)\n",
    "X_test = test_df.drop(target_feature, axis=1)\n",
    "y_train = train_df[target_feature]\n",
    "y_test = test_df[target_feature]"
   ]
  },
  {
   "source": [
    "Our target feature for classification is `has_dep_diag`. For reliable results we "
   ],
   "cell_type": "markdown",
   "metadata": {}
  },
  {
   "source": [
    "## Feature sets\n",
    "\n",
    "Because a lot of the features in the dataset are highly correlated with eachother it makes sense to create some feature-sets so we can make analysis with or without certain groups of features.\n",
    "\n",
    "As we are looking to see if increased screen time leads to poorer mental health, it does not make sense to make clasifications of `has_dep_diag` from all the features as this includes features such as `dep_score`, `dep_band`, `dep_thoughts` etc. which will contribute to the classification far more than screen time related features such as `comp_house` and `comp_games`.\n",
    "\n",
    "We shall create feature sets for:\n",
    "\n",
    "- __all__ features\n",
    "- __non-medical__ features (depression, anxiety etc.)\n",
    "- __only screen time__ features"
   ],
   "cell_type": "markdown",
   "metadata": {}
  },
  {
   "cell_type": "code",
   "execution_count": 321,
   "metadata": {},
   "outputs": [],
   "source": [
    "all_features = X_train.columns\n",
    "\n",
    "medical_features = [\n",
    "    \"mat_dep\",\"mat_anx_1\", \"mat_anx_18m\", \n",
    "    \"mat_anx_8m\", \"agg_score\", \"emot_cruel\", \n",
    "    \"phys_cruel\", \"mat_anx_0m\", \"dep_band_15\", \n",
    "    \"dep_band_13\", \"dep_band_10\", \"dep_band_07\", \n",
    "    \"anx_band_15\", \"anx_band_13\", \"anx_band_10\", \n",
    "    \"anx_band_07\", \"secd_diag\",\"prim_diag\", \n",
    "    \"panic_score\", \"dep_thoughts\", \"dep_score\", \n",
    "]\n",
    "\n",
    "# [feature for feature in all_features if not feature in medical_features]\n",
    "non_medical_features = [\n",
    "    \"comp_bed_9\", \"mat_age\", \"weight_16\", \"height_16\", \"iq\",\n",
    "    \"comp_noint_bed_16\", \"comp_int_bed_16\", \"talk_phon_wend\", \n",
    "    \"text_wend\", \"talk_mob_wend\", \"comp_wend\", \"musi_wend\", \n",
    "    \"read_wend\", \"work_wend\", \"alon_wend\", \"draw_wend\", \n",
    "    \"play_wend\", \"tv_wend\", \"out_win_wend\", \"out_sum_wend\", \n",
    "    \"tran_wend\", \"talk_phon_week\", \"text_week\", \"talk_mob_week\", \n",
    "    \"comp_week\", \"musi_week\", \"read_week\", \"work_week\", \n",
    "    \"alon_week\", \"draw_week\", \"play_week\", \"tv_week\", \n",
    "    \"out_win_week\", \"out_sum_week\", \"tran_week\", \"pat_pres_10\",\n",
    "    \"pat_pres_8\", \"pat_pres\", \"num_home\", \"pat_ses\", \"mat_ses\", \n",
    "    \"pat_edu\", \"mat_edu\", \"parity\", \"exercise\", \"child_bull\", \n",
    "    \"phone_14_wend\", \"phone_14_week\", \"musi_13\", \"tv_bed_9\", \n",
    "    \"own_mob\", \"comp_house\", \"tv_bed_16\", \"creat_14\", \"comp_games\", \n",
    "    \"fam_tv_eve\", \"fam_tv_aft\", \"fam_tv_mor\", \"sex\", \"birth_order\"\n",
    "]\n",
    "\n",
    "screen_time_features = [\n",
    "    \"comp_bed_9\", \"comp_noint_bed_16\", \n",
    "    \"comp_int_bed_16\", \"comp_wend\", \"tv_wend\",\n",
    "    \"comp_week\", \"tv_week\", \"tv_bed_9\", \n",
    "    \"comp_house\", \"tv_bed_16\", \"comp_games\", \n",
    "    \"fam_tv_eve\", \"fam_tv_aft\", \"fam_tv_mor\",\n",
    "]\n",
    "\n",
    "fset_cols = [all_features, non_medical_features, screen_time_features]"
   ]
  },
  {
   "source": [
    "`note: we consider 'screen time' to be features relating to either a computer or TV.`"
   ],
   "cell_type": "markdown",
   "metadata": {}
  },
  {
   "source": [
    "We can now create the reduced training and testing sets."
   ],
   "cell_type": "markdown",
   "metadata": {}
  },
  {
   "cell_type": "code",
   "execution_count": 322,
   "metadata": {},
   "outputs": [],
   "source": [
    "X_train_all = X_train[all_features]\n",
    "X_test_all = X_test[all_features]\n",
    "\n",
    "X_train_non_medical = X_train[non_medical_features]\n",
    "X_test_non_medical = X_test[non_medical_features]\n",
    "\n",
    "X_train_screen_time = X_train[screen_time_features]\n",
    "X_test_screen_time = X_test[screen_time_features]\n",
    "\n",
    "fsets = [\n",
    "    (\"all features\", X_train_all, X_test_all),\n",
    "    (\"non medical features\", X_train_non_medical, X_test_non_medical),\n",
    "    (\"screen time features\", X_train_screen_time, X_test_screen_time),\n",
    "]"
   ]
  },
  {
   "source": [
    "## Class balance\n",
    "\n",
    "We wish to perform classification on the feature `has_dep_diag`. Our evaluation metric of choice will depend on the balance of positive and negative samples. Let's look at the count of each."
   ],
   "cell_type": "markdown",
   "metadata": {}
  },
  {
   "cell_type": "code",
   "execution_count": 236,
   "metadata": {},
   "outputs": [
    {
     "output_type": "execute_result",
     "data": {
      "text/plain": [
       "<AxesSubplot:xlabel='class', ylabel='count'>"
      ]
     },
     "metadata": {},
     "execution_count": 236
    },
    {
     "output_type": "display_data",
     "data": {
      "text/plain": "<Figure size 432x288 with 1 Axes>",
      "image/svg+xml": "<?xml version=\"1.0\" encoding=\"utf-8\" standalone=\"no\"?>\n<!DOCTYPE svg PUBLIC \"-//W3C//DTD SVG 1.1//EN\"\n  \"http://www.w3.org/Graphics/SVG/1.1/DTD/svg11.dtd\">\n<!-- Created with matplotlib (https://matplotlib.org/) -->\n<svg height=\"262.19625pt\" version=\"1.1\" viewBox=\"0 0 395.328125 262.19625\" width=\"395.328125pt\" xmlns=\"http://www.w3.org/2000/svg\" xmlns:xlink=\"http://www.w3.org/1999/xlink\">\n <metadata>\n  <rdf:RDF xmlns:cc=\"http://creativecommons.org/ns#\" xmlns:dc=\"http://purl.org/dc/elements/1.1/\" xmlns:rdf=\"http://www.w3.org/1999/02/22-rdf-syntax-ns#\">\n   <cc:Work>\n    <dc:type rdf:resource=\"http://purl.org/dc/dcmitype/StillImage\"/>\n    <dc:date>2021-05-11T22:47:04.206402</dc:date>\n    <dc:format>image/svg+xml</dc:format>\n    <dc:creator>\n     <cc:Agent>\n      <dc:title>Matplotlib v3.3.2, https://matplotlib.org/</dc:title>\n     </cc:Agent>\n    </dc:creator>\n   </cc:Work>\n  </rdf:RDF>\n </metadata>\n <defs>\n  <style type=\"text/css\">*{stroke-linecap:butt;stroke-linejoin:round;}</style>\n </defs>\n <g id=\"figure_1\">\n  <g id=\"patch_1\">\n   <path d=\"M 0 262.19625 \nL 395.328125 262.19625 \nL 395.328125 0 \nL 0 0 \nz\n\" style=\"fill:none;\"/>\n  </g>\n  <g id=\"axes_1\">\n   <g id=\"patch_2\">\n    <path d=\"M 53.328125 224.64 \nL 388.128125 224.64 \nL 388.128125 7.2 \nL 53.328125 7.2 \nz\n\" style=\"fill:#ffffff;\"/>\n   </g>\n   <g id=\"patch_3\">\n    <path clip-path=\"url(#pc3ab31199d)\" d=\"M 70.068125 224.64 \nL 203.988125 224.64 \nL 203.988125 17.554286 \nL 70.068125 17.554286 \nz\n\" style=\"fill:#b3cede;\"/>\n   </g>\n   <g id=\"patch_4\">\n    <path clip-path=\"url(#pc3ab31199d)\" d=\"M 237.468125 224.64 \nL 371.388125 224.64 \nL 371.388125 205.083393 \nL 237.468125 205.083393 \nz\n\" style=\"fill:#4884af;\"/>\n   </g>\n   <g id=\"matplotlib.axis_1\">\n    <g id=\"xtick_1\">\n     <g id=\"line2d_1\">\n      <defs>\n       <path d=\"M 0 0 \nL 0 3.5 \n\" id=\"m4828f3fc6e\" style=\"stroke:#000000;stroke-width:0.8;\"/>\n      </defs>\n      <g>\n       <use style=\"stroke:#000000;stroke-width:0.8;\" x=\"137.028125\" xlink:href=\"#m4828f3fc6e\" y=\"224.64\"/>\n      </g>\n     </g>\n     <g id=\"text_1\">\n      <!-- 0 -->\n      <g transform=\"translate(133.846875 239.238438)scale(0.1 -0.1)\">\n       <defs>\n        <path d=\"M 31.78125 66.40625 \nQ 24.171875 66.40625 20.328125 58.90625 \nQ 16.5 51.421875 16.5 36.375 \nQ 16.5 21.390625 20.328125 13.890625 \nQ 24.171875 6.390625 31.78125 6.390625 \nQ 39.453125 6.390625 43.28125 13.890625 \nQ 47.125 21.390625 47.125 36.375 \nQ 47.125 51.421875 43.28125 58.90625 \nQ 39.453125 66.40625 31.78125 66.40625 \nz\nM 31.78125 74.21875 \nQ 44.046875 74.21875 50.515625 64.515625 \nQ 56.984375 54.828125 56.984375 36.375 \nQ 56.984375 17.96875 50.515625 8.265625 \nQ 44.046875 -1.421875 31.78125 -1.421875 \nQ 19.53125 -1.421875 13.0625 8.265625 \nQ 6.59375 17.96875 6.59375 36.375 \nQ 6.59375 54.828125 13.0625 64.515625 \nQ 19.53125 74.21875 31.78125 74.21875 \nz\n\" id=\"DejaVuSans-48\"/>\n       </defs>\n       <use xlink:href=\"#DejaVuSans-48\"/>\n      </g>\n     </g>\n    </g>\n    <g id=\"xtick_2\">\n     <g id=\"line2d_2\">\n      <g>\n       <use style=\"stroke:#000000;stroke-width:0.8;\" x=\"304.428125\" xlink:href=\"#m4828f3fc6e\" y=\"224.64\"/>\n      </g>\n     </g>\n     <g id=\"text_2\">\n      <!-- 1 -->\n      <g transform=\"translate(301.246875 239.238438)scale(0.1 -0.1)\">\n       <defs>\n        <path d=\"M 12.40625 8.296875 \nL 28.515625 8.296875 \nL 28.515625 63.921875 \nL 10.984375 60.40625 \nL 10.984375 69.390625 \nL 28.421875 72.90625 \nL 38.28125 72.90625 \nL 38.28125 8.296875 \nL 54.390625 8.296875 \nL 54.390625 0 \nL 12.40625 0 \nz\n\" id=\"DejaVuSans-49\"/>\n       </defs>\n       <use xlink:href=\"#DejaVuSans-49\"/>\n      </g>\n     </g>\n    </g>\n    <g id=\"text_3\">\n     <!-- class -->\n     <g transform=\"translate(208.316406 252.916563)scale(0.1 -0.1)\">\n      <defs>\n       <path d=\"M 48.78125 52.59375 \nL 48.78125 44.1875 \nQ 44.96875 46.296875 41.140625 47.34375 \nQ 37.3125 48.390625 33.40625 48.390625 \nQ 24.65625 48.390625 19.8125 42.84375 \nQ 14.984375 37.3125 14.984375 27.296875 \nQ 14.984375 17.28125 19.8125 11.734375 \nQ 24.65625 6.203125 33.40625 6.203125 \nQ 37.3125 6.203125 41.140625 7.25 \nQ 44.96875 8.296875 48.78125 10.40625 \nL 48.78125 2.09375 \nQ 45.015625 0.34375 40.984375 -0.53125 \nQ 36.96875 -1.421875 32.421875 -1.421875 \nQ 20.0625 -1.421875 12.78125 6.34375 \nQ 5.515625 14.109375 5.515625 27.296875 \nQ 5.515625 40.671875 12.859375 48.328125 \nQ 20.21875 56 33.015625 56 \nQ 37.15625 56 41.109375 55.140625 \nQ 45.0625 54.296875 48.78125 52.59375 \nz\n\" id=\"DejaVuSans-99\"/>\n       <path d=\"M 9.421875 75.984375 \nL 18.40625 75.984375 \nL 18.40625 0 \nL 9.421875 0 \nz\n\" id=\"DejaVuSans-108\"/>\n       <path d=\"M 34.28125 27.484375 \nQ 23.390625 27.484375 19.1875 25 \nQ 14.984375 22.515625 14.984375 16.5 \nQ 14.984375 11.71875 18.140625 8.90625 \nQ 21.296875 6.109375 26.703125 6.109375 \nQ 34.1875 6.109375 38.703125 11.40625 \nQ 43.21875 16.703125 43.21875 25.484375 \nL 43.21875 27.484375 \nz\nM 52.203125 31.203125 \nL 52.203125 0 \nL 43.21875 0 \nL 43.21875 8.296875 \nQ 40.140625 3.328125 35.546875 0.953125 \nQ 30.953125 -1.421875 24.3125 -1.421875 \nQ 15.921875 -1.421875 10.953125 3.296875 \nQ 6 8.015625 6 15.921875 \nQ 6 25.140625 12.171875 29.828125 \nQ 18.359375 34.515625 30.609375 34.515625 \nL 43.21875 34.515625 \nL 43.21875 35.40625 \nQ 43.21875 41.609375 39.140625 45 \nQ 35.0625 48.390625 27.6875 48.390625 \nQ 23 48.390625 18.546875 47.265625 \nQ 14.109375 46.140625 10.015625 43.890625 \nL 10.015625 52.203125 \nQ 14.9375 54.109375 19.578125 55.046875 \nQ 24.21875 56 28.609375 56 \nQ 40.484375 56 46.34375 49.84375 \nQ 52.203125 43.703125 52.203125 31.203125 \nz\n\" id=\"DejaVuSans-97\"/>\n       <path d=\"M 44.28125 53.078125 \nL 44.28125 44.578125 \nQ 40.484375 46.53125 36.375 47.5 \nQ 32.28125 48.484375 27.875 48.484375 \nQ 21.1875 48.484375 17.84375 46.4375 \nQ 14.5 44.390625 14.5 40.28125 \nQ 14.5 37.15625 16.890625 35.375 \nQ 19.28125 33.59375 26.515625 31.984375 \nL 29.59375 31.296875 \nQ 39.15625 29.25 43.1875 25.515625 \nQ 47.21875 21.78125 47.21875 15.09375 \nQ 47.21875 7.46875 41.1875 3.015625 \nQ 35.15625 -1.421875 24.609375 -1.421875 \nQ 20.21875 -1.421875 15.453125 -0.5625 \nQ 10.6875 0.296875 5.421875 2 \nL 5.421875 11.28125 \nQ 10.40625 8.6875 15.234375 7.390625 \nQ 20.0625 6.109375 24.8125 6.109375 \nQ 31.15625 6.109375 34.5625 8.28125 \nQ 37.984375 10.453125 37.984375 14.40625 \nQ 37.984375 18.0625 35.515625 20.015625 \nQ 33.0625 21.96875 24.703125 23.78125 \nL 21.578125 24.515625 \nQ 13.234375 26.265625 9.515625 29.90625 \nQ 5.8125 33.546875 5.8125 39.890625 \nQ 5.8125 47.609375 11.28125 51.796875 \nQ 16.75 56 26.8125 56 \nQ 31.78125 56 36.171875 55.265625 \nQ 40.578125 54.546875 44.28125 53.078125 \nz\n\" id=\"DejaVuSans-115\"/>\n      </defs>\n      <use xlink:href=\"#DejaVuSans-99\"/>\n      <use x=\"54.980469\" xlink:href=\"#DejaVuSans-108\"/>\n      <use x=\"82.763672\" xlink:href=\"#DejaVuSans-97\"/>\n      <use x=\"144.042969\" xlink:href=\"#DejaVuSans-115\"/>\n      <use x=\"196.142578\" xlink:href=\"#DejaVuSans-115\"/>\n     </g>\n    </g>\n   </g>\n   <g id=\"matplotlib.axis_2\">\n    <g id=\"ytick_1\">\n     <g id=\"line2d_3\">\n      <defs>\n       <path d=\"M 0 0 \nL -3.5 0 \n\" id=\"maccea697e1\" style=\"stroke:#000000;stroke-width:0.8;\"/>\n      </defs>\n      <g>\n       <use style=\"stroke:#000000;stroke-width:0.8;\" x=\"53.328125\" xlink:href=\"#maccea697e1\" y=\"224.64\"/>\n      </g>\n     </g>\n     <g id=\"text_4\">\n      <!-- 0 -->\n      <g transform=\"translate(39.965625 228.439219)scale(0.1 -0.1)\">\n       <use xlink:href=\"#DejaVuSans-48\"/>\n      </g>\n     </g>\n    </g>\n    <g id=\"ytick_2\">\n     <g id=\"line2d_4\">\n      <g>\n       <use style=\"stroke:#000000;stroke-width:0.8;\" x=\"53.328125\" xlink:href=\"#maccea697e1\" y=\"191.152659\"/>\n      </g>\n     </g>\n     <g id=\"text_5\">\n      <!-- 500 -->\n      <g transform=\"translate(27.240625 194.951878)scale(0.1 -0.1)\">\n       <defs>\n        <path d=\"M 10.796875 72.90625 \nL 49.515625 72.90625 \nL 49.515625 64.59375 \nL 19.828125 64.59375 \nL 19.828125 46.734375 \nQ 21.96875 47.46875 24.109375 47.828125 \nQ 26.265625 48.1875 28.421875 48.1875 \nQ 40.625 48.1875 47.75 41.5 \nQ 54.890625 34.8125 54.890625 23.390625 \nQ 54.890625 11.625 47.5625 5.09375 \nQ 40.234375 -1.421875 26.90625 -1.421875 \nQ 22.3125 -1.421875 17.546875 -0.640625 \nQ 12.796875 0.140625 7.71875 1.703125 \nL 7.71875 11.625 \nQ 12.109375 9.234375 16.796875 8.0625 \nQ 21.484375 6.890625 26.703125 6.890625 \nQ 35.15625 6.890625 40.078125 11.328125 \nQ 45.015625 15.765625 45.015625 23.390625 \nQ 45.015625 31 40.078125 35.4375 \nQ 35.15625 39.890625 26.703125 39.890625 \nQ 22.75 39.890625 18.8125 39.015625 \nQ 14.890625 38.140625 10.796875 36.28125 \nz\n\" id=\"DejaVuSans-53\"/>\n       </defs>\n       <use xlink:href=\"#DejaVuSans-53\"/>\n       <use x=\"63.623047\" xlink:href=\"#DejaVuSans-48\"/>\n       <use x=\"127.246094\" xlink:href=\"#DejaVuSans-48\"/>\n      </g>\n     </g>\n    </g>\n    <g id=\"ytick_3\">\n     <g id=\"line2d_5\">\n      <g>\n       <use style=\"stroke:#000000;stroke-width:0.8;\" x=\"53.328125\" xlink:href=\"#maccea697e1\" y=\"157.665319\"/>\n      </g>\n     </g>\n     <g id=\"text_6\">\n      <!-- 1000 -->\n      <g transform=\"translate(20.878125 161.464538)scale(0.1 -0.1)\">\n       <use xlink:href=\"#DejaVuSans-49\"/>\n       <use x=\"63.623047\" xlink:href=\"#DejaVuSans-48\"/>\n       <use x=\"127.246094\" xlink:href=\"#DejaVuSans-48\"/>\n       <use x=\"190.869141\" xlink:href=\"#DejaVuSans-48\"/>\n      </g>\n     </g>\n    </g>\n    <g id=\"ytick_4\">\n     <g id=\"line2d_6\">\n      <g>\n       <use style=\"stroke:#000000;stroke-width:0.8;\" x=\"53.328125\" xlink:href=\"#maccea697e1\" y=\"124.177978\"/>\n      </g>\n     </g>\n     <g id=\"text_7\">\n      <!-- 1500 -->\n      <g transform=\"translate(20.878125 127.977197)scale(0.1 -0.1)\">\n       <use xlink:href=\"#DejaVuSans-49\"/>\n       <use x=\"63.623047\" xlink:href=\"#DejaVuSans-53\"/>\n       <use x=\"127.246094\" xlink:href=\"#DejaVuSans-48\"/>\n       <use x=\"190.869141\" xlink:href=\"#DejaVuSans-48\"/>\n      </g>\n     </g>\n    </g>\n    <g id=\"ytick_5\">\n     <g id=\"line2d_7\">\n      <g>\n       <use style=\"stroke:#000000;stroke-width:0.8;\" x=\"53.328125\" xlink:href=\"#maccea697e1\" y=\"90.690638\"/>\n      </g>\n     </g>\n     <g id=\"text_8\">\n      <!-- 2000 -->\n      <g transform=\"translate(20.878125 94.489856)scale(0.1 -0.1)\">\n       <defs>\n        <path d=\"M 19.1875 8.296875 \nL 53.609375 8.296875 \nL 53.609375 0 \nL 7.328125 0 \nL 7.328125 8.296875 \nQ 12.9375 14.109375 22.625 23.890625 \nQ 32.328125 33.6875 34.8125 36.53125 \nQ 39.546875 41.84375 41.421875 45.53125 \nQ 43.3125 49.21875 43.3125 52.78125 \nQ 43.3125 58.59375 39.234375 62.25 \nQ 35.15625 65.921875 28.609375 65.921875 \nQ 23.96875 65.921875 18.8125 64.3125 \nQ 13.671875 62.703125 7.8125 59.421875 \nL 7.8125 69.390625 \nQ 13.765625 71.78125 18.9375 73 \nQ 24.125 74.21875 28.421875 74.21875 \nQ 39.75 74.21875 46.484375 68.546875 \nQ 53.21875 62.890625 53.21875 53.421875 \nQ 53.21875 48.921875 51.53125 44.890625 \nQ 49.859375 40.875 45.40625 35.40625 \nQ 44.1875 33.984375 37.640625 27.21875 \nQ 31.109375 20.453125 19.1875 8.296875 \nz\n\" id=\"DejaVuSans-50\"/>\n       </defs>\n       <use xlink:href=\"#DejaVuSans-50\"/>\n       <use x=\"63.623047\" xlink:href=\"#DejaVuSans-48\"/>\n       <use x=\"127.246094\" xlink:href=\"#DejaVuSans-48\"/>\n       <use x=\"190.869141\" xlink:href=\"#DejaVuSans-48\"/>\n      </g>\n     </g>\n    </g>\n    <g id=\"ytick_6\">\n     <g id=\"line2d_8\">\n      <g>\n       <use style=\"stroke:#000000;stroke-width:0.8;\" x=\"53.328125\" xlink:href=\"#maccea697e1\" y=\"57.203297\"/>\n      </g>\n     </g>\n     <g id=\"text_9\">\n      <!-- 2500 -->\n      <g transform=\"translate(20.878125 61.002516)scale(0.1 -0.1)\">\n       <use xlink:href=\"#DejaVuSans-50\"/>\n       <use x=\"63.623047\" xlink:href=\"#DejaVuSans-53\"/>\n       <use x=\"127.246094\" xlink:href=\"#DejaVuSans-48\"/>\n       <use x=\"190.869141\" xlink:href=\"#DejaVuSans-48\"/>\n      </g>\n     </g>\n    </g>\n    <g id=\"ytick_7\">\n     <g id=\"line2d_9\">\n      <g>\n       <use style=\"stroke:#000000;stroke-width:0.8;\" x=\"53.328125\" xlink:href=\"#maccea697e1\" y=\"23.715956\"/>\n      </g>\n     </g>\n     <g id=\"text_10\">\n      <!-- 3000 -->\n      <g transform=\"translate(20.878125 27.515175)scale(0.1 -0.1)\">\n       <defs>\n        <path d=\"M 40.578125 39.3125 \nQ 47.65625 37.796875 51.625 33 \nQ 55.609375 28.21875 55.609375 21.1875 \nQ 55.609375 10.40625 48.1875 4.484375 \nQ 40.765625 -1.421875 27.09375 -1.421875 \nQ 22.515625 -1.421875 17.65625 -0.515625 \nQ 12.796875 0.390625 7.625 2.203125 \nL 7.625 11.71875 \nQ 11.71875 9.328125 16.59375 8.109375 \nQ 21.484375 6.890625 26.8125 6.890625 \nQ 36.078125 6.890625 40.9375 10.546875 \nQ 45.796875 14.203125 45.796875 21.1875 \nQ 45.796875 27.640625 41.28125 31.265625 \nQ 36.765625 34.90625 28.71875 34.90625 \nL 20.21875 34.90625 \nL 20.21875 43.015625 \nL 29.109375 43.015625 \nQ 36.375 43.015625 40.234375 45.921875 \nQ 44.09375 48.828125 44.09375 54.296875 \nQ 44.09375 59.90625 40.109375 62.90625 \nQ 36.140625 65.921875 28.71875 65.921875 \nQ 24.65625 65.921875 20.015625 65.03125 \nQ 15.375 64.15625 9.8125 62.3125 \nL 9.8125 71.09375 \nQ 15.4375 72.65625 20.34375 73.4375 \nQ 25.25 74.21875 29.59375 74.21875 \nQ 40.828125 74.21875 47.359375 69.109375 \nQ 53.90625 64.015625 53.90625 55.328125 \nQ 53.90625 49.265625 50.4375 45.09375 \nQ 46.96875 40.921875 40.578125 39.3125 \nz\n\" id=\"DejaVuSans-51\"/>\n       </defs>\n       <use xlink:href=\"#DejaVuSans-51\"/>\n       <use x=\"63.623047\" xlink:href=\"#DejaVuSans-48\"/>\n       <use x=\"127.246094\" xlink:href=\"#DejaVuSans-48\"/>\n       <use x=\"190.869141\" xlink:href=\"#DejaVuSans-48\"/>\n      </g>\n     </g>\n    </g>\n    <g id=\"text_11\">\n     <!-- count -->\n     <g transform=\"translate(14.798438 130.02625)rotate(-90)scale(0.1 -0.1)\">\n      <defs>\n       <path d=\"M 30.609375 48.390625 \nQ 23.390625 48.390625 19.1875 42.75 \nQ 14.984375 37.109375 14.984375 27.296875 \nQ 14.984375 17.484375 19.15625 11.84375 \nQ 23.34375 6.203125 30.609375 6.203125 \nQ 37.796875 6.203125 41.984375 11.859375 \nQ 46.1875 17.53125 46.1875 27.296875 \nQ 46.1875 37.015625 41.984375 42.703125 \nQ 37.796875 48.390625 30.609375 48.390625 \nz\nM 30.609375 56 \nQ 42.328125 56 49.015625 48.375 \nQ 55.71875 40.765625 55.71875 27.296875 \nQ 55.71875 13.875 49.015625 6.21875 \nQ 42.328125 -1.421875 30.609375 -1.421875 \nQ 18.84375 -1.421875 12.171875 6.21875 \nQ 5.515625 13.875 5.515625 27.296875 \nQ 5.515625 40.765625 12.171875 48.375 \nQ 18.84375 56 30.609375 56 \nz\n\" id=\"DejaVuSans-111\"/>\n       <path d=\"M 8.5 21.578125 \nL 8.5 54.6875 \nL 17.484375 54.6875 \nL 17.484375 21.921875 \nQ 17.484375 14.15625 20.5 10.265625 \nQ 23.53125 6.390625 29.59375 6.390625 \nQ 36.859375 6.390625 41.078125 11.03125 \nQ 45.3125 15.671875 45.3125 23.6875 \nL 45.3125 54.6875 \nL 54.296875 54.6875 \nL 54.296875 0 \nL 45.3125 0 \nL 45.3125 8.40625 \nQ 42.046875 3.421875 37.71875 1 \nQ 33.40625 -1.421875 27.6875 -1.421875 \nQ 18.265625 -1.421875 13.375 4.4375 \nQ 8.5 10.296875 8.5 21.578125 \nz\nM 31.109375 56 \nz\n\" id=\"DejaVuSans-117\"/>\n       <path d=\"M 54.890625 33.015625 \nL 54.890625 0 \nL 45.90625 0 \nL 45.90625 32.71875 \nQ 45.90625 40.484375 42.875 44.328125 \nQ 39.84375 48.1875 33.796875 48.1875 \nQ 26.515625 48.1875 22.3125 43.546875 \nQ 18.109375 38.921875 18.109375 30.90625 \nL 18.109375 0 \nL 9.078125 0 \nL 9.078125 54.6875 \nL 18.109375 54.6875 \nL 18.109375 46.1875 \nQ 21.34375 51.125 25.703125 53.5625 \nQ 30.078125 56 35.796875 56 \nQ 45.21875 56 50.046875 50.171875 \nQ 54.890625 44.34375 54.890625 33.015625 \nz\n\" id=\"DejaVuSans-110\"/>\n       <path d=\"M 18.3125 70.21875 \nL 18.3125 54.6875 \nL 36.8125 54.6875 \nL 36.8125 47.703125 \nL 18.3125 47.703125 \nL 18.3125 18.015625 \nQ 18.3125 11.328125 20.140625 9.421875 \nQ 21.96875 7.515625 27.59375 7.515625 \nL 36.8125 7.515625 \nL 36.8125 0 \nL 27.59375 0 \nQ 17.1875 0 13.234375 3.875 \nQ 9.28125 7.765625 9.28125 18.015625 \nL 9.28125 47.703125 \nL 2.6875 47.703125 \nL 2.6875 54.6875 \nL 9.28125 54.6875 \nL 9.28125 70.21875 \nz\n\" id=\"DejaVuSans-116\"/>\n      </defs>\n      <use xlink:href=\"#DejaVuSans-99\"/>\n      <use x=\"54.980469\" xlink:href=\"#DejaVuSans-111\"/>\n      <use x=\"116.162109\" xlink:href=\"#DejaVuSans-117\"/>\n      <use x=\"179.541016\" xlink:href=\"#DejaVuSans-110\"/>\n      <use x=\"242.919922\" xlink:href=\"#DejaVuSans-116\"/>\n     </g>\n    </g>\n   </g>\n   <g id=\"line2d_10\">\n    <path clip-path=\"url(#pc3ab31199d)\" d=\"M 0 0 \n\" style=\"fill:none;stroke:#424242;stroke-linecap:square;stroke-width:2.7;\"/>\n   </g>\n   <g id=\"line2d_11\">\n    <path clip-path=\"url(#pc3ab31199d)\" d=\"M 0 0 \n\" style=\"fill:none;stroke:#424242;stroke-linecap:square;stroke-width:2.7;\"/>\n   </g>\n   <g id=\"patch_5\">\n    <path d=\"M 53.328125 224.64 \nL 53.328125 7.2 \n\" style=\"fill:none;stroke:#000000;stroke-linecap:square;stroke-linejoin:miter;stroke-width:0.8;\"/>\n   </g>\n   <g id=\"patch_6\">\n    <path d=\"M 388.128125 224.64 \nL 388.128125 7.2 \n\" style=\"fill:none;stroke:#000000;stroke-linecap:square;stroke-linejoin:miter;stroke-width:0.8;\"/>\n   </g>\n   <g id=\"patch_7\">\n    <path d=\"M 53.328125 224.64 \nL 388.128125 224.64 \n\" style=\"fill:none;stroke:#000000;stroke-linecap:square;stroke-linejoin:miter;stroke-width:0.8;\"/>\n   </g>\n   <g id=\"patch_8\">\n    <path d=\"M 53.328125 7.2 \nL 388.128125 7.2 \n\" style=\"fill:none;stroke:#000000;stroke-linecap:square;stroke-linejoin:miter;stroke-width:0.8;\"/>\n   </g>\n  </g>\n </g>\n <defs>\n  <clipPath id=\"pc3ab31199d\">\n   <rect height=\"217.44\" width=\"334.8\" x=\"53.328125\" y=\"7.2\"/>\n  </clipPath>\n </defs>\n</svg>\n",
      "image/png": "[encoded data removed]"
     },
     "metadata": {
      "needs_background": "light"
     }
    }
   ],
   "source": [
    "dep_counts = y_train.value_counts()\n",
    "dep_list = list(zip([0, 1], dep_counts.tolist()))\n",
    "\n",
    "dep_df = pd.DataFrame(dep_list, columns=[\"class\", \"count\"])\n",
    "\n",
    "sns.barplot(x=\"class\", y=\"count\", data=dep_df, palette=\"Blues\")"
   ]
  },
  {
   "source": [
    "As you can see the distribution of values in this feature is massively uneven.\n",
    "\n",
    "This is not ideal from a classification perspective, but we wouldn't really want half of the children in the study to be depressed!\n",
    "\n",
    "Lets also get the exact ratio as this will be useful later. We call the positive class (1) the minority class and the negative class (0) the majority class."
   ],
   "cell_type": "markdown",
   "metadata": {}
  },
  {
   "cell_type": "code",
   "execution_count": 237,
   "metadata": {},
   "outputs": [
    {
     "output_type": "stream",
     "name": "stdout",
     "text": [
      "minority:majority = 292:3092 (1:11)\n"
     ]
    }
   ],
   "source": [
    "sample_ratio = dep_counts[0] / dep_counts[1]\n",
    "\n",
    "print(f\"minority:majority = {dep_counts[1]}:{dep_counts[0]} (1:{sample_ratio:.0f})\")"
   ]
  },
  {
   "source": [
    "## Metrics for imbalanced classification\n",
    "\n",
    "When analysing the performance of classification on the imputated data we used F1-score as our target metric. We did so as we suspected we would have imbalanced classes and so standard accuracy would not perform well. F1-score is the harmonic mean of precision and recall, so maximising the F1-score results in a classifier sensitive to both true positives and false negatives.\n",
    "\n",
    "F1-score is an instance of the more general metric F-score, or Fβ. The equation for Fβ is as follows:\n",
    "\n",
    "```\n",
    "Fβ = ((1 + β^2) * precision * recall) / ((β**2) * precision + recall)\n",
    "```\n",
    "\n",
    "With F1 we have:\n",
    "\n",
    "```\n",
    "F1 = ((1 + 1) * precision * recall) / (1 * precision + recall)\n",
    "F1 = (2 * precision * recall) / precision + recall)\n",
    "```\n",
    "\n",
    "It then follows that the F2 score would be: \n",
    "\n",
    "```\n",
    "F2 = (1 + 4) * precision * recall) / ((4) * precision + recall)\n",
    "F2 = (5 * precision * recall) / (4 * precision + recall)\n",
    "```\n",
    "\n",
    "This results in a metric which weights recall higher than precision. What this means is we have a metric that is sensitive to false negatives.\n",
    "\n",
    "False negative sensitivity is of particular interest to us as we would rather air on the side of caution and mis-classify someone as having depression and them receive treatment than classify someone who didn't as being ok. For this reason we shall use the F2 score as our target metric for further classification analysis."
   ],
   "cell_type": "markdown",
   "metadata": {}
  },
  {
   "source": [
    "## Classification optimisation\n",
    "\n",
    "Our previous classifier was not optimal. We shall run a randomised hyper-parameter search to find a better classifier.\n",
    "\n",
    "First lets create the base classifier."
   ],
   "cell_type": "markdown",
   "metadata": {}
  },
  {
   "cell_type": "code",
   "execution_count": 238,
   "metadata": {},
   "outputs": [],
   "source": [
    "xgb = XGBClassifier(\n",
    "\tobjective=\"binary:logistic\",\n",
    "    eval_metric=\"logloss\",\n",
    "\tscale_pos_weight=sample_ratio,\n",
    "\tn_jobs=1,\n",
    ")"
   ]
  },
  {
   "source": [
    "`Note: we have used the sample ratio to tell XGBoost to weight the positive and negative samples correctly.`"
   ],
   "cell_type": "markdown",
   "metadata": {}
  },
  {
   "source": [
    "Let's specify the search parameters."
   ],
   "cell_type": "markdown",
   "metadata": {}
  },
  {
   "cell_type": "code",
   "execution_count": 239,
   "metadata": {},
   "outputs": [],
   "source": [
    "params = {\n",
    "\t\"n_estimators\": [200, 500, 1000],\n",
    "\t\"max_depth\": [3, 5, 10],\n",
    "\t\"gamma\": [0.5, 1, 2],\n",
    "\t\"min_child_weight\": [1, 5, 10],\n",
    "\t\"subsample\": [0.5, 0.75, 1],\n",
    "\t\"colsample_bytree\": [0.5, 0.75, 1],\n",
    "}"
   ]
  },
  {
   "source": [
    "Now we can perform a search of 500 parameter permutations with 3-fold cross-validation."
   ],
   "cell_type": "markdown",
   "metadata": {}
  },
  {
   "cell_type": "code",
   "execution_count": 253,
   "metadata": {},
   "outputs": [],
   "source": [
    "rsearch = RandomizedSearchCV(xgb, params, scoring=f2_score, n_iter=500, cv=3, n_jobs=-1)"
   ]
  },
  {
   "source": [
    "Now we can run the parameter search.\n",
    "\n",
    "As we discovered during imputation analysis, classification with all features yields results nearing 100% accuracy (and 1.0 F1-score). \n",
    "\n",
    "This will make it difficult to compare parameter due to perfect accuracy being easily obtainable. It makes sense to use the most reduced feature set as the increased difficulty of the classification task will require more precise parameter choices. As the screen time features are the target of our main analysis it also makes sense to optimse our classifier for this task."
   ],
   "cell_type": "markdown",
   "metadata": {}
  },
  {
   "cell_type": "code",
   "execution_count": 254,
   "metadata": {},
   "outputs": [
    {
     "output_type": "stream",
     "name": "stderr",
     "text": [
      "/home/kai/anaconda3/envs/ds/lib/python3.8/site-packages/xgboost/sklearn.py:888: UserWarning: The use of label encoder in XGBClassifier is deprecated and will be removed in a future release. To remove this warning, do the following: 1) Pass option use_label_encoder=False when constructing XGBClassifier object; and 2) Encode your labels (y) as integers starting with 0, i.e. 0, 1, 2, ..., [num_class - 1].\n  warnings.warn(label_encoder_deprecation_msg, UserWarning)\n"
     ]
    },
    {
     "output_type": "execute_result",
     "data": {
      "text/plain": [
       "RandomizedSearchCV(cv=3,\n",
       "                   estimator=XGBClassifier(base_score=None, booster=None,\n",
       "                                           colsample_bylevel=None,\n",
       "                                           colsample_bynode=None,\n",
       "                                           colsample_bytree=None,\n",
       "                                           eval_metric='logloss', gamma=None,\n",
       "                                           gpu_id=None, importance_type='gain',\n",
       "                                           interaction_constraints=None,\n",
       "                                           learning_rate=None,\n",
       "                                           max_delta_step=None, max_depth=None,\n",
       "                                           min_child_weight=None, missing=nan,\n",
       "                                           monotone_constraints=...\n",
       "                                           reg_lambda=None,\n",
       "                                           scale_pos_weight=10.58904109589041,\n",
       "                                           subsample=None, tree_method=None,\n",
       "                                           validate_parameters=None,\n",
       "                                           verbosity=None),\n",
       "                   n_iter=500, n_jobs=-1,\n",
       "                   param_distributions={'colsample_bytree': [0.5, 0.75, 1],\n",
       "                                        'gamma': [0.5, 1, 2],\n",
       "                                        'max_depth': [3, 5, 10],\n",
       "                                        'min_child_weight': [1, 5, 10],\n",
       "                                        'n_estimators': [200, 500, 1000],\n",
       "                                        'subsample': [0.5, 0.75, 1]},\n",
       "                   scoring=make_scorer(f2_func))"
      ]
     },
     "metadata": {},
     "execution_count": 254
    }
   ],
   "source": [
    "rsearch.fit(X_train_screen_time, y_train)"
   ]
  },
  {
   "source": [
    "^ `this takes a while` ^"
   ],
   "cell_type": "markdown",
   "metadata": {}
  },
  {
   "cell_type": "code",
   "execution_count": 308,
   "metadata": {},
   "outputs": [
    {
     "output_type": "stream",
     "name": "stdout",
     "text": [
      "\nCLASSIFICATION METRICS:\n\naccuracy = 0.62\nprecision = 0.08\nrecall = 0.34\nf1 = 0.13\nf2 = 0.21\n\n\n"
     ]
    },
    {
     "output_type": "execute_result",
     "data": {
      "text/plain": [
       "[('accuracy', 0.6182462356067316),\n",
       " ('precision', 0.0825),\n",
       " ('recall', 0.3402061855670103),\n",
       " ('f1', 0.13279678068410464),\n",
       " ('f2', 0.20939086294416248)]"
      ]
     },
     "metadata": {},
     "execution_count": 308
    }
   ],
   "source": [
    "preds = rsearch.best_estimator_.predict(X_test_screen_time)\n",
    "classification_results(y_test, preds, verbose=1)"
   ]
  },
  {
   "source": [
    "Now we can look at the best parameters."
   ],
   "cell_type": "markdown",
   "metadata": {}
  },
  {
   "cell_type": "code",
   "execution_count": 256,
   "metadata": {},
   "outputs": [
    {
     "output_type": "execute_result",
     "data": {
      "text/plain": [
       "{'subsample': 0.75,\n",
       " 'n_estimators': 200,\n",
       " 'min_child_weight': 10,\n",
       " 'max_depth': 3,\n",
       " 'gamma': 2,\n",
       " 'colsample_bytree': 0.5}"
      ]
     },
     "metadata": {},
     "execution_count": 256
    }
   ],
   "source": [
    "rsearch.best_params_"
   ]
  },
  {
   "source": [
    "`Note: as we used a random parameter search this is likely not the best results, but due to the time-complexity of using a grid search (or further exploring hyperparameters) with this parameter set this shall suffice.`\n",
    "\n",
    "Based on these results we can manually test some parameters to get a fine-tuned results."
   ],
   "cell_type": "markdown",
   "metadata": {}
  },
  {
   "cell_type": "code",
   "execution_count": 305,
   "metadata": {},
   "outputs": [
    {
     "output_type": "stream",
     "name": "stderr",
     "text": [
      "/home/kai/anaconda3/envs/ds/lib/python3.8/site-packages/xgboost/sklearn.py:888: UserWarning: The use of label encoder in XGBClassifier is deprecated and will be removed in a future release. To remove this warning, do the following: 1) Pass option use_label_encoder=False when constructing XGBClassifier object; and 2) Encode your labels (y) as integers starting with 0, i.e. 0, 1, 2, ..., [num_class - 1].\n",
      "  warnings.warn(label_encoder_deprecation_msg, UserWarning)\n",
      "\n",
      "CLASSIFICATION METRICS:\n",
      "\n",
      "accuracy = 0.65\n",
      "precision = 0.10\n",
      "recall = 0.40\n",
      "f1 = 0.16\n",
      "f2 = 0.25\n",
      "\n",
      "\n"
     ]
    }
   ],
   "source": [
    "xgb = XGBClassifier(\n",
    "\tobjective=\"binary:logistic\",\n",
    "    eval_metric=\"logloss\",\n",
    "\tscale_pos_weight=sample_ratio,\n",
    "    subsample=1,\n",
    "    n_estimators=500,\n",
    "    min_child_weight=10,\n",
    "    max_depth=3,\n",
    "    gamma=1,\n",
    "    colsample_bytree=1,\n",
    "    n_jobs=-1,\n",
    ")\n",
    "\n",
    "xgb.fit(X_train_screen_time, y_train)\n",
    "preds = clf.predict(X_test_screen_time)\n",
    "results = classification_results(y_test, preds, verbose=1)"
   ]
  },
  {
   "source": [
    "We have managed to gain an extra 0.04 F2! Let's compare this to the base XGBoost classifier to check we made some improvement."
   ],
   "cell_type": "markdown",
   "metadata": {}
  },
  {
   "cell_type": "code",
   "execution_count": 309,
   "metadata": {},
   "outputs": [
    {
     "output_type": "stream",
     "name": "stderr",
     "text": [
      "/home/kai/anaconda3/envs/ds/lib/python3.8/site-packages/xgboost/sklearn.py:888: UserWarning: The use of label encoder in XGBClassifier is deprecated and will be removed in a future release. To remove this warning, do the following: 1) Pass option use_label_encoder=False when constructing XGBClassifier object; and 2) Encode your labels (y) as integers starting with 0, i.e. 0, 1, 2, ..., [num_class - 1].\n",
      "  warnings.warn(label_encoder_deprecation_msg, UserWarning)\n",
      "\n",
      "CLASSIFICATION METRICS:\n",
      "\n",
      "accuracy = 0.75\n",
      "precision = 0.09\n",
      "recall = 0.20\n",
      "f1 = 0.12\n",
      "f2 = 0.16\n",
      "\n",
      "\n"
     ]
    }
   ],
   "source": [
    "clf = XGBClassifier(\n",
    "\tobjective=\"binary:logistic\",\n",
    "    eval_metric=\"logloss\",\n",
    "\tscale_pos_weight=sample_ratio,\n",
    "\tn_jobs=-1,\n",
    ")\n",
    "\n",
    "clf.fit(X_train_screen_time, y_train)\n",
    "preds = clf.predict(X_test_screen_time)\n",
    "\n",
    "clf_results = classification_results(y_test, preds, verbose=1)"
   ]
  },
  {
   "source": [
    "Accuracy may have reduced, but as explained previously this is somewhat meaningless when we have unabalanced classes.\n",
    "\n",
    "The important metric here is F2 score and this increased from `0.16` to `0.25`. Other metrics have seen a noticable increase too."
   ],
   "cell_type": "markdown",
   "metadata": {}
  },
  {
   "source": [
    "## Classification on feature sets\n",
    "\n",
    "We shall perform classification on each of the feature sets."
   ],
   "cell_type": "markdown",
   "metadata": {}
  },
  {
   "cell_type": "code",
   "execution_count": 327,
   "metadata": {},
   "outputs": [
    {
     "output_type": "stream",
     "name": "stderr",
     "text": [
      "/home/kai/anaconda3/envs/ds/lib/python3.8/site-packages/xgboost/sklearn.py:888: UserWarning: The use of label encoder in XGBClassifier is deprecated and will be removed in a future release. To remove this warning, do the following: 1) Pass option use_label_encoder=False when constructing XGBClassifier object; and 2) Encode your labels (y) as integers starting with 0, i.e. 0, 1, 2, ..., [num_class - 1].\n  warnings.warn(label_encoder_deprecation_msg, UserWarning)\n"
     ]
    }
   ],
   "source": [
    "fset_results = []\n",
    "\n",
    "for (fset, fset_X_train, fset_X_test) in fsets:\n",
    "    xgb = XGBClassifier(\n",
    "        objective=\"binary:logistic\",\n",
    "        eval_metric=\"logloss\",\n",
    "        scale_pos_weight=sample_ratio,\n",
    "        subsample=1,\n",
    "        n_estimators=500,\n",
    "        min_child_weight=10,\n",
    "        max_depth=3,\n",
    "        gamma=1,\n",
    "        colsample_bytree=1,\n",
    "        n_jobs=-1,\n",
    "    )\n",
    "    xgb.fit(fset_X_train, y_train)\n",
    "    preds = xgb.predict(fset_X_test)\n",
    "    results = classification_results(y_test, preds)\n",
    "    fset_results.append((fset, xgb, results))"
   ]
  },
  {
   "source": [
    "Classification results of each feature set."
   ],
   "cell_type": "markdown",
   "metadata": {}
  },
  {
   "cell_type": "code",
   "execution_count": 328,
   "metadata": {},
   "outputs": [
    {
     "output_type": "execute_result",
     "data": {
      "text/plain": [
       "[('all features',\n",
       "  XGBClassifier(base_score=0.5, booster='gbtree', colsample_bylevel=1,\n",
       "                colsample_bynode=1, colsample_bytree=1, eval_metric='logloss',\n",
       "                gamma=1, gpu_id=-1, importance_type='gain',\n",
       "                interaction_constraints='', learning_rate=0.300000012,\n",
       "                max_delta_step=0, max_depth=3, min_child_weight=10, missing=nan,\n",
       "                monotone_constraints='()', n_estimators=500, n_jobs=-1,\n",
       "                num_parallel_tree=1, random_state=0, reg_alpha=0, reg_lambda=1,\n",
       "                scale_pos_weight=10.58904109589041, subsample=1,\n",
       "                tree_method='exact', validate_parameters=1, verbosity=None),\n",
       "  [('accuracy', 1.0),\n",
       "   ('precision', 1.0),\n",
       "   ('recall', 1.0),\n",
       "   ('f1', 1.0),\n",
       "   ('f2', 1.0)]),\n",
       " ('non medical features',\n",
       "  XGBClassifier(base_score=0.5, booster='gbtree', colsample_bylevel=1,\n",
       "                colsample_bynode=1, colsample_bytree=1, eval_metric='logloss',\n",
       "                gamma=1, gpu_id=-1, importance_type='gain',\n",
       "                interaction_constraints='', learning_rate=0.300000012,\n",
       "                max_delta_step=0, max_depth=3, min_child_weight=10, missing=nan,\n",
       "                monotone_constraints='()', n_estimators=500, n_jobs=-1,\n",
       "                num_parallel_tree=1, random_state=0, reg_alpha=0, reg_lambda=1,\n",
       "                scale_pos_weight=10.58904109589041, subsample=1,\n",
       "                tree_method='exact', validate_parameters=1, verbosity=None),\n",
       "  [('accuracy', 0.8441098317094774),\n",
       "   ('precision', 0.13761467889908258),\n",
       "   ('recall', 0.15463917525773196),\n",
       "   ('f1', 0.14563106796116504),\n",
       "   ('f2', 0.15090543259557346)]),\n",
       " ('screen time features',\n",
       "  XGBClassifier(base_score=0.5, booster='gbtree', colsample_bylevel=1,\n",
       "                colsample_bynode=1, colsample_bytree=1, eval_metric='logloss',\n",
       "                gamma=1, gpu_id=-1, importance_type='gain',\n",
       "                interaction_constraints='', learning_rate=0.300000012,\n",
       "                max_delta_step=0, max_depth=3, min_child_weight=10, missing=nan,\n",
       "                monotone_constraints='()', n_estimators=500, n_jobs=-1,\n",
       "                num_parallel_tree=1, random_state=0, reg_alpha=0, reg_lambda=1,\n",
       "                scale_pos_weight=10.58904109589041, subsample=1,\n",
       "                tree_method='exact', validate_parameters=1, verbosity=None),\n",
       "  [('accuracy', 0.6483613817537643),\n",
       "   ('precision', 0.10317460317460317),\n",
       "   ('recall', 0.4020618556701031),\n",
       "   ('f1', 0.16421052631578947),\n",
       "   ('f2', 0.2545691906005222)])]"
      ]
     },
     "metadata": {},
     "execution_count": 328
    }
   ],
   "source": [
    "fset_results"
   ]
  },
  {
   "source": [
    "Importances of each feature set."
   ],
   "cell_type": "markdown",
   "metadata": {}
  },
  {
   "cell_type": "code",
   "execution_count": 329,
   "metadata": {},
   "outputs": [
    {
     "output_type": "stream",
     "name": "stdout",
     "text": [
      "all features         feature  importance\n0    comp_bed_9         0.0\n1       mat_dep         0.0\n2       mat_age         0.0\n3     weight_16         0.0\n4     height_16         0.0\n..          ...         ...\n76   fam_tv_eve         0.0\n77   fam_tv_aft         0.0\n78   fam_tv_mor         0.0\n79          sex         0.0\n80  birth_order         0.0\n\n[81 rows x 2 columns] \n\nnon medical features               feature  importance\n0          comp_bed_9    0.013427\n1             mat_age    0.018144\n2           weight_16    0.017517\n3           height_16    0.013738\n4                  iq    0.014251\n5   comp_noint_bed_16    0.021569\n6     comp_int_bed_16    0.000000\n7      talk_phon_wend    0.000000\n8           text_wend    0.019092\n9       talk_mob_wend    0.018443\n10          comp_wend    0.019953\n11          musi_wend    0.008658\n12          read_wend    0.020216\n13          work_wend    0.026954\n14          alon_wend    0.018080\n15          draw_wend    0.024904\n16          play_wend    0.016037\n17            tv_wend    0.023501\n18       out_win_wend    0.022663\n19       out_sum_wend    0.023299\n20          tran_wend    0.021914\n21     talk_phon_week    0.014841\n22          text_week    0.005950\n23      talk_mob_week    0.020568\n24          comp_week    0.030645\n25          musi_week    0.007558\n26          read_week    0.023420\n27          work_week    0.020457\n28          alon_week    0.015043\n29          draw_week    0.020000\n30          play_week    0.001287\n31            tv_week    0.022181\n32       out_win_week    0.013620\n33       out_sum_week    0.015614\n34          tran_week    0.012098\n35        pat_pres_10    0.019117\n36         pat_pres_8    0.015653\n37           pat_pres    0.021016\n38           num_home    0.023793\n39            pat_ses    0.018721\n40            mat_ses    0.019547\n41            pat_edu    0.025475\n42            mat_edu    0.019958\n43             parity    0.018244\n44           exercise    0.012416\n45         child_bull    0.013548\n46      phone_14_wend    0.019441\n47      phone_14_week    0.025669\n48            musi_13    0.023016\n49           tv_bed_9    0.004874\n50            own_mob    0.009638\n51         comp_house    0.000000\n52          tv_bed_16    0.015730\n53           creat_14    0.013687\n54         comp_games    0.017906\n55         fam_tv_eve    0.013017\n56         fam_tv_aft    0.016201\n57         fam_tv_mor    0.019443\n58                sex    0.028248\n59        birth_order    0.000000 \n\nscreen time features               feature  importance\n0          comp_bed_9    0.096192\n1   comp_noint_bed_16    0.082151\n2     comp_int_bed_16    0.000000\n3           comp_wend    0.077574\n4             tv_wend    0.058850\n5           comp_week    0.077069\n6             tv_week    0.083374\n7            tv_bed_9    0.080511\n8          comp_house    0.061265\n9           tv_bed_16    0.069075\n10         comp_games    0.059310\n11         fam_tv_eve    0.091361\n12         fam_tv_aft    0.083868\n13         fam_tv_mor    0.079399 \n\n"
     ]
    }
   ],
   "source": [
    "for (features, (fset, fset_xgb, fset_result)) in zip(fset_cols, fset_results):\n",
    "\n",
    "    fset_importances = [(feature, importance) for (feature, importance) in zip(features, fset_xgb.feature_importances_)]\n",
    "    fset_imp_df = pd.DataFrame(fset_importances, columns=[\"feature\", \"importance\"])\n",
    "\n",
    "    print(fset, fset_imp_df, \"\\n\")"
   ]
  },
  {
   "source": [
    "Plot importances."
   ],
   "cell_type": "markdown",
   "metadata": {}
  },
  {
   "cell_type": "code",
   "execution_count": 149,
   "metadata": {},
   "outputs": [],
   "source": []
  }
 ]
}