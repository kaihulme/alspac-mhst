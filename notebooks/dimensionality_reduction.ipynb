{
 "cells": [
  {
   "source": [
    "According to https://www.analyticsvidhya.com/blog/2018/08/dimensionality-reduction-techniques-python/ ,the first 7 methods be tried"
   ],
   "cell_type": "markdown",
   "metadata": {}
  },
  {
   "source": [
    "1. Missing Value Ratio：Since the data after filling is used, there is no missing."
   ],
   "cell_type": "markdown",
   "metadata": {}
  },
  {
   "source": [
    "2.Low Variance filter"
   ],
   "cell_type": "markdown",
   "metadata": {}
  },
  {
   "cell_type": "code",
   "execution_count": 2,
   "metadata": {},
   "outputs": [],
   "source": [
    "#Import package\n",
    "import pandas as pd\n",
    "import seaborn as sns\n",
    "import gc\n",
    "import numpy as np\n",
    "from pandas import Series, DataFrame\n",
    "\n",
    "import matplotlib.pyplot as plt\n",
    "%matplotlib inline\n",
    "\n",
    "\n",
    "\n",
    "pd.set_option('display.max_columns', None)\n",
    "\n",
    "#Import data\n",
    "train = pd.read_csv('/Users/originfu/Desktop/ADS/ADSMH-main/data/altered/imputed/maps_xgboost_impute.csv', delimiter=\",\")"
   ]
  },
  {
   "cell_type": "code",
   "execution_count": 3,
   "metadata": {},
   "outputs": [
    {
     "output_type": "execute_result",
     "data": {
      "text/plain": [
       "X              1.571971e+07\n",
       "comp_bed_9     1.174689e-01\n",
       "mat_dep        2.174698e+01\n",
       "mat_age        2.763869e+01\n",
       "weight_16      2.573572e+02\n",
       "                   ...     \n",
       "fam_tv_eve     4.003028e-01\n",
       "fam_tv_aft     8.309836e-01\n",
       "fam_tv_mor     7.306085e-01\n",
       "sex            2.497254e-01\n",
       "birth_order    1.449275e-02\n",
       "Length: 83, dtype: float64"
      ]
     },
     "metadata": {},
     "execution_count": 3
    }
   ],
   "source": [
    "train.var()"
   ]
  },
  {
   "cell_type": "code",
   "execution_count": 8,
   "metadata": {},
   "outputs": [
    {
     "output_type": "execute_result",
     "data": {
      "text/plain": [
       "['comp_bed_9',\n",
       " 'mat_age',\n",
       " 'weight_16',\n",
       " 'height_16',\n",
       " 'iq',\n",
       " 'comp_noint_bed_16',\n",
       " 'emot_cruel']"
      ]
     },
     "metadata": {},
     "execution_count": 8
    }
   ],
   "source": [
    "var = train.var()\n",
    "numeric = train.columns\n",
    "variable = [ ]\n",
    "for i in range(0,len(var)):\n",
    "    if var[i]>=1:  \n",
    "       variable.append(numeric[i+1])\n",
    "\n",
    "variable"
   ]
  },
  {
   "cell_type": "code",
   "execution_count": null,
   "metadata": {},
   "outputs": [],
   "source": []
  }
 ],
 "metadata": {
  "kernelspec": {
   "name": "python376jvsc74a57bd0e31d73d15ae303ce97c7f51d9e101a4881ab60fea9304db3a8e608333bb55e3c",
   "display_name": "Python 3.7.6 64-bit ('base': conda)"
  }
 },
 "nbformat": 4,
 "nbformat_minor": 4
}