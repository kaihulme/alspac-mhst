{
 "cells": [
  {
   "cell_type": "code",
   "execution_count": 1,
   "metadata": {},
   "outputs": [],
   "source": [
    "#Import package\n",
    "import pandas as pd\n",
    "import seaborn as sns\n",
    "import gc\n",
    "import numpy as np\n",
    "from pandas import Series, DataFrame\n",
    "import pandas_profiling\n",
    "\n",
    "from IPython.core.interactiveshell import InteractiveShell\n",
    "InteractiveShell.ast_node_interactivity = \"all\"\n",
    "\n",
    "import matplotlib.pyplot as plt\n",
    "%matplotlib inline\n",
    "\n",
    "from sklearn import metrics\n",
    "\n",
    "from sklearn.model_selection import cross_validate, GridSearchCV\n",
    "from sklearn.model_selection import train_test_split\n",
    "\n",
    "\n",
    "\n",
    "pd.set_option('display.max_columns', None)\n",
    "\n",
    "#Import data\n",
    "data = pd.read_csv('/Users/originfu/Desktop/ADS/ADSMH-main/data/altered/maps-feature-mapping.csv', delimiter=\",\")\n",
    "data_a = pd.read_csv('/Users/originfu/Desktop/ADS/screenTime/maps-synthetic-data-v1.1.csv', delimiter=\",\")"
   ]
  },
  {
   "cell_type": "code",
   "execution_count": null,
   "metadata": {},
   "outputs": [],
   "source": [
    "#generate report\n",
    "data.profile_report(title='')\n",
    "data_a.profile_report(title='')\n",
    "\n",
    "#if \"Pandas-profiling error AttributeError: 'DataFrame' object has no attribute 'profile_report'\"\n",
    "#1 pip uninstall pandas_profiling\n",
    "#2 pip install https://github.com/pandas-profiling/pandas-profiling/archive/master.zip"
   ]
  }
 ],
 "metadata": {
  "kernelspec": {
   "display_name": "Python 3",
   "language": "python",
   "name": "python3"
  },
  "language_info": {
   "codemirror_mode": {
    "name": "ipython",
    "version": 3
   },
   "file_extension": ".py",
   "mimetype": "text/x-python",
   "name": "python",
   "nbconvert_exporter": "python",
   "pygments_lexer": "ipython3",
   "version": "3.7.6"
  }
 },
 "nbformat": 4,
 "nbformat_minor": 4
}
