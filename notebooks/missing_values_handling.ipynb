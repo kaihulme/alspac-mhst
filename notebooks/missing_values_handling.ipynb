{
 "metadata": {
  "language_info": {
   "codemirror_mode": {
    "name": "ipython",
    "version": 3
   },
   "file_extension": ".py",
   "mimetype": "text/x-python",
   "name": "python",
   "nbconvert_exporter": "python",
   "pygments_lexer": "ipython3",
   "version": "3.8.5-final"
  },
  "orig_nbformat": 2,
  "kernelspec": {
   "name": "python3",
   "display_name": "Python 3.8.5 64-bit ('ds': conda)",
   "metadata": {
    "interpreter": {
     "hash": "ff527006388d7c8d536bbb807a7192f62d1ecee01b72df942c8fe08736fc1859"
    }
   }
  }
 },
 "nbformat": 4,
 "nbformat_minor": 2,
 "cells": [
  {
   "source": [
    "# Missing Value Handling\n",
    "\n",
    "Following our analysis of the missing values we will now explore some methods for missing value imputation."
   ],
   "cell_type": "markdown",
   "metadata": {}
  },
  {
   "cell_type": "code",
   "execution_count": null,
   "metadata": {},
   "outputs": [],
   "source": [
    "import os\n",
    "import numpy as np\n",
    "import pandas as pd\n",
    "import seaborn as sns\n",
    "import xgboost as xgb\n",
    "import missingno as msno\n",
    "import matplotlib.pyplot as plt\n",
    "\n",
    "from tqdm import tqdm\n",
    "from sklearn.experimental import enable_iterative_imputer\n",
    "from sklearn.impute import SimpleImputer, KNNImputer, IterativeImputer\n",
    "from sklearn.ensemble import RandomForestClassifier, RandomForestRegressor\n",
    "from sklearn.linear_model import LinearRegression, LogisticRegression\n",
    "from sklearn.preprocessing import StandardScaler\n",
    "from xgboost import XGBClassifier, XGBRegressor\n",
    "\n",
    "base_dir = os.path.join(os.getcwd(), os.pardir)\n",
    "impute_dir = os.path.join(base_dir, \"data/altered/imputed\")"
   ]
  },
  {
   "source": [
    "Load in the data."
   ],
   "cell_type": "markdown",
   "metadata": {}
  },
  {
   "cell_type": "code",
   "execution_count": 5,
   "metadata": {},
   "outputs": [
    {
     "output_type": "stream",
     "name": "stdout",
     "text": [
      "82 features, 13734 entries\n"
     ]
    },
    {
     "output_type": "execute_result",
     "data": {
      "text/plain": [
       "   comp_bed_9  mat_dep  mat_age  weight_16   height_16     iq  \\\n",
       "X                                                               \n",
       "1         NaN      3.0     30.0  59.294132  181.602831  107.0   \n",
       "2         NaN      9.0     26.0        NaN         NaN   85.0   \n",
       "3         NaN      3.0     24.0        NaN         NaN    NaN   \n",
       "4         0.0      NaN     22.0  49.812426  160.224186    NaN   \n",
       "5         0.0      8.0     31.0  62.270030  191.703227  132.0   \n",
       "\n",
       "   comp_noint_bed_16  comp_int_bed_16  talk_phon_wend  text_wend  ...  \\\n",
       "X                                                                 ...   \n",
       "1                NaN              NaN             1.0        1.0  ...   \n",
       "2                NaN              NaN             NaN        NaN  ...   \n",
       "3                NaN              NaN             NaN        NaN  ...   \n",
       "4                NaN              NaN             NaN        NaN  ...   \n",
       "5                1.0              NaN             0.0        0.0  ...   \n",
       "\n",
       "   dep_score  comp_house  tv_bed_16  creat_14  comp_games  fam_tv_eve  \\\n",
       "X                                                                       \n",
       "1        0.0         1.0        1.0       1.0         0.0         1.0   \n",
       "2        NaN         NaN        NaN       NaN         NaN         NaN   \n",
       "3        NaN         NaN        NaN       NaN         NaN         1.0   \n",
       "4        NaN         NaN        NaN       NaN         0.0         NaN   \n",
       "5        NaN         NaN        NaN       1.0         0.0         1.0   \n",
       "\n",
       "   fam_tv_aft  fam_tv_mor  sex  birth_order  \n",
       "X                                            \n",
       "1         0.0         2.0  0.0          0.0  \n",
       "2         NaN         NaN  0.0          1.0  \n",
       "3         2.0         0.0  1.0          0.0  \n",
       "4         NaN         NaN  1.0          0.0  \n",
       "5         2.0         2.0  0.0          0.0  \n",
       "\n",
       "[5 rows x 82 columns]"
      ],
      "text/html": "<div>\n<style scoped>\n    .dataframe tbody tr th:only-of-type {\n        vertical-align: middle;\n    }\n\n    .dataframe tbody tr th {\n        vertical-align: top;\n    }\n\n    .dataframe thead th {\n        text-align: right;\n    }\n</style>\n<table border=\"1\" class=\"dataframe\">\n  <thead>\n    <tr style=\"text-align: right;\">\n      <th></th>\n      <th>comp_bed_9</th>\n      <th>mat_dep</th>\n      <th>mat_age</th>\n      <th>weight_16</th>\n      <th>height_16</th>\n      <th>iq</th>\n      <th>comp_noint_bed_16</th>\n      <th>comp_int_bed_16</th>\n      <th>talk_phon_wend</th>\n      <th>text_wend</th>\n      <th>...</th>\n      <th>dep_score</th>\n      <th>comp_house</th>\n      <th>tv_bed_16</th>\n      <th>creat_14</th>\n      <th>comp_games</th>\n      <th>fam_tv_eve</th>\n      <th>fam_tv_aft</th>\n      <th>fam_tv_mor</th>\n      <th>sex</th>\n      <th>birth_order</th>\n    </tr>\n    <tr>\n      <th>X</th>\n      <th></th>\n      <th></th>\n      <th></th>\n      <th></th>\n      <th></th>\n      <th></th>\n      <th></th>\n      <th></th>\n      <th></th>\n      <th></th>\n      <th></th>\n      <th></th>\n      <th></th>\n      <th></th>\n      <th></th>\n      <th></th>\n      <th></th>\n      <th></th>\n      <th></th>\n      <th></th>\n      <th></th>\n    </tr>\n  </thead>\n  <tbody>\n    <tr>\n      <th>1</th>\n      <td>NaN</td>\n      <td>3.0</td>\n      <td>30.0</td>\n      <td>59.294132</td>\n      <td>181.602831</td>\n      <td>107.0</td>\n      <td>NaN</td>\n      <td>NaN</td>\n      <td>1.0</td>\n      <td>1.0</td>\n      <td>...</td>\n      <td>0.0</td>\n      <td>1.0</td>\n      <td>1.0</td>\n      <td>1.0</td>\n      <td>0.0</td>\n      <td>1.0</td>\n      <td>0.0</td>\n      <td>2.0</td>\n      <td>0.0</td>\n      <td>0.0</td>\n    </tr>\n    <tr>\n      <th>2</th>\n      <td>NaN</td>\n      <td>9.0</td>\n      <td>26.0</td>\n      <td>NaN</td>\n      <td>NaN</td>\n      <td>85.0</td>\n      <td>NaN</td>\n      <td>NaN</td>\n      <td>NaN</td>\n      <td>NaN</td>\n      <td>...</td>\n      <td>NaN</td>\n      <td>NaN</td>\n      <td>NaN</td>\n      <td>NaN</td>\n      <td>NaN</td>\n      <td>NaN</td>\n      <td>NaN</td>\n      <td>NaN</td>\n      <td>0.0</td>\n      <td>1.0</td>\n    </tr>\n    <tr>\n      <th>3</th>\n      <td>NaN</td>\n      <td>3.0</td>\n      <td>24.0</td>\n      <td>NaN</td>\n      <td>NaN</td>\n      <td>NaN</td>\n      <td>NaN</td>\n      <td>NaN</td>\n      <td>NaN</td>\n      <td>NaN</td>\n      <td>...</td>\n      <td>NaN</td>\n      <td>NaN</td>\n      <td>NaN</td>\n      <td>NaN</td>\n      <td>NaN</td>\n      <td>1.0</td>\n      <td>2.0</td>\n      <td>0.0</td>\n      <td>1.0</td>\n      <td>0.0</td>\n    </tr>\n    <tr>\n      <th>4</th>\n      <td>0.0</td>\n      <td>NaN</td>\n      <td>22.0</td>\n      <td>49.812426</td>\n      <td>160.224186</td>\n      <td>NaN</td>\n      <td>NaN</td>\n      <td>NaN</td>\n      <td>NaN</td>\n      <td>NaN</td>\n      <td>...</td>\n      <td>NaN</td>\n      <td>NaN</td>\n      <td>NaN</td>\n      <td>NaN</td>\n      <td>0.0</td>\n      <td>NaN</td>\n      <td>NaN</td>\n      <td>NaN</td>\n      <td>1.0</td>\n      <td>0.0</td>\n    </tr>\n    <tr>\n      <th>5</th>\n      <td>0.0</td>\n      <td>8.0</td>\n      <td>31.0</td>\n      <td>62.270030</td>\n      <td>191.703227</td>\n      <td>132.0</td>\n      <td>1.0</td>\n      <td>NaN</td>\n      <td>0.0</td>\n      <td>0.0</td>\n      <td>...</td>\n      <td>NaN</td>\n      <td>NaN</td>\n      <td>NaN</td>\n      <td>1.0</td>\n      <td>0.0</td>\n      <td>1.0</td>\n      <td>2.0</td>\n      <td>2.0</td>\n      <td>0.0</td>\n      <td>0.0</td>\n    </tr>\n  </tbody>\n</table>\n<p>5 rows × 82 columns</p>\n</div>"
     },
     "metadata": {},
     "execution_count": 5
    }
   ],
   "source": [
    "data_path = os.path.join(base_dir, \"data/altered/maps_feature_mapping.csv\")\n",
    "df = pd.read_csv(data_path, index_col=\"X\")\n",
    "features = df.columns\n",
    "\n",
    "print(f\"{df.shape[1]} features, {df.shape[0]} entries\")\n",
    "df.head()"
   ]
  },
  {
   "source": [
    "For later imputation methods it is beneficial to have a list of feature types. We can get the type of each variable from the data dictionary.\n",
    "\n",
    "We can create a dictionary to map feature names to their type."
   ],
   "cell_type": "markdown",
   "metadata": {}
  },
  {
   "cell_type": "code",
   "execution_count": 6,
   "metadata": {},
   "outputs": [],
   "source": [
    "dict_path = os.path.join(base_dir, \"data/original/synthetic_data_dictionary.csv\")\n",
    "dict_df = pd.read_csv(dict_path)\n",
    "dict_df = pd.DataFrame(dict_df[[dict_df.columns[0], dict_df.columns[3]]].dropna())\n",
    "dict_df = dict_df.rename(columns={dict_df.columns[0]: \"feature\", dict_df.columns[1]: \"type\"})\n",
    "dict_df = dict_df.set_index(\"feature\")\n",
    "\n",
    "type_dict = dict_df.to_dict()[\"type\"]"
   ]
  },
  {
   "source": [
    "Features are numerical (discrete or continuous) or categorical (nominal or ordinal). We shall keep track of which is which."
   ],
   "cell_type": "markdown",
   "metadata": {}
  },
  {
   "cell_type": "code",
   "execution_count": 7,
   "metadata": {},
   "outputs": [],
   "source": [
    "dis_features, con_features, nom_features, ord_features = [], [], [], []\n",
    "\n",
    "for feature in df:\n",
    "    ftype = type_dict[feature]\n",
    "    if ftype == \"Discrete\":\n",
    "        dis_features.append(feature)\n",
    "    elif ftype == \"Continuous\":\n",
    "        con_features.append(feature)\n",
    "    elif ftype == \"Nominal\":\n",
    "        nom_features.append(feature)\n",
    "    elif ftype == \"Ordinal\":\n",
    "        ord_features.append(feature)\n",
    "    else:\n",
    "        print(f\"Unknown feature type - {feature} ({type_dict[feature]})\")\n",
    "\n",
    "num_features = dis_features + con_features\n",
    "cat_features = nom_features + ord_features"
   ]
  },
  {
   "source": [
    "It may also be useful to save which categorical features are binary."
   ],
   "cell_type": "markdown",
   "metadata": {}
  },
  {
   "cell_type": "code",
   "execution_count": 8,
   "metadata": {},
   "outputs": [
    {
     "output_type": "stream",
     "name": "stdout",
     "text": [
      "There are 24 binary and 0 non-binary binary (nomial) categorical features.\n"
     ]
    }
   ],
   "source": [
    "bin_features = []\n",
    "for feature in nom_features:\n",
    "    unique = df[feature].dropna().unique()\n",
    "    if len(unique) > 2:\n",
    "        print(f\"{feature} is non-binary\")\n",
    "    else:\n",
    "        bin_features.append(feature)\n",
    "\n",
    "print(f\"There are {len(bin_features)} binary and {len(nom_features)-len(bin_features)} non-binary binary (nomial) categorical features.\")"
   ]
  },
  {
   "source": [
    "It appears all of the nominal features are binary. This is helpful as it means these features will not need to be one-hot encoded. Ordinal features have already been ordinally categorised and saved to `maps_feature_mapping.csv`."
   ],
   "cell_type": "markdown",
   "metadata": {}
  },
  {
   "source": [
    "## Simple Imputation Methods\n",
    "\n",
    "We will first explore some simple imputation methods. These methods are the simplest both in implementation and computational cost. Generally they consist of replacing missing values in a feature with a value decided beforehand, or as we will discuss next, removing them entirely."
   ],
   "cell_type": "markdown",
   "metadata": {}
  },
  {
   "source": [
    "### Dropping values\n",
    "\n",
    "The simplest method for handling missing values is to simply drop them from the dataset. This method can sometimes be the best as it doesn't require assumptions about the data to impute missing values.\n",
    "\n",
    "We can either drop a row if it has missing values, or we can drop an entire feature. Dropping a row from a dataset means you do not reduce the dimensionaliy of the data but you will lose a datapoint, dropping a feature means you lose some descriptor from every datapoint. Unless the feature has little information (e.g. all values for that feature are the same), then it is usually not a good idea to drop features.\n",
    "\n",
    "Dropping rows will not work for our dataset as there are no fully-complete rows - each entry has at least one missing feature. As explained above we will also not be removing any features as they all hold information, so we will need to carry out some form of imputation on our data."
   ],
   "cell_type": "markdown",
   "metadata": {}
  },
  {
   "source": [
    "### NaN as a Category\n",
    "\n",
    "Rather than dropping the missing valeus, we can instead replace all NaN values with a new value which marks it as a missing value such as `-1`. This can be useful if you think the reason there are missing values in a feature is because that value being missing is a data point itself. For example, if a question in a survey has only the option to answer yes, many will leave this blank to say no giving a lot of missing data for that feature - we will look at this next.\n",
    "\n",
    "Generally though we do not want to replace missing values in the dataset with a missing value indicator. Not only because (most) of the features are fully described by their categories (or are numerical), but also because there are so many missing values. A lot of the features have over 60% of their values missing and so imputing all of these as a new category (or value) would heavily skew the distribution of the data.\n",
    "\n",
    "Instead we shall aim to use for sophisticated imputation techniques."
   ],
   "cell_type": "markdown",
   "metadata": {}
  },
  {
   "source": [
    "### Logical substitutions\n",
    "\n",
    "Before proceeding with imputation methods there are some features which need to be attended to following our previous analysis of the missing values."
   ],
   "cell_type": "markdown",
   "metadata": {}
  },
  {
   "source": [
    "#### Binary features with single unique value\n",
    "\n",
    "The features `comp_house`, `comp_int_bed_16`, `comp_noint_bed_16` and `tv_bed_16` all have only one unique value other than NaN. In reality these features are binary and would be either `Yes` or `No`. Before continuing with any other imputation method we must ensure there are some `No` values for these features, otherwise the imputation will likely set all as `Yes` as these are the only possible values it sees.\n",
    "\n",
    "We cannot simply impute all the missing values as `No` as there are far too many, which would skew the data. Instead we can make some logical substitutions of the NaN values based on the feature descriptions and how they relate to other features.\n",
    "\n",
    "Looking at the descriptions for the features:\n",
    "\n",
    "|Variable Name |Variable Description |\n",
    "|:-- |:-- |\n",
    "|comp_house |Computer without internet access is in the house but not in the study child's room |\n",
    "|comp_int_bed_16 |Computer with internet access is more or less permanently study child's room |\n",
    "|comp_noint_bed_16 |Computer without internet access is more or less permanently in study child's room |\n",
    "|tv_bed_16 |Study child has a TV set more or less permanently in their room |\n",
    "\n",
    "Some logical assumptions we can make are:\n",
    "\n",
    "- If `comp_noint_bed_16` is `Yes`, then `comp_int_bed_16` should be `No`.\n",
    "- If `comp_int_bed_16` is `Yes`, then `comp_noint_bed_16` should be `No`.\n",
    "- If `comp_noint_bed_16` is `Yes`, then `comp_house` should be `No`.\n",
    "- If `comp_house` is `Yes`, then `comp_noint_bed_16` should be `No`.\n",
    "- If `comp_week` and `comp_wend` are `Not at all` then `comp_house` should be `No`. \n",
    "- If `tv_week` and `tv_wend` are `Not at all` then `tv_bed_16` should be `No`. \n",
    "\n",
    "Imputing using this method should allow for some of the values to, but should impute enough `No` values to these columns for other imputation methods to start working giving some more variability.\n"
   ],
   "cell_type": "markdown",
   "metadata": {}
  },
  {
   "cell_type": "code",
   "execution_count": 9,
   "metadata": {},
   "outputs": [
    {
     "output_type": "execute_result",
     "data": {
      "text/plain": [
       "       comp_bed_9  mat_dep  mat_age  weight_16   height_16     iq  \\\n",
       "X                                                                   \n",
       "1             NaN      3.0     30.0  59.294132  181.602831  107.0   \n",
       "2             NaN      9.0     26.0        NaN         NaN   85.0   \n",
       "3             NaN      3.0     24.0        NaN         NaN    NaN   \n",
       "4             0.0      NaN     22.0  49.812426  160.224186    NaN   \n",
       "5             0.0      8.0     31.0  62.270030  191.703227  132.0   \n",
       "...           ...      ...      ...        ...         ...    ...   \n",
       "13730         NaN     13.0     27.0        NaN         NaN    NaN   \n",
       "13731         0.0      6.0     29.0        NaN         NaN    NaN   \n",
       "13732         NaN     21.0     37.0  58.075832  169.235565  108.0   \n",
       "13733         0.0     10.0     30.0        NaN         NaN  103.0   \n",
       "13734         0.0      6.0     26.0  70.732913  176.873882  102.0   \n",
       "\n",
       "       comp_noint_bed_16  comp_int_bed_16  talk_phon_wend  text_wend  ...  \\\n",
       "X                                                                     ...   \n",
       "1                    0.0              NaN             1.0        1.0  ...   \n",
       "2                    NaN              NaN             NaN        NaN  ...   \n",
       "3                    NaN              NaN             NaN        NaN  ...   \n",
       "4                    NaN              NaN             NaN        NaN  ...   \n",
       "5                    1.0              0.0             0.0        0.0  ...   \n",
       "...                  ...              ...             ...        ...  ...   \n",
       "13730                NaN              NaN             NaN        NaN  ...   \n",
       "13731                NaN              NaN             0.0        1.0  ...   \n",
       "13732                NaN              NaN             1.0        2.0  ...   \n",
       "13733                0.0              NaN             1.0        2.0  ...   \n",
       "13734                NaN              NaN             NaN        NaN  ...   \n",
       "\n",
       "       dep_score  comp_house  tv_bed_16  creat_14  comp_games  fam_tv_eve  \\\n",
       "X                                                                           \n",
       "1            0.0         1.0        1.0       1.0         0.0         1.0   \n",
       "2            NaN         NaN        NaN       NaN         NaN         NaN   \n",
       "3            NaN         NaN        NaN       NaN         NaN         1.0   \n",
       "4            NaN         NaN        NaN       NaN         0.0         NaN   \n",
       "5            NaN         0.0        NaN       1.0         0.0         1.0   \n",
       "...          ...         ...        ...       ...         ...         ...   \n",
       "13730        NaN         NaN        NaN       NaN         NaN         2.0   \n",
       "13731        NaN         NaN        NaN       NaN         0.0         2.0   \n",
       "13732        NaN         NaN        NaN       1.0         0.0         0.0   \n",
       "13733        0.0         1.0        NaN       0.0         0.0         1.0   \n",
       "13734        NaN         NaN        NaN       0.0         NaN         1.0   \n",
       "\n",
       "       fam_tv_aft  fam_tv_mor  sex  birth_order  \n",
       "X                                                \n",
       "1             0.0         2.0  0.0          0.0  \n",
       "2             NaN         NaN  0.0          1.0  \n",
       "3             2.0         0.0  1.0          0.0  \n",
       "4             NaN         NaN  1.0          0.0  \n",
       "5             2.0         2.0  0.0          0.0  \n",
       "...           ...         ...  ...          ...  \n",
       "13730         2.0         2.0  0.0          0.0  \n",
       "13731         0.0         0.0  1.0          0.0  \n",
       "13732         0.0         0.0  1.0          0.0  \n",
       "13733         0.0         2.0  1.0          0.0  \n",
       "13734         0.0         2.0  1.0          0.0  \n",
       "\n",
       "[13734 rows x 82 columns]"
      ],
      "text/html": "<div>\n<style scoped>\n    .dataframe tbody tr th:only-of-type {\n        vertical-align: middle;\n    }\n\n    .dataframe tbody tr th {\n        vertical-align: top;\n    }\n\n    .dataframe thead th {\n        text-align: right;\n    }\n</style>\n<table border=\"1\" class=\"dataframe\">\n  <thead>\n    <tr style=\"text-align: right;\">\n      <th></th>\n      <th>comp_bed_9</th>\n      <th>mat_dep</th>\n      <th>mat_age</th>\n      <th>weight_16</th>\n      <th>height_16</th>\n      <th>iq</th>\n      <th>comp_noint_bed_16</th>\n      <th>comp_int_bed_16</th>\n      <th>talk_phon_wend</th>\n      <th>text_wend</th>\n      <th>...</th>\n      <th>dep_score</th>\n      <th>comp_house</th>\n      <th>tv_bed_16</th>\n      <th>creat_14</th>\n      <th>comp_games</th>\n      <th>fam_tv_eve</th>\n      <th>fam_tv_aft</th>\n      <th>fam_tv_mor</th>\n      <th>sex</th>\n      <th>birth_order</th>\n    </tr>\n    <tr>\n      <th>X</th>\n      <th></th>\n      <th></th>\n      <th></th>\n      <th></th>\n      <th></th>\n      <th></th>\n      <th></th>\n      <th></th>\n      <th></th>\n      <th></th>\n      <th></th>\n      <th></th>\n      <th></th>\n      <th></th>\n      <th></th>\n      <th></th>\n      <th></th>\n      <th></th>\n      <th></th>\n      <th></th>\n      <th></th>\n    </tr>\n  </thead>\n  <tbody>\n    <tr>\n      <th>1</th>\n      <td>NaN</td>\n      <td>3.0</td>\n      <td>30.0</td>\n      <td>59.294132</td>\n      <td>181.602831</td>\n      <td>107.0</td>\n      <td>0.0</td>\n      <td>NaN</td>\n      <td>1.0</td>\n      <td>1.0</td>\n      <td>...</td>\n      <td>0.0</td>\n      <td>1.0</td>\n      <td>1.0</td>\n      <td>1.0</td>\n      <td>0.0</td>\n      <td>1.0</td>\n      <td>0.0</td>\n      <td>2.0</td>\n      <td>0.0</td>\n      <td>0.0</td>\n    </tr>\n    <tr>\n      <th>2</th>\n      <td>NaN</td>\n      <td>9.0</td>\n      <td>26.0</td>\n      <td>NaN</td>\n      <td>NaN</td>\n      <td>85.0</td>\n      <td>NaN</td>\n      <td>NaN</td>\n      <td>NaN</td>\n      <td>NaN</td>\n      <td>...</td>\n      <td>NaN</td>\n      <td>NaN</td>\n      <td>NaN</td>\n      <td>NaN</td>\n      <td>NaN</td>\n      <td>NaN</td>\n      <td>NaN</td>\n      <td>NaN</td>\n      <td>0.0</td>\n      <td>1.0</td>\n    </tr>\n    <tr>\n      <th>3</th>\n      <td>NaN</td>\n      <td>3.0</td>\n      <td>24.0</td>\n      <td>NaN</td>\n      <td>NaN</td>\n      <td>NaN</td>\n      <td>NaN</td>\n      <td>NaN</td>\n      <td>NaN</td>\n      <td>NaN</td>\n      <td>...</td>\n      <td>NaN</td>\n      <td>NaN</td>\n      <td>NaN</td>\n      <td>NaN</td>\n      <td>NaN</td>\n      <td>1.0</td>\n      <td>2.0</td>\n      <td>0.0</td>\n      <td>1.0</td>\n      <td>0.0</td>\n    </tr>\n    <tr>\n      <th>4</th>\n      <td>0.0</td>\n      <td>NaN</td>\n      <td>22.0</td>\n      <td>49.812426</td>\n      <td>160.224186</td>\n      <td>NaN</td>\n      <td>NaN</td>\n      <td>NaN</td>\n      <td>NaN</td>\n      <td>NaN</td>\n      <td>...</td>\n      <td>NaN</td>\n      <td>NaN</td>\n      <td>NaN</td>\n      <td>NaN</td>\n      <td>0.0</td>\n      <td>NaN</td>\n      <td>NaN</td>\n      <td>NaN</td>\n      <td>1.0</td>\n      <td>0.0</td>\n    </tr>\n    <tr>\n      <th>5</th>\n      <td>0.0</td>\n      <td>8.0</td>\n      <td>31.0</td>\n      <td>62.270030</td>\n      <td>191.703227</td>\n      <td>132.0</td>\n      <td>1.0</td>\n      <td>0.0</td>\n      <td>0.0</td>\n      <td>0.0</td>\n      <td>...</td>\n      <td>NaN</td>\n      <td>0.0</td>\n      <td>NaN</td>\n      <td>1.0</td>\n      <td>0.0</td>\n      <td>1.0</td>\n      <td>2.0</td>\n      <td>2.0</td>\n      <td>0.0</td>\n      <td>0.0</td>\n    </tr>\n    <tr>\n      <th>...</th>\n      <td>...</td>\n      <td>...</td>\n      <td>...</td>\n      <td>...</td>\n      <td>...</td>\n      <td>...</td>\n      <td>...</td>\n      <td>...</td>\n      <td>...</td>\n      <td>...</td>\n      <td>...</td>\n      <td>...</td>\n      <td>...</td>\n      <td>...</td>\n      <td>...</td>\n      <td>...</td>\n      <td>...</td>\n      <td>...</td>\n      <td>...</td>\n      <td>...</td>\n      <td>...</td>\n    </tr>\n    <tr>\n      <th>13730</th>\n      <td>NaN</td>\n      <td>13.0</td>\n      <td>27.0</td>\n      <td>NaN</td>\n      <td>NaN</td>\n      <td>NaN</td>\n      <td>NaN</td>\n      <td>NaN</td>\n      <td>NaN</td>\n      <td>NaN</td>\n      <td>...</td>\n      <td>NaN</td>\n      <td>NaN</td>\n      <td>NaN</td>\n      <td>NaN</td>\n      <td>NaN</td>\n      <td>2.0</td>\n      <td>2.0</td>\n      <td>2.0</td>\n      <td>0.0</td>\n      <td>0.0</td>\n    </tr>\n    <tr>\n      <th>13731</th>\n      <td>0.0</td>\n      <td>6.0</td>\n      <td>29.0</td>\n      <td>NaN</td>\n      <td>NaN</td>\n      <td>NaN</td>\n      <td>NaN</td>\n      <td>NaN</td>\n      <td>0.0</td>\n      <td>1.0</td>\n      <td>...</td>\n      <td>NaN</td>\n      <td>NaN</td>\n      <td>NaN</td>\n      <td>NaN</td>\n      <td>0.0</td>\n      <td>2.0</td>\n      <td>0.0</td>\n      <td>0.0</td>\n      <td>1.0</td>\n      <td>0.0</td>\n    </tr>\n    <tr>\n      <th>13732</th>\n      <td>NaN</td>\n      <td>21.0</td>\n      <td>37.0</td>\n      <td>58.075832</td>\n      <td>169.235565</td>\n      <td>108.0</td>\n      <td>NaN</td>\n      <td>NaN</td>\n      <td>1.0</td>\n      <td>2.0</td>\n      <td>...</td>\n      <td>NaN</td>\n      <td>NaN</td>\n      <td>NaN</td>\n      <td>1.0</td>\n      <td>0.0</td>\n      <td>0.0</td>\n      <td>0.0</td>\n      <td>0.0</td>\n      <td>1.0</td>\n      <td>0.0</td>\n    </tr>\n    <tr>\n      <th>13733</th>\n      <td>0.0</td>\n      <td>10.0</td>\n      <td>30.0</td>\n      <td>NaN</td>\n      <td>NaN</td>\n      <td>103.0</td>\n      <td>0.0</td>\n      <td>NaN</td>\n      <td>1.0</td>\n      <td>2.0</td>\n      <td>...</td>\n      <td>0.0</td>\n      <td>1.0</td>\n      <td>NaN</td>\n      <td>0.0</td>\n      <td>0.0</td>\n      <td>1.0</td>\n      <td>0.0</td>\n      <td>2.0</td>\n      <td>1.0</td>\n      <td>0.0</td>\n    </tr>\n    <tr>\n      <th>13734</th>\n      <td>0.0</td>\n      <td>6.0</td>\n      <td>26.0</td>\n      <td>70.732913</td>\n      <td>176.873882</td>\n      <td>102.0</td>\n      <td>NaN</td>\n      <td>NaN</td>\n      <td>NaN</td>\n      <td>NaN</td>\n      <td>...</td>\n      <td>NaN</td>\n      <td>NaN</td>\n      <td>NaN</td>\n      <td>0.0</td>\n      <td>NaN</td>\n      <td>1.0</td>\n      <td>0.0</td>\n      <td>2.0</td>\n      <td>1.0</td>\n      <td>0.0</td>\n    </tr>\n  </tbody>\n</table>\n<p>13734 rows × 82 columns</p>\n</div>"
     },
     "metadata": {},
     "execution_count": 9
    }
   ],
   "source": [
    "sub_df = df.copy()\n",
    "\n",
    "sub_df.loc[(sub_df[\"comp_noint_bed_16\"] == 1.0), \"comp_int_bed_16\"] = 0.0\n",
    "sub_df.loc[(sub_df[\"comp_int_bed_16\"] == 1.0), \"comp_noint_bed_16\"] = 0.0\n",
    "sub_df.loc[(sub_df[\"comp_noint_bed_16\"] == 1.0), \"comp_house\"] = 0.0\n",
    "sub_df.loc[(sub_df[\"comp_house\"] == 1.0), \"comp_noint_bed_16\"] = 0.0\n",
    "sub_df.loc[(sub_df[\"comp_week\"] == 1.0) & (sub_df[\"comp_wend\"] == 1.0), \"comp_house\"] = 0.0\n",
    "sub_df.loc[(sub_df[\"tv_week\"] == 1.0) & (sub_df[\"tv_wend\"] == 1.0), \"tv_bed_16\"] = 0.0\n",
    "\n",
    "sub_df"
   ]
  },
  {
   "source": [
    "Lets see how many values were filled in for these features."
   ],
   "cell_type": "markdown",
   "metadata": {}
  },
  {
   "cell_type": "code",
   "execution_count": 10,
   "metadata": {},
   "outputs": [
    {
     "output_type": "stream",
     "name": "stdout",
     "text": [
      "comp_noint_bed_16:\n        No count = 2898\n        Yes count = 471\n        NaN count = 10365 (75.47%)\n\ncomp_int_bed_16:\n        No count = 471\n        Yes count = 2446\n        NaN count = 10817 (78.76%)\n\ncomp_house:\n        No count = 975\n        Yes count = 567\n        NaN count = 12192 (88.77%)\n\ntv_bed_16:\n        No count = 462\n        Yes count = 3648\n        NaN count = 9624 (70.07%)\n\n"
     ]
    }
   ],
   "source": [
    "num_samples = len(sub_df)\n",
    "single_features = [\n",
    "    \"comp_noint_bed_16\", \"comp_int_bed_16\", \"comp_house\", \"tv_bed_16\"\n",
    "]\n",
    "\n",
    "for feature in single_features:\n",
    "    nan_count = sub_df[feature].isna().sum()\n",
    "    value_counts = sub_df[feature].value_counts().sort_values(\"index\")\n",
    "    print(f\"{feature}:\\n\\\n",
    "        No count = {value_counts[0]}\\n\\\n",
    "        Yes count = {value_counts[1]}\\n\\\n",
    "        NaN count = {nan_count} ({100*nan_count/num_samples:.2f}%)\\n\")"
   ]
  },
  {
   "source": [
    "Although a high number of values are still `NaN`, this amount is inline with other features in the dataset so it should be a good starting point for other imputation methods.\n",
    "\n",
    "Lets save this new dataset."
   ],
   "cell_type": "markdown",
   "metadata": {}
  },
  {
   "cell_type": "code",
   "execution_count": 11,
   "metadata": {},
   "outputs": [],
   "source": [
    "save_csv_path = os.path.join(base_dir, \"data/altered/imputed/maps_fixed_binary.csv\")\n",
    "sub_df.to_csv(save_csv_path)"
   ]
  },
  {
   "source": [
    "#### DAWBA band features with missing band entries\n",
    "\n",
    "For all depression and anxiety band features we have values of 0-5; these map to the following DAWBA bands for child mental health.\n",
    "\n",
    "|Category |DAWBA Band |\n",
    "|:-- |:--- |\n",
    "|0 |<0.1% |\n",
    "|1 |~0.5% |\n",
    "|2 |~3% |\n",
    "|3 |~15% |\n",
    "|4 |~50% |\n",
    "|5 |>70% |\n",
    "\n",
    "Each of the `anx_band` and `dep_band` features have at least some entries apart from `anx_band_07`, which is without any 0 values. Similarly to above, this may cause issues with some imputation methods resulting in no NaN values being filled with a `0` category which is unlikely.\n",
    "\n",
    "The `anx_band` and `dep_band` features have high correlation between eachother as seen in our feature correlation analysis. This makes logical sense as although different conditions entirely, depression and anxiety are closely linked; in patients suffering from both conditions, the effects of one condition will often worsen symptoms of the other.\n",
    "\n",
    "We can use this knowledge to make some logical assumptions about children with missing values for the `anx_band_07` feature. It may not be enough to simply impute `0` for all children with 0 for `dep_band_07`, but if we also look forward to `anx_band_10` and `dep_band_10` and these are also both `0` this should be a strong enough indication that `anx_band_07` was likely `0`."
   ],
   "cell_type": "markdown",
   "metadata": {}
  },
  {
   "cell_type": "code",
   "execution_count": 12,
   "metadata": {},
   "outputs": [
    {
     "output_type": "execute_result",
     "data": {
      "text/plain": [
       "Empty DataFrame\n",
       "Columns: [anx_band_07, dep_band_07, anx_band_10, dep_band_10]\n",
       "Index: []"
      ],
      "text/html": "<div>\n<style scoped>\n    .dataframe tbody tr th:only-of-type {\n        vertical-align: middle;\n    }\n\n    .dataframe tbody tr th {\n        vertical-align: top;\n    }\n\n    .dataframe thead th {\n        text-align: right;\n    }\n</style>\n<table border=\"1\" class=\"dataframe\">\n  <thead>\n    <tr style=\"text-align: right;\">\n      <th></th>\n      <th>anx_band_07</th>\n      <th>dep_band_07</th>\n      <th>anx_band_10</th>\n      <th>dep_band_10</th>\n    </tr>\n    <tr>\n      <th>X</th>\n      <th></th>\n      <th></th>\n      <th></th>\n      <th></th>\n    </tr>\n  </thead>\n  <tbody>\n  </tbody>\n</table>\n</div>"
     },
     "metadata": {},
     "execution_count": 12
    }
   ],
   "source": [
    "ad_df = sub_df[[\"anx_band_07\", \"dep_band_07\", \"anx_band_10\", \"dep_band_10\"]].copy()\n",
    "\n",
    "ad_df[\n",
    "    (ad_df[\"anx_band_07\"].isna())  \n",
    "    & (ad_df[\"dep_band_07\"] == 0.0)\n",
    "    & (ad_df[\"anx_band_10\"] == 0.0)\n",
    "    & (ad_df[\"dep_band_10\"] == 0.0)\n",
    "]"
   ]
  },
  {
   "source": [
    "Unfortunately it seems all of these columns are missing a lot of values. No rows meet this criteria for imputation, the only condition that gives reasonable results is when `anx_band_07` is missing and `dep_band_10` is `0`, which is not something which would make sense to map `anx_band_07` to directly. We shall leave the `anx_band_07` column as is as there is no substition we can make based off strong enough correlations with other columns. \n",
    "\n",
    "The fact that NaN values are missing when none of the other features are `0` suggests that the features are missing not at random (MNAR). This would make sense as `0` maps to the DAWBA band of `<0.1%`, so a lot of the missing entries are likely representing the child not having anxiety and so not knowing their anxiety band.\n",
    "\n",
    "Using this information we can change our substition criteria to say if at least one of these rows are `0` and the others are missing, then we can assume `anx_band_07` is `0`."
   ],
   "cell_type": "markdown",
   "metadata": {}
  },
  {
   "cell_type": "code",
   "execution_count": 13,
   "metadata": {},
   "outputs": [
    {
     "output_type": "execute_result",
     "data": {
      "text/plain": [
       "Empty DataFrame\n",
       "Columns: [anx_band_07, dep_band_07, anx_band_10, dep_band_10]\n",
       "Index: []"
      ],
      "text/html": "<div>\n<style scoped>\n    .dataframe tbody tr th:only-of-type {\n        vertical-align: middle;\n    }\n\n    .dataframe tbody tr th {\n        vertical-align: top;\n    }\n\n    .dataframe thead th {\n        text-align: right;\n    }\n</style>\n<table border=\"1\" class=\"dataframe\">\n  <thead>\n    <tr style=\"text-align: right;\">\n      <th></th>\n      <th>anx_band_07</th>\n      <th>dep_band_07</th>\n      <th>anx_band_10</th>\n      <th>dep_band_10</th>\n    </tr>\n    <tr>\n      <th>X</th>\n      <th></th>\n      <th></th>\n      <th></th>\n      <th></th>\n    </tr>\n  </thead>\n  <tbody>\n  </tbody>\n</table>\n</div>"
     },
     "metadata": {},
     "execution_count": 13
    }
   ],
   "source": [
    "ad_df[\n",
    "    (ad_df[\"anx_band_07\"].isna())  \n",
    "    & (ad_df[[\"dep_band_07\", \"anx_band_10\", \"dep_band_10\"]].sum(axis=1) == 0.0)\n",
    "    & ~ (ad_df[\"dep_band_07\"].isna() & ad_df[\"anx_band_10\"].isna() & ad_df[\"dep_band_10\"].isna()) \n",
    "]"
   ]
  },
  {
   "source": [
    "This also gives no results, which suggests the `0` value is uncommon. Let's check the value counts for each of the band features and see if we can spot any patterns."
   ],
   "cell_type": "markdown",
   "metadata": {}
  },
  {
   "cell_type": "code",
   "execution_count": 14,
   "metadata": {},
   "outputs": [
    {
     "output_type": "execute_result",
     "data": {
      "text/plain": [
       "       anx_band_07  anx_band_10  anx_band_13  anx_band_15  dep_band_07  \\\n",
       "DAWBA                                                                    \n",
       "0.0            NaN            4           15          3.0       5050.0   \n",
       "1.0         3856.0         3019         2881       1953.0       2802.0   \n",
       "2.0         3907.0         4167         3821       2740.0          NaN   \n",
       "3.0          370.0          528          338        508.0        188.0   \n",
       "4.0           74.0           66           72         99.0         49.0   \n",
       "5.0           73.0           68           31          NaN          NaN   \n",
       "\n",
       "       dep_band_10  dep_band_13  dep_band_15  \n",
       "DAWBA                                         \n",
       "0.0         4500.0       4022.0       1831.0  \n",
       "1.0         2813.0       2553.0       2976.0  \n",
       "2.0            NaN          NaN          NaN  \n",
       "3.0          294.0        355.0        403.0  \n",
       "4.0           66.0         54.0         75.0  \n",
       "5.0            6.0         19.0         14.0  "
      ],
      "text/html": "<div>\n<style scoped>\n    .dataframe tbody tr th:only-of-type {\n        vertical-align: middle;\n    }\n\n    .dataframe tbody tr th {\n        vertical-align: top;\n    }\n\n    .dataframe thead th {\n        text-align: right;\n    }\n</style>\n<table border=\"1\" class=\"dataframe\">\n  <thead>\n    <tr style=\"text-align: right;\">\n      <th></th>\n      <th>anx_band_07</th>\n      <th>anx_band_10</th>\n      <th>anx_band_13</th>\n      <th>anx_band_15</th>\n      <th>dep_band_07</th>\n      <th>dep_band_10</th>\n      <th>dep_band_13</th>\n      <th>dep_band_15</th>\n    </tr>\n    <tr>\n      <th>DAWBA</th>\n      <th></th>\n      <th></th>\n      <th></th>\n      <th></th>\n      <th></th>\n      <th></th>\n      <th></th>\n      <th></th>\n    </tr>\n  </thead>\n  <tbody>\n    <tr>\n      <th>0.0</th>\n      <td>NaN</td>\n      <td>4</td>\n      <td>15</td>\n      <td>3.0</td>\n      <td>5050.0</td>\n      <td>4500.0</td>\n      <td>4022.0</td>\n      <td>1831.0</td>\n    </tr>\n    <tr>\n      <th>1.0</th>\n      <td>3856.0</td>\n      <td>3019</td>\n      <td>2881</td>\n      <td>1953.0</td>\n      <td>2802.0</td>\n      <td>2813.0</td>\n      <td>2553.0</td>\n      <td>2976.0</td>\n    </tr>\n    <tr>\n      <th>2.0</th>\n      <td>3907.0</td>\n      <td>4167</td>\n      <td>3821</td>\n      <td>2740.0</td>\n      <td>NaN</td>\n      <td>NaN</td>\n      <td>NaN</td>\n      <td>NaN</td>\n    </tr>\n    <tr>\n      <th>3.0</th>\n      <td>370.0</td>\n      <td>528</td>\n      <td>338</td>\n      <td>508.0</td>\n      <td>188.0</td>\n      <td>294.0</td>\n      <td>355.0</td>\n      <td>403.0</td>\n    </tr>\n    <tr>\n      <th>4.0</th>\n      <td>74.0</td>\n      <td>66</td>\n      <td>72</td>\n      <td>99.0</td>\n      <td>49.0</td>\n      <td>66.0</td>\n      <td>54.0</td>\n      <td>75.0</td>\n    </tr>\n    <tr>\n      <th>5.0</th>\n      <td>73.0</td>\n      <td>68</td>\n      <td>31</td>\n      <td>NaN</td>\n      <td>NaN</td>\n      <td>6.0</td>\n      <td>19.0</td>\n      <td>14.0</td>\n    </tr>\n  </tbody>\n</table>\n</div>"
     },
     "metadata": {},
     "execution_count": 14
    }
   ],
   "source": [
    "bands = [\n",
    "    \"anx_band_07\", \"anx_band_10\", \"anx_band_13\", \"anx_band_15\",\n",
    "    \"dep_band_07\", \"dep_band_10\", \"dep_band_13\", \"dep_band_15\",\n",
    "]\n",
    "\n",
    "df_count = pd.DataFrame(columns=bands, index=[0.0, 1.0, 2.0, 3.0, 4.0, 5.0])\n",
    "df_count.index.name = \"DAWBA\"\n",
    "\n",
    "counts = [df[band].value_counts() for band in bands]\n",
    "for count in counts:\n",
    "    df_count[count.name] = count\n",
    "\n",
    "df_count"
   ]
  },
  {
   "source": [
    "As expected, there are not a lot of `0` values for the anxiety band features. There are not a lot of higher values either and this is the same for the depression bands. Interestingly there are also no band `2` values for any entry at any age.\n",
    "\n",
    "Rather than imputing these values it may make sense to combine the DAWBA bands into low (0-1), medium (2-3) and high (4-5), this would mean there are values for each band for each band feature.\n",
    "\n",
    "Lets apply this to `maps_fixed_binary` from the previous imputation step."
   ],
   "cell_type": "markdown",
   "metadata": {}
  },
  {
   "cell_type": "code",
   "execution_count": 15,
   "metadata": {},
   "outputs": [
    {
     "output_type": "execute_result",
     "data": {
      "text/plain": [
       "       anx_band_07  anx_band_10  anx_band_13  anx_band_15  dep_band_07  \\\n",
       "X                                                                        \n",
       "1              1.0          1.0          0.0          0.0          0.0   \n",
       "2              NaN          NaN          NaN          NaN          NaN   \n",
       "3              NaN          NaN          NaN          NaN          NaN   \n",
       "4              NaN          0.0          NaN          NaN          NaN   \n",
       "5              NaN          0.0          0.0          1.0          NaN   \n",
       "...            ...          ...          ...          ...          ...   \n",
       "13730          NaN          NaN          NaN          NaN          NaN   \n",
       "13731          0.0          0.0          NaN          NaN          0.0   \n",
       "13732          0.0          1.0          0.0          1.0          0.0   \n",
       "13733          1.0          1.0          1.0          NaN          0.0   \n",
       "13734          1.0          1.0          1.0          1.0          0.0   \n",
       "\n",
       "       dep_band_10  dep_band_13  dep_band_15  \n",
       "X                                             \n",
       "1              0.0          0.0          0.0  \n",
       "2              NaN          NaN          NaN  \n",
       "3              NaN          NaN          NaN  \n",
       "4              0.0          NaN          NaN  \n",
       "5              0.0          0.0          0.0  \n",
       "...            ...          ...          ...  \n",
       "13730          NaN          NaN          NaN  \n",
       "13731          0.0          NaN          NaN  \n",
       "13732          NaN          0.0          2.0  \n",
       "13733          0.0          NaN          NaN  \n",
       "13734          0.0          0.0          0.0  \n",
       "\n",
       "[13734 rows x 8 columns]"
      ],
      "text/html": "<div>\n<style scoped>\n    .dataframe tbody tr th:only-of-type {\n        vertical-align: middle;\n    }\n\n    .dataframe tbody tr th {\n        vertical-align: top;\n    }\n\n    .dataframe thead th {\n        text-align: right;\n    }\n</style>\n<table border=\"1\" class=\"dataframe\">\n  <thead>\n    <tr style=\"text-align: right;\">\n      <th></th>\n      <th>anx_band_07</th>\n      <th>anx_band_10</th>\n      <th>anx_band_13</th>\n      <th>anx_band_15</th>\n      <th>dep_band_07</th>\n      <th>dep_band_10</th>\n      <th>dep_band_13</th>\n      <th>dep_band_15</th>\n    </tr>\n    <tr>\n      <th>X</th>\n      <th></th>\n      <th></th>\n      <th></th>\n      <th></th>\n      <th></th>\n      <th></th>\n      <th></th>\n      <th></th>\n    </tr>\n  </thead>\n  <tbody>\n    <tr>\n      <th>1</th>\n      <td>1.0</td>\n      <td>1.0</td>\n      <td>0.0</td>\n      <td>0.0</td>\n      <td>0.0</td>\n      <td>0.0</td>\n      <td>0.0</td>\n      <td>0.0</td>\n    </tr>\n    <tr>\n      <th>2</th>\n      <td>NaN</td>\n      <td>NaN</td>\n      <td>NaN</td>\n      <td>NaN</td>\n      <td>NaN</td>\n      <td>NaN</td>\n      <td>NaN</td>\n      <td>NaN</td>\n    </tr>\n    <tr>\n      <th>3</th>\n      <td>NaN</td>\n      <td>NaN</td>\n      <td>NaN</td>\n      <td>NaN</td>\n      <td>NaN</td>\n      <td>NaN</td>\n      <td>NaN</td>\n      <td>NaN</td>\n    </tr>\n    <tr>\n      <th>4</th>\n      <td>NaN</td>\n      <td>0.0</td>\n      <td>NaN</td>\n      <td>NaN</td>\n      <td>NaN</td>\n      <td>0.0</td>\n      <td>NaN</td>\n      <td>NaN</td>\n    </tr>\n    <tr>\n      <th>5</th>\n      <td>NaN</td>\n      <td>0.0</td>\n      <td>0.0</td>\n      <td>1.0</td>\n      <td>NaN</td>\n      <td>0.0</td>\n      <td>0.0</td>\n      <td>0.0</td>\n    </tr>\n    <tr>\n      <th>...</th>\n      <td>...</td>\n      <td>...</td>\n      <td>...</td>\n      <td>...</td>\n      <td>...</td>\n      <td>...</td>\n      <td>...</td>\n      <td>...</td>\n    </tr>\n    <tr>\n      <th>13730</th>\n      <td>NaN</td>\n      <td>NaN</td>\n      <td>NaN</td>\n      <td>NaN</td>\n      <td>NaN</td>\n      <td>NaN</td>\n      <td>NaN</td>\n      <td>NaN</td>\n    </tr>\n    <tr>\n      <th>13731</th>\n      <td>0.0</td>\n      <td>0.0</td>\n      <td>NaN</td>\n      <td>NaN</td>\n      <td>0.0</td>\n      <td>0.0</td>\n      <td>NaN</td>\n      <td>NaN</td>\n    </tr>\n    <tr>\n      <th>13732</th>\n      <td>0.0</td>\n      <td>1.0</td>\n      <td>0.0</td>\n      <td>1.0</td>\n      <td>0.0</td>\n      <td>NaN</td>\n      <td>0.0</td>\n      <td>2.0</td>\n    </tr>\n    <tr>\n      <th>13733</th>\n      <td>1.0</td>\n      <td>1.0</td>\n      <td>1.0</td>\n      <td>NaN</td>\n      <td>0.0</td>\n      <td>0.0</td>\n      <td>NaN</td>\n      <td>NaN</td>\n    </tr>\n    <tr>\n      <th>13734</th>\n      <td>1.0</td>\n      <td>1.0</td>\n      <td>1.0</td>\n      <td>1.0</td>\n      <td>0.0</td>\n      <td>0.0</td>\n      <td>0.0</td>\n      <td>0.0</td>\n    </tr>\n  </tbody>\n</table>\n<p>13734 rows × 8 columns</p>\n</div>"
     },
     "metadata": {},
     "execution_count": 15
    }
   ],
   "source": [
    "band_map = {\n",
    "    0.0: 0.0,\n",
    "    1.0: 0.0,\n",
    "    2.0: 1.0,\n",
    "    3.0: 1.0,\n",
    "    4.0: 2.0,\n",
    "    5.0: 2.0,\n",
    "}\n",
    "\n",
    "csv_path = os.path.join(base_dir, \"data/altered/imputed/maps_fixed_binary.csv\")\n",
    "band_df = pd.read_csv(csv_path).set_index(\"X\")\n",
    "band_df[bands] = band_df[bands].replace(band_map)\n",
    "band_df[bands]"
   ]
  },
  {
   "source": [
    "Let's now check all the features have at least a few entries for the new reduced bands."
   ],
   "cell_type": "markdown",
   "metadata": {}
  },
  {
   "cell_type": "code",
   "execution_count": 16,
   "metadata": {},
   "outputs": [
    {
     "output_type": "execute_result",
     "data": {
      "text/plain": [
       "       anx_band_07  anx_band_10  anx_band_13  anx_band_15  dep_band_07  \\\n",
       "DAWBA                                                                    \n",
       "0.0         3856.0       3023.0       2896.0       1956.0       7852.0   \n",
       "1.0         4277.0       4695.0       4159.0       3248.0        188.0   \n",
       "2.0          147.0        134.0        103.0         99.0         49.0   \n",
       "3.0            NaN          NaN          NaN          NaN          NaN   \n",
       "4.0            NaN          NaN          NaN          NaN          NaN   \n",
       "5.0            NaN          NaN          NaN          NaN          NaN   \n",
       "\n",
       "       dep_band_10  dep_band_13  dep_band_15  \n",
       "DAWBA                                         \n",
       "0.0         7313.0       6575.0       4807.0  \n",
       "1.0          294.0        355.0        403.0  \n",
       "2.0           72.0         73.0         89.0  \n",
       "3.0            NaN          NaN          NaN  \n",
       "4.0            NaN          NaN          NaN  \n",
       "5.0            NaN          NaN          NaN  "
      ],
      "text/html": "<div>\n<style scoped>\n    .dataframe tbody tr th:only-of-type {\n        vertical-align: middle;\n    }\n\n    .dataframe tbody tr th {\n        vertical-align: top;\n    }\n\n    .dataframe thead th {\n        text-align: right;\n    }\n</style>\n<table border=\"1\" class=\"dataframe\">\n  <thead>\n    <tr style=\"text-align: right;\">\n      <th></th>\n      <th>anx_band_07</th>\n      <th>anx_band_10</th>\n      <th>anx_band_13</th>\n      <th>anx_band_15</th>\n      <th>dep_band_07</th>\n      <th>dep_band_10</th>\n      <th>dep_band_13</th>\n      <th>dep_band_15</th>\n    </tr>\n    <tr>\n      <th>DAWBA</th>\n      <th></th>\n      <th></th>\n      <th></th>\n      <th></th>\n      <th></th>\n      <th></th>\n      <th></th>\n      <th></th>\n    </tr>\n  </thead>\n  <tbody>\n    <tr>\n      <th>0.0</th>\n      <td>3856.0</td>\n      <td>3023.0</td>\n      <td>2896.0</td>\n      <td>1956.0</td>\n      <td>7852.0</td>\n      <td>7313.0</td>\n      <td>6575.0</td>\n      <td>4807.0</td>\n    </tr>\n    <tr>\n      <th>1.0</th>\n      <td>4277.0</td>\n      <td>4695.0</td>\n      <td>4159.0</td>\n      <td>3248.0</td>\n      <td>188.0</td>\n      <td>294.0</td>\n      <td>355.0</td>\n      <td>403.0</td>\n    </tr>\n    <tr>\n      <th>2.0</th>\n      <td>147.0</td>\n      <td>134.0</td>\n      <td>103.0</td>\n      <td>99.0</td>\n      <td>49.0</td>\n      <td>72.0</td>\n      <td>73.0</td>\n      <td>89.0</td>\n    </tr>\n    <tr>\n      <th>3.0</th>\n      <td>NaN</td>\n      <td>NaN</td>\n      <td>NaN</td>\n      <td>NaN</td>\n      <td>NaN</td>\n      <td>NaN</td>\n      <td>NaN</td>\n      <td>NaN</td>\n    </tr>\n    <tr>\n      <th>4.0</th>\n      <td>NaN</td>\n      <td>NaN</td>\n      <td>NaN</td>\n      <td>NaN</td>\n      <td>NaN</td>\n      <td>NaN</td>\n      <td>NaN</td>\n      <td>NaN</td>\n    </tr>\n    <tr>\n      <th>5.0</th>\n      <td>NaN</td>\n      <td>NaN</td>\n      <td>NaN</td>\n      <td>NaN</td>\n      <td>NaN</td>\n      <td>NaN</td>\n      <td>NaN</td>\n      <td>NaN</td>\n    </tr>\n  </tbody>\n</table>\n</div>"
     },
     "metadata": {},
     "execution_count": 16
    }
   ],
   "source": [
    "df_count = pd.DataFrame(columns=bands, index=[0.0, 1.0, 2.0, 3.0, 4.0, 5.0])\n",
    "df_count.index.name = \"DAWBA\"\n",
    "\n",
    "counts = [band_df[band].value_counts() for band in bands]\n",
    "for count in counts:\n",
    "    df_count[count.name] = count\n",
    "\n",
    "df_count"
   ]
  },
  {
   "source": [
    "As expected all features now have values for the new bands `0`-`2`. Initial analysis also appears that value counts decrease across all features as the band increases which is to be expected.\n",
    "\n",
    "We can now save this dataframe to a new CSV for use with imputation."
   ],
   "cell_type": "markdown",
   "metadata": {}
  },
  {
   "cell_type": "code",
   "execution_count": 17,
   "metadata": {},
   "outputs": [],
   "source": [
    "save_csv_path = os.path.join(base_dir, \"data/altered/imputed/maps_fixed_binary_bands.csv\")\n",
    "band_df.to_csv(save_csv_path)"
   ]
  },
  {
   "source": [
    "## Univariate Imputation Methods\n",
    "\n",
    "Univariate imputation methods impute missing values in a feature based on calculations made on values from that feature. They provide reasonable imputation values, but lack any encoding of inter-feature relationships."
   ],
   "cell_type": "markdown",
   "metadata": {}
  },
  {
   "source": [
    "### Mean, Median and Mode Imputation\n",
    "\n",
    "This simple method of imputation consists of filling all missing values for a feature with the mean, median or mode value for the column.\n",
    "\n",
    "For numerical features the most common choice would be mean imputation, although if the data is highly skewed to one side (long left/right-hand tail) it may make more sense to use the median, e.g. for income and wealth features.\n",
    "\n",
    "For categorical features the mode of the feature should be used, i.e. assume that missing values will be the most common category."
   ],
   "cell_type": "markdown",
   "metadata": {}
  },
  {
   "cell_type": "code",
   "execution_count": 19,
   "metadata": {},
   "outputs": [
    {
     "output_type": "stream",
     "name": "stdout",
     "text": [
      "missing values in dataframe: 0\n"
     ]
    }
   ],
   "source": [
    "to_impute_path = os.path.join(base_dir, \"data/altered/imputed/maps_fixed_binary_bands.csv\")\n",
    "meanmode_path = os.path.join(base_dir, \"data/altered/imputed/maps_meanmode_impute.csv\")\n",
    "toimpute_df = pd.read_csv(to_impute_path).set_index(\"X\")\n",
    "meanmode_df = toimpute_df.copy()\n",
    "\n",
    "# mean impute numerical and mode impute categorical features\n",
    "mean_imputer = SimpleImputer(strategy=\"mean\")\n",
    "mode_imputer = SimpleImputer(strategy=\"most_frequent\")\n",
    "meanmode_df[num_features] = mean_imputer.fit_transform(toimpute_df[num_features])\n",
    "meanmode_df[cat_features] = mode_imputer.fit_transform(toimpute_df[cat_features])\n",
    "\n",
    "# save csv and ensure all there are no missing values\n",
    "meanmode_df.to_csv(meanmode_path)\n",
    "print(f\"missing values in dataframe: {meanmode_df.isna().sum().sum()}\")"
   ]
  },
  {
   "source": [
    "Unless dealing with a very small amount of missing data it is best to avoid this method of imputation as it decreases the variance in the data, affecting the distribution of the data and so any analysis of this data will be wrong as a result of this. We have a lot of missing data, so will need to look at other methods, but first lets check the distribution of a few of the newly imputed features."
   ],
   "cell_type": "markdown",
   "metadata": {}
  },
  {
   "cell_type": "code",
   "execution_count": 20,
   "metadata": {},
   "outputs": [
    {
     "output_type": "execute_result",
     "data": {
      "text/plain": [
       "['mat_dep',\n",
       " 'iq',\n",
       " 'agg_score',\n",
       " 'parity',\n",
       " 'secd_diag',\n",
       " 'prim_diag',\n",
       " 'weight_16',\n",
       " 'height_16']"
      ]
     },
     "metadata": {},
     "execution_count": 20
    }
   ],
   "source": [
    "num_features"
   ]
  },
  {
   "cell_type": "code",
   "execution_count": 21,
   "metadata": {},
   "outputs": [
    {
     "output_type": "display_data",
     "data": {
      "text/plain": "<Figure size 1440x720 with 8 Axes>",
      "image/svg+xml": "<?xml version=\"1.0\" encoding=\"utf-8\" standalone=\"no\"?>\n<!DOCTYPE svg PUBLIC \"-//W3C//DTD SVG 1.1//EN\"\n  \"http://www.w3.org/Graphics/SVG/1.1/DTD/svg11.dtd\">\n<!-- Created with matplotlib (https://matplotlib.org/) -->\n<svg height=\"710.953718pt\" version=\"1.1\" viewBox=\"0 0 1432.428125 710.953718\" width=\"1432.428125pt\" xmlns=\"http://www.w3.org/2000/svg\" xmlns:xlink=\"http://www.w3.org/1999/xlink\">\n <metadata>\n  <rdf:RDF xmlns:cc=\"http://creativecommons.org/ns#\" xmlns:dc=\"http://purl.org/dc/elements/1.1/\" xmlns:rdf=\"http://www.w3.org/1999/02/22-rdf-syntax-ns#\">\n   <cc:Work>\n    <dc:type rdf:resource=\"http://purl.org/dc/dcmitype/StillImage\"/>\n    <dc:date>2021-04-20T11:02:45.659620</dc:date>\n    <dc:format>image/svg+xml</dc:format>\n    <dc:creator>\n     <cc:Agent>\n      <dc:title>Matplotlib v3.3.2, https://matplotlib.org/</dc:title>\n     </cc:Agent>\n    </dc:creator>\n   </cc:Work>\n  </rdf:RDF>\n </metadata>\n <defs>\n  <style type=\"text/css\">*{stroke-linecap:butt;stroke-linejoin:round;}</style>\n </defs>\n <g id=\"figure_1\">\n  <g id=\"patch_1\">\n   <path d=\"M -0 710.953718 \nL 1432.428125 710.953718 \nL 1432.428125 0 \nL -0 0 \nz\n\" style=\"fill:none;\"/>\n  </g>\n  <g id=\"axes_1\">\n   <g id=\"patch_2\">\n    <path d=\"M 53.328125 142.163204 \nL 707.440625 142.163204 \nL 707.440625 7.884074 \nL 53.328125 7.884074 \nz\n\" style=\"fill:#ffffff;\"/>\n   </g>\n   <g id=\"patch_3\">\n    <path clip-path=\"url(#p10a80f5f87)\" d=\"M 83.060511 142.163204 \nL 132.614489 142.163204 \nL 132.614489 14.278318 \nL 83.060511 14.278318 \nz\n\" style=\"fill:#1f77b4;fill-opacity:0.75;stroke:#000000;stroke-linejoin:miter;\"/>\n   </g>\n   <g id=\"patch_4\">\n    <path clip-path=\"url(#p10a80f5f87)\" d=\"M 132.614489 142.163204 \nL 182.168466 142.163204 \nL 182.168466 142.163204 \nL 132.614489 142.163204 \nz\n\" style=\"fill:#1f77b4;fill-opacity:0.75;stroke:#000000;stroke-linejoin:miter;\"/>\n   </g>\n   <g id=\"patch_5\">\n    <path clip-path=\"url(#p10a80f5f87)\" d=\"M 182.168466 142.163204 \nL 231.722443 142.163204 \nL 231.722443 142.163204 \nL 182.168466 142.163204 \nz\n\" style=\"fill:#1f77b4;fill-opacity:0.75;stroke:#000000;stroke-linejoin:miter;\"/>\n   </g>\n   <g id=\"patch_6\">\n    <path clip-path=\"url(#p10a80f5f87)\" d=\"M 231.722443 142.163204 \nL 281.27642 142.163204 \nL 281.27642 142.163204 \nL 231.722443 142.163204 \nz\n\" style=\"fill:#1f77b4;fill-opacity:0.75;stroke:#000000;stroke-linejoin:miter;\"/>\n   </g>\n   <g id=\"patch_7\">\n    <path clip-path=\"url(#p10a80f5f87)\" d=\"M 281.27642 142.163204 \nL 330.830398 142.163204 \nL 330.830398 142.163204 \nL 281.27642 142.163204 \nz\n\" style=\"fill:#1f77b4;fill-opacity:0.75;stroke:#000000;stroke-linejoin:miter;\"/>\n   </g>\n   <g id=\"patch_8\">\n    <path clip-path=\"url(#p10a80f5f87)\" d=\"M 330.830398 142.163204 \nL 380.384375 142.163204 \nL 380.384375 142.163204 \nL 330.830398 142.163204 \nz\n\" style=\"fill:#1f77b4;fill-opacity:0.75;stroke:#000000;stroke-linejoin:miter;\"/>\n   </g>\n   <g id=\"patch_9\">\n    <path clip-path=\"url(#p10a80f5f87)\" d=\"M 380.384375 142.163204 \nL 429.938352 142.163204 \nL 429.938352 142.163204 \nL 380.384375 142.163204 \nz\n\" style=\"fill:#1f77b4;fill-opacity:0.75;stroke:#000000;stroke-linejoin:miter;\"/>\n   </g>\n   <g id=\"patch_10\">\n    <path clip-path=\"url(#p10a80f5f87)\" d=\"M 429.938352 142.163204 \nL 479.49233 142.163204 \nL 479.49233 142.163204 \nL 429.938352 142.163204 \nz\n\" style=\"fill:#1f77b4;fill-opacity:0.75;stroke:#000000;stroke-linejoin:miter;\"/>\n   </g>\n   <g id=\"patch_11\">\n    <path clip-path=\"url(#p10a80f5f87)\" d=\"M 479.49233 142.163204 \nL 529.046307 142.163204 \nL 529.046307 142.163204 \nL 479.49233 142.163204 \nz\n\" style=\"fill:#1f77b4;fill-opacity:0.75;stroke:#000000;stroke-linejoin:miter;\"/>\n   </g>\n   <g id=\"patch_12\">\n    <path clip-path=\"url(#p10a80f5f87)\" d=\"M 529.046307 142.163204 \nL 578.600284 142.163204 \nL 578.600284 142.163204 \nL 529.046307 142.163204 \nz\n\" style=\"fill:#1f77b4;fill-opacity:0.75;stroke:#000000;stroke-linejoin:miter;\"/>\n   </g>\n   <g id=\"patch_13\">\n    <path clip-path=\"url(#p10a80f5f87)\" d=\"M 578.600284 142.163204 \nL 628.154261 142.163204 \nL 628.154261 142.163204 \nL 578.600284 142.163204 \nz\n\" style=\"fill:#1f77b4;fill-opacity:0.75;stroke:#000000;stroke-linejoin:miter;\"/>\n   </g>\n   <g id=\"patch_14\">\n    <path clip-path=\"url(#p10a80f5f87)\" d=\"M 628.154261 142.163204 \nL 677.708239 142.163204 \nL 677.708239 67.793224 \nL 628.154261 67.793224 \nz\n\" style=\"fill:#1f77b4;fill-opacity:0.75;stroke:#000000;stroke-linejoin:miter;\"/>\n   </g>\n   <g id=\"matplotlib.axis_1\">\n    <g id=\"xtick_1\">\n     <g id=\"line2d_1\">\n      <defs>\n       <path d=\"M 0 0 \nL 0 3.5 \n\" id=\"mbd98b15b1d\" style=\"stroke:#000000;stroke-width:0.8;\"/>\n      </defs>\n      <g>\n       <use style=\"stroke:#000000;stroke-width:0.8;\" x=\"83.060511\" xlink:href=\"#mbd98b15b1d\" y=\"142.163204\"/>\n      </g>\n     </g>\n     <g id=\"text_1\">\n      <!-- 0.0 -->\n      <g transform=\"translate(75.108949 156.761641)scale(0.1 -0.1)\">\n       <defs>\n        <path d=\"M 31.78125 66.40625 \nQ 24.171875 66.40625 20.328125 58.90625 \nQ 16.5 51.421875 16.5 36.375 \nQ 16.5 21.390625 20.328125 13.890625 \nQ 24.171875 6.390625 31.78125 6.390625 \nQ 39.453125 6.390625 43.28125 13.890625 \nQ 47.125 21.390625 47.125 36.375 \nQ 47.125 51.421875 43.28125 58.90625 \nQ 39.453125 66.40625 31.78125 66.40625 \nz\nM 31.78125 74.21875 \nQ 44.046875 74.21875 50.515625 64.515625 \nQ 56.984375 54.828125 56.984375 36.375 \nQ 56.984375 17.96875 50.515625 8.265625 \nQ 44.046875 -1.421875 31.78125 -1.421875 \nQ 19.53125 -1.421875 13.0625 8.265625 \nQ 6.59375 17.96875 6.59375 36.375 \nQ 6.59375 54.828125 13.0625 64.515625 \nQ 19.53125 74.21875 31.78125 74.21875 \nz\n\" id=\"DejaVuSans-48\"/>\n        <path d=\"M 10.6875 12.40625 \nL 21 12.40625 \nL 21 0 \nL 10.6875 0 \nz\n\" id=\"DejaVuSans-46\"/>\n       </defs>\n       <use xlink:href=\"#DejaVuSans-48\"/>\n       <use x=\"63.623047\" xlink:href=\"#DejaVuSans-46\"/>\n       <use x=\"95.410156\" xlink:href=\"#DejaVuSans-48\"/>\n      </g>\n     </g>\n    </g>\n    <g id=\"xtick_2\">\n     <g id=\"line2d_2\">\n      <g>\n       <use style=\"stroke:#000000;stroke-width:0.8;\" x=\"201.990057\" xlink:href=\"#mbd98b15b1d\" y=\"142.163204\"/>\n      </g>\n     </g>\n     <g id=\"text_2\">\n      <!-- 0.2 -->\n      <g transform=\"translate(194.038494 156.761641)scale(0.1 -0.1)\">\n       <defs>\n        <path d=\"M 19.1875 8.296875 \nL 53.609375 8.296875 \nL 53.609375 0 \nL 7.328125 0 \nL 7.328125 8.296875 \nQ 12.9375 14.109375 22.625 23.890625 \nQ 32.328125 33.6875 34.8125 36.53125 \nQ 39.546875 41.84375 41.421875 45.53125 \nQ 43.3125 49.21875 43.3125 52.78125 \nQ 43.3125 58.59375 39.234375 62.25 \nQ 35.15625 65.921875 28.609375 65.921875 \nQ 23.96875 65.921875 18.8125 64.3125 \nQ 13.671875 62.703125 7.8125 59.421875 \nL 7.8125 69.390625 \nQ 13.765625 71.78125 18.9375 73 \nQ 24.125 74.21875 28.421875 74.21875 \nQ 39.75 74.21875 46.484375 68.546875 \nQ 53.21875 62.890625 53.21875 53.421875 \nQ 53.21875 48.921875 51.53125 44.890625 \nQ 49.859375 40.875 45.40625 35.40625 \nQ 44.1875 33.984375 37.640625 27.21875 \nQ 31.109375 20.453125 19.1875 8.296875 \nz\n\" id=\"DejaVuSans-50\"/>\n       </defs>\n       <use xlink:href=\"#DejaVuSans-48\"/>\n       <use x=\"63.623047\" xlink:href=\"#DejaVuSans-46\"/>\n       <use x=\"95.410156\" xlink:href=\"#DejaVuSans-50\"/>\n      </g>\n     </g>\n    </g>\n    <g id=\"xtick_3\">\n     <g id=\"line2d_3\">\n      <g>\n       <use style=\"stroke:#000000;stroke-width:0.8;\" x=\"320.919602\" xlink:href=\"#mbd98b15b1d\" y=\"142.163204\"/>\n      </g>\n     </g>\n     <g id=\"text_3\">\n      <!-- 0.4 -->\n      <g transform=\"translate(312.96804 156.761641)scale(0.1 -0.1)\">\n       <defs>\n        <path d=\"M 37.796875 64.3125 \nL 12.890625 25.390625 \nL 37.796875 25.390625 \nz\nM 35.203125 72.90625 \nL 47.609375 72.90625 \nL 47.609375 25.390625 \nL 58.015625 25.390625 \nL 58.015625 17.1875 \nL 47.609375 17.1875 \nL 47.609375 0 \nL 37.796875 0 \nL 37.796875 17.1875 \nL 4.890625 17.1875 \nL 4.890625 26.703125 \nz\n\" id=\"DejaVuSans-52\"/>\n       </defs>\n       <use xlink:href=\"#DejaVuSans-48\"/>\n       <use x=\"63.623047\" xlink:href=\"#DejaVuSans-46\"/>\n       <use x=\"95.410156\" xlink:href=\"#DejaVuSans-52\"/>\n      </g>\n     </g>\n    </g>\n    <g id=\"xtick_4\">\n     <g id=\"line2d_4\">\n      <g>\n       <use style=\"stroke:#000000;stroke-width:0.8;\" x=\"439.849148\" xlink:href=\"#mbd98b15b1d\" y=\"142.163204\"/>\n      </g>\n     </g>\n     <g id=\"text_4\">\n      <!-- 0.6 -->\n      <g transform=\"translate(431.897585 156.761641)scale(0.1 -0.1)\">\n       <defs>\n        <path d=\"M 33.015625 40.375 \nQ 26.375 40.375 22.484375 35.828125 \nQ 18.609375 31.296875 18.609375 23.390625 \nQ 18.609375 15.53125 22.484375 10.953125 \nQ 26.375 6.390625 33.015625 6.390625 \nQ 39.65625 6.390625 43.53125 10.953125 \nQ 47.40625 15.53125 47.40625 23.390625 \nQ 47.40625 31.296875 43.53125 35.828125 \nQ 39.65625 40.375 33.015625 40.375 \nz\nM 52.59375 71.296875 \nL 52.59375 62.3125 \nQ 48.875 64.0625 45.09375 64.984375 \nQ 41.3125 65.921875 37.59375 65.921875 \nQ 27.828125 65.921875 22.671875 59.328125 \nQ 17.53125 52.734375 16.796875 39.40625 \nQ 19.671875 43.65625 24.015625 45.921875 \nQ 28.375 48.1875 33.59375 48.1875 \nQ 44.578125 48.1875 50.953125 41.515625 \nQ 57.328125 34.859375 57.328125 23.390625 \nQ 57.328125 12.15625 50.6875 5.359375 \nQ 44.046875 -1.421875 33.015625 -1.421875 \nQ 20.359375 -1.421875 13.671875 8.265625 \nQ 6.984375 17.96875 6.984375 36.375 \nQ 6.984375 53.65625 15.1875 63.9375 \nQ 23.390625 74.21875 37.203125 74.21875 \nQ 40.921875 74.21875 44.703125 73.484375 \nQ 48.484375 72.75 52.59375 71.296875 \nz\n\" id=\"DejaVuSans-54\"/>\n       </defs>\n       <use xlink:href=\"#DejaVuSans-48\"/>\n       <use x=\"63.623047\" xlink:href=\"#DejaVuSans-46\"/>\n       <use x=\"95.410156\" xlink:href=\"#DejaVuSans-54\"/>\n      </g>\n     </g>\n    </g>\n    <g id=\"xtick_5\">\n     <g id=\"line2d_5\">\n      <g>\n       <use style=\"stroke:#000000;stroke-width:0.8;\" x=\"558.778693\" xlink:href=\"#mbd98b15b1d\" y=\"142.163204\"/>\n      </g>\n     </g>\n     <g id=\"text_5\">\n      <!-- 0.8 -->\n      <g transform=\"translate(550.827131 156.761641)scale(0.1 -0.1)\">\n       <defs>\n        <path d=\"M 31.78125 34.625 \nQ 24.75 34.625 20.71875 30.859375 \nQ 16.703125 27.09375 16.703125 20.515625 \nQ 16.703125 13.921875 20.71875 10.15625 \nQ 24.75 6.390625 31.78125 6.390625 \nQ 38.8125 6.390625 42.859375 10.171875 \nQ 46.921875 13.96875 46.921875 20.515625 \nQ 46.921875 27.09375 42.890625 30.859375 \nQ 38.875 34.625 31.78125 34.625 \nz\nM 21.921875 38.8125 \nQ 15.578125 40.375 12.03125 44.71875 \nQ 8.5 49.078125 8.5 55.328125 \nQ 8.5 64.0625 14.71875 69.140625 \nQ 20.953125 74.21875 31.78125 74.21875 \nQ 42.671875 74.21875 48.875 69.140625 \nQ 55.078125 64.0625 55.078125 55.328125 \nQ 55.078125 49.078125 51.53125 44.71875 \nQ 48 40.375 41.703125 38.8125 \nQ 48.828125 37.15625 52.796875 32.3125 \nQ 56.78125 27.484375 56.78125 20.515625 \nQ 56.78125 9.90625 50.3125 4.234375 \nQ 43.84375 -1.421875 31.78125 -1.421875 \nQ 19.734375 -1.421875 13.25 4.234375 \nQ 6.78125 9.90625 6.78125 20.515625 \nQ 6.78125 27.484375 10.78125 32.3125 \nQ 14.796875 37.15625 21.921875 38.8125 \nz\nM 18.3125 54.390625 \nQ 18.3125 48.734375 21.84375 45.5625 \nQ 25.390625 42.390625 31.78125 42.390625 \nQ 38.140625 42.390625 41.71875 45.5625 \nQ 45.3125 48.734375 45.3125 54.390625 \nQ 45.3125 60.0625 41.71875 63.234375 \nQ 38.140625 66.40625 31.78125 66.40625 \nQ 25.390625 66.40625 21.84375 63.234375 \nQ 18.3125 60.0625 18.3125 54.390625 \nz\n\" id=\"DejaVuSans-56\"/>\n       </defs>\n       <use xlink:href=\"#DejaVuSans-48\"/>\n       <use x=\"63.623047\" xlink:href=\"#DejaVuSans-46\"/>\n       <use x=\"95.410156\" xlink:href=\"#DejaVuSans-56\"/>\n      </g>\n     </g>\n    </g>\n    <g id=\"xtick_6\">\n     <g id=\"line2d_6\">\n      <g>\n       <use style=\"stroke:#000000;stroke-width:0.8;\" x=\"677.708239\" xlink:href=\"#mbd98b15b1d\" y=\"142.163204\"/>\n      </g>\n     </g>\n     <g id=\"text_6\">\n      <!-- 1.0 -->\n      <g transform=\"translate(669.756676 156.761641)scale(0.1 -0.1)\">\n       <defs>\n        <path d=\"M 12.40625 8.296875 \nL 28.515625 8.296875 \nL 28.515625 63.921875 \nL 10.984375 60.40625 \nL 10.984375 69.390625 \nL 28.421875 72.90625 \nL 38.28125 72.90625 \nL 38.28125 8.296875 \nL 54.390625 8.296875 \nL 54.390625 0 \nL 12.40625 0 \nz\n\" id=\"DejaVuSans-49\"/>\n       </defs>\n       <use xlink:href=\"#DejaVuSans-49\"/>\n       <use x=\"63.623047\" xlink:href=\"#DejaVuSans-46\"/>\n       <use x=\"95.410156\" xlink:href=\"#DejaVuSans-48\"/>\n      </g>\n     </g>\n    </g>\n    <g id=\"text_7\">\n     <!-- comp_house (original) -->\n     <g transform=\"translate(324.773438 170.439766)scale(0.1 -0.1)\">\n      <defs>\n       <path d=\"M 48.78125 52.59375 \nL 48.78125 44.1875 \nQ 44.96875 46.296875 41.140625 47.34375 \nQ 37.3125 48.390625 33.40625 48.390625 \nQ 24.65625 48.390625 19.8125 42.84375 \nQ 14.984375 37.3125 14.984375 27.296875 \nQ 14.984375 17.28125 19.8125 11.734375 \nQ 24.65625 6.203125 33.40625 6.203125 \nQ 37.3125 6.203125 41.140625 7.25 \nQ 44.96875 8.296875 48.78125 10.40625 \nL 48.78125 2.09375 \nQ 45.015625 0.34375 40.984375 -0.53125 \nQ 36.96875 -1.421875 32.421875 -1.421875 \nQ 20.0625 -1.421875 12.78125 6.34375 \nQ 5.515625 14.109375 5.515625 27.296875 \nQ 5.515625 40.671875 12.859375 48.328125 \nQ 20.21875 56 33.015625 56 \nQ 37.15625 56 41.109375 55.140625 \nQ 45.0625 54.296875 48.78125 52.59375 \nz\n\" id=\"DejaVuSans-99\"/>\n       <path d=\"M 30.609375 48.390625 \nQ 23.390625 48.390625 19.1875 42.75 \nQ 14.984375 37.109375 14.984375 27.296875 \nQ 14.984375 17.484375 19.15625 11.84375 \nQ 23.34375 6.203125 30.609375 6.203125 \nQ 37.796875 6.203125 41.984375 11.859375 \nQ 46.1875 17.53125 46.1875 27.296875 \nQ 46.1875 37.015625 41.984375 42.703125 \nQ 37.796875 48.390625 30.609375 48.390625 \nz\nM 30.609375 56 \nQ 42.328125 56 49.015625 48.375 \nQ 55.71875 40.765625 55.71875 27.296875 \nQ 55.71875 13.875 49.015625 6.21875 \nQ 42.328125 -1.421875 30.609375 -1.421875 \nQ 18.84375 -1.421875 12.171875 6.21875 \nQ 5.515625 13.875 5.515625 27.296875 \nQ 5.515625 40.765625 12.171875 48.375 \nQ 18.84375 56 30.609375 56 \nz\n\" id=\"DejaVuSans-111\"/>\n       <path d=\"M 52 44.1875 \nQ 55.375 50.25 60.0625 53.125 \nQ 64.75 56 71.09375 56 \nQ 79.640625 56 84.28125 50.015625 \nQ 88.921875 44.046875 88.921875 33.015625 \nL 88.921875 0 \nL 79.890625 0 \nL 79.890625 32.71875 \nQ 79.890625 40.578125 77.09375 44.375 \nQ 74.3125 48.1875 68.609375 48.1875 \nQ 61.625 48.1875 57.5625 43.546875 \nQ 53.515625 38.921875 53.515625 30.90625 \nL 53.515625 0 \nL 44.484375 0 \nL 44.484375 32.71875 \nQ 44.484375 40.625 41.703125 44.40625 \nQ 38.921875 48.1875 33.109375 48.1875 \nQ 26.21875 48.1875 22.15625 43.53125 \nQ 18.109375 38.875 18.109375 30.90625 \nL 18.109375 0 \nL 9.078125 0 \nL 9.078125 54.6875 \nL 18.109375 54.6875 \nL 18.109375 46.1875 \nQ 21.1875 51.21875 25.484375 53.609375 \nQ 29.78125 56 35.6875 56 \nQ 41.65625 56 45.828125 52.96875 \nQ 50 49.953125 52 44.1875 \nz\n\" id=\"DejaVuSans-109\"/>\n       <path d=\"M 18.109375 8.203125 \nL 18.109375 -20.796875 \nL 9.078125 -20.796875 \nL 9.078125 54.6875 \nL 18.109375 54.6875 \nL 18.109375 46.390625 \nQ 20.953125 51.265625 25.265625 53.625 \nQ 29.59375 56 35.59375 56 \nQ 45.5625 56 51.78125 48.09375 \nQ 58.015625 40.1875 58.015625 27.296875 \nQ 58.015625 14.40625 51.78125 6.484375 \nQ 45.5625 -1.421875 35.59375 -1.421875 \nQ 29.59375 -1.421875 25.265625 0.953125 \nQ 20.953125 3.328125 18.109375 8.203125 \nz\nM 48.6875 27.296875 \nQ 48.6875 37.203125 44.609375 42.84375 \nQ 40.53125 48.484375 33.40625 48.484375 \nQ 26.265625 48.484375 22.1875 42.84375 \nQ 18.109375 37.203125 18.109375 27.296875 \nQ 18.109375 17.390625 22.1875 11.75 \nQ 26.265625 6.109375 33.40625 6.109375 \nQ 40.53125 6.109375 44.609375 11.75 \nQ 48.6875 17.390625 48.6875 27.296875 \nz\n\" id=\"DejaVuSans-112\"/>\n       <path d=\"M 50.984375 -16.609375 \nL 50.984375 -23.578125 \nL -0.984375 -23.578125 \nL -0.984375 -16.609375 \nz\n\" id=\"DejaVuSans-95\"/>\n       <path d=\"M 54.890625 33.015625 \nL 54.890625 0 \nL 45.90625 0 \nL 45.90625 32.71875 \nQ 45.90625 40.484375 42.875 44.328125 \nQ 39.84375 48.1875 33.796875 48.1875 \nQ 26.515625 48.1875 22.3125 43.546875 \nQ 18.109375 38.921875 18.109375 30.90625 \nL 18.109375 0 \nL 9.078125 0 \nL 9.078125 75.984375 \nL 18.109375 75.984375 \nL 18.109375 46.1875 \nQ 21.34375 51.125 25.703125 53.5625 \nQ 30.078125 56 35.796875 56 \nQ 45.21875 56 50.046875 50.171875 \nQ 54.890625 44.34375 54.890625 33.015625 \nz\n\" id=\"DejaVuSans-104\"/>\n       <path d=\"M 8.5 21.578125 \nL 8.5 54.6875 \nL 17.484375 54.6875 \nL 17.484375 21.921875 \nQ 17.484375 14.15625 20.5 10.265625 \nQ 23.53125 6.390625 29.59375 6.390625 \nQ 36.859375 6.390625 41.078125 11.03125 \nQ 45.3125 15.671875 45.3125 23.6875 \nL 45.3125 54.6875 \nL 54.296875 54.6875 \nL 54.296875 0 \nL 45.3125 0 \nL 45.3125 8.40625 \nQ 42.046875 3.421875 37.71875 1 \nQ 33.40625 -1.421875 27.6875 -1.421875 \nQ 18.265625 -1.421875 13.375 4.4375 \nQ 8.5 10.296875 8.5 21.578125 \nz\nM 31.109375 56 \nz\n\" id=\"DejaVuSans-117\"/>\n       <path d=\"M 44.28125 53.078125 \nL 44.28125 44.578125 \nQ 40.484375 46.53125 36.375 47.5 \nQ 32.28125 48.484375 27.875 48.484375 \nQ 21.1875 48.484375 17.84375 46.4375 \nQ 14.5 44.390625 14.5 40.28125 \nQ 14.5 37.15625 16.890625 35.375 \nQ 19.28125 33.59375 26.515625 31.984375 \nL 29.59375 31.296875 \nQ 39.15625 29.25 43.1875 25.515625 \nQ 47.21875 21.78125 47.21875 15.09375 \nQ 47.21875 7.46875 41.1875 3.015625 \nQ 35.15625 -1.421875 24.609375 -1.421875 \nQ 20.21875 -1.421875 15.453125 -0.5625 \nQ 10.6875 0.296875 5.421875 2 \nL 5.421875 11.28125 \nQ 10.40625 8.6875 15.234375 7.390625 \nQ 20.0625 6.109375 24.8125 6.109375 \nQ 31.15625 6.109375 34.5625 8.28125 \nQ 37.984375 10.453125 37.984375 14.40625 \nQ 37.984375 18.0625 35.515625 20.015625 \nQ 33.0625 21.96875 24.703125 23.78125 \nL 21.578125 24.515625 \nQ 13.234375 26.265625 9.515625 29.90625 \nQ 5.8125 33.546875 5.8125 39.890625 \nQ 5.8125 47.609375 11.28125 51.796875 \nQ 16.75 56 26.8125 56 \nQ 31.78125 56 36.171875 55.265625 \nQ 40.578125 54.546875 44.28125 53.078125 \nz\n\" id=\"DejaVuSans-115\"/>\n       <path d=\"M 56.203125 29.59375 \nL 56.203125 25.203125 \nL 14.890625 25.203125 \nQ 15.484375 15.921875 20.484375 11.0625 \nQ 25.484375 6.203125 34.421875 6.203125 \nQ 39.59375 6.203125 44.453125 7.46875 \nQ 49.3125 8.734375 54.109375 11.28125 \nL 54.109375 2.78125 \nQ 49.265625 0.734375 44.1875 -0.34375 \nQ 39.109375 -1.421875 33.890625 -1.421875 \nQ 20.796875 -1.421875 13.15625 6.1875 \nQ 5.515625 13.8125 5.515625 26.8125 \nQ 5.515625 40.234375 12.765625 48.109375 \nQ 20.015625 56 32.328125 56 \nQ 43.359375 56 49.78125 48.890625 \nQ 56.203125 41.796875 56.203125 29.59375 \nz\nM 47.21875 32.234375 \nQ 47.125 39.59375 43.09375 43.984375 \nQ 39.0625 48.390625 32.421875 48.390625 \nQ 24.90625 48.390625 20.390625 44.140625 \nQ 15.875 39.890625 15.1875 32.171875 \nz\n\" id=\"DejaVuSans-101\"/>\n       <path id=\"DejaVuSans-32\"/>\n       <path d=\"M 31 75.875 \nQ 24.46875 64.65625 21.28125 53.65625 \nQ 18.109375 42.671875 18.109375 31.390625 \nQ 18.109375 20.125 21.3125 9.0625 \nQ 24.515625 -2 31 -13.1875 \nL 23.1875 -13.1875 \nQ 15.875 -1.703125 12.234375 9.375 \nQ 8.59375 20.453125 8.59375 31.390625 \nQ 8.59375 42.28125 12.203125 53.3125 \nQ 15.828125 64.359375 23.1875 75.875 \nz\n\" id=\"DejaVuSans-40\"/>\n       <path d=\"M 41.109375 46.296875 \nQ 39.59375 47.171875 37.8125 47.578125 \nQ 36.03125 48 33.890625 48 \nQ 26.265625 48 22.1875 43.046875 \nQ 18.109375 38.09375 18.109375 28.8125 \nL 18.109375 0 \nL 9.078125 0 \nL 9.078125 54.6875 \nL 18.109375 54.6875 \nL 18.109375 46.1875 \nQ 20.953125 51.171875 25.484375 53.578125 \nQ 30.03125 56 36.53125 56 \nQ 37.453125 56 38.578125 55.875 \nQ 39.703125 55.765625 41.0625 55.515625 \nz\n\" id=\"DejaVuSans-114\"/>\n       <path d=\"M 9.421875 54.6875 \nL 18.40625 54.6875 \nL 18.40625 0 \nL 9.421875 0 \nz\nM 9.421875 75.984375 \nL 18.40625 75.984375 \nL 18.40625 64.59375 \nL 9.421875 64.59375 \nz\n\" id=\"DejaVuSans-105\"/>\n       <path d=\"M 45.40625 27.984375 \nQ 45.40625 37.75 41.375 43.109375 \nQ 37.359375 48.484375 30.078125 48.484375 \nQ 22.859375 48.484375 18.828125 43.109375 \nQ 14.796875 37.75 14.796875 27.984375 \nQ 14.796875 18.265625 18.828125 12.890625 \nQ 22.859375 7.515625 30.078125 7.515625 \nQ 37.359375 7.515625 41.375 12.890625 \nQ 45.40625 18.265625 45.40625 27.984375 \nz\nM 54.390625 6.78125 \nQ 54.390625 -7.171875 48.1875 -13.984375 \nQ 42 -20.796875 29.203125 -20.796875 \nQ 24.46875 -20.796875 20.265625 -20.09375 \nQ 16.0625 -19.390625 12.109375 -17.921875 \nL 12.109375 -9.1875 \nQ 16.0625 -11.328125 19.921875 -12.34375 \nQ 23.78125 -13.375 27.78125 -13.375 \nQ 36.625 -13.375 41.015625 -8.765625 \nQ 45.40625 -4.15625 45.40625 5.171875 \nL 45.40625 9.625 \nQ 42.625 4.78125 38.28125 2.390625 \nQ 33.9375 0 27.875 0 \nQ 17.828125 0 11.671875 7.65625 \nQ 5.515625 15.328125 5.515625 27.984375 \nQ 5.515625 40.671875 11.671875 48.328125 \nQ 17.828125 56 27.875 56 \nQ 33.9375 56 38.28125 53.609375 \nQ 42.625 51.21875 45.40625 46.390625 \nL 45.40625 54.6875 \nL 54.390625 54.6875 \nz\n\" id=\"DejaVuSans-103\"/>\n       <path d=\"M 54.890625 33.015625 \nL 54.890625 0 \nL 45.90625 0 \nL 45.90625 32.71875 \nQ 45.90625 40.484375 42.875 44.328125 \nQ 39.84375 48.1875 33.796875 48.1875 \nQ 26.515625 48.1875 22.3125 43.546875 \nQ 18.109375 38.921875 18.109375 30.90625 \nL 18.109375 0 \nL 9.078125 0 \nL 9.078125 54.6875 \nL 18.109375 54.6875 \nL 18.109375 46.1875 \nQ 21.34375 51.125 25.703125 53.5625 \nQ 30.078125 56 35.796875 56 \nQ 45.21875 56 50.046875 50.171875 \nQ 54.890625 44.34375 54.890625 33.015625 \nz\n\" id=\"DejaVuSans-110\"/>\n       <path d=\"M 34.28125 27.484375 \nQ 23.390625 27.484375 19.1875 25 \nQ 14.984375 22.515625 14.984375 16.5 \nQ 14.984375 11.71875 18.140625 8.90625 \nQ 21.296875 6.109375 26.703125 6.109375 \nQ 34.1875 6.109375 38.703125 11.40625 \nQ 43.21875 16.703125 43.21875 25.484375 \nL 43.21875 27.484375 \nz\nM 52.203125 31.203125 \nL 52.203125 0 \nL 43.21875 0 \nL 43.21875 8.296875 \nQ 40.140625 3.328125 35.546875 0.953125 \nQ 30.953125 -1.421875 24.3125 -1.421875 \nQ 15.921875 -1.421875 10.953125 3.296875 \nQ 6 8.015625 6 15.921875 \nQ 6 25.140625 12.171875 29.828125 \nQ 18.359375 34.515625 30.609375 34.515625 \nL 43.21875 34.515625 \nL 43.21875 35.40625 \nQ 43.21875 41.609375 39.140625 45 \nQ 35.0625 48.390625 27.6875 48.390625 \nQ 23 48.390625 18.546875 47.265625 \nQ 14.109375 46.140625 10.015625 43.890625 \nL 10.015625 52.203125 \nQ 14.9375 54.109375 19.578125 55.046875 \nQ 24.21875 56 28.609375 56 \nQ 40.484375 56 46.34375 49.84375 \nQ 52.203125 43.703125 52.203125 31.203125 \nz\n\" id=\"DejaVuSans-97\"/>\n       <path d=\"M 9.421875 75.984375 \nL 18.40625 75.984375 \nL 18.40625 0 \nL 9.421875 0 \nz\n\" id=\"DejaVuSans-108\"/>\n       <path d=\"M 8.015625 75.875 \nL 15.828125 75.875 \nQ 23.140625 64.359375 26.78125 53.3125 \nQ 30.421875 42.28125 30.421875 31.390625 \nQ 30.421875 20.453125 26.78125 9.375 \nQ 23.140625 -1.703125 15.828125 -13.1875 \nL 8.015625 -13.1875 \nQ 14.5 -2 17.703125 9.0625 \nQ 20.90625 20.125 20.90625 31.390625 \nQ 20.90625 42.671875 17.703125 53.65625 \nQ 14.5 64.65625 8.015625 75.875 \nz\n\" id=\"DejaVuSans-41\"/>\n      </defs>\n      <use xlink:href=\"#DejaVuSans-99\"/>\n      <use x=\"54.980469\" xlink:href=\"#DejaVuSans-111\"/>\n      <use x=\"116.162109\" xlink:href=\"#DejaVuSans-109\"/>\n      <use x=\"213.574219\" xlink:href=\"#DejaVuSans-112\"/>\n      <use x=\"277.050781\" xlink:href=\"#DejaVuSans-95\"/>\n      <use x=\"327.050781\" xlink:href=\"#DejaVuSans-104\"/>\n      <use x=\"390.429688\" xlink:href=\"#DejaVuSans-111\"/>\n      <use x=\"451.611328\" xlink:href=\"#DejaVuSans-117\"/>\n      <use x=\"514.990234\" xlink:href=\"#DejaVuSans-115\"/>\n      <use x=\"567.089844\" xlink:href=\"#DejaVuSans-101\"/>\n      <use x=\"628.613281\" xlink:href=\"#DejaVuSans-32\"/>\n      <use x=\"660.400391\" xlink:href=\"#DejaVuSans-40\"/>\n      <use x=\"699.414062\" xlink:href=\"#DejaVuSans-111\"/>\n      <use x=\"760.595703\" xlink:href=\"#DejaVuSans-114\"/>\n      <use x=\"801.708984\" xlink:href=\"#DejaVuSans-105\"/>\n      <use x=\"829.492188\" xlink:href=\"#DejaVuSans-103\"/>\n      <use x=\"892.96875\" xlink:href=\"#DejaVuSans-105\"/>\n      <use x=\"920.751953\" xlink:href=\"#DejaVuSans-110\"/>\n      <use x=\"984.130859\" xlink:href=\"#DejaVuSans-97\"/>\n      <use x=\"1045.410156\" xlink:href=\"#DejaVuSans-108\"/>\n      <use x=\"1073.193359\" xlink:href=\"#DejaVuSans-41\"/>\n     </g>\n    </g>\n   </g>\n   <g id=\"matplotlib.axis_2\">\n    <g id=\"ytick_1\">\n     <g id=\"line2d_7\">\n      <defs>\n       <path d=\"M 0 0 \nL -3.5 0 \n\" id=\"mbbdcde4529\" style=\"stroke:#000000;stroke-width:0.8;\"/>\n      </defs>\n      <g>\n       <use style=\"stroke:#000000;stroke-width:0.8;\" x=\"53.328125\" xlink:href=\"#mbbdcde4529\" y=\"142.163204\"/>\n      </g>\n     </g>\n     <g id=\"text_8\">\n      <!-- 0 -->\n      <g transform=\"translate(39.965625 145.962423)scale(0.1 -0.1)\">\n       <use xlink:href=\"#DejaVuSans-48\"/>\n      </g>\n     </g>\n    </g>\n    <g id=\"ytick_2\">\n     <g id=\"line2d_8\">\n      <g>\n       <use style=\"stroke:#000000;stroke-width:0.8;\" x=\"53.328125\" xlink:href=\"#mbbdcde4529\" y=\"115.930407\"/>\n      </g>\n     </g>\n     <g id=\"text_9\">\n      <!-- 200 -->\n      <g transform=\"translate(27.240625 119.729626)scale(0.1 -0.1)\">\n       <use xlink:href=\"#DejaVuSans-50\"/>\n       <use x=\"63.623047\" xlink:href=\"#DejaVuSans-48\"/>\n       <use x=\"127.246094\" xlink:href=\"#DejaVuSans-48\"/>\n      </g>\n     </g>\n    </g>\n    <g id=\"ytick_3\">\n     <g id=\"line2d_9\">\n      <g>\n       <use style=\"stroke:#000000;stroke-width:0.8;\" x=\"53.328125\" xlink:href=\"#mbbdcde4529\" y=\"89.69761\"/>\n      </g>\n     </g>\n     <g id=\"text_10\">\n      <!-- 400 -->\n      <g transform=\"translate(27.240625 93.496829)scale(0.1 -0.1)\">\n       <use xlink:href=\"#DejaVuSans-52\"/>\n       <use x=\"63.623047\" xlink:href=\"#DejaVuSans-48\"/>\n       <use x=\"127.246094\" xlink:href=\"#DejaVuSans-48\"/>\n      </g>\n     </g>\n    </g>\n    <g id=\"ytick_4\">\n     <g id=\"line2d_10\">\n      <g>\n       <use style=\"stroke:#000000;stroke-width:0.8;\" x=\"53.328125\" xlink:href=\"#mbbdcde4529\" y=\"63.464813\"/>\n      </g>\n     </g>\n     <g id=\"text_11\">\n      <!-- 600 -->\n      <g transform=\"translate(27.240625 67.264032)scale(0.1 -0.1)\">\n       <use xlink:href=\"#DejaVuSans-54\"/>\n       <use x=\"63.623047\" xlink:href=\"#DejaVuSans-48\"/>\n       <use x=\"127.246094\" xlink:href=\"#DejaVuSans-48\"/>\n      </g>\n     </g>\n    </g>\n    <g id=\"ytick_5\">\n     <g id=\"line2d_11\">\n      <g>\n       <use style=\"stroke:#000000;stroke-width:0.8;\" x=\"53.328125\" xlink:href=\"#mbbdcde4529\" y=\"37.232016\"/>\n      </g>\n     </g>\n     <g id=\"text_12\">\n      <!-- 800 -->\n      <g transform=\"translate(27.240625 41.031235)scale(0.1 -0.1)\">\n       <use xlink:href=\"#DejaVuSans-56\"/>\n       <use x=\"63.623047\" xlink:href=\"#DejaVuSans-48\"/>\n       <use x=\"127.246094\" xlink:href=\"#DejaVuSans-48\"/>\n      </g>\n     </g>\n    </g>\n    <g id=\"ytick_6\">\n     <g id=\"line2d_12\">\n      <g>\n       <use style=\"stroke:#000000;stroke-width:0.8;\" x=\"53.328125\" xlink:href=\"#mbbdcde4529\" y=\"10.999219\"/>\n      </g>\n     </g>\n     <g id=\"text_13\">\n      <!-- 1000 -->\n      <g transform=\"translate(20.878125 14.798437)scale(0.1 -0.1)\">\n       <use xlink:href=\"#DejaVuSans-49\"/>\n       <use x=\"63.623047\" xlink:href=\"#DejaVuSans-48\"/>\n       <use x=\"127.246094\" xlink:href=\"#DejaVuSans-48\"/>\n       <use x=\"190.869141\" xlink:href=\"#DejaVuSans-48\"/>\n      </g>\n     </g>\n    </g>\n    <g id=\"text_14\">\n     <!-- Count -->\n     <g transform=\"translate(14.798438 89.872077)rotate(-90)scale(0.1 -0.1)\">\n      <defs>\n       <path d=\"M 64.40625 67.28125 \nL 64.40625 56.890625 \nQ 59.421875 61.53125 53.78125 63.8125 \nQ 48.140625 66.109375 41.796875 66.109375 \nQ 29.296875 66.109375 22.65625 58.46875 \nQ 16.015625 50.828125 16.015625 36.375 \nQ 16.015625 21.96875 22.65625 14.328125 \nQ 29.296875 6.6875 41.796875 6.6875 \nQ 48.140625 6.6875 53.78125 8.984375 \nQ 59.421875 11.28125 64.40625 15.921875 \nL 64.40625 5.609375 \nQ 59.234375 2.09375 53.4375 0.328125 \nQ 47.65625 -1.421875 41.21875 -1.421875 \nQ 24.65625 -1.421875 15.125 8.703125 \nQ 5.609375 18.84375 5.609375 36.375 \nQ 5.609375 53.953125 15.125 64.078125 \nQ 24.65625 74.21875 41.21875 74.21875 \nQ 47.75 74.21875 53.53125 72.484375 \nQ 59.328125 70.75 64.40625 67.28125 \nz\n\" id=\"DejaVuSans-67\"/>\n       <path d=\"M 18.3125 70.21875 \nL 18.3125 54.6875 \nL 36.8125 54.6875 \nL 36.8125 47.703125 \nL 18.3125 47.703125 \nL 18.3125 18.015625 \nQ 18.3125 11.328125 20.140625 9.421875 \nQ 21.96875 7.515625 27.59375 7.515625 \nL 36.8125 7.515625 \nL 36.8125 0 \nL 27.59375 0 \nQ 17.1875 0 13.234375 3.875 \nQ 9.28125 7.765625 9.28125 18.015625 \nL 9.28125 47.703125 \nL 2.6875 47.703125 \nL 2.6875 54.6875 \nL 9.28125 54.6875 \nL 9.28125 70.21875 \nz\n\" id=\"DejaVuSans-116\"/>\n      </defs>\n      <use xlink:href=\"#DejaVuSans-67\"/>\n      <use x=\"69.824219\" xlink:href=\"#DejaVuSans-111\"/>\n      <use x=\"131.005859\" xlink:href=\"#DejaVuSans-117\"/>\n      <use x=\"194.384766\" xlink:href=\"#DejaVuSans-110\"/>\n      <use x=\"257.763672\" xlink:href=\"#DejaVuSans-116\"/>\n     </g>\n    </g>\n   </g>\n   <g id=\"patch_15\">\n    <path d=\"M 53.328125 142.163204 \nL 53.328125 7.884074 \n\" style=\"fill:none;stroke:#000000;stroke-linecap:square;stroke-linejoin:miter;stroke-width:0.8;\"/>\n   </g>\n   <g id=\"patch_16\">\n    <path d=\"M 707.440625 142.163204 \nL 707.440625 7.884074 \n\" style=\"fill:none;stroke:#000000;stroke-linecap:square;stroke-linejoin:miter;stroke-width:0.8;\"/>\n   </g>\n   <g id=\"patch_17\">\n    <path d=\"M 53.328125 142.163204 \nL 707.440625 142.163204 \n\" style=\"fill:none;stroke:#000000;stroke-linecap:square;stroke-linejoin:miter;stroke-width:0.8;\"/>\n   </g>\n   <g id=\"patch_18\">\n    <path d=\"M 53.328125 7.884074 \nL 707.440625 7.884074 \n\" style=\"fill:none;stroke:#000000;stroke-linecap:square;stroke-linejoin:miter;stroke-width:0.8;\"/>\n   </g>\n  </g>\n  <g id=\"axes_2\">\n   <g id=\"patch_19\">\n    <path d=\"M 771.115625 142.163204 \nL 1425.228125 142.163204 \nL 1425.228125 7.884074 \nL 771.115625 7.884074 \nz\n\" style=\"fill:#ffffff;\"/>\n   </g>\n   <g id=\"patch_20\">\n    <path clip-path=\"url(#pd53dc989f4)\" d=\"M 800.848011 142.163204 \nL 840.491193 142.163204 \nL 840.491193 14.278318 \nL 800.848011 14.278318 \nz\n\" style=\"fill:#1f77b4;fill-opacity:0.75;stroke:#000000;stroke-linejoin:miter;\"/>\n   </g>\n   <g id=\"patch_21\">\n    <path clip-path=\"url(#pd53dc989f4)\" d=\"M 840.491193 142.163204 \nL 880.134375 142.163204 \nL 880.134375 142.163204 \nL 840.491193 142.163204 \nz\n\" style=\"fill:#1f77b4;fill-opacity:0.75;stroke:#000000;stroke-linejoin:miter;\"/>\n   </g>\n   <g id=\"patch_22\">\n    <path clip-path=\"url(#pd53dc989f4)\" d=\"M 880.134375 142.163204 \nL 919.777557 142.163204 \nL 919.777557 142.163204 \nL 880.134375 142.163204 \nz\n\" style=\"fill:#1f77b4;fill-opacity:0.75;stroke:#000000;stroke-linejoin:miter;\"/>\n   </g>\n   <g id=\"patch_23\">\n    <path clip-path=\"url(#pd53dc989f4)\" d=\"M 919.777557 142.163204 \nL 959.420739 142.163204 \nL 959.420739 142.163204 \nL 919.777557 142.163204 \nz\n\" style=\"fill:#1f77b4;fill-opacity:0.75;stroke:#000000;stroke-linejoin:miter;\"/>\n   </g>\n   <g id=\"patch_24\">\n    <path clip-path=\"url(#pd53dc989f4)\" d=\"M 959.420739 142.163204 \nL 999.06392 142.163204 \nL 999.06392 142.163204 \nL 959.420739 142.163204 \nz\n\" style=\"fill:#1f77b4;fill-opacity:0.75;stroke:#000000;stroke-linejoin:miter;\"/>\n   </g>\n   <g id=\"patch_25\">\n    <path clip-path=\"url(#pd53dc989f4)\" d=\"M 999.06392 142.163204 \nL 1038.707102 142.163204 \nL 1038.707102 142.163204 \nL 999.06392 142.163204 \nz\n\" style=\"fill:#1f77b4;fill-opacity:0.75;stroke:#000000;stroke-linejoin:miter;\"/>\n   </g>\n   <g id=\"patch_26\">\n    <path clip-path=\"url(#pd53dc989f4)\" d=\"M 1038.707102 142.163204 \nL 1078.350284 142.163204 \nL 1078.350284 142.163204 \nL 1038.707102 142.163204 \nz\n\" style=\"fill:#1f77b4;fill-opacity:0.75;stroke:#000000;stroke-linejoin:miter;\"/>\n   </g>\n   <g id=\"patch_27\">\n    <path clip-path=\"url(#pd53dc989f4)\" d=\"M 1078.350284 142.163204 \nL 1117.993466 142.163204 \nL 1117.993466 142.163204 \nL 1078.350284 142.163204 \nz\n\" style=\"fill:#1f77b4;fill-opacity:0.75;stroke:#000000;stroke-linejoin:miter;\"/>\n   </g>\n   <g id=\"patch_28\">\n    <path clip-path=\"url(#pd53dc989f4)\" d=\"M 1117.993466 142.163204 \nL 1157.636648 142.163204 \nL 1157.636648 142.163204 \nL 1117.993466 142.163204 \nz\n\" style=\"fill:#1f77b4;fill-opacity:0.75;stroke:#000000;stroke-linejoin:miter;\"/>\n   </g>\n   <g id=\"patch_29\">\n    <path clip-path=\"url(#pd53dc989f4)\" d=\"M 1157.636648 142.163204 \nL 1197.27983 142.163204 \nL 1197.27983 142.163204 \nL 1157.636648 142.163204 \nz\n\" style=\"fill:#1f77b4;fill-opacity:0.75;stroke:#000000;stroke-linejoin:miter;\"/>\n   </g>\n   <g id=\"patch_30\">\n    <path clip-path=\"url(#pd53dc989f4)\" d=\"M 1197.27983 142.163204 \nL 1236.923011 142.163204 \nL 1236.923011 142.163204 \nL 1197.27983 142.163204 \nz\n\" style=\"fill:#1f77b4;fill-opacity:0.75;stroke:#000000;stroke-linejoin:miter;\"/>\n   </g>\n   <g id=\"patch_31\">\n    <path clip-path=\"url(#pd53dc989f4)\" d=\"M 1236.923011 142.163204 \nL 1276.566193 142.163204 \nL 1276.566193 142.163204 \nL 1236.923011 142.163204 \nz\n\" style=\"fill:#1f77b4;fill-opacity:0.75;stroke:#000000;stroke-linejoin:miter;\"/>\n   </g>\n   <g id=\"patch_32\">\n    <path clip-path=\"url(#pd53dc989f4)\" d=\"M 1276.566193 142.163204 \nL 1316.209375 142.163204 \nL 1316.209375 142.163204 \nL 1276.566193 142.163204 \nz\n\" style=\"fill:#1f77b4;fill-opacity:0.75;stroke:#000000;stroke-linejoin:miter;\"/>\n   </g>\n   <g id=\"patch_33\">\n    <path clip-path=\"url(#pd53dc989f4)\" d=\"M 1316.209375 142.163204 \nL 1355.852557 142.163204 \nL 1355.852557 142.163204 \nL 1316.209375 142.163204 \nz\n\" style=\"fill:#1f77b4;fill-opacity:0.75;stroke:#000000;stroke-linejoin:miter;\"/>\n   </g>\n   <g id=\"patch_34\">\n    <path clip-path=\"url(#pd53dc989f4)\" d=\"M 1355.852557 142.163204 \nL 1395.495739 142.163204 \nL 1395.495739 136.656199 \nL 1355.852557 136.656199 \nz\n\" style=\"fill:#1f77b4;fill-opacity:0.75;stroke:#000000;stroke-linejoin:miter;\"/>\n   </g>\n   <g id=\"matplotlib.axis_3\">\n    <g id=\"xtick_7\">\n     <g id=\"line2d_13\">\n      <g>\n       <use style=\"stroke:#000000;stroke-width:0.8;\" x=\"800.848011\" xlink:href=\"#mbd98b15b1d\" y=\"142.163204\"/>\n      </g>\n     </g>\n     <g id=\"text_15\">\n      <!-- 0.0 -->\n      <g transform=\"translate(792.896449 156.761641)scale(0.1 -0.1)\">\n       <use xlink:href=\"#DejaVuSans-48\"/>\n       <use x=\"63.623047\" xlink:href=\"#DejaVuSans-46\"/>\n       <use x=\"95.410156\" xlink:href=\"#DejaVuSans-48\"/>\n      </g>\n     </g>\n    </g>\n    <g id=\"xtick_8\">\n     <g id=\"line2d_14\">\n      <g>\n       <use style=\"stroke:#000000;stroke-width:0.8;\" x=\"919.777557\" xlink:href=\"#mbd98b15b1d\" y=\"142.163204\"/>\n      </g>\n     </g>\n     <g id=\"text_16\">\n      <!-- 0.2 -->\n      <g transform=\"translate(911.825994 156.761641)scale(0.1 -0.1)\">\n       <use xlink:href=\"#DejaVuSans-48\"/>\n       <use x=\"63.623047\" xlink:href=\"#DejaVuSans-46\"/>\n       <use x=\"95.410156\" xlink:href=\"#DejaVuSans-50\"/>\n      </g>\n     </g>\n    </g>\n    <g id=\"xtick_9\">\n     <g id=\"line2d_15\">\n      <g>\n       <use style=\"stroke:#000000;stroke-width:0.8;\" x=\"1038.707102\" xlink:href=\"#mbd98b15b1d\" y=\"142.163204\"/>\n      </g>\n     </g>\n     <g id=\"text_17\">\n      <!-- 0.4 -->\n      <g transform=\"translate(1030.75554 156.761641)scale(0.1 -0.1)\">\n       <use xlink:href=\"#DejaVuSans-48\"/>\n       <use x=\"63.623047\" xlink:href=\"#DejaVuSans-46\"/>\n       <use x=\"95.410156\" xlink:href=\"#DejaVuSans-52\"/>\n      </g>\n     </g>\n    </g>\n    <g id=\"xtick_10\">\n     <g id=\"line2d_16\">\n      <g>\n       <use style=\"stroke:#000000;stroke-width:0.8;\" x=\"1157.636648\" xlink:href=\"#mbd98b15b1d\" y=\"142.163204\"/>\n      </g>\n     </g>\n     <g id=\"text_18\">\n      <!-- 0.6 -->\n      <g transform=\"translate(1149.685085 156.761641)scale(0.1 -0.1)\">\n       <use xlink:href=\"#DejaVuSans-48\"/>\n       <use x=\"63.623047\" xlink:href=\"#DejaVuSans-46\"/>\n       <use x=\"95.410156\" xlink:href=\"#DejaVuSans-54\"/>\n      </g>\n     </g>\n    </g>\n    <g id=\"xtick_11\">\n     <g id=\"line2d_17\">\n      <g>\n       <use style=\"stroke:#000000;stroke-width:0.8;\" x=\"1276.566193\" xlink:href=\"#mbd98b15b1d\" y=\"142.163204\"/>\n      </g>\n     </g>\n     <g id=\"text_19\">\n      <!-- 0.8 -->\n      <g transform=\"translate(1268.614631 156.761641)scale(0.1 -0.1)\">\n       <use xlink:href=\"#DejaVuSans-48\"/>\n       <use x=\"63.623047\" xlink:href=\"#DejaVuSans-46\"/>\n       <use x=\"95.410156\" xlink:href=\"#DejaVuSans-56\"/>\n      </g>\n     </g>\n    </g>\n    <g id=\"xtick_12\">\n     <g id=\"line2d_18\">\n      <g>\n       <use style=\"stroke:#000000;stroke-width:0.8;\" x=\"1395.495739\" xlink:href=\"#mbd98b15b1d\" y=\"142.163204\"/>\n      </g>\n     </g>\n     <g id=\"text_20\">\n      <!-- 1.0 -->\n      <g transform=\"translate(1387.544176 156.761641)scale(0.1 -0.1)\">\n       <use xlink:href=\"#DejaVuSans-49\"/>\n       <use x=\"63.623047\" xlink:href=\"#DejaVuSans-46\"/>\n       <use x=\"95.410156\" xlink:href=\"#DejaVuSans-48\"/>\n      </g>\n     </g>\n    </g>\n    <g id=\"text_21\">\n     <!-- comp_house (imputed) -->\n     <g transform=\"translate(1040.436719 170.439766)scale(0.1 -0.1)\">\n      <defs>\n       <path d=\"M 45.40625 46.390625 \nL 45.40625 75.984375 \nL 54.390625 75.984375 \nL 54.390625 0 \nL 45.40625 0 \nL 45.40625 8.203125 \nQ 42.578125 3.328125 38.25 0.953125 \nQ 33.9375 -1.421875 27.875 -1.421875 \nQ 17.96875 -1.421875 11.734375 6.484375 \nQ 5.515625 14.40625 5.515625 27.296875 \nQ 5.515625 40.1875 11.734375 48.09375 \nQ 17.96875 56 27.875 56 \nQ 33.9375 56 38.25 53.625 \nQ 42.578125 51.265625 45.40625 46.390625 \nz\nM 14.796875 27.296875 \nQ 14.796875 17.390625 18.875 11.75 \nQ 22.953125 6.109375 30.078125 6.109375 \nQ 37.203125 6.109375 41.296875 11.75 \nQ 45.40625 17.390625 45.40625 27.296875 \nQ 45.40625 37.203125 41.296875 42.84375 \nQ 37.203125 48.484375 30.078125 48.484375 \nQ 22.953125 48.484375 18.875 42.84375 \nQ 14.796875 37.203125 14.796875 27.296875 \nz\n\" id=\"DejaVuSans-100\"/>\n      </defs>\n      <use xlink:href=\"#DejaVuSans-99\"/>\n      <use x=\"54.980469\" xlink:href=\"#DejaVuSans-111\"/>\n      <use x=\"116.162109\" xlink:href=\"#DejaVuSans-109\"/>\n      <use x=\"213.574219\" xlink:href=\"#DejaVuSans-112\"/>\n      <use x=\"277.050781\" xlink:href=\"#DejaVuSans-95\"/>\n      <use x=\"327.050781\" xlink:href=\"#DejaVuSans-104\"/>\n      <use x=\"390.429688\" xlink:href=\"#DejaVuSans-111\"/>\n      <use x=\"451.611328\" xlink:href=\"#DejaVuSans-117\"/>\n      <use x=\"514.990234\" xlink:href=\"#DejaVuSans-115\"/>\n      <use x=\"567.089844\" xlink:href=\"#DejaVuSans-101\"/>\n      <use x=\"628.613281\" xlink:href=\"#DejaVuSans-32\"/>\n      <use x=\"660.400391\" xlink:href=\"#DejaVuSans-40\"/>\n      <use x=\"699.414062\" xlink:href=\"#DejaVuSans-105\"/>\n      <use x=\"727.197266\" xlink:href=\"#DejaVuSans-109\"/>\n      <use x=\"824.609375\" xlink:href=\"#DejaVuSans-112\"/>\n      <use x=\"888.085938\" xlink:href=\"#DejaVuSans-117\"/>\n      <use x=\"951.464844\" xlink:href=\"#DejaVuSans-116\"/>\n      <use x=\"990.673828\" xlink:href=\"#DejaVuSans-101\"/>\n      <use x=\"1052.197266\" xlink:href=\"#DejaVuSans-100\"/>\n      <use x=\"1115.673828\" xlink:href=\"#DejaVuSans-41\"/>\n     </g>\n    </g>\n   </g>\n   <g id=\"matplotlib.axis_4\">\n    <g id=\"ytick_7\">\n     <g id=\"line2d_19\">\n      <g>\n       <use style=\"stroke:#000000;stroke-width:0.8;\" x=\"771.115625\" xlink:href=\"#mbbdcde4529\" y=\"142.163204\"/>\n      </g>\n     </g>\n     <g id=\"text_22\">\n      <!-- 0 -->\n      <g transform=\"translate(757.753125 145.962423)scale(0.1 -0.1)\">\n       <use xlink:href=\"#DejaVuSans-48\"/>\n      </g>\n     </g>\n    </g>\n    <g id=\"ytick_8\">\n     <g id=\"line2d_20\">\n      <g>\n       <use style=\"stroke:#000000;stroke-width:0.8;\" x=\"771.115625\" xlink:href=\"#mbbdcde4529\" y=\"117.881878\"/>\n      </g>\n     </g>\n     <g id=\"text_23\">\n      <!-- 2500 -->\n      <g transform=\"translate(738.665625 121.681097)scale(0.1 -0.1)\">\n       <defs>\n        <path d=\"M 10.796875 72.90625 \nL 49.515625 72.90625 \nL 49.515625 64.59375 \nL 19.828125 64.59375 \nL 19.828125 46.734375 \nQ 21.96875 47.46875 24.109375 47.828125 \nQ 26.265625 48.1875 28.421875 48.1875 \nQ 40.625 48.1875 47.75 41.5 \nQ 54.890625 34.8125 54.890625 23.390625 \nQ 54.890625 11.625 47.5625 5.09375 \nQ 40.234375 -1.421875 26.90625 -1.421875 \nQ 22.3125 -1.421875 17.546875 -0.640625 \nQ 12.796875 0.140625 7.71875 1.703125 \nL 7.71875 11.625 \nQ 12.109375 9.234375 16.796875 8.0625 \nQ 21.484375 6.890625 26.703125 6.890625 \nQ 35.15625 6.890625 40.078125 11.328125 \nQ 45.015625 15.765625 45.015625 23.390625 \nQ 45.015625 31 40.078125 35.4375 \nQ 35.15625 39.890625 26.703125 39.890625 \nQ 22.75 39.890625 18.8125 39.015625 \nQ 14.890625 38.140625 10.796875 36.28125 \nz\n\" id=\"DejaVuSans-53\"/>\n       </defs>\n       <use xlink:href=\"#DejaVuSans-50\"/>\n       <use x=\"63.623047\" xlink:href=\"#DejaVuSans-53\"/>\n       <use x=\"127.246094\" xlink:href=\"#DejaVuSans-48\"/>\n       <use x=\"190.869141\" xlink:href=\"#DejaVuSans-48\"/>\n      </g>\n     </g>\n    </g>\n    <g id=\"ytick_9\">\n     <g id=\"line2d_21\">\n      <g>\n       <use style=\"stroke:#000000;stroke-width:0.8;\" x=\"771.115625\" xlink:href=\"#mbbdcde4529\" y=\"93.600553\"/>\n      </g>\n     </g>\n     <g id=\"text_24\">\n      <!-- 5000 -->\n      <g transform=\"translate(738.665625 97.399772)scale(0.1 -0.1)\">\n       <use xlink:href=\"#DejaVuSans-53\"/>\n       <use x=\"63.623047\" xlink:href=\"#DejaVuSans-48\"/>\n       <use x=\"127.246094\" xlink:href=\"#DejaVuSans-48\"/>\n       <use x=\"190.869141\" xlink:href=\"#DejaVuSans-48\"/>\n      </g>\n     </g>\n    </g>\n    <g id=\"ytick_10\">\n     <g id=\"line2d_22\">\n      <g>\n       <use style=\"stroke:#000000;stroke-width:0.8;\" x=\"771.115625\" xlink:href=\"#mbbdcde4529\" y=\"69.319227\"/>\n      </g>\n     </g>\n     <g id=\"text_25\">\n      <!-- 7500 -->\n      <g transform=\"translate(738.665625 73.118446)scale(0.1 -0.1)\">\n       <defs>\n        <path d=\"M 8.203125 72.90625 \nL 55.078125 72.90625 \nL 55.078125 68.703125 \nL 28.609375 0 \nL 18.3125 0 \nL 43.21875 64.59375 \nL 8.203125 64.59375 \nz\n\" id=\"DejaVuSans-55\"/>\n       </defs>\n       <use xlink:href=\"#DejaVuSans-55\"/>\n       <use x=\"63.623047\" xlink:href=\"#DejaVuSans-53\"/>\n       <use x=\"127.246094\" xlink:href=\"#DejaVuSans-48\"/>\n       <use x=\"190.869141\" xlink:href=\"#DejaVuSans-48\"/>\n      </g>\n     </g>\n    </g>\n    <g id=\"ytick_11\">\n     <g id=\"line2d_23\">\n      <g>\n       <use style=\"stroke:#000000;stroke-width:0.8;\" x=\"771.115625\" xlink:href=\"#mbbdcde4529\" y=\"45.037902\"/>\n      </g>\n     </g>\n     <g id=\"text_26\">\n      <!-- 10000 -->\n      <g transform=\"translate(732.303125 48.83712)scale(0.1 -0.1)\">\n       <use xlink:href=\"#DejaVuSans-49\"/>\n       <use x=\"63.623047\" xlink:href=\"#DejaVuSans-48\"/>\n       <use x=\"127.246094\" xlink:href=\"#DejaVuSans-48\"/>\n       <use x=\"190.869141\" xlink:href=\"#DejaVuSans-48\"/>\n       <use x=\"254.492188\" xlink:href=\"#DejaVuSans-48\"/>\n      </g>\n     </g>\n    </g>\n    <g id=\"ytick_12\">\n     <g id=\"line2d_24\">\n      <g>\n       <use style=\"stroke:#000000;stroke-width:0.8;\" x=\"771.115625\" xlink:href=\"#mbbdcde4529\" y=\"20.756576\"/>\n      </g>\n     </g>\n     <g id=\"text_27\">\n      <!-- 12500 -->\n      <g transform=\"translate(732.303125 24.555795)scale(0.1 -0.1)\">\n       <use xlink:href=\"#DejaVuSans-49\"/>\n       <use x=\"63.623047\" xlink:href=\"#DejaVuSans-50\"/>\n       <use x=\"127.246094\" xlink:href=\"#DejaVuSans-53\"/>\n       <use x=\"190.869141\" xlink:href=\"#DejaVuSans-48\"/>\n       <use x=\"254.492188\" xlink:href=\"#DejaVuSans-48\"/>\n      </g>\n     </g>\n    </g>\n    <g id=\"text_28\">\n     <!-- Count -->\n     <g transform=\"translate(726.223438 89.872077)rotate(-90)scale(0.1 -0.1)\">\n      <use xlink:href=\"#DejaVuSans-67\"/>\n      <use x=\"69.824219\" xlink:href=\"#DejaVuSans-111\"/>\n      <use x=\"131.005859\" xlink:href=\"#DejaVuSans-117\"/>\n      <use x=\"194.384766\" xlink:href=\"#DejaVuSans-110\"/>\n      <use x=\"257.763672\" xlink:href=\"#DejaVuSans-116\"/>\n     </g>\n    </g>\n   </g>\n   <g id=\"patch_35\">\n    <path d=\"M 771.115625 142.163204 \nL 771.115625 7.884074 \n\" style=\"fill:none;stroke:#000000;stroke-linecap:square;stroke-linejoin:miter;stroke-width:0.8;\"/>\n   </g>\n   <g id=\"patch_36\">\n    <path d=\"M 1425.228125 142.163204 \nL 1425.228125 7.884074 \n\" style=\"fill:none;stroke:#000000;stroke-linecap:square;stroke-linejoin:miter;stroke-width:0.8;\"/>\n   </g>\n   <g id=\"patch_37\">\n    <path d=\"M 771.115625 142.163204 \nL 1425.228125 142.163204 \n\" style=\"fill:none;stroke:#000000;stroke-linecap:square;stroke-linejoin:miter;stroke-width:0.8;\"/>\n   </g>\n   <g id=\"patch_38\">\n    <path d=\"M 771.115625 7.884074 \nL 1425.228125 7.884074 \n\" style=\"fill:none;stroke:#000000;stroke-linecap:square;stroke-linejoin:miter;stroke-width:0.8;\"/>\n   </g>\n  </g>\n  <g id=\"axes_3\">\n   <g id=\"patch_39\">\n    <path d=\"M 53.328125 319.148584 \nL 707.440625 319.148584 \nL 707.440625 184.869454 \nL 53.328125 184.869454 \nz\n\" style=\"fill:#ffffff;\"/>\n   </g>\n   <g id=\"patch_40\">\n    <path clip-path=\"url(#p661118debd)\" d=\"M 83.060511 319.148584 \nL 95.987636 319.148584 \nL 95.987636 318.800124 \nL 83.060511 318.800124 \nz\n\" style=\"fill:#1f77b4;fill-opacity:0.75;stroke:#000000;stroke-linejoin:miter;\"/>\n   </g>\n   <g id=\"patch_41\">\n    <path clip-path=\"url(#p661118debd)\" d=\"M 95.987636 319.148584 \nL 108.91476 319.148584 \nL 108.91476 319.148584 \nL 95.987636 319.148584 \nz\n\" style=\"fill:#1f77b4;fill-opacity:0.75;stroke:#000000;stroke-linejoin:miter;\"/>\n   </g>\n   <g id=\"patch_42\">\n    <path clip-path=\"url(#p661118debd)\" d=\"M 108.91476 319.148584 \nL 121.841885 319.148584 \nL 121.841885 319.148584 \nL 108.91476 319.148584 \nz\n\" style=\"fill:#1f77b4;fill-opacity:0.75;stroke:#000000;stroke-linejoin:miter;\"/>\n   </g>\n   <g id=\"patch_43\">\n    <path clip-path=\"url(#p661118debd)\" d=\"M 121.841885 319.148584 \nL 134.769009 319.148584 \nL 134.769009 319.148584 \nL 121.841885 319.148584 \nz\n\" style=\"fill:#1f77b4;fill-opacity:0.75;stroke:#000000;stroke-linejoin:miter;\"/>\n   </g>\n   <g id=\"patch_44\">\n    <path clip-path=\"url(#p661118debd)\" d=\"M 134.769009 319.148584 \nL 147.696134 319.148584 \nL 147.696134 318.800124 \nL 134.769009 318.800124 \nz\n\" style=\"fill:#1f77b4;fill-opacity:0.75;stroke:#000000;stroke-linejoin:miter;\"/>\n   </g>\n   <g id=\"patch_45\">\n    <path clip-path=\"url(#p661118debd)\" d=\"M 147.696134 319.148584 \nL 160.623258 319.148584 \nL 160.623258 317.057823 \nL 147.696134 317.057823 \nz\n\" style=\"fill:#1f77b4;fill-opacity:0.75;stroke:#000000;stroke-linejoin:miter;\"/>\n   </g>\n   <g id=\"patch_46\">\n    <path clip-path=\"url(#p661118debd)\" d=\"M 160.623258 319.148584 \nL 173.550383 319.148584 \nL 173.550383 315.315522 \nL 160.623258 315.315522 \nz\n\" style=\"fill:#1f77b4;fill-opacity:0.75;stroke:#000000;stroke-linejoin:miter;\"/>\n   </g>\n   <g id=\"patch_47\">\n    <path clip-path=\"url(#p661118debd)\" d=\"M 173.550383 319.148584 \nL 186.477507 319.148584 \nL 186.477507 312.17938 \nL 173.550383 312.17938 \nz\n\" style=\"fill:#1f77b4;fill-opacity:0.75;stroke:#000000;stroke-linejoin:miter;\"/>\n   </g>\n   <g id=\"patch_48\">\n    <path clip-path=\"url(#p661118debd)\" d=\"M 186.477507 319.148584 \nL 199.404632 319.148584 \nL 199.404632 309.740159 \nL 186.477507 309.740159 \nz\n\" style=\"fill:#1f77b4;fill-opacity:0.75;stroke:#000000;stroke-linejoin:miter;\"/>\n   </g>\n   <g id=\"patch_49\">\n    <path clip-path=\"url(#p661118debd)\" d=\"M 199.404632 319.148584 \nL 212.331756 319.148584 \nL 212.331756 302.074035 \nL 199.404632 302.074035 \nz\n\" style=\"fill:#1f77b4;fill-opacity:0.75;stroke:#000000;stroke-linejoin:miter;\"/>\n   </g>\n   <g id=\"patch_50\">\n    <path clip-path=\"url(#p661118debd)\" d=\"M 212.331756 319.148584 \nL 225.258881 319.148584 \nL 225.258881 300.331734 \nL 212.331756 300.331734 \nz\n\" style=\"fill:#1f77b4;fill-opacity:0.75;stroke:#000000;stroke-linejoin:miter;\"/>\n   </g>\n   <g id=\"patch_51\">\n    <path clip-path=\"url(#p661118debd)\" d=\"M 225.258881 319.148584 \nL 238.186005 319.148584 \nL 238.186005 294.407911 \nL 225.258881 294.407911 \nz\n\" style=\"fill:#1f77b4;fill-opacity:0.75;stroke:#000000;stroke-linejoin:miter;\"/>\n   </g>\n   <g id=\"patch_52\">\n    <path clip-path=\"url(#p661118debd)\" d=\"M 238.186005 319.148584 \nL 251.11313 319.148584 \nL 251.11313 278.727203 \nL 238.186005 278.727203 \nz\n\" style=\"fill:#1f77b4;fill-opacity:0.75;stroke:#000000;stroke-linejoin:miter;\"/>\n   </g>\n   <g id=\"patch_53\">\n    <path clip-path=\"url(#p661118debd)\" d=\"M 251.11313 319.148584 \nL 264.040254 319.148584 \nL 264.040254 265.137256 \nL 251.11313 265.137256 \nz\n\" style=\"fill:#1f77b4;fill-opacity:0.75;stroke:#000000;stroke-linejoin:miter;\"/>\n   </g>\n   <g id=\"patch_54\">\n    <path clip-path=\"url(#p661118debd)\" d=\"M 264.040254 319.148584 \nL 276.967379 319.148584 \nL 276.967379 252.59269 \nL 264.040254 252.59269 \nz\n\" style=\"fill:#1f77b4;fill-opacity:0.75;stroke:#000000;stroke-linejoin:miter;\"/>\n   </g>\n   <g id=\"patch_55\">\n    <path clip-path=\"url(#p661118debd)\" d=\"M 276.967379 319.148584 \nL 289.894503 319.148584 \nL 289.894503 251.895769 \nL 276.967379 251.895769 \nz\n\" style=\"fill:#1f77b4;fill-opacity:0.75;stroke:#000000;stroke-linejoin:miter;\"/>\n   </g>\n   <g id=\"patch_56\">\n    <path clip-path=\"url(#p661118debd)\" d=\"M 289.894503 319.148584 \nL 302.821628 319.148584 \nL 302.821628 228.200477 \nL 289.894503 228.200477 \nz\n\" style=\"fill:#1f77b4;fill-opacity:0.75;stroke:#000000;stroke-linejoin:miter;\"/>\n   </g>\n   <g id=\"patch_57\">\n    <path clip-path=\"url(#p661118debd)\" d=\"M 302.821628 319.148584 \nL 315.748752 319.148584 \nL 315.748752 219.140513 \nL 302.821628 219.140513 \nz\n\" style=\"fill:#1f77b4;fill-opacity:0.75;stroke:#000000;stroke-linejoin:miter;\"/>\n   </g>\n   <g id=\"patch_58\">\n    <path clip-path=\"url(#p661118debd)\" d=\"M 315.748752 319.148584 \nL 328.675877 319.148584 \nL 328.675877 207.292866 \nL 315.748752 207.292866 \nz\n\" style=\"fill:#1f77b4;fill-opacity:0.75;stroke:#000000;stroke-linejoin:miter;\"/>\n   </g>\n   <g id=\"patch_59\">\n    <path clip-path=\"url(#p661118debd)\" d=\"M 328.675877 319.148584 \nL 341.603001 319.148584 \nL 341.603001 191.263698 \nL 328.675877 191.263698 \nz\n\" style=\"fill:#1f77b4;fill-opacity:0.75;stroke:#000000;stroke-linejoin:miter;\"/>\n   </g>\n   <g id=\"patch_60\">\n    <path clip-path=\"url(#p661118debd)\" d=\"M 341.603001 319.148584 \nL 354.530126 319.148584 \nL 354.530126 210.777468 \nL 341.603001 210.777468 \nz\n\" style=\"fill:#1f77b4;fill-opacity:0.75;stroke:#000000;stroke-linejoin:miter;\"/>\n   </g>\n   <g id=\"patch_61\">\n    <path clip-path=\"url(#p661118debd)\" d=\"M 354.530126 319.148584 \nL 367.45725 319.148584 \nL 367.45725 207.641327 \nL 354.530126 207.641327 \nz\n\" style=\"fill:#1f77b4;fill-opacity:0.75;stroke:#000000;stroke-linejoin:miter;\"/>\n   </g>\n   <g id=\"patch_62\">\n    <path clip-path=\"url(#p661118debd)\" d=\"M 367.45725 319.148584 \nL 380.384375 319.148584 \nL 380.384375 210.777468 \nL 367.45725 210.777468 \nz\n\" style=\"fill:#1f77b4;fill-opacity:0.75;stroke:#000000;stroke-linejoin:miter;\"/>\n   </g>\n   <g id=\"patch_63\">\n    <path clip-path=\"url(#p661118debd)\" d=\"M 380.384375 319.148584 \nL 393.3115 319.148584 \nL 393.3115 216.004371 \nL 380.384375 216.004371 \nz\n\" style=\"fill:#1f77b4;fill-opacity:0.75;stroke:#000000;stroke-linejoin:miter;\"/>\n   </g>\n   <g id=\"patch_64\">\n    <path clip-path=\"url(#p661118debd)\" d=\"M 393.3115 319.148584 \nL 406.238624 319.148584 \nL 406.238624 227.155097 \nL 393.3115 227.155097 \nz\n\" style=\"fill:#1f77b4;fill-opacity:0.75;stroke:#000000;stroke-linejoin:miter;\"/>\n   </g>\n   <g id=\"patch_65\">\n    <path clip-path=\"url(#p661118debd)\" d=\"M 406.238624 319.148584 \nL 419.165749 319.148584 \nL 419.165749 227.155097 \nL 406.238624 227.155097 \nz\n\" style=\"fill:#1f77b4;fill-opacity:0.75;stroke:#000000;stroke-linejoin:miter;\"/>\n   </g>\n   <g id=\"patch_66\">\n    <path clip-path=\"url(#p661118debd)\" d=\"M 419.165749 319.148584 \nL 432.092873 319.148584 \nL 432.092873 229.594318 \nL 419.165749 229.594318 \nz\n\" style=\"fill:#1f77b4;fill-opacity:0.75;stroke:#000000;stroke-linejoin:miter;\"/>\n   </g>\n   <g id=\"patch_67\">\n    <path clip-path=\"url(#p661118debd)\" d=\"M 432.092873 319.148584 \nL 445.019998 319.148584 \nL 445.019998 223.670495 \nL 432.092873 223.670495 \nz\n\" style=\"fill:#1f77b4;fill-opacity:0.75;stroke:#000000;stroke-linejoin:miter;\"/>\n   </g>\n   <g id=\"patch_68\">\n    <path clip-path=\"url(#p661118debd)\" d=\"M 445.019998 319.148584 \nL 457.947122 319.148584 \nL 457.947122 252.59269 \nL 445.019998 252.59269 \nz\n\" style=\"fill:#1f77b4;fill-opacity:0.75;stroke:#000000;stroke-linejoin:miter;\"/>\n   </g>\n   <g id=\"patch_69\">\n    <path clip-path=\"url(#p661118debd)\" d=\"M 457.947122 319.148584 \nL 470.874247 319.148584 \nL 470.874247 264.091876 \nL 457.947122 264.091876 \nz\n\" style=\"fill:#1f77b4;fill-opacity:0.75;stroke:#000000;stroke-linejoin:miter;\"/>\n   </g>\n   <g id=\"patch_70\">\n    <path clip-path=\"url(#p661118debd)\" d=\"M 470.874247 319.148584 \nL 483.801371 319.148584 \nL 483.801371 266.182637 \nL 470.874247 266.182637 \nz\n\" style=\"fill:#1f77b4;fill-opacity:0.75;stroke:#000000;stroke-linejoin:miter;\"/>\n   </g>\n   <g id=\"patch_71\">\n    <path clip-path=\"url(#p661118debd)\" d=\"M 483.801371 319.148584 \nL 496.728496 319.148584 \nL 496.728496 285.696407 \nL 483.801371 285.696407 \nz\n\" style=\"fill:#1f77b4;fill-opacity:0.75;stroke:#000000;stroke-linejoin:miter;\"/>\n   </g>\n   <g id=\"patch_72\">\n    <path clip-path=\"url(#p661118debd)\" d=\"M 496.728496 319.148584 \nL 509.65562 319.148584 \nL 509.65562 289.877929 \nL 496.728496 289.877929 \nz\n\" style=\"fill:#1f77b4;fill-opacity:0.75;stroke:#000000;stroke-linejoin:miter;\"/>\n   </g>\n   <g id=\"patch_73\">\n    <path clip-path=\"url(#p661118debd)\" d=\"M 509.65562 319.148584 \nL 522.582745 319.148584 \nL 522.582745 298.589433 \nL 509.65562 298.589433 \nz\n\" style=\"fill:#1f77b4;fill-opacity:0.75;stroke:#000000;stroke-linejoin:miter;\"/>\n   </g>\n   <g id=\"patch_74\">\n    <path clip-path=\"url(#p661118debd)\" d=\"M 522.582745 319.148584 \nL 535.509869 319.148584 \nL 535.509869 299.983274 \nL 522.582745 299.983274 \nz\n\" style=\"fill:#1f77b4;fill-opacity:0.75;stroke:#000000;stroke-linejoin:miter;\"/>\n   </g>\n   <g id=\"patch_75\">\n    <path clip-path=\"url(#p661118debd)\" d=\"M 535.509869 319.148584 \nL 548.436994 319.148584 \nL 548.436994 304.513256 \nL 535.509869 304.513256 \nz\n\" style=\"fill:#1f77b4;fill-opacity:0.75;stroke:#000000;stroke-linejoin:miter;\"/>\n   </g>\n   <g id=\"patch_76\">\n    <path clip-path=\"url(#p661118debd)\" d=\"M 548.436994 319.148584 \nL 561.364118 319.148584 \nL 561.364118 309.740159 \nL 548.436994 309.740159 \nz\n\" style=\"fill:#1f77b4;fill-opacity:0.75;stroke:#000000;stroke-linejoin:miter;\"/>\n   </g>\n   <g id=\"patch_77\">\n    <path clip-path=\"url(#p661118debd)\" d=\"M 561.364118 319.148584 \nL 574.291243 319.148584 \nL 574.291243 311.83092 \nL 561.364118 311.83092 \nz\n\" style=\"fill:#1f77b4;fill-opacity:0.75;stroke:#000000;stroke-linejoin:miter;\"/>\n   </g>\n   <g id=\"patch_78\">\n    <path clip-path=\"url(#p661118debd)\" d=\"M 574.291243 319.148584 \nL 587.218367 319.148584 \nL 587.218367 313.224761 \nL 574.291243 313.224761 \nz\n\" style=\"fill:#1f77b4;fill-opacity:0.75;stroke:#000000;stroke-linejoin:miter;\"/>\n   </g>\n   <g id=\"patch_79\">\n    <path clip-path=\"url(#p661118debd)\" d=\"M 587.218367 319.148584 \nL 600.145492 319.148584 \nL 600.145492 314.618601 \nL 587.218367 314.618601 \nz\n\" style=\"fill:#1f77b4;fill-opacity:0.75;stroke:#000000;stroke-linejoin:miter;\"/>\n   </g>\n   <g id=\"patch_80\">\n    <path clip-path=\"url(#p661118debd)\" d=\"M 600.145492 319.148584 \nL 613.072616 319.148584 \nL 613.072616 316.709363 \nL 600.145492 316.709363 \nz\n\" style=\"fill:#1f77b4;fill-opacity:0.75;stroke:#000000;stroke-linejoin:miter;\"/>\n   </g>\n   <g id=\"patch_81\">\n    <path clip-path=\"url(#p661118debd)\" d=\"M 613.072616 319.148584 \nL 625.999741 319.148584 \nL 625.999741 317.754743 \nL 613.072616 317.754743 \nz\n\" style=\"fill:#1f77b4;fill-opacity:0.75;stroke:#000000;stroke-linejoin:miter;\"/>\n   </g>\n   <g id=\"patch_82\">\n    <path clip-path=\"url(#p661118debd)\" d=\"M 625.999741 319.148584 \nL 638.926865 319.148584 \nL 638.926865 318.800124 \nL 625.999741 318.800124 \nz\n\" style=\"fill:#1f77b4;fill-opacity:0.75;stroke:#000000;stroke-linejoin:miter;\"/>\n   </g>\n   <g id=\"patch_83\">\n    <path clip-path=\"url(#p661118debd)\" d=\"M 638.926865 319.148584 \nL 651.85399 319.148584 \nL 651.85399 318.103203 \nL 638.926865 318.103203 \nz\n\" style=\"fill:#1f77b4;fill-opacity:0.75;stroke:#000000;stroke-linejoin:miter;\"/>\n   </g>\n   <g id=\"patch_84\">\n    <path clip-path=\"url(#p661118debd)\" d=\"M 651.85399 319.148584 \nL 664.781114 319.148584 \nL 664.781114 317.754743 \nL 651.85399 317.754743 \nz\n\" style=\"fill:#1f77b4;fill-opacity:0.75;stroke:#000000;stroke-linejoin:miter;\"/>\n   </g>\n   <g id=\"patch_85\">\n    <path clip-path=\"url(#p661118debd)\" d=\"M 664.781114 319.148584 \nL 677.708239 319.148584 \nL 677.708239 318.451663 \nL 664.781114 318.451663 \nz\n\" style=\"fill:#1f77b4;fill-opacity:0.75;stroke:#000000;stroke-linejoin:miter;\"/>\n   </g>\n   <g id=\"matplotlib.axis_5\">\n    <g id=\"xtick_13\">\n     <g id=\"line2d_25\">\n      <g>\n       <use style=\"stroke:#000000;stroke-width:0.8;\" x=\"87.738782\" xlink:href=\"#mbd98b15b1d\" y=\"319.148584\"/>\n      </g>\n     </g>\n     <g id=\"text_29\">\n      <!-- 140 -->\n      <g transform=\"translate(78.195032 333.747021)scale(0.1 -0.1)\">\n       <use xlink:href=\"#DejaVuSans-49\"/>\n       <use x=\"63.623047\" xlink:href=\"#DejaVuSans-52\"/>\n       <use x=\"127.246094\" xlink:href=\"#DejaVuSans-48\"/>\n      </g>\n     </g>\n    </g>\n    <g id=\"xtick_14\">\n     <g id=\"line2d_26\">\n      <g>\n       <use style=\"stroke:#000000;stroke-width:0.8;\" x=\"183.638178\" xlink:href=\"#mbd98b15b1d\" y=\"319.148584\"/>\n      </g>\n     </g>\n     <g id=\"text_30\">\n      <!-- 150 -->\n      <g transform=\"translate(174.094428 333.747021)scale(0.1 -0.1)\">\n       <use xlink:href=\"#DejaVuSans-49\"/>\n       <use x=\"63.623047\" xlink:href=\"#DejaVuSans-53\"/>\n       <use x=\"127.246094\" xlink:href=\"#DejaVuSans-48\"/>\n      </g>\n     </g>\n    </g>\n    <g id=\"xtick_15\">\n     <g id=\"line2d_27\">\n      <g>\n       <use style=\"stroke:#000000;stroke-width:0.8;\" x=\"279.537574\" xlink:href=\"#mbd98b15b1d\" y=\"319.148584\"/>\n      </g>\n     </g>\n     <g id=\"text_31\">\n      <!-- 160 -->\n      <g transform=\"translate(269.993824 333.747021)scale(0.1 -0.1)\">\n       <use xlink:href=\"#DejaVuSans-49\"/>\n       <use x=\"63.623047\" xlink:href=\"#DejaVuSans-54\"/>\n       <use x=\"127.246094\" xlink:href=\"#DejaVuSans-48\"/>\n      </g>\n     </g>\n    </g>\n    <g id=\"xtick_16\">\n     <g id=\"line2d_28\">\n      <g>\n       <use style=\"stroke:#000000;stroke-width:0.8;\" x=\"375.43697\" xlink:href=\"#mbd98b15b1d\" y=\"319.148584\"/>\n      </g>\n     </g>\n     <g id=\"text_32\">\n      <!-- 170 -->\n      <g transform=\"translate(365.89322 333.747021)scale(0.1 -0.1)\">\n       <use xlink:href=\"#DejaVuSans-49\"/>\n       <use x=\"63.623047\" xlink:href=\"#DejaVuSans-55\"/>\n       <use x=\"127.246094\" xlink:href=\"#DejaVuSans-48\"/>\n      </g>\n     </g>\n    </g>\n    <g id=\"xtick_17\">\n     <g id=\"line2d_29\">\n      <g>\n       <use style=\"stroke:#000000;stroke-width:0.8;\" x=\"471.336366\" xlink:href=\"#mbd98b15b1d\" y=\"319.148584\"/>\n      </g>\n     </g>\n     <g id=\"text_33\">\n      <!-- 180 -->\n      <g transform=\"translate(461.792616 333.747021)scale(0.1 -0.1)\">\n       <use xlink:href=\"#DejaVuSans-49\"/>\n       <use x=\"63.623047\" xlink:href=\"#DejaVuSans-56\"/>\n       <use x=\"127.246094\" xlink:href=\"#DejaVuSans-48\"/>\n      </g>\n     </g>\n    </g>\n    <g id=\"xtick_18\">\n     <g id=\"line2d_30\">\n      <g>\n       <use style=\"stroke:#000000;stroke-width:0.8;\" x=\"567.235762\" xlink:href=\"#mbd98b15b1d\" y=\"319.148584\"/>\n      </g>\n     </g>\n     <g id=\"text_34\">\n      <!-- 190 -->\n      <g transform=\"translate(557.692012 333.747021)scale(0.1 -0.1)\">\n       <defs>\n        <path d=\"M 10.984375 1.515625 \nL 10.984375 10.5 \nQ 14.703125 8.734375 18.5 7.8125 \nQ 22.3125 6.890625 25.984375 6.890625 \nQ 35.75 6.890625 40.890625 13.453125 \nQ 46.046875 20.015625 46.78125 33.40625 \nQ 43.953125 29.203125 39.59375 26.953125 \nQ 35.25 24.703125 29.984375 24.703125 \nQ 19.046875 24.703125 12.671875 31.3125 \nQ 6.296875 37.9375 6.296875 49.421875 \nQ 6.296875 60.640625 12.9375 67.421875 \nQ 19.578125 74.21875 30.609375 74.21875 \nQ 43.265625 74.21875 49.921875 64.515625 \nQ 56.59375 54.828125 56.59375 36.375 \nQ 56.59375 19.140625 48.40625 8.859375 \nQ 40.234375 -1.421875 26.421875 -1.421875 \nQ 22.703125 -1.421875 18.890625 -0.6875 \nQ 15.09375 0.046875 10.984375 1.515625 \nz\nM 30.609375 32.421875 \nQ 37.25 32.421875 41.125 36.953125 \nQ 45.015625 41.5 45.015625 49.421875 \nQ 45.015625 57.28125 41.125 61.84375 \nQ 37.25 66.40625 30.609375 66.40625 \nQ 23.96875 66.40625 20.09375 61.84375 \nQ 16.21875 57.28125 16.21875 49.421875 \nQ 16.21875 41.5 20.09375 36.953125 \nQ 23.96875 32.421875 30.609375 32.421875 \nz\n\" id=\"DejaVuSans-57\"/>\n       </defs>\n       <use xlink:href=\"#DejaVuSans-49\"/>\n       <use x=\"63.623047\" xlink:href=\"#DejaVuSans-57\"/>\n       <use x=\"127.246094\" xlink:href=\"#DejaVuSans-48\"/>\n      </g>\n     </g>\n    </g>\n    <g id=\"xtick_19\">\n     <g id=\"line2d_31\">\n      <g>\n       <use style=\"stroke:#000000;stroke-width:0.8;\" x=\"663.135157\" xlink:href=\"#mbd98b15b1d\" y=\"319.148584\"/>\n      </g>\n     </g>\n     <g id=\"text_35\">\n      <!-- 200 -->\n      <g transform=\"translate(653.591407 333.747021)scale(0.1 -0.1)\">\n       <use xlink:href=\"#DejaVuSans-50\"/>\n       <use x=\"63.623047\" xlink:href=\"#DejaVuSans-48\"/>\n       <use x=\"127.246094\" xlink:href=\"#DejaVuSans-48\"/>\n      </g>\n     </g>\n    </g>\n    <g id=\"text_36\">\n     <!-- height_16 (original) -->\n     <g transform=\"translate(331.404687 347.425146)scale(0.1 -0.1)\">\n      <use xlink:href=\"#DejaVuSans-104\"/>\n      <use x=\"63.378906\" xlink:href=\"#DejaVuSans-101\"/>\n      <use x=\"124.902344\" xlink:href=\"#DejaVuSans-105\"/>\n      <use x=\"152.685547\" xlink:href=\"#DejaVuSans-103\"/>\n      <use x=\"216.162109\" xlink:href=\"#DejaVuSans-104\"/>\n      <use x=\"279.541016\" xlink:href=\"#DejaVuSans-116\"/>\n      <use x=\"318.75\" xlink:href=\"#DejaVuSans-95\"/>\n      <use x=\"368.75\" xlink:href=\"#DejaVuSans-49\"/>\n      <use x=\"432.373047\" xlink:href=\"#DejaVuSans-54\"/>\n      <use x=\"495.996094\" xlink:href=\"#DejaVuSans-32\"/>\n      <use x=\"527.783203\" xlink:href=\"#DejaVuSans-40\"/>\n      <use x=\"566.796875\" xlink:href=\"#DejaVuSans-111\"/>\n      <use x=\"627.978516\" xlink:href=\"#DejaVuSans-114\"/>\n      <use x=\"669.091797\" xlink:href=\"#DejaVuSans-105\"/>\n      <use x=\"696.875\" xlink:href=\"#DejaVuSans-103\"/>\n      <use x=\"760.351562\" xlink:href=\"#DejaVuSans-105\"/>\n      <use x=\"788.134766\" xlink:href=\"#DejaVuSans-110\"/>\n      <use x=\"851.513672\" xlink:href=\"#DejaVuSans-97\"/>\n      <use x=\"912.792969\" xlink:href=\"#DejaVuSans-108\"/>\n      <use x=\"940.576172\" xlink:href=\"#DejaVuSans-41\"/>\n     </g>\n    </g>\n   </g>\n   <g id=\"matplotlib.axis_6\">\n    <g id=\"ytick_13\">\n     <g id=\"line2d_32\">\n      <g>\n       <use style=\"stroke:#000000;stroke-width:0.8;\" x=\"53.328125\" xlink:href=\"#mbbdcde4529\" y=\"319.148584\"/>\n      </g>\n     </g>\n     <g id=\"text_37\">\n      <!-- 0 -->\n      <g transform=\"translate(39.965625 322.947803)scale(0.1 -0.1)\">\n       <use xlink:href=\"#DejaVuSans-48\"/>\n      </g>\n     </g>\n    </g>\n    <g id=\"ytick_14\">\n     <g id=\"line2d_33\">\n      <g>\n       <use style=\"stroke:#000000;stroke-width:0.8;\" x=\"53.328125\" xlink:href=\"#mbbdcde4529\" y=\"284.302566\"/>\n      </g>\n     </g>\n     <g id=\"text_38\">\n      <!-- 100 -->\n      <g transform=\"translate(27.240625 288.101785)scale(0.1 -0.1)\">\n       <use xlink:href=\"#DejaVuSans-49\"/>\n       <use x=\"63.623047\" xlink:href=\"#DejaVuSans-48\"/>\n       <use x=\"127.246094\" xlink:href=\"#DejaVuSans-48\"/>\n      </g>\n     </g>\n    </g>\n    <g id=\"ytick_15\">\n     <g id=\"line2d_34\">\n      <g>\n       <use style=\"stroke:#000000;stroke-width:0.8;\" x=\"53.328125\" xlink:href=\"#mbbdcde4529\" y=\"249.456548\"/>\n      </g>\n     </g>\n     <g id=\"text_39\">\n      <!-- 200 -->\n      <g transform=\"translate(27.240625 253.255767)scale(0.1 -0.1)\">\n       <use xlink:href=\"#DejaVuSans-50\"/>\n       <use x=\"63.623047\" xlink:href=\"#DejaVuSans-48\"/>\n       <use x=\"127.246094\" xlink:href=\"#DejaVuSans-48\"/>\n      </g>\n     </g>\n    </g>\n    <g id=\"ytick_16\">\n     <g id=\"line2d_35\">\n      <g>\n       <use style=\"stroke:#000000;stroke-width:0.8;\" x=\"53.328125\" xlink:href=\"#mbbdcde4529\" y=\"214.61053\"/>\n      </g>\n     </g>\n     <g id=\"text_40\">\n      <!-- 300 -->\n      <g transform=\"translate(27.240625 218.409749)scale(0.1 -0.1)\">\n       <defs>\n        <path d=\"M 40.578125 39.3125 \nQ 47.65625 37.796875 51.625 33 \nQ 55.609375 28.21875 55.609375 21.1875 \nQ 55.609375 10.40625 48.1875 4.484375 \nQ 40.765625 -1.421875 27.09375 -1.421875 \nQ 22.515625 -1.421875 17.65625 -0.515625 \nQ 12.796875 0.390625 7.625 2.203125 \nL 7.625 11.71875 \nQ 11.71875 9.328125 16.59375 8.109375 \nQ 21.484375 6.890625 26.8125 6.890625 \nQ 36.078125 6.890625 40.9375 10.546875 \nQ 45.796875 14.203125 45.796875 21.1875 \nQ 45.796875 27.640625 41.28125 31.265625 \nQ 36.765625 34.90625 28.71875 34.90625 \nL 20.21875 34.90625 \nL 20.21875 43.015625 \nL 29.109375 43.015625 \nQ 36.375 43.015625 40.234375 45.921875 \nQ 44.09375 48.828125 44.09375 54.296875 \nQ 44.09375 59.90625 40.109375 62.90625 \nQ 36.140625 65.921875 28.71875 65.921875 \nQ 24.65625 65.921875 20.015625 65.03125 \nQ 15.375 64.15625 9.8125 62.3125 \nL 9.8125 71.09375 \nQ 15.4375 72.65625 20.34375 73.4375 \nQ 25.25 74.21875 29.59375 74.21875 \nQ 40.828125 74.21875 47.359375 69.109375 \nQ 53.90625 64.015625 53.90625 55.328125 \nQ 53.90625 49.265625 50.4375 45.09375 \nQ 46.96875 40.921875 40.578125 39.3125 \nz\n\" id=\"DejaVuSans-51\"/>\n       </defs>\n       <use xlink:href=\"#DejaVuSans-51\"/>\n       <use x=\"63.623047\" xlink:href=\"#DejaVuSans-48\"/>\n       <use x=\"127.246094\" xlink:href=\"#DejaVuSans-48\"/>\n      </g>\n     </g>\n    </g>\n    <g id=\"text_41\">\n     <!-- Count -->\n     <g transform=\"translate(21.160938 266.857456)rotate(-90)scale(0.1 -0.1)\">\n      <use xlink:href=\"#DejaVuSans-67\"/>\n      <use x=\"69.824219\" xlink:href=\"#DejaVuSans-111\"/>\n      <use x=\"131.005859\" xlink:href=\"#DejaVuSans-117\"/>\n      <use x=\"194.384766\" xlink:href=\"#DejaVuSans-110\"/>\n      <use x=\"257.763672\" xlink:href=\"#DejaVuSans-116\"/>\n     </g>\n    </g>\n   </g>\n   <g id=\"patch_86\">\n    <path d=\"M 53.328125 319.148584 \nL 53.328125 184.869454 \n\" style=\"fill:none;stroke:#000000;stroke-linecap:square;stroke-linejoin:miter;stroke-width:0.8;\"/>\n   </g>\n   <g id=\"patch_87\">\n    <path d=\"M 707.440625 319.148584 \nL 707.440625 184.869454 \n\" style=\"fill:none;stroke:#000000;stroke-linecap:square;stroke-linejoin:miter;stroke-width:0.8;\"/>\n   </g>\n   <g id=\"patch_88\">\n    <path d=\"M 53.328125 319.148584 \nL 707.440625 319.148584 \n\" style=\"fill:none;stroke:#000000;stroke-linecap:square;stroke-linejoin:miter;stroke-width:0.8;\"/>\n   </g>\n   <g id=\"patch_89\">\n    <path d=\"M 53.328125 184.869454 \nL 707.440625 184.869454 \n\" style=\"fill:none;stroke:#000000;stroke-linecap:square;stroke-linejoin:miter;stroke-width:0.8;\"/>\n   </g>\n  </g>\n  <g id=\"axes_4\">\n   <g id=\"patch_90\">\n    <path d=\"M 771.115625 319.148584 \nL 1425.228125 319.148584 \nL 1425.228125 184.869454 \nL 771.115625 184.869454 \nz\n\" style=\"fill:#ffffff;\"/>\n   </g>\n   <g id=\"patch_91\">\n    <path clip-path=\"url(#p8a423b6143)\" d=\"M 800.848011 319.148584 \nL 840.491193 319.148584 \nL 840.491193 319.134818 \nL 800.848011 319.134818 \nz\n\" style=\"fill:#1f77b4;fill-opacity:0.75;stroke:#000000;stroke-linejoin:miter;\"/>\n   </g>\n   <g id=\"patch_92\">\n    <path clip-path=\"url(#p8a423b6143)\" d=\"M 840.491193 319.148584 \nL 880.134375 319.148584 \nL 880.134375 319.038457 \nL 840.491193 319.038457 \nz\n\" style=\"fill:#1f77b4;fill-opacity:0.75;stroke:#000000;stroke-linejoin:miter;\"/>\n   </g>\n   <g id=\"patch_93\">\n    <path clip-path=\"url(#p8a423b6143)\" d=\"M 880.134375 319.148584 \nL 919.777557 319.148584 \nL 919.777557 318.240037 \nL 880.134375 318.240037 \nz\n\" style=\"fill:#1f77b4;fill-opacity:0.75;stroke:#000000;stroke-linejoin:miter;\"/>\n   </g>\n   <g id=\"patch_94\">\n    <path clip-path=\"url(#p8a423b6143)\" d=\"M 919.777557 319.148584 \nL 959.420739 319.148584 \nL 959.420739 316.505538 \nL 919.777557 316.505538 \nz\n\" style=\"fill:#1f77b4;fill-opacity:0.75;stroke:#000000;stroke-linejoin:miter;\"/>\n   </g>\n   <g id=\"patch_95\">\n    <path clip-path=\"url(#p8a423b6143)\" d=\"M 959.420739 319.148584 \nL 999.06392 319.148584 \nL 999.06392 312.389544 \nL 959.420739 312.389544 \nz\n\" style=\"fill:#1f77b4;fill-opacity:0.75;stroke:#000000;stroke-linejoin:miter;\"/>\n   </g>\n   <g id=\"patch_96\">\n    <path clip-path=\"url(#p8a423b6143)\" d=\"M 999.06392 319.148584 \nL 1038.707102 319.148584 \nL 1038.707102 307.805511 \nL 999.06392 307.805511 \nz\n\" style=\"fill:#1f77b4;fill-opacity:0.75;stroke:#000000;stroke-linejoin:miter;\"/>\n   </g>\n   <g id=\"patch_97\">\n    <path clip-path=\"url(#p8a423b6143)\" d=\"M 1038.707102 319.148584 \nL 1078.350284 319.148584 \nL 1078.350284 305.189997 \nL 1038.707102 305.189997 \nz\n\" style=\"fill:#1f77b4;fill-opacity:0.75;stroke:#000000;stroke-linejoin:miter;\"/>\n   </g>\n   <g id=\"patch_98\">\n    <path clip-path=\"url(#p8a423b6143)\" d=\"M 1078.350284 319.148584 \nL 1117.993466 319.148584 \nL 1117.993466 191.263698 \nL 1078.350284 191.263698 \nz\n\" style=\"fill:#1f77b4;fill-opacity:0.75;stroke:#000000;stroke-linejoin:miter;\"/>\n   </g>\n   <g id=\"patch_99\">\n    <path clip-path=\"url(#p8a423b6143)\" d=\"M 1117.993466 319.148584 \nL 1157.636648 319.148584 \nL 1157.636648 308.27355 \nL 1117.993466 308.27355 \nz\n\" style=\"fill:#1f77b4;fill-opacity:0.75;stroke:#000000;stroke-linejoin:miter;\"/>\n   </g>\n   <g id=\"patch_100\">\n    <path clip-path=\"url(#p8a423b6143)\" d=\"M 1157.636648 319.148584 \nL 1197.27983 319.148584 \nL 1197.27983 311.178148 \nL 1157.636648 311.178148 \nz\n\" style=\"fill:#1f77b4;fill-opacity:0.75;stroke:#000000;stroke-linejoin:miter;\"/>\n   </g>\n   <g id=\"patch_101\">\n    <path clip-path=\"url(#p8a423b6143)\" d=\"M 1197.27983 319.148584 \nL 1236.923011 319.148584 \nL 1236.923011 315.486864 \nL 1197.27983 315.486864 \nz\n\" style=\"fill:#1f77b4;fill-opacity:0.75;stroke:#000000;stroke-linejoin:miter;\"/>\n   </g>\n   <g id=\"patch_102\">\n    <path clip-path=\"url(#p8a423b6143)\" d=\"M 1236.923011 319.148584 \nL 1276.566193 319.148584 \nL 1276.566193 317.303958 \nL 1236.923011 317.303958 \nz\n\" style=\"fill:#1f77b4;fill-opacity:0.75;stroke:#000000;stroke-linejoin:miter;\"/>\n   </g>\n   <g id=\"patch_103\">\n    <path clip-path=\"url(#p8a423b6143)\" d=\"M 1276.566193 319.148584 \nL 1316.209375 319.148584 \nL 1316.209375 318.377695 \nL 1276.566193 318.377695 \nz\n\" style=\"fill:#1f77b4;fill-opacity:0.75;stroke:#000000;stroke-linejoin:miter;\"/>\n   </g>\n   <g id=\"patch_104\">\n    <path clip-path=\"url(#p8a423b6143)\" d=\"M 1316.209375 319.148584 \nL 1355.852557 319.148584 \nL 1355.852557 318.955862 \nL 1316.209375 318.955862 \nz\n\" style=\"fill:#1f77b4;fill-opacity:0.75;stroke:#000000;stroke-linejoin:miter;\"/>\n   </g>\n   <g id=\"patch_105\">\n    <path clip-path=\"url(#p8a423b6143)\" d=\"M 1355.852557 319.148584 \nL 1395.495739 319.148584 \nL 1395.495739 319.024691 \nL 1355.852557 319.024691 \nz\n\" style=\"fill:#1f77b4;fill-opacity:0.75;stroke:#000000;stroke-linejoin:miter;\"/>\n   </g>\n   <g id=\"matplotlib.axis_7\">\n    <g id=\"xtick_20\">\n     <g id=\"line2d_36\">\n      <g>\n       <use style=\"stroke:#000000;stroke-width:0.8;\" x=\"805.526282\" xlink:href=\"#mbd98b15b1d\" y=\"319.148584\"/>\n      </g>\n     </g>\n     <g id=\"text_42\">\n      <!-- 140 -->\n      <g transform=\"translate(795.982532 333.747021)scale(0.1 -0.1)\">\n       <use xlink:href=\"#DejaVuSans-49\"/>\n       <use x=\"63.623047\" xlink:href=\"#DejaVuSans-52\"/>\n       <use x=\"127.246094\" xlink:href=\"#DejaVuSans-48\"/>\n      </g>\n     </g>\n    </g>\n    <g id=\"xtick_21\">\n     <g id=\"line2d_37\">\n      <g>\n       <use style=\"stroke:#000000;stroke-width:0.8;\" x=\"901.425678\" xlink:href=\"#mbd98b15b1d\" y=\"319.148584\"/>\n      </g>\n     </g>\n     <g id=\"text_43\">\n      <!-- 150 -->\n      <g transform=\"translate(891.881928 333.747021)scale(0.1 -0.1)\">\n       <use xlink:href=\"#DejaVuSans-49\"/>\n       <use x=\"63.623047\" xlink:href=\"#DejaVuSans-53\"/>\n       <use x=\"127.246094\" xlink:href=\"#DejaVuSans-48\"/>\n      </g>\n     </g>\n    </g>\n    <g id=\"xtick_22\">\n     <g id=\"line2d_38\">\n      <g>\n       <use style=\"stroke:#000000;stroke-width:0.8;\" x=\"997.325074\" xlink:href=\"#mbd98b15b1d\" y=\"319.148584\"/>\n      </g>\n     </g>\n     <g id=\"text_44\">\n      <!-- 160 -->\n      <g transform=\"translate(987.781324 333.747021)scale(0.1 -0.1)\">\n       <use xlink:href=\"#DejaVuSans-49\"/>\n       <use x=\"63.623047\" xlink:href=\"#DejaVuSans-54\"/>\n       <use x=\"127.246094\" xlink:href=\"#DejaVuSans-48\"/>\n      </g>\n     </g>\n    </g>\n    <g id=\"xtick_23\">\n     <g id=\"line2d_39\">\n      <g>\n       <use style=\"stroke:#000000;stroke-width:0.8;\" x=\"1093.22447\" xlink:href=\"#mbd98b15b1d\" y=\"319.148584\"/>\n      </g>\n     </g>\n     <g id=\"text_45\">\n      <!-- 170 -->\n      <g transform=\"translate(1083.68072 333.747021)scale(0.1 -0.1)\">\n       <use xlink:href=\"#DejaVuSans-49\"/>\n       <use x=\"63.623047\" xlink:href=\"#DejaVuSans-55\"/>\n       <use x=\"127.246094\" xlink:href=\"#DejaVuSans-48\"/>\n      </g>\n     </g>\n    </g>\n    <g id=\"xtick_24\">\n     <g id=\"line2d_40\">\n      <g>\n       <use style=\"stroke:#000000;stroke-width:0.8;\" x=\"1189.123866\" xlink:href=\"#mbd98b15b1d\" y=\"319.148584\"/>\n      </g>\n     </g>\n     <g id=\"text_46\">\n      <!-- 180 -->\n      <g transform=\"translate(1179.580116 333.747021)scale(0.1 -0.1)\">\n       <use xlink:href=\"#DejaVuSans-49\"/>\n       <use x=\"63.623047\" xlink:href=\"#DejaVuSans-56\"/>\n       <use x=\"127.246094\" xlink:href=\"#DejaVuSans-48\"/>\n      </g>\n     </g>\n    </g>\n    <g id=\"xtick_25\">\n     <g id=\"line2d_41\">\n      <g>\n       <use style=\"stroke:#000000;stroke-width:0.8;\" x=\"1285.023262\" xlink:href=\"#mbd98b15b1d\" y=\"319.148584\"/>\n      </g>\n     </g>\n     <g id=\"text_47\">\n      <!-- 190 -->\n      <g transform=\"translate(1275.479512 333.747021)scale(0.1 -0.1)\">\n       <use xlink:href=\"#DejaVuSans-49\"/>\n       <use x=\"63.623047\" xlink:href=\"#DejaVuSans-57\"/>\n       <use x=\"127.246094\" xlink:href=\"#DejaVuSans-48\"/>\n      </g>\n     </g>\n    </g>\n    <g id=\"xtick_26\">\n     <g id=\"line2d_42\">\n      <g>\n       <use style=\"stroke:#000000;stroke-width:0.8;\" x=\"1380.922657\" xlink:href=\"#mbd98b15b1d\" y=\"319.148584\"/>\n      </g>\n     </g>\n     <g id=\"text_48\">\n      <!-- 200 -->\n      <g transform=\"translate(1371.378907 333.747021)scale(0.1 -0.1)\">\n       <use xlink:href=\"#DejaVuSans-50\"/>\n       <use x=\"63.623047\" xlink:href=\"#DejaVuSans-48\"/>\n       <use x=\"127.246094\" xlink:href=\"#DejaVuSans-48\"/>\n      </g>\n     </g>\n    </g>\n    <g id=\"text_49\">\n     <!-- height_16 (imputed) -->\n     <g transform=\"translate(1047.067969 347.425146)scale(0.1 -0.1)\">\n      <use xlink:href=\"#DejaVuSans-104\"/>\n      <use x=\"63.378906\" xlink:href=\"#DejaVuSans-101\"/>\n      <use x=\"124.902344\" xlink:href=\"#DejaVuSans-105\"/>\n      <use x=\"152.685547\" xlink:href=\"#DejaVuSans-103\"/>\n      <use x=\"216.162109\" xlink:href=\"#DejaVuSans-104\"/>\n      <use x=\"279.541016\" xlink:href=\"#DejaVuSans-116\"/>\n      <use x=\"318.75\" xlink:href=\"#DejaVuSans-95\"/>\n      <use x=\"368.75\" xlink:href=\"#DejaVuSans-49\"/>\n      <use x=\"432.373047\" xlink:href=\"#DejaVuSans-54\"/>\n      <use x=\"495.996094\" xlink:href=\"#DejaVuSans-32\"/>\n      <use x=\"527.783203\" xlink:href=\"#DejaVuSans-40\"/>\n      <use x=\"566.796875\" xlink:href=\"#DejaVuSans-105\"/>\n      <use x=\"594.580078\" xlink:href=\"#DejaVuSans-109\"/>\n      <use x=\"691.992188\" xlink:href=\"#DejaVuSans-112\"/>\n      <use x=\"755.46875\" xlink:href=\"#DejaVuSans-117\"/>\n      <use x=\"818.847656\" xlink:href=\"#DejaVuSans-116\"/>\n      <use x=\"858.056641\" xlink:href=\"#DejaVuSans-101\"/>\n      <use x=\"919.580078\" xlink:href=\"#DejaVuSans-100\"/>\n      <use x=\"983.056641\" xlink:href=\"#DejaVuSans-41\"/>\n     </g>\n    </g>\n   </g>\n   <g id=\"matplotlib.axis_8\">\n    <g id=\"ytick_17\">\n     <g id=\"line2d_43\">\n      <g>\n       <use style=\"stroke:#000000;stroke-width:0.8;\" x=\"771.115625\" xlink:href=\"#mbbdcde4529\" y=\"319.148584\"/>\n      </g>\n     </g>\n     <g id=\"text_50\">\n      <!-- 0 -->\n      <g transform=\"translate(757.753125 322.947803)scale(0.1 -0.1)\">\n       <use xlink:href=\"#DejaVuSans-48\"/>\n      </g>\n     </g>\n    </g>\n    <g id=\"ytick_18\">\n     <g id=\"line2d_44\">\n      <g>\n       <use style=\"stroke:#000000;stroke-width:0.8;\" x=\"771.115625\" xlink:href=\"#mbbdcde4529\" y=\"291.616854\"/>\n      </g>\n     </g>\n     <g id=\"text_51\">\n      <!-- 2000 -->\n      <g transform=\"translate(738.665625 295.416073)scale(0.1 -0.1)\">\n       <use xlink:href=\"#DejaVuSans-50\"/>\n       <use x=\"63.623047\" xlink:href=\"#DejaVuSans-48\"/>\n       <use x=\"127.246094\" xlink:href=\"#DejaVuSans-48\"/>\n       <use x=\"190.869141\" xlink:href=\"#DejaVuSans-48\"/>\n      </g>\n     </g>\n    </g>\n    <g id=\"ytick_19\">\n     <g id=\"line2d_45\">\n      <g>\n       <use style=\"stroke:#000000;stroke-width:0.8;\" x=\"771.115625\" xlink:href=\"#mbbdcde4529\" y=\"264.085124\"/>\n      </g>\n     </g>\n     <g id=\"text_52\">\n      <!-- 4000 -->\n      <g transform=\"translate(738.665625 267.884343)scale(0.1 -0.1)\">\n       <use xlink:href=\"#DejaVuSans-52\"/>\n       <use x=\"63.623047\" xlink:href=\"#DejaVuSans-48\"/>\n       <use x=\"127.246094\" xlink:href=\"#DejaVuSans-48\"/>\n       <use x=\"190.869141\" xlink:href=\"#DejaVuSans-48\"/>\n      </g>\n     </g>\n    </g>\n    <g id=\"ytick_20\">\n     <g id=\"line2d_46\">\n      <g>\n       <use style=\"stroke:#000000;stroke-width:0.8;\" x=\"771.115625\" xlink:href=\"#mbbdcde4529\" y=\"236.553394\"/>\n      </g>\n     </g>\n     <g id=\"text_53\">\n      <!-- 6000 -->\n      <g transform=\"translate(738.665625 240.352613)scale(0.1 -0.1)\">\n       <use xlink:href=\"#DejaVuSans-54\"/>\n       <use x=\"63.623047\" xlink:href=\"#DejaVuSans-48\"/>\n       <use x=\"127.246094\" xlink:href=\"#DejaVuSans-48\"/>\n       <use x=\"190.869141\" xlink:href=\"#DejaVuSans-48\"/>\n      </g>\n     </g>\n    </g>\n    <g id=\"ytick_21\">\n     <g id=\"line2d_47\">\n      <g>\n       <use style=\"stroke:#000000;stroke-width:0.8;\" x=\"771.115625\" xlink:href=\"#mbbdcde4529\" y=\"209.021664\"/>\n      </g>\n     </g>\n     <g id=\"text_54\">\n      <!-- 8000 -->\n      <g transform=\"translate(738.665625 212.820883)scale(0.1 -0.1)\">\n       <use xlink:href=\"#DejaVuSans-56\"/>\n       <use x=\"63.623047\" xlink:href=\"#DejaVuSans-48\"/>\n       <use x=\"127.246094\" xlink:href=\"#DejaVuSans-48\"/>\n       <use x=\"190.869141\" xlink:href=\"#DejaVuSans-48\"/>\n      </g>\n     </g>\n    </g>\n    <g id=\"text_55\">\n     <!-- Count -->\n     <g transform=\"translate(732.585938 266.857456)rotate(-90)scale(0.1 -0.1)\">\n      <use xlink:href=\"#DejaVuSans-67\"/>\n      <use x=\"69.824219\" xlink:href=\"#DejaVuSans-111\"/>\n      <use x=\"131.005859\" xlink:href=\"#DejaVuSans-117\"/>\n      <use x=\"194.384766\" xlink:href=\"#DejaVuSans-110\"/>\n      <use x=\"257.763672\" xlink:href=\"#DejaVuSans-116\"/>\n     </g>\n    </g>\n   </g>\n   <g id=\"patch_106\">\n    <path d=\"M 771.115625 319.148584 \nL 771.115625 184.869454 \n\" style=\"fill:none;stroke:#000000;stroke-linecap:square;stroke-linejoin:miter;stroke-width:0.8;\"/>\n   </g>\n   <g id=\"patch_107\">\n    <path d=\"M 1425.228125 319.148584 \nL 1425.228125 184.869454 \n\" style=\"fill:none;stroke:#000000;stroke-linecap:square;stroke-linejoin:miter;stroke-width:0.8;\"/>\n   </g>\n   <g id=\"patch_108\">\n    <path d=\"M 771.115625 319.148584 \nL 1425.228125 319.148584 \n\" style=\"fill:none;stroke:#000000;stroke-linecap:square;stroke-linejoin:miter;stroke-width:0.8;\"/>\n   </g>\n   <g id=\"patch_109\">\n    <path d=\"M 771.115625 184.869454 \nL 1425.228125 184.869454 \n\" style=\"fill:none;stroke:#000000;stroke-linecap:square;stroke-linejoin:miter;stroke-width:0.8;\"/>\n   </g>\n  </g>\n  <g id=\"axes_5\">\n   <g id=\"patch_110\">\n    <path d=\"M 53.328125 496.133964 \nL 707.440625 496.133964 \nL 707.440625 361.854834 \nL 53.328125 361.854834 \nz\n\" style=\"fill:#ffffff;\"/>\n   </g>\n   <g id=\"patch_111\">\n    <path clip-path=\"url(#p8d30bbb893)\" d=\"M 83.060511 496.133964 \nL 112.792898 496.133964 \nL 112.792898 407.085003 \nL 83.060511 407.085003 \nz\n\" style=\"fill:#1f77b4;fill-opacity:0.75;stroke:#000000;stroke-linejoin:miter;\"/>\n   </g>\n   <g id=\"patch_112\">\n    <path clip-path=\"url(#p8d30bbb893)\" d=\"M 112.792898 496.133964 \nL 142.525284 496.133964 \nL 142.525284 496.133964 \nL 112.792898 496.133964 \nz\n\" style=\"fill:#1f77b4;fill-opacity:0.75;stroke:#000000;stroke-linejoin:miter;\"/>\n   </g>\n   <g id=\"patch_113\">\n    <path clip-path=\"url(#p8d30bbb893)\" d=\"M 142.525284 496.133964 \nL 172.25767 496.133964 \nL 172.25767 496.133964 \nL 142.525284 496.133964 \nz\n\" style=\"fill:#1f77b4;fill-opacity:0.75;stroke:#000000;stroke-linejoin:miter;\"/>\n   </g>\n   <g id=\"patch_114\">\n    <path clip-path=\"url(#p8d30bbb893)\" d=\"M 172.25767 496.133964 \nL 201.990057 496.133964 \nL 201.990057 496.133964 \nL 172.25767 496.133964 \nz\n\" style=\"fill:#1f77b4;fill-opacity:0.75;stroke:#000000;stroke-linejoin:miter;\"/>\n   </g>\n   <g id=\"patch_115\">\n    <path clip-path=\"url(#p8d30bbb893)\" d=\"M 201.990057 496.133964 \nL 231.722443 496.133964 \nL 231.722443 496.133964 \nL 201.990057 496.133964 \nz\n\" style=\"fill:#1f77b4;fill-opacity:0.75;stroke:#000000;stroke-linejoin:miter;\"/>\n   </g>\n   <g id=\"patch_116\">\n    <path clip-path=\"url(#p8d30bbb893)\" d=\"M 231.722443 496.133964 \nL 261.45483 496.133964 \nL 261.45483 496.133964 \nL 231.722443 496.133964 \nz\n\" style=\"fill:#1f77b4;fill-opacity:0.75;stroke:#000000;stroke-linejoin:miter;\"/>\n   </g>\n   <g id=\"patch_117\">\n    <path clip-path=\"url(#p8d30bbb893)\" d=\"M 261.45483 496.133964 \nL 291.187216 496.133964 \nL 291.187216 496.133964 \nL 261.45483 496.133964 \nz\n\" style=\"fill:#1f77b4;fill-opacity:0.75;stroke:#000000;stroke-linejoin:miter;\"/>\n   </g>\n   <g id=\"patch_118\">\n    <path clip-path=\"url(#p8d30bbb893)\" d=\"M 291.187216 496.133964 \nL 320.919602 496.133964 \nL 320.919602 496.133964 \nL 291.187216 496.133964 \nz\n\" style=\"fill:#1f77b4;fill-opacity:0.75;stroke:#000000;stroke-linejoin:miter;\"/>\n   </g>\n   <g id=\"patch_119\">\n    <path clip-path=\"url(#p8d30bbb893)\" d=\"M 320.919602 496.133964 \nL 350.651989 496.133964 \nL 350.651989 496.133964 \nL 320.919602 496.133964 \nz\n\" style=\"fill:#1f77b4;fill-opacity:0.75;stroke:#000000;stroke-linejoin:miter;\"/>\n   </g>\n   <g id=\"patch_120\">\n    <path clip-path=\"url(#p8d30bbb893)\" d=\"M 350.651989 496.133964 \nL 380.384375 496.133964 \nL 380.384375 496.133964 \nL 350.651989 496.133964 \nz\n\" style=\"fill:#1f77b4;fill-opacity:0.75;stroke:#000000;stroke-linejoin:miter;\"/>\n   </g>\n   <g id=\"patch_121\">\n    <path clip-path=\"url(#p8d30bbb893)\" d=\"M 380.384375 496.133964 \nL 410.116761 496.133964 \nL 410.116761 368.249078 \nL 380.384375 368.249078 \nz\n\" style=\"fill:#1f77b4;fill-opacity:0.75;stroke:#000000;stroke-linejoin:miter;\"/>\n   </g>\n   <g id=\"patch_122\">\n    <path clip-path=\"url(#p8d30bbb893)\" d=\"M 410.116761 496.133964 \nL 439.849148 496.133964 \nL 439.849148 496.133964 \nL 410.116761 496.133964 \nz\n\" style=\"fill:#1f77b4;fill-opacity:0.75;stroke:#000000;stroke-linejoin:miter;\"/>\n   </g>\n   <g id=\"patch_123\">\n    <path clip-path=\"url(#p8d30bbb893)\" d=\"M 439.849148 496.133964 \nL 469.581534 496.133964 \nL 469.581534 496.133964 \nL 439.849148 496.133964 \nz\n\" style=\"fill:#1f77b4;fill-opacity:0.75;stroke:#000000;stroke-linejoin:miter;\"/>\n   </g>\n   <g id=\"patch_124\">\n    <path clip-path=\"url(#p8d30bbb893)\" d=\"M 469.581534 496.133964 \nL 499.31392 496.133964 \nL 499.31392 496.133964 \nL 469.581534 496.133964 \nz\n\" style=\"fill:#1f77b4;fill-opacity:0.75;stroke:#000000;stroke-linejoin:miter;\"/>\n   </g>\n   <g id=\"patch_125\">\n    <path clip-path=\"url(#p8d30bbb893)\" d=\"M 499.31392 496.133964 \nL 529.046307 496.133964 \nL 529.046307 496.133964 \nL 499.31392 496.133964 \nz\n\" style=\"fill:#1f77b4;fill-opacity:0.75;stroke:#000000;stroke-linejoin:miter;\"/>\n   </g>\n   <g id=\"patch_126\">\n    <path clip-path=\"url(#p8d30bbb893)\" d=\"M 529.046307 496.133964 \nL 558.778693 496.133964 \nL 558.778693 496.133964 \nL 529.046307 496.133964 \nz\n\" style=\"fill:#1f77b4;fill-opacity:0.75;stroke:#000000;stroke-linejoin:miter;\"/>\n   </g>\n   <g id=\"patch_127\">\n    <path clip-path=\"url(#p8d30bbb893)\" d=\"M 558.778693 496.133964 \nL 588.51108 496.133964 \nL 588.51108 496.133964 \nL 558.778693 496.133964 \nz\n\" style=\"fill:#1f77b4;fill-opacity:0.75;stroke:#000000;stroke-linejoin:miter;\"/>\n   </g>\n   <g id=\"patch_128\">\n    <path clip-path=\"url(#p8d30bbb893)\" d=\"M 588.51108 496.133964 \nL 618.243466 496.133964 \nL 618.243466 496.133964 \nL 588.51108 496.133964 \nz\n\" style=\"fill:#1f77b4;fill-opacity:0.75;stroke:#000000;stroke-linejoin:miter;\"/>\n   </g>\n   <g id=\"patch_129\">\n    <path clip-path=\"url(#p8d30bbb893)\" d=\"M 618.243466 496.133964 \nL 647.975852 496.133964 \nL 647.975852 496.133964 \nL 618.243466 496.133964 \nz\n\" style=\"fill:#1f77b4;fill-opacity:0.75;stroke:#000000;stroke-linejoin:miter;\"/>\n   </g>\n   <g id=\"patch_130\">\n    <path clip-path=\"url(#p8d30bbb893)\" d=\"M 647.975852 496.133964 \nL 677.708239 496.133964 \nL 677.708239 492.966822 \nL 647.975852 492.966822 \nz\n\" style=\"fill:#1f77b4;fill-opacity:0.75;stroke:#000000;stroke-linejoin:miter;\"/>\n   </g>\n   <g id=\"matplotlib.axis_9\">\n    <g id=\"xtick_27\">\n     <g id=\"line2d_48\">\n      <g>\n       <use style=\"stroke:#000000;stroke-width:0.8;\" x=\"83.060511\" xlink:href=\"#mbd98b15b1d\" y=\"496.133964\"/>\n      </g>\n     </g>\n     <g id=\"text_56\">\n      <!-- 0.00 -->\n      <g transform=\"translate(71.927699 510.732401)scale(0.1 -0.1)\">\n       <use xlink:href=\"#DejaVuSans-48\"/>\n       <use x=\"63.623047\" xlink:href=\"#DejaVuSans-46\"/>\n       <use x=\"95.410156\" xlink:href=\"#DejaVuSans-48\"/>\n       <use x=\"159.033203\" xlink:href=\"#DejaVuSans-48\"/>\n      </g>\n     </g>\n    </g>\n    <g id=\"xtick_28\">\n     <g id=\"line2d_49\">\n      <g>\n       <use style=\"stroke:#000000;stroke-width:0.8;\" x=\"157.391477\" xlink:href=\"#mbd98b15b1d\" y=\"496.133964\"/>\n      </g>\n     </g>\n     <g id=\"text_57\">\n      <!-- 0.25 -->\n      <g transform=\"translate(146.258665 510.732401)scale(0.1 -0.1)\">\n       <use xlink:href=\"#DejaVuSans-48\"/>\n       <use x=\"63.623047\" xlink:href=\"#DejaVuSans-46\"/>\n       <use x=\"95.410156\" xlink:href=\"#DejaVuSans-50\"/>\n       <use x=\"159.033203\" xlink:href=\"#DejaVuSans-53\"/>\n      </g>\n     </g>\n    </g>\n    <g id=\"xtick_29\">\n     <g id=\"line2d_50\">\n      <g>\n       <use style=\"stroke:#000000;stroke-width:0.8;\" x=\"231.722443\" xlink:href=\"#mbd98b15b1d\" y=\"496.133964\"/>\n      </g>\n     </g>\n     <g id=\"text_58\">\n      <!-- 0.50 -->\n      <g transform=\"translate(220.589631 510.732401)scale(0.1 -0.1)\">\n       <use xlink:href=\"#DejaVuSans-48\"/>\n       <use x=\"63.623047\" xlink:href=\"#DejaVuSans-46\"/>\n       <use x=\"95.410156\" xlink:href=\"#DejaVuSans-53\"/>\n       <use x=\"159.033203\" xlink:href=\"#DejaVuSans-48\"/>\n      </g>\n     </g>\n    </g>\n    <g id=\"xtick_30\">\n     <g id=\"line2d_51\">\n      <g>\n       <use style=\"stroke:#000000;stroke-width:0.8;\" x=\"306.053409\" xlink:href=\"#mbd98b15b1d\" y=\"496.133964\"/>\n      </g>\n     </g>\n     <g id=\"text_59\">\n      <!-- 0.75 -->\n      <g transform=\"translate(294.920597 510.732401)scale(0.1 -0.1)\">\n       <use xlink:href=\"#DejaVuSans-48\"/>\n       <use x=\"63.623047\" xlink:href=\"#DejaVuSans-46\"/>\n       <use x=\"95.410156\" xlink:href=\"#DejaVuSans-55\"/>\n       <use x=\"159.033203\" xlink:href=\"#DejaVuSans-53\"/>\n      </g>\n     </g>\n    </g>\n    <g id=\"xtick_31\">\n     <g id=\"line2d_52\">\n      <g>\n       <use style=\"stroke:#000000;stroke-width:0.8;\" x=\"380.384375\" xlink:href=\"#mbd98b15b1d\" y=\"496.133964\"/>\n      </g>\n     </g>\n     <g id=\"text_60\">\n      <!-- 1.00 -->\n      <g transform=\"translate(369.251562 510.732401)scale(0.1 -0.1)\">\n       <use xlink:href=\"#DejaVuSans-49\"/>\n       <use x=\"63.623047\" xlink:href=\"#DejaVuSans-46\"/>\n       <use x=\"95.410156\" xlink:href=\"#DejaVuSans-48\"/>\n       <use x=\"159.033203\" xlink:href=\"#DejaVuSans-48\"/>\n      </g>\n     </g>\n    </g>\n    <g id=\"xtick_32\">\n     <g id=\"line2d_53\">\n      <g>\n       <use style=\"stroke:#000000;stroke-width:0.8;\" x=\"454.715341\" xlink:href=\"#mbd98b15b1d\" y=\"496.133964\"/>\n      </g>\n     </g>\n     <g id=\"text_61\">\n      <!-- 1.25 -->\n      <g transform=\"translate(443.582528 510.732401)scale(0.1 -0.1)\">\n       <use xlink:href=\"#DejaVuSans-49\"/>\n       <use x=\"63.623047\" xlink:href=\"#DejaVuSans-46\"/>\n       <use x=\"95.410156\" xlink:href=\"#DejaVuSans-50\"/>\n       <use x=\"159.033203\" xlink:href=\"#DejaVuSans-53\"/>\n      </g>\n     </g>\n    </g>\n    <g id=\"xtick_33\">\n     <g id=\"line2d_54\">\n      <g>\n       <use style=\"stroke:#000000;stroke-width:0.8;\" x=\"529.046307\" xlink:href=\"#mbd98b15b1d\" y=\"496.133964\"/>\n      </g>\n     </g>\n     <g id=\"text_62\">\n      <!-- 1.50 -->\n      <g transform=\"translate(517.913494 510.732401)scale(0.1 -0.1)\">\n       <use xlink:href=\"#DejaVuSans-49\"/>\n       <use x=\"63.623047\" xlink:href=\"#DejaVuSans-46\"/>\n       <use x=\"95.410156\" xlink:href=\"#DejaVuSans-53\"/>\n       <use x=\"159.033203\" xlink:href=\"#DejaVuSans-48\"/>\n      </g>\n     </g>\n    </g>\n    <g id=\"xtick_34\">\n     <g id=\"line2d_55\">\n      <g>\n       <use style=\"stroke:#000000;stroke-width:0.8;\" x=\"603.377273\" xlink:href=\"#mbd98b15b1d\" y=\"496.133964\"/>\n      </g>\n     </g>\n     <g id=\"text_63\">\n      <!-- 1.75 -->\n      <g transform=\"translate(592.24446 510.732401)scale(0.1 -0.1)\">\n       <use xlink:href=\"#DejaVuSans-49\"/>\n       <use x=\"63.623047\" xlink:href=\"#DejaVuSans-46\"/>\n       <use x=\"95.410156\" xlink:href=\"#DejaVuSans-55\"/>\n       <use x=\"159.033203\" xlink:href=\"#DejaVuSans-53\"/>\n      </g>\n     </g>\n    </g>\n    <g id=\"xtick_35\">\n     <g id=\"line2d_56\">\n      <g>\n       <use style=\"stroke:#000000;stroke-width:0.8;\" x=\"677.708239\" xlink:href=\"#mbd98b15b1d\" y=\"496.133964\"/>\n      </g>\n     </g>\n     <g id=\"text_64\">\n      <!-- 2.00 -->\n      <g transform=\"translate(666.575426 510.732401)scale(0.1 -0.1)\">\n       <use xlink:href=\"#DejaVuSans-50\"/>\n       <use x=\"63.623047\" xlink:href=\"#DejaVuSans-46\"/>\n       <use x=\"95.410156\" xlink:href=\"#DejaVuSans-48\"/>\n       <use x=\"159.033203\" xlink:href=\"#DejaVuSans-48\"/>\n      </g>\n     </g>\n    </g>\n    <g id=\"text_65\">\n     <!-- anx_band_13 (original) -->\n     <g transform=\"translate(323.06875 524.410526)scale(0.1 -0.1)\">\n      <defs>\n       <path d=\"M 54.890625 54.6875 \nL 35.109375 28.078125 \nL 55.90625 0 \nL 45.3125 0 \nL 29.390625 21.484375 \nL 13.484375 0 \nL 2.875 0 \nL 24.125 28.609375 \nL 4.6875 54.6875 \nL 15.28125 54.6875 \nL 29.78125 35.203125 \nL 44.28125 54.6875 \nz\n\" id=\"DejaVuSans-120\"/>\n       <path d=\"M 48.6875 27.296875 \nQ 48.6875 37.203125 44.609375 42.84375 \nQ 40.53125 48.484375 33.40625 48.484375 \nQ 26.265625 48.484375 22.1875 42.84375 \nQ 18.109375 37.203125 18.109375 27.296875 \nQ 18.109375 17.390625 22.1875 11.75 \nQ 26.265625 6.109375 33.40625 6.109375 \nQ 40.53125 6.109375 44.609375 11.75 \nQ 48.6875 17.390625 48.6875 27.296875 \nz\nM 18.109375 46.390625 \nQ 20.953125 51.265625 25.265625 53.625 \nQ 29.59375 56 35.59375 56 \nQ 45.5625 56 51.78125 48.09375 \nQ 58.015625 40.1875 58.015625 27.296875 \nQ 58.015625 14.40625 51.78125 6.484375 \nQ 45.5625 -1.421875 35.59375 -1.421875 \nQ 29.59375 -1.421875 25.265625 0.953125 \nQ 20.953125 3.328125 18.109375 8.203125 \nL 18.109375 0 \nL 9.078125 0 \nL 9.078125 75.984375 \nL 18.109375 75.984375 \nz\n\" id=\"DejaVuSans-98\"/>\n      </defs>\n      <use xlink:href=\"#DejaVuSans-97\"/>\n      <use x=\"61.279297\" xlink:href=\"#DejaVuSans-110\"/>\n      <use x=\"124.658203\" xlink:href=\"#DejaVuSans-120\"/>\n      <use x=\"183.837891\" xlink:href=\"#DejaVuSans-95\"/>\n      <use x=\"233.837891\" xlink:href=\"#DejaVuSans-98\"/>\n      <use x=\"297.314453\" xlink:href=\"#DejaVuSans-97\"/>\n      <use x=\"358.59375\" xlink:href=\"#DejaVuSans-110\"/>\n      <use x=\"421.972656\" xlink:href=\"#DejaVuSans-100\"/>\n      <use x=\"485.449219\" xlink:href=\"#DejaVuSans-95\"/>\n      <use x=\"535.449219\" xlink:href=\"#DejaVuSans-49\"/>\n      <use x=\"599.072266\" xlink:href=\"#DejaVuSans-51\"/>\n      <use x=\"662.695312\" xlink:href=\"#DejaVuSans-32\"/>\n      <use x=\"694.482422\" xlink:href=\"#DejaVuSans-40\"/>\n      <use x=\"733.496094\" xlink:href=\"#DejaVuSans-111\"/>\n      <use x=\"794.677734\" xlink:href=\"#DejaVuSans-114\"/>\n      <use x=\"835.791016\" xlink:href=\"#DejaVuSans-105\"/>\n      <use x=\"863.574219\" xlink:href=\"#DejaVuSans-103\"/>\n      <use x=\"927.050781\" xlink:href=\"#DejaVuSans-105\"/>\n      <use x=\"954.833984\" xlink:href=\"#DejaVuSans-110\"/>\n      <use x=\"1018.212891\" xlink:href=\"#DejaVuSans-97\"/>\n      <use x=\"1079.492188\" xlink:href=\"#DejaVuSans-108\"/>\n      <use x=\"1107.275391\" xlink:href=\"#DejaVuSans-41\"/>\n     </g>\n    </g>\n   </g>\n   <g id=\"matplotlib.axis_10\">\n    <g id=\"ytick_22\">\n     <g id=\"line2d_57\">\n      <g>\n       <use style=\"stroke:#000000;stroke-width:0.8;\" x=\"53.328125\" xlink:href=\"#mbbdcde4529\" y=\"496.133964\"/>\n      </g>\n     </g>\n     <g id=\"text_66\">\n      <!-- 0 -->\n      <g transform=\"translate(39.965625 499.933182)scale(0.1 -0.1)\">\n       <use xlink:href=\"#DejaVuSans-48\"/>\n      </g>\n     </g>\n    </g>\n    <g id=\"ytick_23\">\n     <g id=\"line2d_58\">\n      <g>\n       <use style=\"stroke:#000000;stroke-width:0.8;\" x=\"53.328125\" xlink:href=\"#mbbdcde4529\" y=\"465.385013\"/>\n      </g>\n     </g>\n     <g id=\"text_67\">\n      <!-- 1000 -->\n      <g transform=\"translate(20.878125 469.184232)scale(0.1 -0.1)\">\n       <use xlink:href=\"#DejaVuSans-49\"/>\n       <use x=\"63.623047\" xlink:href=\"#DejaVuSans-48\"/>\n       <use x=\"127.246094\" xlink:href=\"#DejaVuSans-48\"/>\n       <use x=\"190.869141\" xlink:href=\"#DejaVuSans-48\"/>\n      </g>\n     </g>\n    </g>\n    <g id=\"ytick_24\">\n     <g id=\"line2d_59\">\n      <g>\n       <use style=\"stroke:#000000;stroke-width:0.8;\" x=\"53.328125\" xlink:href=\"#mbbdcde4529\" y=\"434.636062\"/>\n      </g>\n     </g>\n     <g id=\"text_68\">\n      <!-- 2000 -->\n      <g transform=\"translate(20.878125 438.435281)scale(0.1 -0.1)\">\n       <use xlink:href=\"#DejaVuSans-50\"/>\n       <use x=\"63.623047\" xlink:href=\"#DejaVuSans-48\"/>\n       <use x=\"127.246094\" xlink:href=\"#DejaVuSans-48\"/>\n       <use x=\"190.869141\" xlink:href=\"#DejaVuSans-48\"/>\n      </g>\n     </g>\n    </g>\n    <g id=\"ytick_25\">\n     <g id=\"line2d_60\">\n      <g>\n       <use style=\"stroke:#000000;stroke-width:0.8;\" x=\"53.328125\" xlink:href=\"#mbbdcde4529\" y=\"403.887112\"/>\n      </g>\n     </g>\n     <g id=\"text_69\">\n      <!-- 3000 -->\n      <g transform=\"translate(20.878125 407.686331)scale(0.1 -0.1)\">\n       <use xlink:href=\"#DejaVuSans-51\"/>\n       <use x=\"63.623047\" xlink:href=\"#DejaVuSans-48\"/>\n       <use x=\"127.246094\" xlink:href=\"#DejaVuSans-48\"/>\n       <use x=\"190.869141\" xlink:href=\"#DejaVuSans-48\"/>\n      </g>\n     </g>\n    </g>\n    <g id=\"ytick_26\">\n     <g id=\"line2d_61\">\n      <g>\n       <use style=\"stroke:#000000;stroke-width:0.8;\" x=\"53.328125\" xlink:href=\"#mbbdcde4529\" y=\"373.138161\"/>\n      </g>\n     </g>\n     <g id=\"text_70\">\n      <!-- 4000 -->\n      <g transform=\"translate(20.878125 376.93738)scale(0.1 -0.1)\">\n       <use xlink:href=\"#DejaVuSans-52\"/>\n       <use x=\"63.623047\" xlink:href=\"#DejaVuSans-48\"/>\n       <use x=\"127.246094\" xlink:href=\"#DejaVuSans-48\"/>\n       <use x=\"190.869141\" xlink:href=\"#DejaVuSans-48\"/>\n      </g>\n     </g>\n    </g>\n    <g id=\"text_71\">\n     <!-- Count -->\n     <g transform=\"translate(14.798438 443.842836)rotate(-90)scale(0.1 -0.1)\">\n      <use xlink:href=\"#DejaVuSans-67\"/>\n      <use x=\"69.824219\" xlink:href=\"#DejaVuSans-111\"/>\n      <use x=\"131.005859\" xlink:href=\"#DejaVuSans-117\"/>\n      <use x=\"194.384766\" xlink:href=\"#DejaVuSans-110\"/>\n      <use x=\"257.763672\" xlink:href=\"#DejaVuSans-116\"/>\n     </g>\n    </g>\n   </g>\n   <g id=\"patch_131\">\n    <path d=\"M 53.328125 496.133964 \nL 53.328125 361.854834 \n\" style=\"fill:none;stroke:#000000;stroke-linecap:square;stroke-linejoin:miter;stroke-width:0.8;\"/>\n   </g>\n   <g id=\"patch_132\">\n    <path d=\"M 707.440625 496.133964 \nL 707.440625 361.854834 \n\" style=\"fill:none;stroke:#000000;stroke-linecap:square;stroke-linejoin:miter;stroke-width:0.8;\"/>\n   </g>\n   <g id=\"patch_133\">\n    <path d=\"M 53.328125 496.133964 \nL 707.440625 496.133964 \n\" style=\"fill:none;stroke:#000000;stroke-linecap:square;stroke-linejoin:miter;stroke-width:0.8;\"/>\n   </g>\n   <g id=\"patch_134\">\n    <path d=\"M 53.328125 361.854834 \nL 707.440625 361.854834 \n\" style=\"fill:none;stroke:#000000;stroke-linecap:square;stroke-linejoin:miter;stroke-width:0.8;\"/>\n   </g>\n  </g>\n  <g id=\"axes_6\">\n   <g id=\"patch_135\">\n    <path d=\"M 771.115625 496.133964 \nL 1425.228125 496.133964 \nL 1425.228125 361.854834 \nL 771.115625 361.854834 \nz\n\" style=\"fill:#ffffff;\"/>\n   </g>\n   <g id=\"patch_136\">\n    <path clip-path=\"url(#pb99840b4f2)\" d=\"M 800.848011 496.133964 \nL 840.491193 496.133964 \nL 840.491193 461.634231 \nL 800.848011 461.634231 \nz\n\" style=\"fill:#1f77b4;fill-opacity:0.75;stroke:#000000;stroke-linejoin:miter;\"/>\n   </g>\n   <g id=\"patch_137\">\n    <path clip-path=\"url(#pb99840b4f2)\" d=\"M 840.491193 496.133964 \nL 880.134375 496.133964 \nL 880.134375 496.133964 \nL 840.491193 496.133964 \nz\n\" style=\"fill:#1f77b4;fill-opacity:0.75;stroke:#000000;stroke-linejoin:miter;\"/>\n   </g>\n   <g id=\"patch_138\">\n    <path clip-path=\"url(#pb99840b4f2)\" d=\"M 880.134375 496.133964 \nL 919.777557 496.133964 \nL 919.777557 496.133964 \nL 880.134375 496.133964 \nz\n\" style=\"fill:#1f77b4;fill-opacity:0.75;stroke:#000000;stroke-linejoin:miter;\"/>\n   </g>\n   <g id=\"patch_139\">\n    <path clip-path=\"url(#pb99840b4f2)\" d=\"M 919.777557 496.133964 \nL 959.420739 496.133964 \nL 959.420739 496.133964 \nL 919.777557 496.133964 \nz\n\" style=\"fill:#1f77b4;fill-opacity:0.75;stroke:#000000;stroke-linejoin:miter;\"/>\n   </g>\n   <g id=\"patch_140\">\n    <path clip-path=\"url(#pb99840b4f2)\" d=\"M 959.420739 496.133964 \nL 999.06392 496.133964 \nL 999.06392 496.133964 \nL 959.420739 496.133964 \nz\n\" style=\"fill:#1f77b4;fill-opacity:0.75;stroke:#000000;stroke-linejoin:miter;\"/>\n   </g>\n   <g id=\"patch_141\">\n    <path clip-path=\"url(#pb99840b4f2)\" d=\"M 999.06392 496.133964 \nL 1038.707102 496.133964 \nL 1038.707102 496.133964 \nL 999.06392 496.133964 \nz\n\" style=\"fill:#1f77b4;fill-opacity:0.75;stroke:#000000;stroke-linejoin:miter;\"/>\n   </g>\n   <g id=\"patch_142\">\n    <path clip-path=\"url(#pb99840b4f2)\" d=\"M 1038.707102 496.133964 \nL 1078.350284 496.133964 \nL 1078.350284 496.133964 \nL 1038.707102 496.133964 \nz\n\" style=\"fill:#1f77b4;fill-opacity:0.75;stroke:#000000;stroke-linejoin:miter;\"/>\n   </g>\n   <g id=\"patch_143\">\n    <path clip-path=\"url(#pb99840b4f2)\" d=\"M 1078.350284 496.133964 \nL 1117.993466 496.133964 \nL 1117.993466 368.249078 \nL 1078.350284 368.249078 \nz\n\" style=\"fill:#1f77b4;fill-opacity:0.75;stroke:#000000;stroke-linejoin:miter;\"/>\n   </g>\n   <g id=\"patch_144\">\n    <path clip-path=\"url(#pb99840b4f2)\" d=\"M 1117.993466 496.133964 \nL 1157.636648 496.133964 \nL 1157.636648 496.133964 \nL 1117.993466 496.133964 \nz\n\" style=\"fill:#1f77b4;fill-opacity:0.75;stroke:#000000;stroke-linejoin:miter;\"/>\n   </g>\n   <g id=\"patch_145\">\n    <path clip-path=\"url(#pb99840b4f2)\" d=\"M 1157.636648 496.133964 \nL 1197.27983 496.133964 \nL 1197.27983 496.133964 \nL 1157.636648 496.133964 \nz\n\" style=\"fill:#1f77b4;fill-opacity:0.75;stroke:#000000;stroke-linejoin:miter;\"/>\n   </g>\n   <g id=\"patch_146\">\n    <path clip-path=\"url(#pb99840b4f2)\" d=\"M 1197.27983 496.133964 \nL 1236.923011 496.133964 \nL 1236.923011 496.133964 \nL 1197.27983 496.133964 \nz\n\" style=\"fill:#1f77b4;fill-opacity:0.75;stroke:#000000;stroke-linejoin:miter;\"/>\n   </g>\n   <g id=\"patch_147\">\n    <path clip-path=\"url(#pb99840b4f2)\" d=\"M 1236.923011 496.133964 \nL 1276.566193 496.133964 \nL 1276.566193 496.133964 \nL 1236.923011 496.133964 \nz\n\" style=\"fill:#1f77b4;fill-opacity:0.75;stroke:#000000;stroke-linejoin:miter;\"/>\n   </g>\n   <g id=\"patch_148\">\n    <path clip-path=\"url(#pb99840b4f2)\" d=\"M 1276.566193 496.133964 \nL 1316.209375 496.133964 \nL 1316.209375 496.133964 \nL 1276.566193 496.133964 \nz\n\" style=\"fill:#1f77b4;fill-opacity:0.75;stroke:#000000;stroke-linejoin:miter;\"/>\n   </g>\n   <g id=\"patch_149\">\n    <path clip-path=\"url(#pb99840b4f2)\" d=\"M 1316.209375 496.133964 \nL 1355.852557 496.133964 \nL 1355.852557 496.133964 \nL 1316.209375 496.133964 \nz\n\" style=\"fill:#1f77b4;fill-opacity:0.75;stroke:#000000;stroke-linejoin:miter;\"/>\n   </g>\n   <g id=\"patch_150\">\n    <path clip-path=\"url(#pb99840b4f2)\" d=\"M 1355.852557 496.133964 \nL 1395.495739 496.133964 \nL 1395.495739 494.906936 \nL 1355.852557 494.906936 \nz\n\" style=\"fill:#1f77b4;fill-opacity:0.75;stroke:#000000;stroke-linejoin:miter;\"/>\n   </g>\n   <g id=\"matplotlib.axis_11\">\n    <g id=\"xtick_36\">\n     <g id=\"line2d_62\">\n      <g>\n       <use style=\"stroke:#000000;stroke-width:0.8;\" x=\"800.848011\" xlink:href=\"#mbd98b15b1d\" y=\"496.133964\"/>\n      </g>\n     </g>\n     <g id=\"text_72\">\n      <!-- 0.00 -->\n      <g transform=\"translate(789.715199 510.732401)scale(0.1 -0.1)\">\n       <use xlink:href=\"#DejaVuSans-48\"/>\n       <use x=\"63.623047\" xlink:href=\"#DejaVuSans-46\"/>\n       <use x=\"95.410156\" xlink:href=\"#DejaVuSans-48\"/>\n       <use x=\"159.033203\" xlink:href=\"#DejaVuSans-48\"/>\n      </g>\n     </g>\n    </g>\n    <g id=\"xtick_37\">\n     <g id=\"line2d_63\">\n      <g>\n       <use style=\"stroke:#000000;stroke-width:0.8;\" x=\"875.178977\" xlink:href=\"#mbd98b15b1d\" y=\"496.133964\"/>\n      </g>\n     </g>\n     <g id=\"text_73\">\n      <!-- 0.25 -->\n      <g transform=\"translate(864.046165 510.732401)scale(0.1 -0.1)\">\n       <use xlink:href=\"#DejaVuSans-48\"/>\n       <use x=\"63.623047\" xlink:href=\"#DejaVuSans-46\"/>\n       <use x=\"95.410156\" xlink:href=\"#DejaVuSans-50\"/>\n       <use x=\"159.033203\" xlink:href=\"#DejaVuSans-53\"/>\n      </g>\n     </g>\n    </g>\n    <g id=\"xtick_38\">\n     <g id=\"line2d_64\">\n      <g>\n       <use style=\"stroke:#000000;stroke-width:0.8;\" x=\"949.509943\" xlink:href=\"#mbd98b15b1d\" y=\"496.133964\"/>\n      </g>\n     </g>\n     <g id=\"text_74\">\n      <!-- 0.50 -->\n      <g transform=\"translate(938.377131 510.732401)scale(0.1 -0.1)\">\n       <use xlink:href=\"#DejaVuSans-48\"/>\n       <use x=\"63.623047\" xlink:href=\"#DejaVuSans-46\"/>\n       <use x=\"95.410156\" xlink:href=\"#DejaVuSans-53\"/>\n       <use x=\"159.033203\" xlink:href=\"#DejaVuSans-48\"/>\n      </g>\n     </g>\n    </g>\n    <g id=\"xtick_39\">\n     <g id=\"line2d_65\">\n      <g>\n       <use style=\"stroke:#000000;stroke-width:0.8;\" x=\"1023.840909\" xlink:href=\"#mbd98b15b1d\" y=\"496.133964\"/>\n      </g>\n     </g>\n     <g id=\"text_75\">\n      <!-- 0.75 -->\n      <g transform=\"translate(1012.708097 510.732401)scale(0.1 -0.1)\">\n       <use xlink:href=\"#DejaVuSans-48\"/>\n       <use x=\"63.623047\" xlink:href=\"#DejaVuSans-46\"/>\n       <use x=\"95.410156\" xlink:href=\"#DejaVuSans-55\"/>\n       <use x=\"159.033203\" xlink:href=\"#DejaVuSans-53\"/>\n      </g>\n     </g>\n    </g>\n    <g id=\"xtick_40\">\n     <g id=\"line2d_66\">\n      <g>\n       <use style=\"stroke:#000000;stroke-width:0.8;\" x=\"1098.171875\" xlink:href=\"#mbd98b15b1d\" y=\"496.133964\"/>\n      </g>\n     </g>\n     <g id=\"text_76\">\n      <!-- 1.00 -->\n      <g transform=\"translate(1087.039062 510.732401)scale(0.1 -0.1)\">\n       <use xlink:href=\"#DejaVuSans-49\"/>\n       <use x=\"63.623047\" xlink:href=\"#DejaVuSans-46\"/>\n       <use x=\"95.410156\" xlink:href=\"#DejaVuSans-48\"/>\n       <use x=\"159.033203\" xlink:href=\"#DejaVuSans-48\"/>\n      </g>\n     </g>\n    </g>\n    <g id=\"xtick_41\">\n     <g id=\"line2d_67\">\n      <g>\n       <use style=\"stroke:#000000;stroke-width:0.8;\" x=\"1172.502841\" xlink:href=\"#mbd98b15b1d\" y=\"496.133964\"/>\n      </g>\n     </g>\n     <g id=\"text_77\">\n      <!-- 1.25 -->\n      <g transform=\"translate(1161.370028 510.732401)scale(0.1 -0.1)\">\n       <use xlink:href=\"#DejaVuSans-49\"/>\n       <use x=\"63.623047\" xlink:href=\"#DejaVuSans-46\"/>\n       <use x=\"95.410156\" xlink:href=\"#DejaVuSans-50\"/>\n       <use x=\"159.033203\" xlink:href=\"#DejaVuSans-53\"/>\n      </g>\n     </g>\n    </g>\n    <g id=\"xtick_42\">\n     <g id=\"line2d_68\">\n      <g>\n       <use style=\"stroke:#000000;stroke-width:0.8;\" x=\"1246.833807\" xlink:href=\"#mbd98b15b1d\" y=\"496.133964\"/>\n      </g>\n     </g>\n     <g id=\"text_78\">\n      <!-- 1.50 -->\n      <g transform=\"translate(1235.700994 510.732401)scale(0.1 -0.1)\">\n       <use xlink:href=\"#DejaVuSans-49\"/>\n       <use x=\"63.623047\" xlink:href=\"#DejaVuSans-46\"/>\n       <use x=\"95.410156\" xlink:href=\"#DejaVuSans-53\"/>\n       <use x=\"159.033203\" xlink:href=\"#DejaVuSans-48\"/>\n      </g>\n     </g>\n    </g>\n    <g id=\"xtick_43\">\n     <g id=\"line2d_69\">\n      <g>\n       <use style=\"stroke:#000000;stroke-width:0.8;\" x=\"1321.164773\" xlink:href=\"#mbd98b15b1d\" y=\"496.133964\"/>\n      </g>\n     </g>\n     <g id=\"text_79\">\n      <!-- 1.75 -->\n      <g transform=\"translate(1310.03196 510.732401)scale(0.1 -0.1)\">\n       <use xlink:href=\"#DejaVuSans-49\"/>\n       <use x=\"63.623047\" xlink:href=\"#DejaVuSans-46\"/>\n       <use x=\"95.410156\" xlink:href=\"#DejaVuSans-55\"/>\n       <use x=\"159.033203\" xlink:href=\"#DejaVuSans-53\"/>\n      </g>\n     </g>\n    </g>\n    <g id=\"xtick_44\">\n     <g id=\"line2d_70\">\n      <g>\n       <use style=\"stroke:#000000;stroke-width:0.8;\" x=\"1395.495739\" xlink:href=\"#mbd98b15b1d\" y=\"496.133964\"/>\n      </g>\n     </g>\n     <g id=\"text_80\">\n      <!-- 2.00 -->\n      <g transform=\"translate(1384.362926 510.732401)scale(0.1 -0.1)\">\n       <use xlink:href=\"#DejaVuSans-50\"/>\n       <use x=\"63.623047\" xlink:href=\"#DejaVuSans-46\"/>\n       <use x=\"95.410156\" xlink:href=\"#DejaVuSans-48\"/>\n       <use x=\"159.033203\" xlink:href=\"#DejaVuSans-48\"/>\n      </g>\n     </g>\n    </g>\n    <g id=\"text_81\">\n     <!-- anx_band_13 (imputed) -->\n     <g transform=\"translate(1038.732031 524.410526)scale(0.1 -0.1)\">\n      <use xlink:href=\"#DejaVuSans-97\"/>\n      <use x=\"61.279297\" xlink:href=\"#DejaVuSans-110\"/>\n      <use x=\"124.658203\" xlink:href=\"#DejaVuSans-120\"/>\n      <use x=\"183.837891\" xlink:href=\"#DejaVuSans-95\"/>\n      <use x=\"233.837891\" xlink:href=\"#DejaVuSans-98\"/>\n      <use x=\"297.314453\" xlink:href=\"#DejaVuSans-97\"/>\n      <use x=\"358.59375\" xlink:href=\"#DejaVuSans-110\"/>\n      <use x=\"421.972656\" xlink:href=\"#DejaVuSans-100\"/>\n      <use x=\"485.449219\" xlink:href=\"#DejaVuSans-95\"/>\n      <use x=\"535.449219\" xlink:href=\"#DejaVuSans-49\"/>\n      <use x=\"599.072266\" xlink:href=\"#DejaVuSans-51\"/>\n      <use x=\"662.695312\" xlink:href=\"#DejaVuSans-32\"/>\n      <use x=\"694.482422\" xlink:href=\"#DejaVuSans-40\"/>\n      <use x=\"733.496094\" xlink:href=\"#DejaVuSans-105\"/>\n      <use x=\"761.279297\" xlink:href=\"#DejaVuSans-109\"/>\n      <use x=\"858.691406\" xlink:href=\"#DejaVuSans-112\"/>\n      <use x=\"922.167969\" xlink:href=\"#DejaVuSans-117\"/>\n      <use x=\"985.546875\" xlink:href=\"#DejaVuSans-116\"/>\n      <use x=\"1024.755859\" xlink:href=\"#DejaVuSans-101\"/>\n      <use x=\"1086.279297\" xlink:href=\"#DejaVuSans-100\"/>\n      <use x=\"1149.755859\" xlink:href=\"#DejaVuSans-41\"/>\n     </g>\n    </g>\n   </g>\n   <g id=\"matplotlib.axis_12\">\n    <g id=\"ytick_27\">\n     <g id=\"line2d_71\">\n      <g>\n       <use style=\"stroke:#000000;stroke-width:0.8;\" x=\"771.115625\" xlink:href=\"#mbbdcde4529\" y=\"496.133964\"/>\n      </g>\n     </g>\n     <g id=\"text_82\">\n      <!-- 0 -->\n      <g transform=\"translate(757.753125 499.933182)scale(0.1 -0.1)\">\n       <use xlink:href=\"#DejaVuSans-48\"/>\n      </g>\n     </g>\n    </g>\n    <g id=\"ytick_28\">\n     <g id=\"line2d_72\">\n      <g>\n       <use style=\"stroke:#000000;stroke-width:0.8;\" x=\"771.115625\" xlink:href=\"#mbbdcde4529\" y=\"472.308181\"/>\n      </g>\n     </g>\n     <g id=\"text_83\">\n      <!-- 2000 -->\n      <g transform=\"translate(738.665625 476.1074)scale(0.1 -0.1)\">\n       <use xlink:href=\"#DejaVuSans-50\"/>\n       <use x=\"63.623047\" xlink:href=\"#DejaVuSans-48\"/>\n       <use x=\"127.246094\" xlink:href=\"#DejaVuSans-48\"/>\n       <use x=\"190.869141\" xlink:href=\"#DejaVuSans-48\"/>\n      </g>\n     </g>\n    </g>\n    <g id=\"ytick_29\">\n     <g id=\"line2d_73\">\n      <g>\n       <use style=\"stroke:#000000;stroke-width:0.8;\" x=\"771.115625\" xlink:href=\"#mbbdcde4529\" y=\"448.482399\"/>\n      </g>\n     </g>\n     <g id=\"text_84\">\n      <!-- 4000 -->\n      <g transform=\"translate(738.665625 452.281618)scale(0.1 -0.1)\">\n       <use xlink:href=\"#DejaVuSans-52\"/>\n       <use x=\"63.623047\" xlink:href=\"#DejaVuSans-48\"/>\n       <use x=\"127.246094\" xlink:href=\"#DejaVuSans-48\"/>\n       <use x=\"190.869141\" xlink:href=\"#DejaVuSans-48\"/>\n      </g>\n     </g>\n    </g>\n    <g id=\"ytick_30\">\n     <g id=\"line2d_74\">\n      <g>\n       <use style=\"stroke:#000000;stroke-width:0.8;\" x=\"771.115625\" xlink:href=\"#mbbdcde4529\" y=\"424.656617\"/>\n      </g>\n     </g>\n     <g id=\"text_85\">\n      <!-- 6000 -->\n      <g transform=\"translate(738.665625 428.455836)scale(0.1 -0.1)\">\n       <use xlink:href=\"#DejaVuSans-54\"/>\n       <use x=\"63.623047\" xlink:href=\"#DejaVuSans-48\"/>\n       <use x=\"127.246094\" xlink:href=\"#DejaVuSans-48\"/>\n       <use x=\"190.869141\" xlink:href=\"#DejaVuSans-48\"/>\n      </g>\n     </g>\n    </g>\n    <g id=\"ytick_31\">\n     <g id=\"line2d_75\">\n      <g>\n       <use style=\"stroke:#000000;stroke-width:0.8;\" x=\"771.115625\" xlink:href=\"#mbbdcde4529\" y=\"400.830835\"/>\n      </g>\n     </g>\n     <g id=\"text_86\">\n      <!-- 8000 -->\n      <g transform=\"translate(738.665625 404.630054)scale(0.1 -0.1)\">\n       <use xlink:href=\"#DejaVuSans-56\"/>\n       <use x=\"63.623047\" xlink:href=\"#DejaVuSans-48\"/>\n       <use x=\"127.246094\" xlink:href=\"#DejaVuSans-48\"/>\n       <use x=\"190.869141\" xlink:href=\"#DejaVuSans-48\"/>\n      </g>\n     </g>\n    </g>\n    <g id=\"ytick_32\">\n     <g id=\"line2d_76\">\n      <g>\n       <use style=\"stroke:#000000;stroke-width:0.8;\" x=\"771.115625\" xlink:href=\"#mbbdcde4529\" y=\"377.005053\"/>\n      </g>\n     </g>\n     <g id=\"text_87\">\n      <!-- 10000 -->\n      <g transform=\"translate(732.303125 380.804272)scale(0.1 -0.1)\">\n       <use xlink:href=\"#DejaVuSans-49\"/>\n       <use x=\"63.623047\" xlink:href=\"#DejaVuSans-48\"/>\n       <use x=\"127.246094\" xlink:href=\"#DejaVuSans-48\"/>\n       <use x=\"190.869141\" xlink:href=\"#DejaVuSans-48\"/>\n       <use x=\"254.492188\" xlink:href=\"#DejaVuSans-48\"/>\n      </g>\n     </g>\n    </g>\n    <g id=\"text_88\">\n     <!-- Count -->\n     <g transform=\"translate(726.223438 443.842836)rotate(-90)scale(0.1 -0.1)\">\n      <use xlink:href=\"#DejaVuSans-67\"/>\n      <use x=\"69.824219\" xlink:href=\"#DejaVuSans-111\"/>\n      <use x=\"131.005859\" xlink:href=\"#DejaVuSans-117\"/>\n      <use x=\"194.384766\" xlink:href=\"#DejaVuSans-110\"/>\n      <use x=\"257.763672\" xlink:href=\"#DejaVuSans-116\"/>\n     </g>\n    </g>\n   </g>\n   <g id=\"patch_151\">\n    <path d=\"M 771.115625 496.133964 \nL 771.115625 361.854834 \n\" style=\"fill:none;stroke:#000000;stroke-linecap:square;stroke-linejoin:miter;stroke-width:0.8;\"/>\n   </g>\n   <g id=\"patch_152\">\n    <path d=\"M 1425.228125 496.133964 \nL 1425.228125 361.854834 \n\" style=\"fill:none;stroke:#000000;stroke-linecap:square;stroke-linejoin:miter;stroke-width:0.8;\"/>\n   </g>\n   <g id=\"patch_153\">\n    <path d=\"M 771.115625 496.133964 \nL 1425.228125 496.133964 \n\" style=\"fill:none;stroke:#000000;stroke-linecap:square;stroke-linejoin:miter;stroke-width:0.8;\"/>\n   </g>\n   <g id=\"patch_154\">\n    <path d=\"M 771.115625 361.854834 \nL 1425.228125 361.854834 \n\" style=\"fill:none;stroke:#000000;stroke-linecap:square;stroke-linejoin:miter;stroke-width:0.8;\"/>\n   </g>\n  </g>\n  <g id=\"axes_7\">\n   <g id=\"patch_155\">\n    <path d=\"M 53.328125 673.119343 \nL 707.440625 673.119343 \nL 707.440625 538.840214 \nL 53.328125 538.840214 \nz\n\" style=\"fill:#ffffff;\"/>\n   </g>\n   <g id=\"patch_156\">\n    <path clip-path=\"url(#p16e518c2c0)\" d=\"M 83.060511 673.119343 \nL 91.935851 673.119343 \nL 91.935851 670.434737 \nL 83.060511 670.434737 \nz\n\" style=\"fill:#1f77b4;fill-opacity:0.75;stroke:#000000;stroke-linejoin:miter;stroke-width:0.688294;\"/>\n   </g>\n   <g id=\"patch_157\">\n    <path clip-path=\"url(#p16e518c2c0)\" d=\"M 91.935851 673.119343 \nL 100.81119 673.119343 \nL 100.81119 673.119343 \nL 91.935851 673.119343 \nz\n\" style=\"fill:#1f77b4;fill-opacity:0.75;stroke:#000000;stroke-linejoin:miter;stroke-width:0.688294;\"/>\n   </g>\n   <g id=\"patch_158\">\n    <path clip-path=\"url(#p16e518c2c0)\" d=\"M 100.81119 673.119343 \nL 109.686529 673.119343 \nL 109.686529 673.119343 \nL 100.81119 673.119343 \nz\n\" style=\"fill:#1f77b4;fill-opacity:0.75;stroke:#000000;stroke-linejoin:miter;stroke-width:0.688294;\"/>\n   </g>\n   <g id=\"patch_159\">\n    <path clip-path=\"url(#p16e518c2c0)\" d=\"M 109.686529 673.119343 \nL 118.561868 673.119343 \nL 118.561868 673.119343 \nL 109.686529 673.119343 \nz\n\" style=\"fill:#1f77b4;fill-opacity:0.75;stroke:#000000;stroke-linejoin:miter;stroke-width:0.688294;\"/>\n   </g>\n   <g id=\"patch_160\">\n    <path clip-path=\"url(#p16e518c2c0)\" d=\"M 118.561868 673.119343 \nL 127.437207 673.119343 \nL 127.437207 673.119343 \nL 118.561868 673.119343 \nz\n\" style=\"fill:#1f77b4;fill-opacity:0.75;stroke:#000000;stroke-linejoin:miter;stroke-width:0.688294;\"/>\n   </g>\n   <g id=\"patch_161\">\n    <path clip-path=\"url(#p16e518c2c0)\" d=\"M 127.437207 673.119343 \nL 136.312547 673.119343 \nL 136.312547 670.068654 \nL 127.437207 670.068654 \nz\n\" style=\"fill:#1f77b4;fill-opacity:0.75;stroke:#000000;stroke-linejoin:miter;stroke-width:0.688294;\"/>\n   </g>\n   <g id=\"patch_162\">\n    <path clip-path=\"url(#p16e518c2c0)\" d=\"M 136.312547 673.119343 \nL 145.187886 673.119343 \nL 145.187886 673.119343 \nL 136.312547 673.119343 \nz\n\" style=\"fill:#1f77b4;fill-opacity:0.75;stroke:#000000;stroke-linejoin:miter;stroke-width:0.688294;\"/>\n   </g>\n   <g id=\"patch_163\">\n    <path clip-path=\"url(#p16e518c2c0)\" d=\"M 145.187886 673.119343 \nL 154.063225 673.119343 \nL 154.063225 673.119343 \nL 145.187886 673.119343 \nz\n\" style=\"fill:#1f77b4;fill-opacity:0.75;stroke:#000000;stroke-linejoin:miter;stroke-width:0.688294;\"/>\n   </g>\n   <g id=\"patch_164\">\n    <path clip-path=\"url(#p16e518c2c0)\" d=\"M 154.063225 673.119343 \nL 162.938564 673.119343 \nL 162.938564 673.119343 \nL 154.063225 673.119343 \nz\n\" style=\"fill:#1f77b4;fill-opacity:0.75;stroke:#000000;stroke-linejoin:miter;stroke-width:0.688294;\"/>\n   </g>\n   <g id=\"patch_165\">\n    <path clip-path=\"url(#p16e518c2c0)\" d=\"M 162.938564 673.119343 \nL 171.813903 673.119343 \nL 171.813903 673.119343 \nL 162.938564 673.119343 \nz\n\" style=\"fill:#1f77b4;fill-opacity:0.75;stroke:#000000;stroke-linejoin:miter;stroke-width:0.688294;\"/>\n   </g>\n   <g id=\"patch_166\">\n    <path clip-path=\"url(#p16e518c2c0)\" d=\"M 171.813903 673.119343 \nL 180.689243 673.119343 \nL 180.689243 673.119343 \nL 171.813903 673.119343 \nz\n\" style=\"fill:#1f77b4;fill-opacity:0.75;stroke:#000000;stroke-linejoin:miter;stroke-width:0.688294;\"/>\n   </g>\n   <g id=\"patch_167\">\n    <path clip-path=\"url(#p16e518c2c0)\" d=\"M 180.689243 673.119343 \nL 189.564582 673.119343 \nL 189.564582 667.709455 \nL 180.689243 667.709455 \nz\n\" style=\"fill:#1f77b4;fill-opacity:0.75;stroke:#000000;stroke-linejoin:miter;stroke-width:0.688294;\"/>\n   </g>\n   <g id=\"patch_168\">\n    <path clip-path=\"url(#p16e518c2c0)\" d=\"M 189.564582 673.119343 \nL 198.439921 673.119343 \nL 198.439921 673.119343 \nL 189.564582 673.119343 \nz\n\" style=\"fill:#1f77b4;fill-opacity:0.75;stroke:#000000;stroke-linejoin:miter;stroke-width:0.688294;\"/>\n   </g>\n   <g id=\"patch_169\">\n    <path clip-path=\"url(#p16e518c2c0)\" d=\"M 198.439921 673.119343 \nL 207.31526 673.119343 \nL 207.31526 673.119343 \nL 198.439921 673.119343 \nz\n\" style=\"fill:#1f77b4;fill-opacity:0.75;stroke:#000000;stroke-linejoin:miter;stroke-width:0.688294;\"/>\n   </g>\n   <g id=\"patch_170\">\n    <path clip-path=\"url(#p16e518c2c0)\" d=\"M 207.31526 673.119343 \nL 216.1906 673.119343 \nL 216.1906 673.119343 \nL 207.31526 673.119343 \nz\n\" style=\"fill:#1f77b4;fill-opacity:0.75;stroke:#000000;stroke-linejoin:miter;stroke-width:0.688294;\"/>\n   </g>\n   <g id=\"patch_171\">\n    <path clip-path=\"url(#p16e518c2c0)\" d=\"M 216.1906 673.119343 \nL 225.065939 673.119343 \nL 225.065939 673.119343 \nL 216.1906 673.119343 \nz\n\" style=\"fill:#1f77b4;fill-opacity:0.75;stroke:#000000;stroke-linejoin:miter;stroke-width:0.688294;\"/>\n   </g>\n   <g id=\"patch_172\">\n    <path clip-path=\"url(#p16e518c2c0)\" d=\"M 225.065939 673.119343 \nL 233.941278 673.119343 \nL 233.941278 662.055511 \nL 225.065939 662.055511 \nz\n\" style=\"fill:#1f77b4;fill-opacity:0.75;stroke:#000000;stroke-linejoin:miter;stroke-width:0.688294;\"/>\n   </g>\n   <g id=\"patch_173\">\n    <path clip-path=\"url(#p16e518c2c0)\" d=\"M 233.941278 673.119343 \nL 242.816617 673.119343 \nL 242.816617 673.119343 \nL 233.941278 673.119343 \nz\n\" style=\"fill:#1f77b4;fill-opacity:0.75;stroke:#000000;stroke-linejoin:miter;stroke-width:0.688294;\"/>\n   </g>\n   <g id=\"patch_174\">\n    <path clip-path=\"url(#p16e518c2c0)\" d=\"M 242.816617 673.119343 \nL 251.691956 673.119343 \nL 251.691956 673.119343 \nL 242.816617 673.119343 \nz\n\" style=\"fill:#1f77b4;fill-opacity:0.75;stroke:#000000;stroke-linejoin:miter;stroke-width:0.688294;\"/>\n   </g>\n   <g id=\"patch_175\">\n    <path clip-path=\"url(#p16e518c2c0)\" d=\"M 251.691956 673.119343 \nL 260.567296 673.119343 \nL 260.567296 673.119343 \nL 251.691956 673.119343 \nz\n\" style=\"fill:#1f77b4;fill-opacity:0.75;stroke:#000000;stroke-linejoin:miter;stroke-width:0.688294;\"/>\n   </g>\n   <g id=\"patch_176\">\n    <path clip-path=\"url(#p16e518c2c0)\" d=\"M 260.567296 673.119343 \nL 269.442635 673.119343 \nL 269.442635 673.119343 \nL 260.567296 673.119343 \nz\n\" style=\"fill:#1f77b4;fill-opacity:0.75;stroke:#000000;stroke-linejoin:miter;stroke-width:0.688294;\"/>\n   </g>\n   <g id=\"patch_177\">\n    <path clip-path=\"url(#p16e518c2c0)\" d=\"M 269.442635 673.119343 \nL 278.317974 673.119343 \nL 278.317974 673.119343 \nL 269.442635 673.119343 \nz\n\" style=\"fill:#1f77b4;fill-opacity:0.75;stroke:#000000;stroke-linejoin:miter;stroke-width:0.688294;\"/>\n   </g>\n   <g id=\"patch_178\">\n    <path clip-path=\"url(#p16e518c2c0)\" d=\"M 278.317974 673.119343 \nL 287.193313 673.119343 \nL 287.193313 656.116836 \nL 278.317974 656.116836 \nz\n\" style=\"fill:#1f77b4;fill-opacity:0.75;stroke:#000000;stroke-linejoin:miter;stroke-width:0.688294;\"/>\n   </g>\n   <g id=\"patch_179\">\n    <path clip-path=\"url(#p16e518c2c0)\" d=\"M 287.193313 673.119343 \nL 296.068652 673.119343 \nL 296.068652 673.119343 \nL 287.193313 673.119343 \nz\n\" style=\"fill:#1f77b4;fill-opacity:0.75;stroke:#000000;stroke-linejoin:miter;stroke-width:0.688294;\"/>\n   </g>\n   <g id=\"patch_180\">\n    <path clip-path=\"url(#p16e518c2c0)\" d=\"M 296.068652 673.119343 \nL 304.943992 673.119343 \nL 304.943992 673.119343 \nL 296.068652 673.119343 \nz\n\" style=\"fill:#1f77b4;fill-opacity:0.75;stroke:#000000;stroke-linejoin:miter;stroke-width:0.688294;\"/>\n   </g>\n   <g id=\"patch_181\">\n    <path clip-path=\"url(#p16e518c2c0)\" d=\"M 304.943992 673.119343 \nL 313.819331 673.119343 \nL 313.819331 673.119343 \nL 304.943992 673.119343 \nz\n\" style=\"fill:#1f77b4;fill-opacity:0.75;stroke:#000000;stroke-linejoin:miter;stroke-width:0.688294;\"/>\n   </g>\n   <g id=\"patch_182\">\n    <path clip-path=\"url(#p16e518c2c0)\" d=\"M 313.819331 673.119343 \nL 322.69467 673.119343 \nL 322.69467 673.119343 \nL 313.819331 673.119343 \nz\n\" style=\"fill:#1f77b4;fill-opacity:0.75;stroke:#000000;stroke-linejoin:miter;stroke-width:0.688294;\"/>\n   </g>\n   <g id=\"patch_183\">\n    <path clip-path=\"url(#p16e518c2c0)\" d=\"M 322.69467 673.119343 \nL 331.570009 673.119343 \nL 331.570009 643.751377 \nL 322.69467 643.751377 \nz\n\" style=\"fill:#1f77b4;fill-opacity:0.75;stroke:#000000;stroke-linejoin:miter;stroke-width:0.688294;\"/>\n   </g>\n   <g id=\"patch_184\">\n    <path clip-path=\"url(#p16e518c2c0)\" d=\"M 331.570009 673.119343 \nL 340.445349 673.119343 \nL 340.445349 673.119343 \nL 331.570009 673.119343 \nz\n\" style=\"fill:#1f77b4;fill-opacity:0.75;stroke:#000000;stroke-linejoin:miter;stroke-width:0.688294;\"/>\n   </g>\n   <g id=\"patch_185\">\n    <path clip-path=\"url(#p16e518c2c0)\" d=\"M 340.445349 673.119343 \nL 349.320688 673.119343 \nL 349.320688 673.119343 \nL 340.445349 673.119343 \nz\n\" style=\"fill:#1f77b4;fill-opacity:0.75;stroke:#000000;stroke-linejoin:miter;stroke-width:0.688294;\"/>\n   </g>\n   <g id=\"patch_186\">\n    <path clip-path=\"url(#p16e518c2c0)\" d=\"M 349.320688 673.119343 \nL 358.196027 673.119343 \nL 358.196027 673.119343 \nL 349.320688 673.119343 \nz\n\" style=\"fill:#1f77b4;fill-opacity:0.75;stroke:#000000;stroke-linejoin:miter;stroke-width:0.688294;\"/>\n   </g>\n   <g id=\"patch_187\">\n    <path clip-path=\"url(#p16e518c2c0)\" d=\"M 358.196027 673.119343 \nL 367.071366 673.119343 \nL 367.071366 673.119343 \nL 358.196027 673.119343 \nz\n\" style=\"fill:#1f77b4;fill-opacity:0.75;stroke:#000000;stroke-linejoin:miter;stroke-width:0.688294;\"/>\n   </g>\n   <g id=\"patch_188\">\n    <path clip-path=\"url(#p16e518c2c0)\" d=\"M 367.071366 673.119343 \nL 375.946705 673.119343 \nL 375.946705 673.119343 \nL 367.071366 673.119343 \nz\n\" style=\"fill:#1f77b4;fill-opacity:0.75;stroke:#000000;stroke-linejoin:miter;stroke-width:0.688294;\"/>\n   </g>\n   <g id=\"patch_189\">\n    <path clip-path=\"url(#p16e518c2c0)\" d=\"M 375.946705 673.119343 \nL 384.822045 673.119343 \nL 384.822045 545.234458 \nL 375.946705 545.234458 \nz\n\" style=\"fill:#1f77b4;fill-opacity:0.75;stroke:#000000;stroke-linejoin:miter;stroke-width:0.688294;\"/>\n   </g>\n   <g id=\"patch_190\">\n    <path clip-path=\"url(#p16e518c2c0)\" d=\"M 384.822045 673.119343 \nL 393.697384 673.119343 \nL 393.697384 673.119343 \nL 384.822045 673.119343 \nz\n\" style=\"fill:#1f77b4;fill-opacity:0.75;stroke:#000000;stroke-linejoin:miter;stroke-width:0.688294;\"/>\n   </g>\n   <g id=\"patch_191\">\n    <path clip-path=\"url(#p16e518c2c0)\" d=\"M 393.697384 673.119343 \nL 402.572723 673.119343 \nL 402.572723 673.119343 \nL 393.697384 673.119343 \nz\n\" style=\"fill:#1f77b4;fill-opacity:0.75;stroke:#000000;stroke-linejoin:miter;stroke-width:0.688294;\"/>\n   </g>\n   <g id=\"patch_192\">\n    <path clip-path=\"url(#p16e518c2c0)\" d=\"M 402.572723 673.119343 \nL 411.448062 673.119343 \nL 411.448062 673.119343 \nL 402.572723 673.119343 \nz\n\" style=\"fill:#1f77b4;fill-opacity:0.75;stroke:#000000;stroke-linejoin:miter;stroke-width:0.688294;\"/>\n   </g>\n   <g id=\"patch_193\">\n    <path clip-path=\"url(#p16e518c2c0)\" d=\"M 411.448062 673.119343 \nL 420.323401 673.119343 \nL 420.323401 673.119343 \nL 411.448062 673.119343 \nz\n\" style=\"fill:#1f77b4;fill-opacity:0.75;stroke:#000000;stroke-linejoin:miter;stroke-width:0.688294;\"/>\n   </g>\n   <g id=\"patch_194\">\n    <path clip-path=\"url(#p16e518c2c0)\" d=\"M 420.323401 673.119343 \nL 429.198741 673.119343 \nL 429.198741 673.119343 \nL 420.323401 673.119343 \nz\n\" style=\"fill:#1f77b4;fill-opacity:0.75;stroke:#000000;stroke-linejoin:miter;stroke-width:0.688294;\"/>\n   </g>\n   <g id=\"patch_195\">\n    <path clip-path=\"url(#p16e518c2c0)\" d=\"M 429.198741 673.119343 \nL 438.07408 673.119343 \nL 438.07408 601.692544 \nL 429.198741 601.692544 \nz\n\" style=\"fill:#1f77b4;fill-opacity:0.75;stroke:#000000;stroke-linejoin:miter;stroke-width:0.688294;\"/>\n   </g>\n   <g id=\"patch_196\">\n    <path clip-path=\"url(#p16e518c2c0)\" d=\"M 438.07408 673.119343 \nL 446.949419 673.119343 \nL 446.949419 673.119343 \nL 438.07408 673.119343 \nz\n\" style=\"fill:#1f77b4;fill-opacity:0.75;stroke:#000000;stroke-linejoin:miter;stroke-width:0.688294;\"/>\n   </g>\n   <g id=\"patch_197\">\n    <path clip-path=\"url(#p16e518c2c0)\" d=\"M 446.949419 673.119343 \nL 455.824758 673.119343 \nL 455.824758 673.119343 \nL 446.949419 673.119343 \nz\n\" style=\"fill:#1f77b4;fill-opacity:0.75;stroke:#000000;stroke-linejoin:miter;stroke-width:0.688294;\"/>\n   </g>\n   <g id=\"patch_198\">\n    <path clip-path=\"url(#p16e518c2c0)\" d=\"M 455.824758 673.119343 \nL 464.700098 673.119343 \nL 464.700098 673.119343 \nL 455.824758 673.119343 \nz\n\" style=\"fill:#1f77b4;fill-opacity:0.75;stroke:#000000;stroke-linejoin:miter;stroke-width:0.688294;\"/>\n   </g>\n   <g id=\"patch_199\">\n    <path clip-path=\"url(#p16e518c2c0)\" d=\"M 464.700098 673.119343 \nL 473.575437 673.119343 \nL 473.575437 673.119343 \nL 464.700098 673.119343 \nz\n\" style=\"fill:#1f77b4;fill-opacity:0.75;stroke:#000000;stroke-linejoin:miter;stroke-width:0.688294;\"/>\n   </g>\n   <g id=\"patch_200\">\n    <path clip-path=\"url(#p16e518c2c0)\" d=\"M 473.575437 673.119343 \nL 482.450776 673.119343 \nL 482.450776 608.932846 \nL 473.575437 608.932846 \nz\n\" style=\"fill:#1f77b4;fill-opacity:0.75;stroke:#000000;stroke-linejoin:miter;stroke-width:0.688294;\"/>\n   </g>\n   <g id=\"patch_201\">\n    <path clip-path=\"url(#p16e518c2c0)\" d=\"M 482.450776 673.119343 \nL 491.326115 673.119343 \nL 491.326115 673.119343 \nL 482.450776 673.119343 \nz\n\" style=\"fill:#1f77b4;fill-opacity:0.75;stroke:#000000;stroke-linejoin:miter;stroke-width:0.688294;\"/>\n   </g>\n   <g id=\"patch_202\">\n    <path clip-path=\"url(#p16e518c2c0)\" d=\"M 491.326115 673.119343 \nL 500.201454 673.119343 \nL 500.201454 673.119343 \nL 491.326115 673.119343 \nz\n\" style=\"fill:#1f77b4;fill-opacity:0.75;stroke:#000000;stroke-linejoin:miter;stroke-width:0.688294;\"/>\n   </g>\n   <g id=\"patch_203\">\n    <path clip-path=\"url(#p16e518c2c0)\" d=\"M 500.201454 673.119343 \nL 509.076794 673.119343 \nL 509.076794 673.119343 \nL 500.201454 673.119343 \nz\n\" style=\"fill:#1f77b4;fill-opacity:0.75;stroke:#000000;stroke-linejoin:miter;stroke-width:0.688294;\"/>\n   </g>\n   <g id=\"patch_204\">\n    <path clip-path=\"url(#p16e518c2c0)\" d=\"M 509.076794 673.119343 \nL 517.952133 673.119343 \nL 517.952133 673.119343 \nL 509.076794 673.119343 \nz\n\" style=\"fill:#1f77b4;fill-opacity:0.75;stroke:#000000;stroke-linejoin:miter;stroke-width:0.688294;\"/>\n   </g>\n   <g id=\"patch_205\">\n    <path clip-path=\"url(#p16e518c2c0)\" d=\"M 517.952133 673.119343 \nL 526.827472 673.119343 \nL 526.827472 673.119343 \nL 517.952133 673.119343 \nz\n\" style=\"fill:#1f77b4;fill-opacity:0.75;stroke:#000000;stroke-linejoin:miter;stroke-width:0.688294;\"/>\n   </g>\n   <g id=\"patch_206\">\n    <path clip-path=\"url(#p16e518c2c0)\" d=\"M 526.827472 673.119343 \nL 535.702811 673.119343 \nL 535.702811 601.733219 \nL 526.827472 601.733219 \nz\n\" style=\"fill:#1f77b4;fill-opacity:0.75;stroke:#000000;stroke-linejoin:miter;stroke-width:0.688294;\"/>\n   </g>\n   <g id=\"patch_207\">\n    <path clip-path=\"url(#p16e518c2c0)\" d=\"M 535.702811 673.119343 \nL 544.57815 673.119343 \nL 544.57815 673.119343 \nL 535.702811 673.119343 \nz\n\" style=\"fill:#1f77b4;fill-opacity:0.75;stroke:#000000;stroke-linejoin:miter;stroke-width:0.688294;\"/>\n   </g>\n   <g id=\"patch_208\">\n    <path clip-path=\"url(#p16e518c2c0)\" d=\"M 544.57815 673.119343 \nL 553.45349 673.119343 \nL 553.45349 673.119343 \nL 544.57815 673.119343 \nz\n\" style=\"fill:#1f77b4;fill-opacity:0.75;stroke:#000000;stroke-linejoin:miter;stroke-width:0.688294;\"/>\n   </g>\n   <g id=\"patch_209\">\n    <path clip-path=\"url(#p16e518c2c0)\" d=\"M 553.45349 673.119343 \nL 562.328829 673.119343 \nL 562.328829 673.119343 \nL 553.45349 673.119343 \nz\n\" style=\"fill:#1f77b4;fill-opacity:0.75;stroke:#000000;stroke-linejoin:miter;stroke-width:0.688294;\"/>\n   </g>\n   <g id=\"patch_210\">\n    <path clip-path=\"url(#p16e518c2c0)\" d=\"M 562.328829 673.119343 \nL 571.204168 673.119343 \nL 571.204168 673.119343 \nL 562.328829 673.119343 \nz\n\" style=\"fill:#1f77b4;fill-opacity:0.75;stroke:#000000;stroke-linejoin:miter;stroke-width:0.688294;\"/>\n   </g>\n   <g id=\"patch_211\">\n    <path clip-path=\"url(#p16e518c2c0)\" d=\"M 571.204168 673.119343 \nL 580.079507 673.119343 \nL 580.079507 654.449126 \nL 571.204168 654.449126 \nz\n\" style=\"fill:#1f77b4;fill-opacity:0.75;stroke:#000000;stroke-linejoin:miter;stroke-width:0.688294;\"/>\n   </g>\n   <g id=\"patch_212\">\n    <path clip-path=\"url(#p16e518c2c0)\" d=\"M 580.079507 673.119343 \nL 588.954847 673.119343 \nL 588.954847 673.119343 \nL 580.079507 673.119343 \nz\n\" style=\"fill:#1f77b4;fill-opacity:0.75;stroke:#000000;stroke-linejoin:miter;stroke-width:0.688294;\"/>\n   </g>\n   <g id=\"patch_213\">\n    <path clip-path=\"url(#p16e518c2c0)\" d=\"M 588.954847 673.119343 \nL 597.830186 673.119343 \nL 597.830186 673.119343 \nL 588.954847 673.119343 \nz\n\" style=\"fill:#1f77b4;fill-opacity:0.75;stroke:#000000;stroke-linejoin:miter;stroke-width:0.688294;\"/>\n   </g>\n   <g id=\"patch_214\">\n    <path clip-path=\"url(#p16e518c2c0)\" d=\"M 597.830186 673.119343 \nL 606.705525 673.119343 \nL 606.705525 673.119343 \nL 597.830186 673.119343 \nz\n\" style=\"fill:#1f77b4;fill-opacity:0.75;stroke:#000000;stroke-linejoin:miter;stroke-width:0.688294;\"/>\n   </g>\n   <g id=\"patch_215\">\n    <path clip-path=\"url(#p16e518c2c0)\" d=\"M 606.705525 673.119343 \nL 615.580864 673.119343 \nL 615.580864 673.119343 \nL 606.705525 673.119343 \nz\n\" style=\"fill:#1f77b4;fill-opacity:0.75;stroke:#000000;stroke-linejoin:miter;stroke-width:0.688294;\"/>\n   </g>\n   <g id=\"patch_216\">\n    <path clip-path=\"url(#p16e518c2c0)\" d=\"M 615.580864 673.119343 \nL 624.456203 673.119343 \nL 624.456203 673.119343 \nL 615.580864 673.119343 \nz\n\" style=\"fill:#1f77b4;fill-opacity:0.75;stroke:#000000;stroke-linejoin:miter;stroke-width:0.688294;\"/>\n   </g>\n   <g id=\"patch_217\">\n    <path clip-path=\"url(#p16e518c2c0)\" d=\"M 624.456203 673.119343 \nL 633.331543 673.119343 \nL 633.331543 665.024848 \nL 624.456203 665.024848 \nz\n\" style=\"fill:#1f77b4;fill-opacity:0.75;stroke:#000000;stroke-linejoin:miter;stroke-width:0.688294;\"/>\n   </g>\n   <g id=\"patch_218\">\n    <path clip-path=\"url(#p16e518c2c0)\" d=\"M 633.331543 673.119343 \nL 642.206882 673.119343 \nL 642.206882 673.119343 \nL 633.331543 673.119343 \nz\n\" style=\"fill:#1f77b4;fill-opacity:0.75;stroke:#000000;stroke-linejoin:miter;stroke-width:0.688294;\"/>\n   </g>\n   <g id=\"patch_219\">\n    <path clip-path=\"url(#p16e518c2c0)\" d=\"M 642.206882 673.119343 \nL 651.082221 673.119343 \nL 651.082221 673.119343 \nL 642.206882 673.119343 \nz\n\" style=\"fill:#1f77b4;fill-opacity:0.75;stroke:#000000;stroke-linejoin:miter;stroke-width:0.688294;\"/>\n   </g>\n   <g id=\"patch_220\">\n    <path clip-path=\"url(#p16e518c2c0)\" d=\"M 651.082221 673.119343 \nL 659.95756 673.119343 \nL 659.95756 673.119343 \nL 651.082221 673.119343 \nz\n\" style=\"fill:#1f77b4;fill-opacity:0.75;stroke:#000000;stroke-linejoin:miter;stroke-width:0.688294;\"/>\n   </g>\n   <g id=\"patch_221\">\n    <path clip-path=\"url(#p16e518c2c0)\" d=\"M 659.95756 673.119343 \nL 668.832899 673.119343 \nL 668.832899 673.119343 \nL 659.95756 673.119343 \nz\n\" style=\"fill:#1f77b4;fill-opacity:0.75;stroke:#000000;stroke-linejoin:miter;stroke-width:0.688294;\"/>\n   </g>\n   <g id=\"patch_222\">\n    <path clip-path=\"url(#p16e518c2c0)\" d=\"M 668.832899 673.119343 \nL 677.708239 673.119343 \nL 677.708239 667.546751 \nL 668.832899 667.546751 \nz\n\" style=\"fill:#1f77b4;fill-opacity:0.75;stroke:#000000;stroke-linejoin:miter;stroke-width:0.688294;\"/>\n   </g>\n   <g id=\"matplotlib.axis_13\">\n    <g id=\"xtick_45\">\n     <g id=\"line2d_77\">\n      <g>\n       <use style=\"stroke:#000000;stroke-width:0.8;\" x=\"132.614489\" xlink:href=\"#mbd98b15b1d\" y=\"673.119343\"/>\n      </g>\n     </g>\n     <g id=\"text_89\">\n      <!-- 4 -->\n      <g transform=\"translate(129.433239 687.717781)scale(0.1 -0.1)\">\n       <use xlink:href=\"#DejaVuSans-52\"/>\n      </g>\n     </g>\n    </g>\n    <g id=\"xtick_46\">\n     <g id=\"line2d_78\">\n      <g>\n       <use style=\"stroke:#000000;stroke-width:0.8;\" x=\"231.722443\" xlink:href=\"#mbd98b15b1d\" y=\"673.119343\"/>\n      </g>\n     </g>\n     <g id=\"text_90\">\n      <!-- 6 -->\n      <g transform=\"translate(228.541193 687.717781)scale(0.1 -0.1)\">\n       <use xlink:href=\"#DejaVuSans-54\"/>\n      </g>\n     </g>\n    </g>\n    <g id=\"xtick_47\">\n     <g id=\"line2d_79\">\n      <g>\n       <use style=\"stroke:#000000;stroke-width:0.8;\" x=\"330.830398\" xlink:href=\"#mbd98b15b1d\" y=\"673.119343\"/>\n      </g>\n     </g>\n     <g id=\"text_91\">\n      <!-- 8 -->\n      <g transform=\"translate(327.649148 687.717781)scale(0.1 -0.1)\">\n       <use xlink:href=\"#DejaVuSans-56\"/>\n      </g>\n     </g>\n    </g>\n    <g id=\"xtick_48\">\n     <g id=\"line2d_80\">\n      <g>\n       <use style=\"stroke:#000000;stroke-width:0.8;\" x=\"429.938352\" xlink:href=\"#mbd98b15b1d\" y=\"673.119343\"/>\n      </g>\n     </g>\n     <g id=\"text_92\">\n      <!-- 10 -->\n      <g transform=\"translate(423.575852 687.717781)scale(0.1 -0.1)\">\n       <use xlink:href=\"#DejaVuSans-49\"/>\n       <use x=\"63.623047\" xlink:href=\"#DejaVuSans-48\"/>\n      </g>\n     </g>\n    </g>\n    <g id=\"xtick_49\">\n     <g id=\"line2d_81\">\n      <g>\n       <use style=\"stroke:#000000;stroke-width:0.8;\" x=\"529.046307\" xlink:href=\"#mbd98b15b1d\" y=\"673.119343\"/>\n      </g>\n     </g>\n     <g id=\"text_93\">\n      <!-- 12 -->\n      <g transform=\"translate(522.683807 687.717781)scale(0.1 -0.1)\">\n       <use xlink:href=\"#DejaVuSans-49\"/>\n       <use x=\"63.623047\" xlink:href=\"#DejaVuSans-50\"/>\n      </g>\n     </g>\n    </g>\n    <g id=\"xtick_50\">\n     <g id=\"line2d_82\">\n      <g>\n       <use style=\"stroke:#000000;stroke-width:0.8;\" x=\"628.154261\" xlink:href=\"#mbd98b15b1d\" y=\"673.119343\"/>\n      </g>\n     </g>\n     <g id=\"text_94\">\n      <!-- 14 -->\n      <g transform=\"translate(621.791761 687.717781)scale(0.1 -0.1)\">\n       <use xlink:href=\"#DejaVuSans-49\"/>\n       <use x=\"63.623047\" xlink:href=\"#DejaVuSans-52\"/>\n      </g>\n     </g>\n    </g>\n    <g id=\"text_95\">\n     <!-- agg_score (original) -->\n     <g transform=\"translate(330.859375 701.395906)scale(0.1 -0.1)\">\n      <use xlink:href=\"#DejaVuSans-97\"/>\n      <use x=\"61.279297\" xlink:href=\"#DejaVuSans-103\"/>\n      <use x=\"124.755859\" xlink:href=\"#DejaVuSans-103\"/>\n      <use x=\"188.232422\" xlink:href=\"#DejaVuSans-95\"/>\n      <use x=\"238.232422\" xlink:href=\"#DejaVuSans-115\"/>\n      <use x=\"290.332031\" xlink:href=\"#DejaVuSans-99\"/>\n      <use x=\"345.3125\" xlink:href=\"#DejaVuSans-111\"/>\n      <use x=\"406.494141\" xlink:href=\"#DejaVuSans-114\"/>\n      <use x=\"445.357422\" xlink:href=\"#DejaVuSans-101\"/>\n      <use x=\"506.880859\" xlink:href=\"#DejaVuSans-32\"/>\n      <use x=\"538.667969\" xlink:href=\"#DejaVuSans-40\"/>\n      <use x=\"577.681641\" xlink:href=\"#DejaVuSans-111\"/>\n      <use x=\"638.863281\" xlink:href=\"#DejaVuSans-114\"/>\n      <use x=\"679.976562\" xlink:href=\"#DejaVuSans-105\"/>\n      <use x=\"707.759766\" xlink:href=\"#DejaVuSans-103\"/>\n      <use x=\"771.236328\" xlink:href=\"#DejaVuSans-105\"/>\n      <use x=\"799.019531\" xlink:href=\"#DejaVuSans-110\"/>\n      <use x=\"862.398438\" xlink:href=\"#DejaVuSans-97\"/>\n      <use x=\"923.677734\" xlink:href=\"#DejaVuSans-108\"/>\n      <use x=\"951.460938\" xlink:href=\"#DejaVuSans-41\"/>\n     </g>\n    </g>\n   </g>\n   <g id=\"matplotlib.axis_14\">\n    <g id=\"ytick_33\">\n     <g id=\"line2d_83\">\n      <g>\n       <use style=\"stroke:#000000;stroke-width:0.8;\" x=\"53.328125\" xlink:href=\"#mbbdcde4529\" y=\"673.119343\"/>\n      </g>\n     </g>\n     <g id=\"text_96\">\n      <!-- 0 -->\n      <g transform=\"translate(39.965625 676.918562)scale(0.1 -0.1)\">\n       <use xlink:href=\"#DejaVuSans-48\"/>\n      </g>\n     </g>\n    </g>\n    <g id=\"ytick_34\">\n     <g id=\"line2d_84\">\n      <g>\n       <use style=\"stroke:#000000;stroke-width:0.8;\" x=\"53.328125\" xlink:href=\"#mbbdcde4529\" y=\"632.443489\"/>\n      </g>\n     </g>\n     <g id=\"text_97\">\n      <!-- 1000 -->\n      <g transform=\"translate(20.878125 636.242708)scale(0.1 -0.1)\">\n       <use xlink:href=\"#DejaVuSans-49\"/>\n       <use x=\"63.623047\" xlink:href=\"#DejaVuSans-48\"/>\n       <use x=\"127.246094\" xlink:href=\"#DejaVuSans-48\"/>\n       <use x=\"190.869141\" xlink:href=\"#DejaVuSans-48\"/>\n      </g>\n     </g>\n    </g>\n    <g id=\"ytick_35\">\n     <g id=\"line2d_85\">\n      <g>\n       <use style=\"stroke:#000000;stroke-width:0.8;\" x=\"53.328125\" xlink:href=\"#mbbdcde4529\" y=\"591.767635\"/>\n      </g>\n     </g>\n     <g id=\"text_98\">\n      <!-- 2000 -->\n      <g transform=\"translate(20.878125 595.566854)scale(0.1 -0.1)\">\n       <use xlink:href=\"#DejaVuSans-50\"/>\n       <use x=\"63.623047\" xlink:href=\"#DejaVuSans-48\"/>\n       <use x=\"127.246094\" xlink:href=\"#DejaVuSans-48\"/>\n       <use x=\"190.869141\" xlink:href=\"#DejaVuSans-48\"/>\n      </g>\n     </g>\n    </g>\n    <g id=\"ytick_36\">\n     <g id=\"line2d_86\">\n      <g>\n       <use style=\"stroke:#000000;stroke-width:0.8;\" x=\"53.328125\" xlink:href=\"#mbbdcde4529\" y=\"551.091781\"/>\n      </g>\n     </g>\n     <g id=\"text_99\">\n      <!-- 3000 -->\n      <g transform=\"translate(20.878125 554.891)scale(0.1 -0.1)\">\n       <use xlink:href=\"#DejaVuSans-51\"/>\n       <use x=\"63.623047\" xlink:href=\"#DejaVuSans-48\"/>\n       <use x=\"127.246094\" xlink:href=\"#DejaVuSans-48\"/>\n       <use x=\"190.869141\" xlink:href=\"#DejaVuSans-48\"/>\n      </g>\n     </g>\n    </g>\n    <g id=\"text_100\">\n     <!-- Count -->\n     <g transform=\"translate(14.798438 620.828216)rotate(-90)scale(0.1 -0.1)\">\n      <use xlink:href=\"#DejaVuSans-67\"/>\n      <use x=\"69.824219\" xlink:href=\"#DejaVuSans-111\"/>\n      <use x=\"131.005859\" xlink:href=\"#DejaVuSans-117\"/>\n      <use x=\"194.384766\" xlink:href=\"#DejaVuSans-110\"/>\n      <use x=\"257.763672\" xlink:href=\"#DejaVuSans-116\"/>\n     </g>\n    </g>\n   </g>\n   <g id=\"patch_223\">\n    <path d=\"M 53.328125 673.119343 \nL 53.328125 538.840214 \n\" style=\"fill:none;stroke:#000000;stroke-linecap:square;stroke-linejoin:miter;stroke-width:0.8;\"/>\n   </g>\n   <g id=\"patch_224\">\n    <path d=\"M 707.440625 673.119343 \nL 707.440625 538.840214 \n\" style=\"fill:none;stroke:#000000;stroke-linecap:square;stroke-linejoin:miter;stroke-width:0.8;\"/>\n   </g>\n   <g id=\"patch_225\">\n    <path d=\"M 53.328125 673.119343 \nL 707.440625 673.119343 \n\" style=\"fill:none;stroke:#000000;stroke-linecap:square;stroke-linejoin:miter;stroke-width:0.8;\"/>\n   </g>\n   <g id=\"patch_226\">\n    <path d=\"M 53.328125 538.840214 \nL 707.440625 538.840214 \n\" style=\"fill:none;stroke:#000000;stroke-linecap:square;stroke-linejoin:miter;stroke-width:0.8;\"/>\n   </g>\n  </g>\n  <g id=\"axes_8\">\n   <g id=\"patch_227\">\n    <path d=\"M 771.115625 673.119343 \nL 1425.228125 673.119343 \nL 1425.228125 538.840214 \nL 771.115625 538.840214 \nz\n\" style=\"fill:#ffffff;\"/>\n   </g>\n   <g id=\"patch_228\">\n    <path clip-path=\"url(#pe7feeead9a)\" d=\"M 800.848011 673.119343 \nL 809.107008 673.119343 \nL 809.107008 670.434737 \nL 800.848011 670.434737 \nz\n\" style=\"fill:#1f77b4;fill-opacity:0.75;stroke:#000000;stroke-linejoin:miter;stroke-width:0.640496;\"/>\n   </g>\n   <g id=\"patch_229\">\n    <path clip-path=\"url(#pe7feeead9a)\" d=\"M 809.107008 673.119343 \nL 817.366004 673.119343 \nL 817.366004 673.119343 \nL 809.107008 673.119343 \nz\n\" style=\"fill:#1f77b4;fill-opacity:0.75;stroke:#000000;stroke-linejoin:miter;stroke-width:0.640496;\"/>\n   </g>\n   <g id=\"patch_230\">\n    <path clip-path=\"url(#pe7feeead9a)\" d=\"M 817.366004 673.119343 \nL 825.625 673.119343 \nL 825.625 673.119343 \nL 817.366004 673.119343 \nz\n\" style=\"fill:#1f77b4;fill-opacity:0.75;stroke:#000000;stroke-linejoin:miter;stroke-width:0.640496;\"/>\n   </g>\n   <g id=\"patch_231\">\n    <path clip-path=\"url(#pe7feeead9a)\" d=\"M 825.625 673.119343 \nL 833.883996 673.119343 \nL 833.883996 673.119343 \nL 825.625 673.119343 \nz\n\" style=\"fill:#1f77b4;fill-opacity:0.75;stroke:#000000;stroke-linejoin:miter;stroke-width:0.640496;\"/>\n   </g>\n   <g id=\"patch_232\">\n    <path clip-path=\"url(#pe7feeead9a)\" d=\"M 833.883996 673.119343 \nL 842.142992 673.119343 \nL 842.142992 673.119343 \nL 833.883996 673.119343 \nz\n\" style=\"fill:#1f77b4;fill-opacity:0.75;stroke:#000000;stroke-linejoin:miter;stroke-width:0.640496;\"/>\n   </g>\n   <g id=\"patch_233\">\n    <path clip-path=\"url(#pe7feeead9a)\" d=\"M 842.142992 673.119343 \nL 850.401989 673.119343 \nL 850.401989 673.119343 \nL 842.142992 673.119343 \nz\n\" style=\"fill:#1f77b4;fill-opacity:0.75;stroke:#000000;stroke-linejoin:miter;stroke-width:0.640496;\"/>\n   </g>\n   <g id=\"patch_234\">\n    <path clip-path=\"url(#pe7feeead9a)\" d=\"M 850.401989 673.119343 \nL 858.660985 673.119343 \nL 858.660985 670.068654 \nL 850.401989 670.068654 \nz\n\" style=\"fill:#1f77b4;fill-opacity:0.75;stroke:#000000;stroke-linejoin:miter;stroke-width:0.640496;\"/>\n   </g>\n   <g id=\"patch_235\">\n    <path clip-path=\"url(#pe7feeead9a)\" d=\"M 858.660985 673.119343 \nL 866.919981 673.119343 \nL 866.919981 673.119343 \nL 858.660985 673.119343 \nz\n\" style=\"fill:#1f77b4;fill-opacity:0.75;stroke:#000000;stroke-linejoin:miter;stroke-width:0.640496;\"/>\n   </g>\n   <g id=\"patch_236\">\n    <path clip-path=\"url(#pe7feeead9a)\" d=\"M 866.919981 673.119343 \nL 875.178977 673.119343 \nL 875.178977 673.119343 \nL 866.919981 673.119343 \nz\n\" style=\"fill:#1f77b4;fill-opacity:0.75;stroke:#000000;stroke-linejoin:miter;stroke-width:0.640496;\"/>\n   </g>\n   <g id=\"patch_237\">\n    <path clip-path=\"url(#pe7feeead9a)\" d=\"M 875.178977 673.119343 \nL 883.437973 673.119343 \nL 883.437973 673.119343 \nL 875.178977 673.119343 \nz\n\" style=\"fill:#1f77b4;fill-opacity:0.75;stroke:#000000;stroke-linejoin:miter;stroke-width:0.640496;\"/>\n   </g>\n   <g id=\"patch_238\">\n    <path clip-path=\"url(#pe7feeead9a)\" d=\"M 883.437973 673.119343 \nL 891.69697 673.119343 \nL 891.69697 673.119343 \nL 883.437973 673.119343 \nz\n\" style=\"fill:#1f77b4;fill-opacity:0.75;stroke:#000000;stroke-linejoin:miter;stroke-width:0.640496;\"/>\n   </g>\n   <g id=\"patch_239\">\n    <path clip-path=\"url(#pe7feeead9a)\" d=\"M 891.69697 673.119343 \nL 899.955966 673.119343 \nL 899.955966 673.119343 \nL 891.69697 673.119343 \nz\n\" style=\"fill:#1f77b4;fill-opacity:0.75;stroke:#000000;stroke-linejoin:miter;stroke-width:0.640496;\"/>\n   </g>\n   <g id=\"patch_240\">\n    <path clip-path=\"url(#pe7feeead9a)\" d=\"M 899.955966 673.119343 \nL 908.214962 673.119343 \nL 908.214962 667.709455 \nL 899.955966 667.709455 \nz\n\" style=\"fill:#1f77b4;fill-opacity:0.75;stroke:#000000;stroke-linejoin:miter;stroke-width:0.640496;\"/>\n   </g>\n   <g id=\"patch_241\">\n    <path clip-path=\"url(#pe7feeead9a)\" d=\"M 908.214962 673.119343 \nL 916.473958 673.119343 \nL 916.473958 673.119343 \nL 908.214962 673.119343 \nz\n\" style=\"fill:#1f77b4;fill-opacity:0.75;stroke:#000000;stroke-linejoin:miter;stroke-width:0.640496;\"/>\n   </g>\n   <g id=\"patch_242\">\n    <path clip-path=\"url(#pe7feeead9a)\" d=\"M 916.473958 673.119343 \nL 924.732955 673.119343 \nL 924.732955 673.119343 \nL 916.473958 673.119343 \nz\n\" style=\"fill:#1f77b4;fill-opacity:0.75;stroke:#000000;stroke-linejoin:miter;stroke-width:0.640496;\"/>\n   </g>\n   <g id=\"patch_243\">\n    <path clip-path=\"url(#pe7feeead9a)\" d=\"M 924.732955 673.119343 \nL 932.991951 673.119343 \nL 932.991951 673.119343 \nL 924.732955 673.119343 \nz\n\" style=\"fill:#1f77b4;fill-opacity:0.75;stroke:#000000;stroke-linejoin:miter;stroke-width:0.640496;\"/>\n   </g>\n   <g id=\"patch_244\">\n    <path clip-path=\"url(#pe7feeead9a)\" d=\"M 932.991951 673.119343 \nL 941.250947 673.119343 \nL 941.250947 673.119343 \nL 932.991951 673.119343 \nz\n\" style=\"fill:#1f77b4;fill-opacity:0.75;stroke:#000000;stroke-linejoin:miter;stroke-width:0.640496;\"/>\n   </g>\n   <g id=\"patch_245\">\n    <path clip-path=\"url(#pe7feeead9a)\" d=\"M 941.250947 673.119343 \nL 949.509943 673.119343 \nL 949.509943 673.119343 \nL 941.250947 673.119343 \nz\n\" style=\"fill:#1f77b4;fill-opacity:0.75;stroke:#000000;stroke-linejoin:miter;stroke-width:0.640496;\"/>\n   </g>\n   <g id=\"patch_246\">\n    <path clip-path=\"url(#pe7feeead9a)\" d=\"M 949.509943 673.119343 \nL 957.768939 673.119343 \nL 957.768939 662.055511 \nL 949.509943 662.055511 \nz\n\" style=\"fill:#1f77b4;fill-opacity:0.75;stroke:#000000;stroke-linejoin:miter;stroke-width:0.640496;\"/>\n   </g>\n   <g id=\"patch_247\">\n    <path clip-path=\"url(#pe7feeead9a)\" d=\"M 957.768939 673.119343 \nL 966.027936 673.119343 \nL 966.027936 673.119343 \nL 957.768939 673.119343 \nz\n\" style=\"fill:#1f77b4;fill-opacity:0.75;stroke:#000000;stroke-linejoin:miter;stroke-width:0.640496;\"/>\n   </g>\n   <g id=\"patch_248\">\n    <path clip-path=\"url(#pe7feeead9a)\" d=\"M 966.027936 673.119343 \nL 974.286932 673.119343 \nL 974.286932 673.119343 \nL 966.027936 673.119343 \nz\n\" style=\"fill:#1f77b4;fill-opacity:0.75;stroke:#000000;stroke-linejoin:miter;stroke-width:0.640496;\"/>\n   </g>\n   <g id=\"patch_249\">\n    <path clip-path=\"url(#pe7feeead9a)\" d=\"M 974.286932 673.119343 \nL 982.545928 673.119343 \nL 982.545928 673.119343 \nL 974.286932 673.119343 \nz\n\" style=\"fill:#1f77b4;fill-opacity:0.75;stroke:#000000;stroke-linejoin:miter;stroke-width:0.640496;\"/>\n   </g>\n   <g id=\"patch_250\">\n    <path clip-path=\"url(#pe7feeead9a)\" d=\"M 982.545928 673.119343 \nL 990.804924 673.119343 \nL 990.804924 673.119343 \nL 982.545928 673.119343 \nz\n\" style=\"fill:#1f77b4;fill-opacity:0.75;stroke:#000000;stroke-linejoin:miter;stroke-width:0.640496;\"/>\n   </g>\n   <g id=\"patch_251\">\n    <path clip-path=\"url(#pe7feeead9a)\" d=\"M 990.804924 673.119343 \nL 999.06392 673.119343 \nL 999.06392 673.119343 \nL 990.804924 673.119343 \nz\n\" style=\"fill:#1f77b4;fill-opacity:0.75;stroke:#000000;stroke-linejoin:miter;stroke-width:0.640496;\"/>\n   </g>\n   <g id=\"patch_252\">\n    <path clip-path=\"url(#pe7feeead9a)\" d=\"M 999.06392 673.119343 \nL 1007.322917 673.119343 \nL 1007.322917 656.116836 \nL 999.06392 656.116836 \nz\n\" style=\"fill:#1f77b4;fill-opacity:0.75;stroke:#000000;stroke-linejoin:miter;stroke-width:0.640496;\"/>\n   </g>\n   <g id=\"patch_253\">\n    <path clip-path=\"url(#pe7feeead9a)\" d=\"M 1007.322917 673.119343 \nL 1015.581913 673.119343 \nL 1015.581913 673.119343 \nL 1007.322917 673.119343 \nz\n\" style=\"fill:#1f77b4;fill-opacity:0.75;stroke:#000000;stroke-linejoin:miter;stroke-width:0.640496;\"/>\n   </g>\n   <g id=\"patch_254\">\n    <path clip-path=\"url(#pe7feeead9a)\" d=\"M 1015.581913 673.119343 \nL 1023.840909 673.119343 \nL 1023.840909 673.119343 \nL 1015.581913 673.119343 \nz\n\" style=\"fill:#1f77b4;fill-opacity:0.75;stroke:#000000;stroke-linejoin:miter;stroke-width:0.640496;\"/>\n   </g>\n   <g id=\"patch_255\">\n    <path clip-path=\"url(#pe7feeead9a)\" d=\"M 1023.840909 673.119343 \nL 1032.099905 673.119343 \nL 1032.099905 673.119343 \nL 1023.840909 673.119343 \nz\n\" style=\"fill:#1f77b4;fill-opacity:0.75;stroke:#000000;stroke-linejoin:miter;stroke-width:0.640496;\"/>\n   </g>\n   <g id=\"patch_256\">\n    <path clip-path=\"url(#pe7feeead9a)\" d=\"M 1032.099905 673.119343 \nL 1040.358902 673.119343 \nL 1040.358902 673.119343 \nL 1032.099905 673.119343 \nz\n\" style=\"fill:#1f77b4;fill-opacity:0.75;stroke:#000000;stroke-linejoin:miter;stroke-width:0.640496;\"/>\n   </g>\n   <g id=\"patch_257\">\n    <path clip-path=\"url(#pe7feeead9a)\" d=\"M 1040.358902 673.119343 \nL 1048.617898 673.119343 \nL 1048.617898 673.119343 \nL 1040.358902 673.119343 \nz\n\" style=\"fill:#1f77b4;fill-opacity:0.75;stroke:#000000;stroke-linejoin:miter;stroke-width:0.640496;\"/>\n   </g>\n   <g id=\"patch_258\">\n    <path clip-path=\"url(#pe7feeead9a)\" d=\"M 1048.617898 673.119343 \nL 1056.876894 673.119343 \nL 1056.876894 643.751377 \nL 1048.617898 643.751377 \nz\n\" style=\"fill:#1f77b4;fill-opacity:0.75;stroke:#000000;stroke-linejoin:miter;stroke-width:0.640496;\"/>\n   </g>\n   <g id=\"patch_259\">\n    <path clip-path=\"url(#pe7feeead9a)\" d=\"M 1056.876894 673.119343 \nL 1065.13589 673.119343 \nL 1065.13589 673.119343 \nL 1056.876894 673.119343 \nz\n\" style=\"fill:#1f77b4;fill-opacity:0.75;stroke:#000000;stroke-linejoin:miter;stroke-width:0.640496;\"/>\n   </g>\n   <g id=\"patch_260\">\n    <path clip-path=\"url(#pe7feeead9a)\" d=\"M 1065.13589 673.119343 \nL 1073.394886 673.119343 \nL 1073.394886 673.119343 \nL 1065.13589 673.119343 \nz\n\" style=\"fill:#1f77b4;fill-opacity:0.75;stroke:#000000;stroke-linejoin:miter;stroke-width:0.640496;\"/>\n   </g>\n   <g id=\"patch_261\">\n    <path clip-path=\"url(#pe7feeead9a)\" d=\"M 1073.394886 673.119343 \nL 1081.653883 673.119343 \nL 1081.653883 673.119343 \nL 1073.394886 673.119343 \nz\n\" style=\"fill:#1f77b4;fill-opacity:0.75;stroke:#000000;stroke-linejoin:miter;stroke-width:0.640496;\"/>\n   </g>\n   <g id=\"patch_262\">\n    <path clip-path=\"url(#pe7feeead9a)\" d=\"M 1081.653883 673.119343 \nL 1089.912879 673.119343 \nL 1089.912879 673.119343 \nL 1081.653883 673.119343 \nz\n\" style=\"fill:#1f77b4;fill-opacity:0.75;stroke:#000000;stroke-linejoin:miter;stroke-width:0.640496;\"/>\n   </g>\n   <g id=\"patch_263\">\n    <path clip-path=\"url(#pe7feeead9a)\" d=\"M 1089.912879 673.119343 \nL 1098.171875 673.119343 \nL 1098.171875 673.119343 \nL 1089.912879 673.119343 \nz\n\" style=\"fill:#1f77b4;fill-opacity:0.75;stroke:#000000;stroke-linejoin:miter;stroke-width:0.640496;\"/>\n   </g>\n   <g id=\"patch_264\">\n    <path clip-path=\"url(#pe7feeead9a)\" d=\"M 1098.171875 673.119343 \nL 1106.430871 673.119343 \nL 1106.430871 545.234458 \nL 1098.171875 545.234458 \nz\n\" style=\"fill:#1f77b4;fill-opacity:0.75;stroke:#000000;stroke-linejoin:miter;stroke-width:0.640496;\"/>\n   </g>\n   <g id=\"patch_265\">\n    <path clip-path=\"url(#pe7feeead9a)\" d=\"M 1106.430871 673.119343 \nL 1114.689867 673.119343 \nL 1114.689867 673.119343 \nL 1106.430871 673.119343 \nz\n\" style=\"fill:#1f77b4;fill-opacity:0.75;stroke:#000000;stroke-linejoin:miter;stroke-width:0.640496;\"/>\n   </g>\n   <g id=\"patch_266\">\n    <path clip-path=\"url(#pe7feeead9a)\" d=\"M 1114.689867 673.119343 \nL 1122.948864 673.119343 \nL 1122.948864 673.119343 \nL 1114.689867 673.119343 \nz\n\" style=\"fill:#1f77b4;fill-opacity:0.75;stroke:#000000;stroke-linejoin:miter;stroke-width:0.640496;\"/>\n   </g>\n   <g id=\"patch_267\">\n    <path clip-path=\"url(#pe7feeead9a)\" d=\"M 1122.948864 673.119343 \nL 1131.20786 673.119343 \nL 1131.20786 673.119343 \nL 1122.948864 673.119343 \nz\n\" style=\"fill:#1f77b4;fill-opacity:0.75;stroke:#000000;stroke-linejoin:miter;stroke-width:0.640496;\"/>\n   </g>\n   <g id=\"patch_268\">\n    <path clip-path=\"url(#pe7feeead9a)\" d=\"M 1131.20786 673.119343 \nL 1139.466856 673.119343 \nL 1139.466856 673.119343 \nL 1131.20786 673.119343 \nz\n\" style=\"fill:#1f77b4;fill-opacity:0.75;stroke:#000000;stroke-linejoin:miter;stroke-width:0.640496;\"/>\n   </g>\n   <g id=\"patch_269\">\n    <path clip-path=\"url(#pe7feeead9a)\" d=\"M 1139.466856 673.119343 \nL 1147.725852 673.119343 \nL 1147.725852 550.278264 \nL 1139.466856 550.278264 \nz\n\" style=\"fill:#1f77b4;fill-opacity:0.75;stroke:#000000;stroke-linejoin:miter;stroke-width:0.640496;\"/>\n   </g>\n   <g id=\"patch_270\">\n    <path clip-path=\"url(#pe7feeead9a)\" d=\"M 1147.725852 673.119343 \nL 1155.984848 673.119343 \nL 1155.984848 601.692544 \nL 1147.725852 601.692544 \nz\n\" style=\"fill:#1f77b4;fill-opacity:0.75;stroke:#000000;stroke-linejoin:miter;stroke-width:0.640496;\"/>\n   </g>\n   <g id=\"patch_271\">\n    <path clip-path=\"url(#pe7feeead9a)\" d=\"M 1155.984848 673.119343 \nL 1164.243845 673.119343 \nL 1164.243845 673.119343 \nL 1155.984848 673.119343 \nz\n\" style=\"fill:#1f77b4;fill-opacity:0.75;stroke:#000000;stroke-linejoin:miter;stroke-width:0.640496;\"/>\n   </g>\n   <g id=\"patch_272\">\n    <path clip-path=\"url(#pe7feeead9a)\" d=\"M 1164.243845 673.119343 \nL 1172.502841 673.119343 \nL 1172.502841 673.119343 \nL 1164.243845 673.119343 \nz\n\" style=\"fill:#1f77b4;fill-opacity:0.75;stroke:#000000;stroke-linejoin:miter;stroke-width:0.640496;\"/>\n   </g>\n   <g id=\"patch_273\">\n    <path clip-path=\"url(#pe7feeead9a)\" d=\"M 1172.502841 673.119343 \nL 1180.761837 673.119343 \nL 1180.761837 673.119343 \nL 1172.502841 673.119343 \nz\n\" style=\"fill:#1f77b4;fill-opacity:0.75;stroke:#000000;stroke-linejoin:miter;stroke-width:0.640496;\"/>\n   </g>\n   <g id=\"patch_274\">\n    <path clip-path=\"url(#pe7feeead9a)\" d=\"M 1180.761837 673.119343 \nL 1189.020833 673.119343 \nL 1189.020833 673.119343 \nL 1180.761837 673.119343 \nz\n\" style=\"fill:#1f77b4;fill-opacity:0.75;stroke:#000000;stroke-linejoin:miter;stroke-width:0.640496;\"/>\n   </g>\n   <g id=\"patch_275\">\n    <path clip-path=\"url(#pe7feeead9a)\" d=\"M 1189.020833 673.119343 \nL 1197.27983 673.119343 \nL 1197.27983 673.119343 \nL 1189.020833 673.119343 \nz\n\" style=\"fill:#1f77b4;fill-opacity:0.75;stroke:#000000;stroke-linejoin:miter;stroke-width:0.640496;\"/>\n   </g>\n   <g id=\"patch_276\">\n    <path clip-path=\"url(#pe7feeead9a)\" d=\"M 1197.27983 673.119343 \nL 1205.538826 673.119343 \nL 1205.538826 608.932846 \nL 1197.27983 608.932846 \nz\n\" style=\"fill:#1f77b4;fill-opacity:0.75;stroke:#000000;stroke-linejoin:miter;stroke-width:0.640496;\"/>\n   </g>\n   <g id=\"patch_277\">\n    <path clip-path=\"url(#pe7feeead9a)\" d=\"M 1205.538826 673.119343 \nL 1213.797822 673.119343 \nL 1213.797822 673.119343 \nL 1205.538826 673.119343 \nz\n\" style=\"fill:#1f77b4;fill-opacity:0.75;stroke:#000000;stroke-linejoin:miter;stroke-width:0.640496;\"/>\n   </g>\n   <g id=\"patch_278\">\n    <path clip-path=\"url(#pe7feeead9a)\" d=\"M 1213.797822 673.119343 \nL 1222.056818 673.119343 \nL 1222.056818 673.119343 \nL 1213.797822 673.119343 \nz\n\" style=\"fill:#1f77b4;fill-opacity:0.75;stroke:#000000;stroke-linejoin:miter;stroke-width:0.640496;\"/>\n   </g>\n   <g id=\"patch_279\">\n    <path clip-path=\"url(#pe7feeead9a)\" d=\"M 1222.056818 673.119343 \nL 1230.315814 673.119343 \nL 1230.315814 673.119343 \nL 1222.056818 673.119343 \nz\n\" style=\"fill:#1f77b4;fill-opacity:0.75;stroke:#000000;stroke-linejoin:miter;stroke-width:0.640496;\"/>\n   </g>\n   <g id=\"patch_280\">\n    <path clip-path=\"url(#pe7feeead9a)\" d=\"M 1230.315814 673.119343 \nL 1238.574811 673.119343 \nL 1238.574811 673.119343 \nL 1230.315814 673.119343 \nz\n\" style=\"fill:#1f77b4;fill-opacity:0.75;stroke:#000000;stroke-linejoin:miter;stroke-width:0.640496;\"/>\n   </g>\n   <g id=\"patch_281\">\n    <path clip-path=\"url(#pe7feeead9a)\" d=\"M 1238.574811 673.119343 \nL 1246.833807 673.119343 \nL 1246.833807 673.119343 \nL 1238.574811 673.119343 \nz\n\" style=\"fill:#1f77b4;fill-opacity:0.75;stroke:#000000;stroke-linejoin:miter;stroke-width:0.640496;\"/>\n   </g>\n   <g id=\"patch_282\">\n    <path clip-path=\"url(#pe7feeead9a)\" d=\"M 1246.833807 673.119343 \nL 1255.092803 673.119343 \nL 1255.092803 601.733219 \nL 1246.833807 601.733219 \nz\n\" style=\"fill:#1f77b4;fill-opacity:0.75;stroke:#000000;stroke-linejoin:miter;stroke-width:0.640496;\"/>\n   </g>\n   <g id=\"patch_283\">\n    <path clip-path=\"url(#pe7feeead9a)\" d=\"M 1255.092803 673.119343 \nL 1263.351799 673.119343 \nL 1263.351799 673.119343 \nL 1255.092803 673.119343 \nz\n\" style=\"fill:#1f77b4;fill-opacity:0.75;stroke:#000000;stroke-linejoin:miter;stroke-width:0.640496;\"/>\n   </g>\n   <g id=\"patch_284\">\n    <path clip-path=\"url(#pe7feeead9a)\" d=\"M 1263.351799 673.119343 \nL 1271.610795 673.119343 \nL 1271.610795 673.119343 \nL 1263.351799 673.119343 \nz\n\" style=\"fill:#1f77b4;fill-opacity:0.75;stroke:#000000;stroke-linejoin:miter;stroke-width:0.640496;\"/>\n   </g>\n   <g id=\"patch_285\">\n    <path clip-path=\"url(#pe7feeead9a)\" d=\"M 1271.610795 673.119343 \nL 1279.869792 673.119343 \nL 1279.869792 673.119343 \nL 1271.610795 673.119343 \nz\n\" style=\"fill:#1f77b4;fill-opacity:0.75;stroke:#000000;stroke-linejoin:miter;stroke-width:0.640496;\"/>\n   </g>\n   <g id=\"patch_286\">\n    <path clip-path=\"url(#pe7feeead9a)\" d=\"M 1279.869792 673.119343 \nL 1288.128788 673.119343 \nL 1288.128788 673.119343 \nL 1279.869792 673.119343 \nz\n\" style=\"fill:#1f77b4;fill-opacity:0.75;stroke:#000000;stroke-linejoin:miter;stroke-width:0.640496;\"/>\n   </g>\n   <g id=\"patch_287\">\n    <path clip-path=\"url(#pe7feeead9a)\" d=\"M 1288.128788 673.119343 \nL 1296.387784 673.119343 \nL 1296.387784 673.119343 \nL 1288.128788 673.119343 \nz\n\" style=\"fill:#1f77b4;fill-opacity:0.75;stroke:#000000;stroke-linejoin:miter;stroke-width:0.640496;\"/>\n   </g>\n   <g id=\"patch_288\">\n    <path clip-path=\"url(#pe7feeead9a)\" d=\"M 1296.387784 673.119343 \nL 1304.64678 673.119343 \nL 1304.64678 654.449126 \nL 1296.387784 654.449126 \nz\n\" style=\"fill:#1f77b4;fill-opacity:0.75;stroke:#000000;stroke-linejoin:miter;stroke-width:0.640496;\"/>\n   </g>\n   <g id=\"patch_289\">\n    <path clip-path=\"url(#pe7feeead9a)\" d=\"M 1304.64678 673.119343 \nL 1312.905777 673.119343 \nL 1312.905777 673.119343 \nL 1304.64678 673.119343 \nz\n\" style=\"fill:#1f77b4;fill-opacity:0.75;stroke:#000000;stroke-linejoin:miter;stroke-width:0.640496;\"/>\n   </g>\n   <g id=\"patch_290\">\n    <path clip-path=\"url(#pe7feeead9a)\" d=\"M 1312.905777 673.119343 \nL 1321.164773 673.119343 \nL 1321.164773 673.119343 \nL 1312.905777 673.119343 \nz\n\" style=\"fill:#1f77b4;fill-opacity:0.75;stroke:#000000;stroke-linejoin:miter;stroke-width:0.640496;\"/>\n   </g>\n   <g id=\"patch_291\">\n    <path clip-path=\"url(#pe7feeead9a)\" d=\"M 1321.164773 673.119343 \nL 1329.423769 673.119343 \nL 1329.423769 673.119343 \nL 1321.164773 673.119343 \nz\n\" style=\"fill:#1f77b4;fill-opacity:0.75;stroke:#000000;stroke-linejoin:miter;stroke-width:0.640496;\"/>\n   </g>\n   <g id=\"patch_292\">\n    <path clip-path=\"url(#pe7feeead9a)\" d=\"M 1329.423769 673.119343 \nL 1337.682765 673.119343 \nL 1337.682765 673.119343 \nL 1329.423769 673.119343 \nz\n\" style=\"fill:#1f77b4;fill-opacity:0.75;stroke:#000000;stroke-linejoin:miter;stroke-width:0.640496;\"/>\n   </g>\n   <g id=\"patch_293\">\n    <path clip-path=\"url(#pe7feeead9a)\" d=\"M 1337.682765 673.119343 \nL 1345.941761 673.119343 \nL 1345.941761 673.119343 \nL 1337.682765 673.119343 \nz\n\" style=\"fill:#1f77b4;fill-opacity:0.75;stroke:#000000;stroke-linejoin:miter;stroke-width:0.640496;\"/>\n   </g>\n   <g id=\"patch_294\">\n    <path clip-path=\"url(#pe7feeead9a)\" d=\"M 1345.941761 673.119343 \nL 1354.200758 673.119343 \nL 1354.200758 665.024848 \nL 1345.941761 665.024848 \nz\n\" style=\"fill:#1f77b4;fill-opacity:0.75;stroke:#000000;stroke-linejoin:miter;stroke-width:0.640496;\"/>\n   </g>\n   <g id=\"patch_295\">\n    <path clip-path=\"url(#pe7feeead9a)\" d=\"M 1354.200758 673.119343 \nL 1362.459754 673.119343 \nL 1362.459754 673.119343 \nL 1354.200758 673.119343 \nz\n\" style=\"fill:#1f77b4;fill-opacity:0.75;stroke:#000000;stroke-linejoin:miter;stroke-width:0.640496;\"/>\n   </g>\n   <g id=\"patch_296\">\n    <path clip-path=\"url(#pe7feeead9a)\" d=\"M 1362.459754 673.119343 \nL 1370.71875 673.119343 \nL 1370.71875 673.119343 \nL 1362.459754 673.119343 \nz\n\" style=\"fill:#1f77b4;fill-opacity:0.75;stroke:#000000;stroke-linejoin:miter;stroke-width:0.640496;\"/>\n   </g>\n   <g id=\"patch_297\">\n    <path clip-path=\"url(#pe7feeead9a)\" d=\"M 1370.71875 673.119343 \nL 1378.977746 673.119343 \nL 1378.977746 673.119343 \nL 1370.71875 673.119343 \nz\n\" style=\"fill:#1f77b4;fill-opacity:0.75;stroke:#000000;stroke-linejoin:miter;stroke-width:0.640496;\"/>\n   </g>\n   <g id=\"patch_298\">\n    <path clip-path=\"url(#pe7feeead9a)\" d=\"M 1378.977746 673.119343 \nL 1387.236742 673.119343 \nL 1387.236742 673.119343 \nL 1378.977746 673.119343 \nz\n\" style=\"fill:#1f77b4;fill-opacity:0.75;stroke:#000000;stroke-linejoin:miter;stroke-width:0.640496;\"/>\n   </g>\n   <g id=\"patch_299\">\n    <path clip-path=\"url(#pe7feeead9a)\" d=\"M 1387.236742 673.119343 \nL 1395.495739 673.119343 \nL 1395.495739 667.546751 \nL 1387.236742 667.546751 \nz\n\" style=\"fill:#1f77b4;fill-opacity:0.75;stroke:#000000;stroke-linejoin:miter;stroke-width:0.640496;\"/>\n   </g>\n   <g id=\"matplotlib.axis_15\">\n    <g id=\"xtick_51\">\n     <g id=\"line2d_87\">\n      <g>\n       <use style=\"stroke:#000000;stroke-width:0.8;\" x=\"850.401989\" xlink:href=\"#mbd98b15b1d\" y=\"673.119343\"/>\n      </g>\n     </g>\n     <g id=\"text_101\">\n      <!-- 4 -->\n      <g transform=\"translate(847.220739 687.717781)scale(0.1 -0.1)\">\n       <use xlink:href=\"#DejaVuSans-52\"/>\n      </g>\n     </g>\n    </g>\n    <g id=\"xtick_52\">\n     <g id=\"line2d_88\">\n      <g>\n       <use style=\"stroke:#000000;stroke-width:0.8;\" x=\"949.509943\" xlink:href=\"#mbd98b15b1d\" y=\"673.119343\"/>\n      </g>\n     </g>\n     <g id=\"text_102\">\n      <!-- 6 -->\n      <g transform=\"translate(946.328693 687.717781)scale(0.1 -0.1)\">\n       <use xlink:href=\"#DejaVuSans-54\"/>\n      </g>\n     </g>\n    </g>\n    <g id=\"xtick_53\">\n     <g id=\"line2d_89\">\n      <g>\n       <use style=\"stroke:#000000;stroke-width:0.8;\" x=\"1048.617898\" xlink:href=\"#mbd98b15b1d\" y=\"673.119343\"/>\n      </g>\n     </g>\n     <g id=\"text_103\">\n      <!-- 8 -->\n      <g transform=\"translate(1045.436648 687.717781)scale(0.1 -0.1)\">\n       <use xlink:href=\"#DejaVuSans-56\"/>\n      </g>\n     </g>\n    </g>\n    <g id=\"xtick_54\">\n     <g id=\"line2d_90\">\n      <g>\n       <use style=\"stroke:#000000;stroke-width:0.8;\" x=\"1147.725852\" xlink:href=\"#mbd98b15b1d\" y=\"673.119343\"/>\n      </g>\n     </g>\n     <g id=\"text_104\">\n      <!-- 10 -->\n      <g transform=\"translate(1141.363352 687.717781)scale(0.1 -0.1)\">\n       <use xlink:href=\"#DejaVuSans-49\"/>\n       <use x=\"63.623047\" xlink:href=\"#DejaVuSans-48\"/>\n      </g>\n     </g>\n    </g>\n    <g id=\"xtick_55\">\n     <g id=\"line2d_91\">\n      <g>\n       <use style=\"stroke:#000000;stroke-width:0.8;\" x=\"1246.833807\" xlink:href=\"#mbd98b15b1d\" y=\"673.119343\"/>\n      </g>\n     </g>\n     <g id=\"text_105\">\n      <!-- 12 -->\n      <g transform=\"translate(1240.471307 687.717781)scale(0.1 -0.1)\">\n       <use xlink:href=\"#DejaVuSans-49\"/>\n       <use x=\"63.623047\" xlink:href=\"#DejaVuSans-50\"/>\n      </g>\n     </g>\n    </g>\n    <g id=\"xtick_56\">\n     <g id=\"line2d_92\">\n      <g>\n       <use style=\"stroke:#000000;stroke-width:0.8;\" x=\"1345.941761\" xlink:href=\"#mbd98b15b1d\" y=\"673.119343\"/>\n      </g>\n     </g>\n     <g id=\"text_106\">\n      <!-- 14 -->\n      <g transform=\"translate(1339.579261 687.717781)scale(0.1 -0.1)\">\n       <use xlink:href=\"#DejaVuSans-49\"/>\n       <use x=\"63.623047\" xlink:href=\"#DejaVuSans-52\"/>\n      </g>\n     </g>\n    </g>\n    <g id=\"text_107\">\n     <!-- agg_score (imputed) -->\n     <g transform=\"translate(1046.522656 701.395906)scale(0.1 -0.1)\">\n      <use xlink:href=\"#DejaVuSans-97\"/>\n      <use x=\"61.279297\" xlink:href=\"#DejaVuSans-103\"/>\n      <use x=\"124.755859\" xlink:href=\"#DejaVuSans-103\"/>\n      <use x=\"188.232422\" xlink:href=\"#DejaVuSans-95\"/>\n      <use x=\"238.232422\" xlink:href=\"#DejaVuSans-115\"/>\n      <use x=\"290.332031\" xlink:href=\"#DejaVuSans-99\"/>\n      <use x=\"345.3125\" xlink:href=\"#DejaVuSans-111\"/>\n      <use x=\"406.494141\" xlink:href=\"#DejaVuSans-114\"/>\n      <use x=\"445.357422\" xlink:href=\"#DejaVuSans-101\"/>\n      <use x=\"506.880859\" xlink:href=\"#DejaVuSans-32\"/>\n      <use x=\"538.667969\" xlink:href=\"#DejaVuSans-40\"/>\n      <use x=\"577.681641\" xlink:href=\"#DejaVuSans-105\"/>\n      <use x=\"605.464844\" xlink:href=\"#DejaVuSans-109\"/>\n      <use x=\"702.876953\" xlink:href=\"#DejaVuSans-112\"/>\n      <use x=\"766.353516\" xlink:href=\"#DejaVuSans-117\"/>\n      <use x=\"829.732422\" xlink:href=\"#DejaVuSans-116\"/>\n      <use x=\"868.941406\" xlink:href=\"#DejaVuSans-101\"/>\n      <use x=\"930.464844\" xlink:href=\"#DejaVuSans-100\"/>\n      <use x=\"993.941406\" xlink:href=\"#DejaVuSans-41\"/>\n     </g>\n    </g>\n   </g>\n   <g id=\"matplotlib.axis_16\">\n    <g id=\"ytick_37\">\n     <g id=\"line2d_93\">\n      <g>\n       <use style=\"stroke:#000000;stroke-width:0.8;\" x=\"771.115625\" xlink:href=\"#mbbdcde4529\" y=\"673.119343\"/>\n      </g>\n     </g>\n     <g id=\"text_108\">\n      <!-- 0 -->\n      <g transform=\"translate(757.753125 676.918562)scale(0.1 -0.1)\">\n       <use xlink:href=\"#DejaVuSans-48\"/>\n      </g>\n     </g>\n    </g>\n    <g id=\"ytick_38\">\n     <g id=\"line2d_94\">\n      <g>\n       <use style=\"stroke:#000000;stroke-width:0.8;\" x=\"771.115625\" xlink:href=\"#mbbdcde4529\" y=\"632.443489\"/>\n      </g>\n     </g>\n     <g id=\"text_109\">\n      <!-- 1000 -->\n      <g transform=\"translate(738.665625 636.242708)scale(0.1 -0.1)\">\n       <use xlink:href=\"#DejaVuSans-49\"/>\n       <use x=\"63.623047\" xlink:href=\"#DejaVuSans-48\"/>\n       <use x=\"127.246094\" xlink:href=\"#DejaVuSans-48\"/>\n       <use x=\"190.869141\" xlink:href=\"#DejaVuSans-48\"/>\n      </g>\n     </g>\n    </g>\n    <g id=\"ytick_39\">\n     <g id=\"line2d_95\">\n      <g>\n       <use style=\"stroke:#000000;stroke-width:0.8;\" x=\"771.115625\" xlink:href=\"#mbbdcde4529\" y=\"591.767635\"/>\n      </g>\n     </g>\n     <g id=\"text_110\">\n      <!-- 2000 -->\n      <g transform=\"translate(738.665625 595.566854)scale(0.1 -0.1)\">\n       <use xlink:href=\"#DejaVuSans-50\"/>\n       <use x=\"63.623047\" xlink:href=\"#DejaVuSans-48\"/>\n       <use x=\"127.246094\" xlink:href=\"#DejaVuSans-48\"/>\n       <use x=\"190.869141\" xlink:href=\"#DejaVuSans-48\"/>\n      </g>\n     </g>\n    </g>\n    <g id=\"ytick_40\">\n     <g id=\"line2d_96\">\n      <g>\n       <use style=\"stroke:#000000;stroke-width:0.8;\" x=\"771.115625\" xlink:href=\"#mbbdcde4529\" y=\"551.091781\"/>\n      </g>\n     </g>\n     <g id=\"text_111\">\n      <!-- 3000 -->\n      <g transform=\"translate(738.665625 554.891)scale(0.1 -0.1)\">\n       <use xlink:href=\"#DejaVuSans-51\"/>\n       <use x=\"63.623047\" xlink:href=\"#DejaVuSans-48\"/>\n       <use x=\"127.246094\" xlink:href=\"#DejaVuSans-48\"/>\n       <use x=\"190.869141\" xlink:href=\"#DejaVuSans-48\"/>\n      </g>\n     </g>\n    </g>\n    <g id=\"text_112\">\n     <!-- Count -->\n     <g transform=\"translate(732.585938 620.828216)rotate(-90)scale(0.1 -0.1)\">\n      <use xlink:href=\"#DejaVuSans-67\"/>\n      <use x=\"69.824219\" xlink:href=\"#DejaVuSans-111\"/>\n      <use x=\"131.005859\" xlink:href=\"#DejaVuSans-117\"/>\n      <use x=\"194.384766\" xlink:href=\"#DejaVuSans-110\"/>\n      <use x=\"257.763672\" xlink:href=\"#DejaVuSans-116\"/>\n     </g>\n    </g>\n   </g>\n   <g id=\"patch_300\">\n    <path d=\"M 771.115625 673.119343 \nL 771.115625 538.840214 \n\" style=\"fill:none;stroke:#000000;stroke-linecap:square;stroke-linejoin:miter;stroke-width:0.8;\"/>\n   </g>\n   <g id=\"patch_301\">\n    <path d=\"M 1425.228125 673.119343 \nL 1425.228125 538.840214 \n\" style=\"fill:none;stroke:#000000;stroke-linecap:square;stroke-linejoin:miter;stroke-width:0.8;\"/>\n   </g>\n   <g id=\"patch_302\">\n    <path d=\"M 771.115625 673.119343 \nL 1425.228125 673.119343 \n\" style=\"fill:none;stroke:#000000;stroke-linecap:square;stroke-linejoin:miter;stroke-width:0.8;\"/>\n   </g>\n   <g id=\"patch_303\">\n    <path d=\"M 771.115625 538.840214 \nL 1425.228125 538.840214 \n\" style=\"fill:none;stroke:#000000;stroke-linecap:square;stroke-linejoin:miter;stroke-width:0.8;\"/>\n   </g>\n  </g>\n </g>\n <defs>\n  <clipPath id=\"p10a80f5f87\">\n   <rect height=\"134.27913\" width=\"654.1125\" x=\"53.328125\" y=\"7.884074\"/>\n  </clipPath>\n  <clipPath id=\"pd53dc989f4\">\n   <rect height=\"134.27913\" width=\"654.1125\" x=\"771.115625\" y=\"7.884074\"/>\n  </clipPath>\n  <clipPath id=\"p661118debd\">\n   <rect height=\"134.27913\" width=\"654.1125\" x=\"53.328125\" y=\"184.869454\"/>\n  </clipPath>\n  <clipPath id=\"p8a423b6143\">\n   <rect height=\"134.27913\" width=\"654.1125\" x=\"771.115625\" y=\"184.869454\"/>\n  </clipPath>\n  <clipPath id=\"p8d30bbb893\">\n   <rect height=\"134.27913\" width=\"654.1125\" x=\"53.328125\" y=\"361.854834\"/>\n  </clipPath>\n  <clipPath id=\"pb99840b4f2\">\n   <rect height=\"134.27913\" width=\"654.1125\" x=\"771.115625\" y=\"361.854834\"/>\n  </clipPath>\n  <clipPath id=\"p16e518c2c0\">\n   <rect height=\"134.27913\" width=\"654.1125\" x=\"53.328125\" y=\"538.840214\"/>\n  </clipPath>\n  <clipPath id=\"pe7feeead9a\">\n   <rect height=\"134.27913\" width=\"654.1125\" x=\"771.115625\" y=\"538.840214\"/>\n  </clipPath>\n </defs>\n</svg>\n",
      "image/png": "[encoded data removed]"
     },
     "metadata": {
      "needs_background": "light"
     }
    }
   ],
   "source": [
    "n = 4\n",
    "features = [\"comp_house\", \"height_16\", \"anx_band_13\", \"agg_score\"]\n",
    "\n",
    "# tickrange = np.arange(0, 15000, step=2000)\n",
    "fig = plt.figure(figsize=(20,10))\n",
    "plt.title(\"Distribution of Features - Oringnal vs. After Mean/Mode Imputation\")\n",
    "for i, feature in enumerate(features):\n",
    "    ax0 = plt.subplot(n, 2, 2*i+1)\n",
    "    ax0 = sns.histplot(toimpute_df[feature])\n",
    "    ax0 = plt.xlabel(\"{} (original)\".format(feature))\n",
    "    # ax0 = plt.xticks(toimpute_df[feature].dropna().sort_values().unique())\n",
    "    # ax0 = plt.yticks(tickrange)\n",
    "    ax1 = plt.subplot(n, 2, 2*i+2)\n",
    "    ax1 = sns.histplot(meanmode_df[feature])\n",
    "    ax1 = plt.xlabel(\"{} (imputed)\".format(feature))\n",
    "    # ax1 = plt.xticks(toimpute_df[feature].dropna().sort_values().unique())\n",
    "    # ax1 = plt.yticks(tickrange)  \n",
    "fig.tight_layout()"
   ]
  },
  {
   "source": [
    "Looking at these plots it is clear one value for each feature is now greatly over represented in the data. This changes the distribution of the data compared to the real data, so we shall move on to other methods which take this further into account."
   ],
   "cell_type": "markdown",
   "metadata": {}
  },
  {
   "source": [
    "### Hot-Deck Imputation\n",
    "\n",
    "Hot-deck imputation is an method in which missing values from a feature are filled in by a random value present in that feature."
   ],
   "cell_type": "markdown",
   "metadata": {}
  },
  {
   "cell_type": "code",
   "execution_count": 50,
   "metadata": {},
   "outputs": [],
   "source": [
    "hotdeck_df = toimpute_df.copy()\n",
    "\n",
    "for col in hotdeck_df:\n",
    "    unique = hotdeck_df[col].dropna().unique()\n",
    "    for i, value in enumerate(hotdeck_df[col]):\n",
    "        if pd.isna(value):\n",
    "            hotdeck_df.at[i+1, col] = np.random.choice(unique)\n",
    "\n",
    "hotdeck_path = os.path.join(base_dir, \"data/altered/imputed/maps_hotdeck_impute.csv\")\n",
    "hotdeck_df.to_csv(hotdeck_path)"
   ]
  },
  {
   "source": [
    "The issue with this imputation method is that imputations are completely random. This results in data which does not follow the real distribution and certainly doesn't retain any inter-feature relationships.\n",
    "\n",
    "A better method of one-hot imputation is called `last observarion carried forward (LOCF)`. In this method, values in the dataset are ordered by one of the features, missing values are then imputed as the previous non-missing value.\n",
    "\n",
    "For example, we could use the feature `dep_score` for this method. Note: there are a few missing values at the start of the dataframe which won't be filled by this method so we apply a backfill to fill them, i.e. the reverse of LOCF."
   ],
   "cell_type": "markdown",
   "metadata": {}
  },
  {
   "cell_type": "code",
   "execution_count": 69,
   "metadata": {},
   "outputs": [],
   "source": [
    "locf_df = toimpute_df.copy().sort_values(\"dep_score\")\n",
    "\n",
    "locf_df.ffill(inplace=True)\n",
    "locf_df.backfill(inplace=True)\n",
    "\n",
    "locf_path = os.path.join(base_dir, \"data/altered/imputed/maps_locf_impute.csv\")\n",
    "locf_df.to_csv(locf_path)"
   ]
  },
  {
   "source": [
    "The issue with this method is that it introduces a lot of bias, based on the the feature used to order the dataset. Another problem is that whichever feature we choose to order by, we will have a lot of missing data in that feature. This is a problem as all of the missing values will be grouped together, treating them as their own value rather than imputing them intelligentely.\n",
    "\n",
    "This method is more suited for time-series data, where you can sort by timestamp which would introduce less bias than naively assuming all features can be sorted by `dep_score` as our example has done here."
   ],
   "cell_type": "markdown",
   "metadata": {}
  },
  {
   "source": [
    "## Multivariate and Model-Based Imputation Methods\n",
    "\n",
    "In a dataset you will find features correlate with one-another. We can use this to infer missing values from the non-missing features of each entry.\n",
    "\n",
    "Model-based approaches aim to model each feature as a function of other features. This allows predictions of the missing value to be made which can be far more accurate than simple univariate imputation methods such as mean and mode."
   ],
   "cell_type": "markdown",
   "metadata": {}
  },
  {
   "source": [
    "### K-Nearest Neighbour Imputation\n",
    "\n",
    "K-nearest neighbours (KNN) is an unsupervised machine learning technique which attempts to classify values based on their distance to other values in the dataset. It takes into account all features and is capable of good results with low computational cost. KNN can be used for imputation by imputing the missing value as the mean of the neighbouring cluster.\n",
    "\n",
    "The distance measure used in the KNN clustering is the most important part of KNN imputation. For numerical features it is valid to used the Euclidean distance; it works well in high dimensional space and is well defined for numerical values. \n",
    "\n",
    "Categorical features on the other hand are more difficult to handle. You cannot say the distance between two categories is similar to the Euclidean distance between two numerical data points. Even when categorical features are ordinal, the distance between each category is not the same. \n",
    "\n",
    "Take for example the 3 categories `never`, `sometimes` and `all the time`, which could be encoded as `0, 1, 2`. You may then say the distance between `never` and `all the time` is `2-0 = 2`, but some may argue the real distance between `never` and `all the time` is infinite. \n",
    "\n",
    "This becomes an issue when trying to calculate distance between datapoints in KNN imputation. Hamming distance is a common metric used for categorical distance, but it relies on categories being ordinal (and encoded orderly) and ignores any real distance which could be inferred such as the `never` and `all the time` example mentioned above.\n",
    "\n",
    "Another issue with this is numerical and categorical features cannot be used with one-another during imputation due to their differing distance metric requirements. This means imputation is calculated for categorical features without information from numerical features and vice versa. This seems a particular issue for the numerical features in this dataset due to the high proportion of categorical features to numerical features meaning a lot of information is ignored."
   ],
   "cell_type": "markdown",
   "metadata": {}
  },
  {
   "cell_type": "code",
   "execution_count": 71,
   "metadata": {},
   "outputs": [],
   "source": [
    "knn_df = toimpute_df.copy()\n",
    "\n",
    "# note: must define nan-supported hamming distance for cat variables\n",
    "knn_cat_imputer = KNNImputer(n_neighbors=5, metric=\"hamming\")\n",
    "knn_num_imputer = KNNImputer(n_neighbors=5, metric=\"euclidean\")\n",
    "\n",
    "# knn_df[cat_features] = knn_cat_imputer.fit_transform(knn_df[cat_features])\n",
    "# knn_df[num_features] = knn_num_imputer.fit_transform(knn_df[num_features])"
   ]
  },
  {
   "source": [
    "As mentioned earlier distance is not a well defined metric for categorical variables. Hamming distance is a more sensible choice than Euclidean, but it still assumes some distance between the categories. Lukily all our categorical features are binary or ordinal (not nominal) so this works to some extent, but is still not an ideal encoding. Future work should explore more advanced distance metrics for categorical features.\n",
    "\n",
    "Another issue with the KNN imputation method is that it does not perform well on high-dimensional data. This is because in high-dimensional space each data point can seem equally far away from eachother and so KNN imputation works better with a lower number of features.\n",
    "\n",
    "There is also the problem of specifying the number of neighbours to take into consideration when calculating imputation values. It is thought the higher the number of missing values in the dataset, the larger number of neighbours you should consider. Given the high proportion of missing values from a number of the features in this dataset we should probably experiment with using a larger number of neighbours."
   ],
   "cell_type": "markdown",
   "metadata": {}
  },
  {
   "source": [
    "### Imputation by Linear and Logistic Regression\n",
    "\n",
    "Model-based approaches model each feature as a function of other features. Using linear regression we can model the numerical features as functions of one-another and make predictions of the missing values using these functions. Similarly we can train a logistic regression classifier to make predictions of the missing values using the other features.\n",
    "\n",
    "In order to make these predictions we will use the rows with values for a feature as the training set and rows with missing values as the test set to make predictions from. So we have all the values filled for all other features, we shall use the mean/mode imputation dataset from earlier to train our models and make predictions from. The predictions will then replace the mean/mode impuations."
   ],
   "cell_type": "markdown",
   "metadata": {}
  },
  {
   "cell_type": "code",
   "execution_count": 398,
   "metadata": {},
   "outputs": [
    {
     "output_type": "stream",
     "name": "stderr",
     "text": [
      "100%|██████████| 82/82 [12:51<00:00,  9.41s/it]\n"
     ]
    }
   ],
   "source": [
    "# use meanmode dataset for training\n",
    "meanmode_df = pd.read_csv(meanmode_path).set_index(\"X\")\n",
    "reg_df = toimpute_df.copy()\n",
    "# iterate each feature with tqdm\n",
    "for i, feature in enumerate(tqdm(reg_df.columns)):\n",
    "    # break if no nans in feature\n",
    "    if reg_df[feature].isna().sum() == 0:\n",
    "        continue\n",
    "    # seperate feature column\n",
    "    X = meanmode_df.drop(feature, axis=1, inplace=False).to_numpy()\n",
    "    y = reg_df[feature].copy().to_numpy()\n",
    "    # scale X\n",
    "    scaler = StandardScaler()\n",
    "    X = scaler.fit_transform(X)\n",
    "    # get position of nans and non-nans\n",
    "    nans = [n for [n] in np.argwhere(np.isnan(y.tolist()))]\n",
    "    notnans = [n for [n] in np.argwhere(~np.isnan(y.tolist()))]\n",
    "    # create train set from non-nan values\n",
    "    X_train = np.take(meanmode_df.to_numpy(), notnans, axis=0)\n",
    "    X_pred = np.take(meanmode_df.to_numpy(), nans, axis=0)\n",
    "    y_train = np.take(y, notnans)\n",
    "    # linear regression for numerical and logistic for categorical\n",
    "    if feature in num_features:\n",
    "        reg = LinearRegression(n_jobs=-1)\n",
    "    elif feature in bin_features:\n",
    "        reg = LogisticRegression(solver=\"liblinear\", multi_class=\"ovr\", dual=False, max_iter=2500)\n",
    "    else: # ordinal category\n",
    "        reg = LogisticRegression(solver=\"lbfgs\", multi_class=\"multinomial\", dual=False, max_iter=2500, n_jobs=-1)\n",
    "    # train regressor and predict nan values\n",
    "    reg.fit(X_train, y_train)\n",
    "    preds = reg.predict(X_pred)\n",
    "    # fill dataframe with predictions\n",
    "    y[nans] = preds\n",
    "    reg_df[feature] = y"
   ]
  },
  {
   "source": [
    "Now we can save the new dataframe."
   ],
   "cell_type": "markdown",
   "metadata": {}
  },
  {
   "cell_type": "code",
   "execution_count": 405,
   "metadata": {},
   "outputs": [],
   "source": [
    "reg_path = os.path.join(base_dir, \"data/altered/imputed/maps_linlog_reg_impute.csv\")\n",
    "reg_df.to_csv(reg_path)"
   ]
  },
  {
   "source": [
    "There are a number of issues with this method of imputation. Firstly, these models imply a linear relationship between features in order to make their predictions, which is unlikely given some of the low correlations we observed during our initial correlation analysis. \n",
    "\n",
    "This method also has the issue of making quite ridgid predictions, it will always produce the same result given an input which will reduce the variation in the data. Imagine a 2D scatter plot which follows a rough linear correlation; you could plot a line of best fit and data points would be close to this line but not fit it exactly. This method will only produce imputations that fall exactly on that line.\n",
    "\n",
    "Possibly the most obvious issue is the fact we used the mean/mode imputed dataset for both training of our models and predictions. As discussed earlier this dataset is massively skewed and has far less correlation than the original data, which will obviously influence what the models can learn. We will get to some methods of solving this issue later."
   ],
   "cell_type": "markdown",
   "metadata": {}
  },
  {
   "source": [
    "### Stochastic Reggression Imputation\n",
    "\n",
    "Stochastic regression is a method of imputation which follows the same steps as the above method but with an added feature aiming to solve the issue of ridgid predictions we saw with standard regression.\n",
    "\n",
    "As the same suggests this method uses regression, but adds some randomness to the data. When a prediction is made by a model there is an added randomness to the output. Deciding on how this randomness is added will affect the resulting imputations, but this implementation follows these rules:\n",
    "\n",
    "- Ordinal categorical variables have a 10% chance to differ by 1 category than the prediction.\n",
    "- Binary categorical variables have a 10% chance to output the opposite of the prediction.\n",
    "- Numerical variables output a value from a normal distribution centred around the prediction where values should fall within +- 10% of the prediction."
   ],
   "cell_type": "markdown",
   "metadata": {}
  },
  {
   "cell_type": "code",
   "execution_count": 81,
   "metadata": {},
   "outputs": [
    {
     "output_type": "stream",
     "name": "stderr",
     "text": [
      "100%|██████████| 82/82 [13:46<00:00, 10.08s/it]\n"
     ]
    }
   ],
   "source": [
    "def add_stochastic(x, df_f, ftype):\n",
    "    \"\"\"\n",
    "    - ~10% chance for input to move up or down one for categorical features\n",
    "    - 10% jitter to numerical features.\n",
    "    \"\"\"\n",
    "    unique = df_f.unique()\n",
    "    if ftype == \"ord\":\n",
    "        s = np.random.choice([x-1, x, x+1], p=[0.05, 0.9, 0.05])\n",
    "        if s in unique:\n",
    "            return s\n",
    "    if ftype == \"bin\":\n",
    "        s = np.random.choice([x, x+1], p=[0.9, 0.1]) % 2\n",
    "        return s\n",
    "    else:\n",
    "        s = np.random.normal(x, 3)\n",
    "        return s\n",
    "    return x\n",
    "\n",
    "# use meanmode dataset for training\n",
    "meanmode_df = pd.read_csv(meanmode_path).set_index(\"X\")\n",
    "sto_reg_df = toimpute_df.copy()\n",
    "# iterate each feature with tqdm\n",
    "for i, feature in enumerate(tqdm(sto_reg_df.columns)):\n",
    "    # break if no nans in feature\n",
    "    if sto_reg_df[feature].isna().sum() == 0:\n",
    "        continue\n",
    "    # seperate feature column\n",
    "    X = meanmode_df.drop(feature, axis=1, inplace=False).to_numpy()\n",
    "    y = sto_reg_df[feature].copy().to_numpy()\n",
    "    # scale X\n",
    "    scaler = StandardScaler()\n",
    "    X = scaler.fit_transform(X)\n",
    "    # get position of nans and non-nans\n",
    "    nans = [n for [n] in np.argwhere(np.isnan(y.tolist()))]\n",
    "    notnans = [n for [n] in np.argwhere(~np.isnan(y.tolist()))]\n",
    "    # create train set from non-nan values\n",
    "    X_train = np.take(meanmode_df.to_numpy(), notnans, axis=0)\n",
    "    X_pred = np.take(meanmode_df.to_numpy(), nans, axis=0)\n",
    "    y_train = np.take(y, notnans)\n",
    "    # linear regression for numerical and logistic for categorical\n",
    "    if feature in num_features:\n",
    "        reg = LinearRegression(n_jobs=-1)\n",
    "        ftype = \"num\"\n",
    "    elif feature in bin_features:\n",
    "        reg = LogisticRegression(solver=\"liblinear\", multi_class=\"ovr\", dual=False, max_iter=2500)\n",
    "        ftype = \"bin\"\n",
    "    else: # ordinal category\n",
    "        reg = LogisticRegression(solver=\"lbfgs\", multi_class=\"multinomial\", dual=False, max_iter=2500, n_jobs=-1)\n",
    "        ftype = \"ord\"\n",
    "    # train regressor and predict nan values\n",
    "    reg.fit(X_train, y_train)\n",
    "    preds = reg.predict(X_pred)\n",
    "    # add randomness\n",
    "    stochastic_preds = [add_stochastic(pred, meanmode_df[feature], ftype) for pred in preds]\n",
    "    # fill dataframe with predictions\n",
    "    y[nans] = stochastic_preds\n",
    "    sto_reg_df[feature] = y"
   ]
  },
  {
   "source": [
    "Now we can save the dataframe."
   ],
   "cell_type": "markdown",
   "metadata": {}
  },
  {
   "cell_type": "code",
   "execution_count": 82,
   "metadata": {},
   "outputs": [],
   "source": [
    "sto_reg_path = os.path.join(base_dir, \"data/altered/imputed/maps_stochastic_linlog_reg_impute.csv\")\n",
    "sto_reg_df.to_csv(sto_reg_path)"
   ]
  },
  {
   "source": [
    "Although still suffering from issues of assuming linearity between features and using mean/mode imputation as input, the imputed values from this method should produce more natural results with a variance closer to the real data due to the added randomness.\n",
    "\n",
    "One major issue with this method is how the added randomness affects the resulting imputations. We have added the same amount of randomness to each of the feature types, but a better method may look at how each of the current values vary and adding some level of randomness to each feature which we have inferred from the real data."
   ],
   "cell_type": "markdown",
   "metadata": {}
  },
  {
   "source": [
    "### Random Forest Imputation\n",
    "\n",
    "A random forest is a bagged ensemble of decision trees. It makes use of ensemble learning to produce highly accurate models using decision trees to learn from high-dimensional non-linear data. This makes it a perfect candidate for imputation of our data. \n",
    "\n",
    "We can use it in much the same way as our previous method, replacing linear regression with a random forest regressor and logistic regression with a random forest classifier."
   ],
   "cell_type": "markdown",
   "metadata": {}
  },
  {
   "source": [
    "# use meanmode dataset for training\n",
    "meanmode_df = pd.read_csv(meanmode_path).set_index(\"X\")\n",
    "rf_df = toimpute_df.copy()\n",
    "# iterate each feature with tqdm\n",
    "for i, feature in enumerate(tqdm(rf_df.columns)):\n",
    "    # break if no nans in feature\n",
    "    if rf_df[feature].isna().sum() == 0:\n",
    "        continue\n",
    "    # seperate feature column\n",
    "    X = meanmode_df.drop(feature, axis=1, inplace=False).to_numpy()\n",
    "    y = rf_df[feature].copy().to_numpy()\n",
    "    # get position of nans and non-nans\n",
    "    nans = [n for [n] in np.argwhere(np.isnan(y.tolist()))]\n",
    "    notnans = [n for [n] in np.argwhere(~np.isnan(y.tolist()))]\n",
    "    # create train set from non-nan values\n",
    "    X_train = np.take(meanmode_df.to_numpy(), notnans, axis=0)\n",
    "    X_pred = np.take(meanmode_df.to_numpy(), nans, axis=0)\n",
    "    y_train = np.take(y, notnans)\n",
    "    # regression for numerical and classification for categorical\n",
    "    if feature in num_features:\n",
    "        rf = RandomForestRegressor()\n",
    "    elif feature in cat_features:\n",
    "        rf = RandomForestClassifier()\n",
    "    # train regressor and predict nan values\n",
    "    rf.fit(X_train, y_train)\n",
    "    preds = rf.predict(X_pred)\n",
    "    # fill dataframe with predictions\n",
    "    y[nans] = preds\n",
    "    rf_df[feature] = y"
   ],
   "cell_type": "code",
   "metadata": {},
   "execution_count": 77,
   "outputs": [
    {
     "output_type": "stream",
     "name": "stderr",
     "text": [
      "100%|██████████| 82/82 [01:11<00:00,  1.15it/s]\n"
     ]
    }
   ]
  },
  {
   "source": [
    "Save imputed dataset."
   ],
   "cell_type": "markdown",
   "metadata": {}
  },
  {
   "cell_type": "code",
   "execution_count": 78,
   "metadata": {},
   "outputs": [],
   "source": [
    "rf_path = os.path.join(base_dir, \"data/altered/imputed/maps_randomforest_impute.csv\")\n",
    "rf_df.to_csv(rf_path)"
   ]
  },
  {
   "source": [
    "A random forest should be able to learn a lot more from the data than linear and logistic regression as it does not assume the relationships between features are linear. It does also not suffer from the same 'rigid' prediction issue and has a level of randomness to its training method which results in different solutions each time."
   ],
   "cell_type": "markdown",
   "metadata": {}
  },
  {
   "source": [
    "### Issues with Our Current Model-Based Approaches\n",
    "\n",
    "Although the above mluti-variate imputation methods are able to encode complex information from all features to produce intelligent imputation predictions, they are ultimately flawed by the fact we must initially impute all missing values using the simple univariate mean/mode imputation method to make our predictions from.\n",
    "\n",
    "Doing so would not be as much of an issue had it not been for the large number of missing values from our data. Because these imputation methods start of at a point where ~60% of the values are now simply the mean or mode of their feature; whichever model-based approach we use is not going to be able to learn the original underlying distribution due to the initial imputation method skewing the distribution as described in the mean/mode imputation section above. Instead it is likely to learn that ~60% of the values can be described by one category or single numerical value.\n",
    "\n",
    "This means, although better than simple mean/mode imputation, most of the variance in the original data is still lost. A better imputation method would be able to handle missing values in a way that didn't rely on simple imputation of the mean or mode."
   ],
   "cell_type": "markdown",
   "metadata": {}
  },
  {
   "source": [
    "### Gradient Boosting Imputation\n",
    "\n",
    "Similarly to random forest, gradient boosting makes use of an ensemble of decision trees but rather than bagging them together it uses gradient boosting.\n",
    "\n",
    "`XGBoost` is an implementation of gradient boosting with a number of performance improvements. It is often one of the top performing models in machine learning competitions and has the unqiue ability of self-handling missing values, being able to learn from and predict values using datasets with missing data.\n",
    "\n",
    "We can use this to improve upon out random forest imputation method. Where previously we had to start imputation using mean/mode imputation, using `XGBoost` we do not. We can train a gradient boosting model to make predictions of the missing values without ever introducing assumptions of initial values. This should reduce the loss of variance we see from imputing such as large number of values as the mean or mode."
   ],
   "cell_type": "markdown",
   "metadata": {}
  },
  {
   "cell_type": "code",
   "execution_count": 88,
   "metadata": {},
   "outputs": [
    {
     "output_type": "stream",
     "name": "stderr",
     "text": [
      "100%|██████████| 82/82 [00:33<00:00,  2.43it/s]\n"
     ]
    }
   ],
   "source": [
    "# use meanmode dataset for training\n",
    "train_df = toimpute_df.copy()\n",
    "xgb_df = toimpute_df.copy()\n",
    "# iterate each feature with tqdm\n",
    "for i, feature in enumerate(tqdm(xgb_df.columns)):\n",
    "    # break if no nans in feature\n",
    "    if xgb_df[feature].isna().sum() == 0:\n",
    "        continue\n",
    "    # seperate feature column\n",
    "    X = train_df.drop(feature, axis=1, inplace=False).to_numpy()\n",
    "    y = xgb_df[feature].copy().to_numpy()\n",
    "    # get position of nans and non-nans\n",
    "    nans = [n for [n] in np.argwhere(np.isnan(y.tolist()))]\n",
    "    notnans = [n for [n] in np.argwhere(~np.isnan(y.tolist()))]\n",
    "    # create train set from non-nan values\n",
    "    X_train = np.take(train_df.to_numpy(), notnans, axis=0)\n",
    "    X_pred = np.take(train_df.to_numpy(), nans, axis=0)\n",
    "    y_train = np.take(y, notnans)\n",
    "    # regression for numerical and classification for categorical\n",
    "    if feature in num_features:\n",
    "        xgb = XGBRegressor(verbosity=0)\n",
    "    elif feature in cat_features:\n",
    "        xgb = XGBClassifier(verbosity=0)\n",
    "    # train regressor and predict nan values\n",
    "    xgb.fit(X_train, y_train)\n",
    "    preds = xgb.predict(X_pred)\n",
    "    # fill dataframe with predictions\n",
    "    y[nans] = preds\n",
    "    xgb_df[feature] = y"
   ]
  },
  {
   "source": [
    "Save imputed dataset."
   ],
   "cell_type": "markdown",
   "metadata": {}
  },
  {
   "cell_type": "code",
   "execution_count": 90,
   "metadata": {},
   "outputs": [],
   "source": [
    "xgb_path = os.path.join(base_dir, \"data/altered/imputed/maps_xgboost_impute.csv\")\n",
    "xgb_df.to_csv(xgb_path)"
   ]
  },
  {
   "source": [
    "While this method seems like magic, it is a little unclear how it is imputing the missing values and with so many missing we cannot be sure the predictions make sense."
   ],
   "cell_type": "markdown",
   "metadata": {}
  },
  {
   "source": [
    "## Iterative Imputation\n",
    "\n",
    "Rather than rely on `XGBoost` for its ability to handle missing values, we can look back to our previous method of starting with mean/mode imputation and make some alterations. \n",
    "\n",
    "We found that mean / mode imputation over-represented single values, decreasing variance and destroying the underlying distribution of the data. Using this as a starting point for model-based approaches meant that this reduced variance resulted in more inaccurate missing value prediction, but they were better than the simple mean/mode method.\n",
    "\n",
    "If we iterate this step and take the outputted missing values from the model-based approach as the input to another model it should can produce new values based on this better input. This process can be repeated until a point of convergence, i.e. when the model stops making alterations to the inputed values and has produced a best predictor."
   ],
   "cell_type": "markdown",
   "metadata": {}
  },
  {
   "source": [
    "### Iterative Random Forest Imputation\n",
    "\n",
    "As we have seen the properties of decision trees and ensemble learning mean random forests can work well as imputers for high-dimensional non-linear data such as ours. We can use the iterative method just described to improve upon our previous random forest imputation method, hopefully retaining more variance in the data by iteratively applying the imputed results back into the imputer until we reach a point on convergence."
   ],
   "cell_type": "markdown",
   "metadata": {}
  },
  {
   "cell_type": "code",
   "execution_count": 136,
   "metadata": {},
   "outputs": [
    {
     "output_type": "stream",
     "name": "stdout",
     "text": [
      "Imputing iteration: 1/10\n",
      "Imputing iteration: 2/10\n",
      "Converged after 2 rounds.\n",
      "\n",
      "Finished!\n"
     ]
    }
   ],
   "source": [
    "# note: assume convergence after 10 rounds.\n",
    "rounds = 10\n",
    "# use meanmode dataset for initial training\n",
    "meanmode_df = pd.read_csv(meanmode_path).set_index(\"X\")\n",
    "rf_iterative_df = toimpute_df.copy()\n",
    "for r in range(rounds):\n",
    "    print(f\"Imputing iteration: {r+1}/{rounds}\")\n",
    "    # get impuation input\n",
    "    if r == 0:\n",
    "        train_df = meanmode_df.copy()\n",
    "    else:\n",
    "        train_df = rf_iterative_df.copy()\n",
    "    # iterate each feature with tqdm\n",
    "    for i, feature in enumerate(rf_iterative_df.columns):\n",
    "        # break if no nans in feature\n",
    "        if rf_iterative_df[feature].isna().sum() == 0:\n",
    "            continue\n",
    "        # seperate feature column\n",
    "        X = train_df.drop(feature, axis=1, inplace=False).to_numpy()\n",
    "        y = rf_iterative_df[feature].copy().to_numpy()\n",
    "        # get position of nans and non-nans\n",
    "        nans = [n for [n] in np.argwhere(np.isnan(y.tolist()))]\n",
    "        notnans = [n for [n] in np.argwhere(~np.isnan(y.tolist()))]\n",
    "        # create train set from non-nan values\n",
    "        X_train = np.take(train_df.to_numpy(), notnans, axis=0)\n",
    "        X_pred = np.take(train_df.to_numpy(), nans, axis=0)\n",
    "        y_train = np.take(y, notnans)\n",
    "        # regression for numerical and classification for categorical\n",
    "        if feature in num_features:\n",
    "            rf_iterative = RandomForestRegressor()\n",
    "        elif feature in cat_features:\n",
    "            rf_iterative = RandomForestClassifier()\n",
    "        # train regressor and predict nan values\n",
    "        rf_iterative.fit(X_train, y_train)\n",
    "        preds = rf_iterative.predict(X_pred)\n",
    "        # fill dataframe with predictions\n",
    "        y[nans] = preds\n",
    "        rf_iterative_df[feature] = y\n",
    "    # check if converges\n",
    "    if rf_iterative_df.equals(train_df):\n",
    "        print(f\"Converged after {r+1} rounds.\")\n",
    "        break\n",
    "print(\"\\nFinished!\")"
   ]
  },
  {
   "source": [
    "Save imputed dataset."
   ],
   "cell_type": "markdown",
   "metadata": {}
  },
  {
   "cell_type": "code",
   "execution_count": 139,
   "metadata": {},
   "outputs": [],
   "source": [
    "rf_iterative_path = os.path.join(base_dir, \"data/altered/imputed/maps_randomforest_iterative_impute.csv\")\n",
    "rf_iterative_df.to_csv(rf_iterative_path)"
   ]
  },
  {
   "source": [
    "This method should give us far better results as each iteration receives an input with more variance, finally converging on a solution where the model cannot learn anymore about the missing values."
   ],
   "cell_type": "markdown",
   "metadata": {}
  },
  {
   "source": [
    "### Iterative XGBoost Imputation\n",
    "\n",
    "While the above method aimed to solve our previous issue of having too many similar values as a result of starting with mean / mode imputation values via iterating our method, we still start with a dataset which has less variation and a distribution far different to the real data. Although results are better with this method would be naive to assume the resulting imputations somehow now fit the true distribution. \n",
    "\n",
    "We can make use of this iterative method, but never have to impute the mean or mode by simply using this method with the grandient boosting models from before."
   ],
   "cell_type": "markdown",
   "metadata": {}
  },
  {
   "cell_type": "code",
   "execution_count": 137,
   "metadata": {},
   "outputs": [
    {
     "output_type": "stream",
     "name": "stdout",
     "text": [
      "Imputing iteration: 1/10\n",
      "/home/kai/anaconda3/envs/ds/lib/python3.8/site-packages/xgboost/sklearn.py:888: UserWarning: The use of label encoder in XGBClassifier is deprecated and will be removed in a future release. To remove this warning, do the following: 1) Pass option use_label_encoder=False when constructing XGBClassifier object; and 2) Encode your labels (y) as integers starting with 0, i.e. 0, 1, 2, ..., [num_class - 1].\n",
      "  warnings.warn(label_encoder_deprecation_msg, UserWarning)\n",
      "Imputing iteration: 2/10\n",
      "Converged after 2 rounds.\n",
      "\n",
      "Finished!\n"
     ]
    }
   ],
   "source": [
    "# note: assume convergence after 10 rounds.\n",
    "rounds = 10\n",
    "# use meanmode dataset for initial training\n",
    "xgb_iterative_df = toimpute_df.copy()\n",
    "train_df = toimpute_df.copy()\n",
    "for r in range(rounds):\n",
    "    print(f\"Imputing iteration: {r+1}/{rounds}\")\n",
    "    # get impuation input\n",
    "    if r > 0:\n",
    "        train_df = xgb_iterative_df.copy()\n",
    "    # iterate each feature with tqdm\n",
    "    for i, feature in enumerate(xgb_iterative_df.columns):\n",
    "        # break if no nans in feature\n",
    "        if xgb_iterative_df[feature].isna().sum() == 0:\n",
    "            continue\n",
    "        # seperate feature column\n",
    "        X = train_df.drop(feature, axis=1, inplace=False).to_numpy()\n",
    "        y = xgb_iterative_df[feature].copy().to_numpy()\n",
    "        # get position of nans and non-nans\n",
    "        nans = [n for [n] in np.argwhere(np.isnan(y.tolist()))]\n",
    "        notnans = [n for [n] in np.argwhere(~np.isnan(y.tolist()))]\n",
    "        # create train set from non-nan values\n",
    "        X_train = np.take(train_df.to_numpy(), notnans, axis=0)\n",
    "        X_pred = np.take(train_df.to_numpy(), nans, axis=0)\n",
    "        y_train = np.take(y, notnans)\n",
    "        # regression for numerical and classification for categorical\n",
    "        if feature in num_features:\n",
    "            xgb_iterative = XGBRegressor(verbosity=0)\n",
    "        elif feature in cat_features:\n",
    "            xgb_iterative = XGBClassifier(verbosity=0)\n",
    "        # train regressor and predict nan values\n",
    "        xgb_iterative.fit(X_train, y_train)\n",
    "        preds = xgb_iterative.predict(X_pred)\n",
    "        # fill dataframe with predictions\n",
    "        y[nans] = preds\n",
    "        xgb_iterative_df[feature] = y\n",
    "    # check if converges\n",
    "    if xgb_iterative_df.equals(train_df):\n",
    "        print(f\"Converged after {r+1} rounds.\")\n",
    "        break\n",
    "print(\"\\nFinished!\")"
   ]
  },
  {
   "source": [
    "Save imputed dataset."
   ],
   "cell_type": "markdown",
   "metadata": {}
  },
  {
   "cell_type": "code",
   "execution_count": 138,
   "metadata": {},
   "outputs": [],
   "source": [
    "xgb_iterative_path = os.path.join(base_dir, \"data/altered/imputed/maps_xgboost_iterative_impute.csv\")\n",
    "xgb_iterative_df.to_csv(xgb_iterative_path)"
   ]
  },
  {
   "source": [
    "This imputation method should give strong results as variance and distribution was maintained due to never imputing the mean or mode into features, as well as iteratively converging on a solution using a large ensemble of decision trees able to learn complex non-linear relationships between the features."
   ],
   "cell_type": "markdown",
   "metadata": {}
  },
  {
   "source": [
    "## Multiple Imputation Methods\n",
    "\n",
    "So far the imputation methods we have used, however complex, have simply aimed to impute a best guess for each missing value in the dataset. This is inevitability flawed as the data is truly missing and imputation is simply a guess - imputations cannot truly represent real data and so any analysis we make will be influenced by the choices our impuation methods make.\n",
    "\n",
    "A recurring theme with data that has imputed missing values is that it has less variance that that of the real data. This problem in increased the more missing value which must be imputed - a problem we face with our data.\n",
    "\n",
    "Rather than make a single prediction of the best imputation for each missing value, multiple predictions can be made using a method which varies slightly each time. A good example would be stochastic regression, which by definition has an added component of randomness. Running an imputation method multiple times, aka multiple imputation, gives us many possible datasets of which the missing values have been imputed differently each time.\n",
    "\n",
    "Rather than having a single value we would have a distribution of possible imputed values which is a better way of looking at missing values than trying to guess what we cannot know. Producing this distribution of possible values helps retain the variance in the data and can allow us to make far more informed conclusions about the true distribution of the data, had there been no missing data at all."
   ],
   "cell_type": "markdown",
   "metadata": {}
  },
  {
   "source": [
    "### Multiple Imputation with Stochastic Regression\n",
    "\n",
    "As mentioned above stochastic regression imputation is a good candidate for multiple imputation due to the added randomness producing a different set of imputations each time it is ran. Running the imputer multiple times will result in a distibution of imputed values which should represent the real data more accurately than a single guess."
   ],
   "cell_type": "markdown",
   "metadata": {}
  },
  {
   "cell_type": "code",
   "execution_count": null,
   "metadata": {},
   "outputs": [],
   "source": [
    "# current implementation will take forever to run\n",
    "# try sklearn / fancyimpute methods"
   ]
  },
  {
   "source": [
    "Ultimately this method still suffers from the same issues as single stochastic regression. It assumes relationships are linear between features and the method of added randomness will affect the resulting imputations."
   ],
   "cell_type": "markdown",
   "metadata": {}
  },
  {
   "source": [
    "### Multiple Imputation with AutoImpute"
   ],
   "cell_type": "markdown",
   "metadata": {}
  },
  {
   "cell_type": "code",
   "execution_count": null,
   "metadata": {},
   "outputs": [],
   "source": []
  },
  {
   "source": [],
   "cell_type": "markdown",
   "metadata": {}
  },
  {
   "source": [
    "### Multiple Imputation with Chained Equations\n",
    "\n",
    "MICE"
   ],
   "cell_type": "markdown",
   "metadata": {}
  },
  {
   "cell_type": "code",
   "execution_count": null,
   "metadata": {},
   "outputs": [],
   "source": []
  },
  {
   "source": [],
   "cell_type": "markdown",
   "metadata": {}
  },
  {
   "source": [
    "## Pattern Submodel Imputation"
   ],
   "cell_type": "markdown",
   "metadata": {}
  },
  {
   "source": [
    "---\n",
    "\n",
    "`TODO`\n",
    "\n",
    "simple methods\n",
    "\n",
    "\t- drop\n",
    "\t- nan category\n",
    "\t- logical substitutions\n",
    "\n",
    "univariate methods\n",
    "\n",
    "\t- mean / mode (decreases variance)\n",
    "\t- hot / cold deck (random choice from feature?)\n",
    "\n",
    "multivariate methods\n",
    "\n",
    "\t- knn (needs \n",
    "\t- regression (implies linarity between features)\n",
    "\t- stochastic regression (same as above with added randomness - randomness is not feature aware)\n",
    "\t- add note about bayesian methods (enocode prior knowledge - numerical features are normal)\n",
    "\t- random forest (no linearity - encodes categories well)\n",
    "\t\n",
    "\t- issues\n",
    "\t\t- must impute mean/mode first\n",
    "\t\t- lots of nans means variance still reduced a lot as 60%+ values are initially mean/mode\n",
    "\t\t\n",
    "\t- xgboost\n",
    "\t\t- handles nans itself\n",
    "\t\t- retains more variance\n",
    "\n",
    "iterative methods\n",
    "\n",
    "\t- helps solve variance issue \n",
    "\t- uses previous iterations imputation as starting point instead of mode/mean\n",
    "\t- should converge to a better solution\n",
    "\n",
    "\t- sklearn iterative imputer (reg, randomforest, xgboost)\n",
    "\t- iterative randomforest missforest (missingpy, may not need to encode categories)\n",
    "\n",
    "multiple imputation methods\n",
    "\n",
    "\t- retains variance by imputing multiple times\n",
    "\t- creates multiple datasets where variance across them can be analysed\n",
    "\n",
    "\t- stochastic regression can be used due to randomness creating new datasets each time (fancyimpute/sklearn)\n",
    "\t- multiple impute - predictive mean matching? (autoimpute) + vis analysis\n",
    "\t- mice (autoimpute) + vis analysis\n",
    "\t\n",
    "pattern submodel\n",
    "\n",
    "\t- splits data into missingness patterns and fits models to each subset\n",
    "\t- find a package\n",
    "\t"
   ],
   "cell_type": "markdown",
   "metadata": {}
  }
 ]
}