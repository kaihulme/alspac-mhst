{
 "cells": [
  {
   "cell_type": "code",
   "execution_count": null,
   "id": "original-voltage",
   "metadata": {},
   "outputs": [],
   "source": [
    "import os\n",
    "import numpy as np\n",
    "import pandas as pd\n",
    "import seaborn as sns\n",
    "import matplotlib.pyplot as plt\n",
    "from collections import Counter\n",
    "import pandas_profiling\n",
    "\n",
    "base_dir = os.path.join(os.getcwd(), os.pardir)"
   ]
  },
  {
   "cell_type": "code",
   "execution_count": null,
   "metadata": {},
   "outputs": [],
   "source": [
    "csv_path = os.path.join(\"/Users/elvischen/Documents/ADSMH/data/altered/maps_feature_mapping.csv\")\n",
    "\n",
    "df = pd.read_csv(csv_path, index_col=\"X\")\n",
    "df = df.drop(df.columns[0], axis=1)\n",
    "df.head()"
   ]
  },
  {
   "source": [
    "## Simple Imputation with mean filling"
   ],
   "cell_type": "markdown",
   "metadata": {}
  },
  {
   "source": [
    "# from sklearn.impute import SimpleImputer\n",
    "\n",
    "# imputer = SimpleImputer(missing_values=np.nan, strategy='mean')\n",
    "# imputer = imputer.fit(df)\n",
    "\n",
    "# imputer_data = imputer.transform(df.values)"
   ],
   "cell_type": "code",
   "metadata": {},
   "execution_count": null,
   "outputs": []
  },
  {
   "source": [
    "## KNN Imputation with Neighbour = 2"
   ],
   "cell_type": "markdown",
   "metadata": {}
  },
  {
   "cell_type": "code",
   "execution_count": null,
   "metadata": {},
   "outputs": [],
   "source": [
    "from sklearn.impute import KNNImputer\n",
    "\n",
    "imputer = KNNImputer(missing_values=np.nan,n_neighbors=2)\n",
    "imputer.fit_transform(df)\n",
    "\n",
    "imputer_data = imputer.transform(df.values)"
   ]
  },
  {
   "cell_type": "code",
   "execution_count": null,
   "metadata": {},
   "outputs": [],
   "source": [
    "imputer_data_df = pd.DataFrame(imputer_data)\n",
    "imputer_data_df.head().append(imputer_data_df.tail())\n",
    "imputer_data_df.describe()"
   ]
  },
  {
   "cell_type": "code",
   "execution_count": null,
   "metadata": {},
   "outputs": [],
   "source": [
    "from pandas_profiling import ProfileReport\n",
    "\n",
    "profile = ProfileReport(imputer_data_df, title='Report with 2 Neighbour KNN', minimal=True)\n",
    "\n",
    "profile.to_file(\"report-knn-2-neighbour-full.html\")"
   ]
  }
 ],
 "metadata": {
  "kernelspec": {
   "name": "python392jvsc74a57bd094d8739fd968e640f2ab5247fb7973481dc53eb409f1ecbd679bc5e66038b370",
   "display_name": "Python 3.9.2 64-bit ('base': conda)"
  },
  "language_info": {
   "codemirror_mode": {
    "name": "ipython",
    "version": 3
   },
   "file_extension": ".py",
   "mimetype": "text/x-python",
   "name": "python",
   "nbconvert_exporter": "python",
   "pygments_lexer": "ipython3",
   "version": "3.9.2-final"
  }
 },
 "nbformat": 4,
 "nbformat_minor": 5
}